{
 "cells": [
  {
   "cell_type": "markdown",
   "metadata": {},
   "source": [
    "## Linear Discriminant Analysis(LDA)\n",
    "LDA can be used for Feature Extraction that can help in increasing the computational efficiency and reduce the degree of overfitting due to the curse of dimensionality. <br>\n",
    "\n",
    "Unlike PCA,the goal in LDA is to find the feature space that optimizes class separability and also unlike PCA it is a type of Supervised learning algorithm.\n",
    "![](./images/LDA.png)\n",
    "\n",
    "A linear discriminant, as shown on the x-axis (LD 1), would separate the two normal distributed classes well. Although the exemplary linear discriminant shown on the y- axis (LD 2) captures a lot of the variance in the dataset, it would fail as a good linear discriminant since it does not capture any of the class-discriminatory information.\n",
    "<br><br>\n",
    "**Assumptions in LDA**\n",
    "1. The data needs to be normally distributed.\n",
    "2. The Classes have identical covariance matrices.\n",
    "3. Features are statistically independent of each other.\n",
    "\n",
    "**Steps involved in LDA**\n",
    "1. Standardize the d-dimensional dataset.\n",
    "2. For each class, compute the d-dimensional mean vector.\n",
    "3. Construct the between-class scatter martix $S_{B}$ and the within-class scatter matrix $S_{w}$\n",
    "4. Compute the eigenvectors and corresponding eigenvalues of the matrix $S_{w}^{-1}S_{B}$.\n",
    "5. Sort the eigenvalues by decreasing order to rank the corresponding eigenvectors.\n",
    "6. Choose the k-eigenvectors to transform the data.\n",
    "7. Project the samples onto a new feature subspace using the transformation matrix **W**."
   ]
  },
  {
   "cell_type": "code",
   "execution_count": 51,
   "metadata": {},
   "outputs": [],
   "source": [
    "import pandas as pd\n",
    "import numpy as np\n",
    "\n",
    "from sklearn.model_selection import train_test_split\n",
    "from sklearn.preprocessing import StandardScaler\n",
    "\n",
    "import matplotlib.pyplot as plt\n",
    "%matplotlib inline"
   ]
  },
  {
   "cell_type": "markdown",
   "metadata": {},
   "source": [
    "## Read the data"
   ]
  },
  {
   "cell_type": "code",
   "execution_count": 2,
   "metadata": {},
   "outputs": [
    {
     "data": {
      "text/html": [
       "<div>\n",
       "<style scoped>\n",
       "    .dataframe tbody tr th:only-of-type {\n",
       "        vertical-align: middle;\n",
       "    }\n",
       "\n",
       "    .dataframe tbody tr th {\n",
       "        vertical-align: top;\n",
       "    }\n",
       "\n",
       "    .dataframe thead th {\n",
       "        text-align: right;\n",
       "    }\n",
       "</style>\n",
       "<table border=\"1\" class=\"dataframe\">\n",
       "  <thead>\n",
       "    <tr style=\"text-align: right;\">\n",
       "      <th></th>\n",
       "      <th>0</th>\n",
       "      <th>1</th>\n",
       "      <th>2</th>\n",
       "      <th>3</th>\n",
       "      <th>4</th>\n",
       "      <th>5</th>\n",
       "      <th>6</th>\n",
       "      <th>7</th>\n",
       "      <th>8</th>\n",
       "      <th>9</th>\n",
       "      <th>10</th>\n",
       "      <th>11</th>\n",
       "      <th>12</th>\n",
       "      <th>13</th>\n",
       "    </tr>\n",
       "  </thead>\n",
       "  <tbody>\n",
       "    <tr>\n",
       "      <th>0</th>\n",
       "      <td>1</td>\n",
       "      <td>14.23</td>\n",
       "      <td>1.71</td>\n",
       "      <td>2.43</td>\n",
       "      <td>15.6</td>\n",
       "      <td>127</td>\n",
       "      <td>2.80</td>\n",
       "      <td>3.06</td>\n",
       "      <td>0.28</td>\n",
       "      <td>2.29</td>\n",
       "      <td>5.64</td>\n",
       "      <td>1.04</td>\n",
       "      <td>3.92</td>\n",
       "      <td>1065</td>\n",
       "    </tr>\n",
       "    <tr>\n",
       "      <th>1</th>\n",
       "      <td>1</td>\n",
       "      <td>13.20</td>\n",
       "      <td>1.78</td>\n",
       "      <td>2.14</td>\n",
       "      <td>11.2</td>\n",
       "      <td>100</td>\n",
       "      <td>2.65</td>\n",
       "      <td>2.76</td>\n",
       "      <td>0.26</td>\n",
       "      <td>1.28</td>\n",
       "      <td>4.38</td>\n",
       "      <td>1.05</td>\n",
       "      <td>3.40</td>\n",
       "      <td>1050</td>\n",
       "    </tr>\n",
       "    <tr>\n",
       "      <th>2</th>\n",
       "      <td>1</td>\n",
       "      <td>13.16</td>\n",
       "      <td>2.36</td>\n",
       "      <td>2.67</td>\n",
       "      <td>18.6</td>\n",
       "      <td>101</td>\n",
       "      <td>2.80</td>\n",
       "      <td>3.24</td>\n",
       "      <td>0.30</td>\n",
       "      <td>2.81</td>\n",
       "      <td>5.68</td>\n",
       "      <td>1.03</td>\n",
       "      <td>3.17</td>\n",
       "      <td>1185</td>\n",
       "    </tr>\n",
       "    <tr>\n",
       "      <th>3</th>\n",
       "      <td>1</td>\n",
       "      <td>14.37</td>\n",
       "      <td>1.95</td>\n",
       "      <td>2.50</td>\n",
       "      <td>16.8</td>\n",
       "      <td>113</td>\n",
       "      <td>3.85</td>\n",
       "      <td>3.49</td>\n",
       "      <td>0.24</td>\n",
       "      <td>2.18</td>\n",
       "      <td>7.80</td>\n",
       "      <td>0.86</td>\n",
       "      <td>3.45</td>\n",
       "      <td>1480</td>\n",
       "    </tr>\n",
       "    <tr>\n",
       "      <th>4</th>\n",
       "      <td>1</td>\n",
       "      <td>13.24</td>\n",
       "      <td>2.59</td>\n",
       "      <td>2.87</td>\n",
       "      <td>21.0</td>\n",
       "      <td>118</td>\n",
       "      <td>2.80</td>\n",
       "      <td>2.69</td>\n",
       "      <td>0.39</td>\n",
       "      <td>1.82</td>\n",
       "      <td>4.32</td>\n",
       "      <td>1.04</td>\n",
       "      <td>2.93</td>\n",
       "      <td>735</td>\n",
       "    </tr>\n",
       "  </tbody>\n",
       "</table>\n",
       "</div>"
      ],
      "text/plain": [
       "   0      1     2     3     4    5     6     7     8     9     10    11    12  \\\n",
       "0   1  14.23  1.71  2.43  15.6  127  2.80  3.06  0.28  2.29  5.64  1.04  3.92   \n",
       "1   1  13.20  1.78  2.14  11.2  100  2.65  2.76  0.26  1.28  4.38  1.05  3.40   \n",
       "2   1  13.16  2.36  2.67  18.6  101  2.80  3.24  0.30  2.81  5.68  1.03  3.17   \n",
       "3   1  14.37  1.95  2.50  16.8  113  3.85  3.49  0.24  2.18  7.80  0.86  3.45   \n",
       "4   1  13.24  2.59  2.87  21.0  118  2.80  2.69  0.39  1.82  4.32  1.04  2.93   \n",
       "\n",
       "     13  \n",
       "0  1065  \n",
       "1  1050  \n",
       "2  1185  \n",
       "3  1480  \n",
       "4   735  "
      ]
     },
     "execution_count": 2,
     "metadata": {},
     "output_type": "execute_result"
    }
   ],
   "source": [
    "df=pd.read_csv('https://archive.ics.uci.edu/ml/' 'machine-learning-databases/wine/wine.data', header=None)\n",
    "df.head()"
   ]
  },
  {
   "cell_type": "markdown",
   "metadata": {},
   "source": [
    "## Split the dataset"
   ]
  },
  {
   "cell_type": "code",
   "execution_count": 3,
   "metadata": {},
   "outputs": [
    {
     "data": {
      "text/plain": [
       "((142, 13), (36, 13))"
      ]
     },
     "execution_count": 3,
     "metadata": {},
     "output_type": "execute_result"
    }
   ],
   "source": [
    "# Split the data into 80% training and 20% testing\n",
    "X,y=df.iloc[:,1:].values, df.iloc[:,0].values\n",
    "x_train,x_test,y_train,y_test=train_test_split(X,y,test_size=0.2,random_state=0)\n",
    "x_train.shape,x_test.shape"
   ]
  },
  {
   "cell_type": "markdown",
   "metadata": {},
   "source": [
    "## 1. Standardize the data"
   ]
  },
  {
   "cell_type": "code",
   "execution_count": 4,
   "metadata": {},
   "outputs": [],
   "source": [
    "scaler=StandardScaler()\n",
    "x_train_std=scaler.fit_transform(x_train)\n",
    "x_test_std=scaler.transform(x_test)"
   ]
  },
  {
   "cell_type": "markdown",
   "metadata": {},
   "source": [
    "## 2. Computing the scatter matrices\n",
    "### 2.1 Mean Vectors\n",
    "Before jumping to scatter matrices we need to find the mean vector, which will then be used to construct scatter matrix and between-class scatter matrix.<br> Mean Vector :-\n",
    "$$ \\left[\n",
    "\\begin{array}\n",
    "  $\\mu_{i,alcohol} \\\\\n",
    "  \\mu_{i,malic acid} \\\\\n",
    "  \\vdots \\\\\n",
    "  \\mu_{i,proline}\n",
    "\\end{array}\n",
    "\\right] $$"
   ]
  },
  {
   "cell_type": "code",
   "execution_count": 5,
   "metadata": {},
   "outputs": [
    {
     "name": "stdout",
     "output_type": "stream",
     "text": [
      "MV 1: [ 0.91978353 -0.30745801  0.31170497 -0.77070128  0.3570667   0.94244036\n",
      "  1.08126971 -0.61091043  0.5657055   0.19023193  0.5023533   0.82020082\n",
      "  1.19673935]\n",
      "MV 2: [-0.89419108 -0.4180267  -0.46748599  0.22143613 -0.29257833 -0.07476381\n",
      "  0.03134406 -0.05767259  0.10113134 -0.89096913  0.46438407  0.29201464\n",
      " -0.70869344]\n",
      "MV 3: [ 1.85482156e-01  8.76835219e-01  2.78214421e-01  5.35775485e-01\n",
      "  5.66825020e-04 -9.11852530e-01 -1.19954906e+00  7.30070523e-01\n",
      " -7.38546934e-01  9.62925373e-01 -1.14635768e+00 -1.26118672e+00\n",
      " -3.54169803e-01]\n"
     ]
    }
   ],
   "source": [
    "mean_vecs=[]\n",
    "\n",
    "# 3 different labels in the dataset\n",
    "for label in range(1,4):\n",
    "    mean_vecs.append(np.mean(x_train_std[y_train==label],axis=0))\n",
    "    print('MV {}: {}'.format(label,mean_vecs[label-1]))"
   ]
  },
  {
   "cell_type": "markdown",
   "metadata": {},
   "source": [
    "### 2.2 Within-Class scatter matrix:\n",
    "![](./images/SM.png)"
   ]
  },
  {
   "cell_type": "code",
   "execution_count": 6,
   "metadata": {},
   "outputs": [
    {
     "data": {
      "text/plain": [
       "(13,)"
      ]
     },
     "execution_count": 6,
     "metadata": {},
     "output_type": "execute_result"
    }
   ],
   "source": [
    "mean_vecs[0].shape"
   ]
  },
  {
   "cell_type": "code",
   "execution_count": 13,
   "metadata": {},
   "outputs": [
    {
     "name": "stdout",
     "output_type": "stream",
     "text": [
      "Within-class scatter matrix: 13x13\n"
     ]
    }
   ],
   "source": [
    "d=13 # number of features\n",
    "S_W=np.zeros((d,d))\n",
    "for label,mv in zip(range(1,4),mean_vecs):\n",
    "    class_scatter=np.zeros((d,d))\n",
    "    for row in x_train_std[y_train==label]:\n",
    "        row,mv=row.reshape(d,1),mv.reshape(d,1)\n",
    "        class_scatter+=(row-mv).dot((row-mv).T)\n",
    "    S_W+=class_scatter\n",
    "print('Within-class scatter matrix: %sx%s' % (S_W.shape[0], S_W.shape[1]))"
   ]
  },
  {
   "cell_type": "markdown",
   "metadata": {},
   "source": [
    "Dividing the Sw by number of classes gives us the covariance matrix."
   ]
  },
  {
   "cell_type": "code",
   "execution_count": 54,
   "metadata": {
    "scrolled": true
   },
   "outputs": [],
   "source": [
    "# Alternative for the inner for loop( Vectorization)\n",
    "# (x_train_std[y_train==1] - mean_vecs[0]).T.dot(x_train_std[y_train==1] - mean_vecs[0])"
   ]
  },
  {
   "cell_type": "markdown",
   "metadata": {},
   "source": [
    "### Note:\n",
    "There is a basic assumption that the class labelled data is uniformly distributed but this is not the case.\n",
    "Thus we need to scale the individual scatter matrix before we want to sum them up, and when we do that we are actually evaluating the Covariance matrix.<br>\n",
    " $$\\sum_{i}=\\frac{1}{n_{i}}S_{w}=\\frac{1}{n_{i}}\\sum_{}(x-m_i)(x-m_i)$$"
   ]
  },
  {
   "cell_type": "code",
   "execution_count": 11,
   "metadata": {},
   "outputs": [
    {
     "data": {
      "text/plain": [
       "array([45, 55, 42])"
      ]
     },
     "execution_count": 11,
     "metadata": {},
     "output_type": "execute_result"
    }
   ],
   "source": [
    "# There is a basic assumption that the class labelled data is uniformly distributed but this is not the case.\n",
    "# Thus we need to scale the individual scatter matrix before we want to sum them up, and when we do that we are actually \n",
    "# evaluating the Covariance matrix.\n",
    "np.bincount(y_train)[1:]"
   ]
  },
  {
   "cell_type": "code",
   "execution_count": 16,
   "metadata": {},
   "outputs": [
    {
     "name": "stdout",
     "output_type": "stream",
     "text": [
      "Shape of Scaled within class Scatter matrix : (13, 13)\n"
     ]
    }
   ],
   "source": [
    "S_W=np.zeros((d,d))\n",
    "for label in range(1,4):\n",
    "    class_scatter=np.cov(x_train_std[y_train==label].T)\n",
    "    S_W+=class_scatter\n",
    "print('Shape of Scaled within class Scatter matrix :',S_W.shape)"
   ]
  },
  {
   "cell_type": "markdown",
   "metadata": {},
   "source": [
    "### 2.3 Between class scatter matrix:\n",
    "$$S_B=\\sum_{i=1}^{c}n_i(m_i-m)(m_i-m)^T$$\n",
    "where, m = mean of the entire dataset and $m_i$ is the mean of the class label i"
   ]
  },
  {
   "cell_type": "code",
   "execution_count": 21,
   "metadata": {},
   "outputs": [
    {
     "name": "stdout",
     "output_type": "stream",
     "text": [
      "Between class Scatter matrix shape :  (13, 13)\n"
     ]
    }
   ],
   "source": [
    "mean_overall=np.mean(x_train_std,axis=0)\n",
    "S_B=np.zeros((d,d))\n",
    "for i,mean_vec in enumerate(mean_vecs):\n",
    "    n=x_train_std[y_train==i+1].shape[0]\n",
    "    mean_vec=mean_vec.reshape(d,1)\n",
    "    mean_overall=mean_overall.reshape(d,1)\n",
    "    S_B+=n*(mean_vec-mean_overall).dot((mean_vec-mean_overall).T)\n",
    "print('Between class Scatter matrix shape : ',S_B.shape)"
   ]
  },
  {
   "cell_type": "code",
   "execution_count": 18,
   "metadata": {},
   "outputs": [
    {
     "data": {
      "text/plain": [
       "array([1, 2, 3])"
      ]
     },
     "execution_count": 18,
     "metadata": {},
     "output_type": "execute_result"
    }
   ],
   "source": [
    "np.unique(y_train)"
   ]
  },
  {
   "cell_type": "markdown",
   "metadata": {},
   "source": [
    "### 2.4 Selecting Linear Discriminants for the new feature subspace\n",
    "The rest of the steps are similar to PCA but instead of computing eigen values and eigen vectors on Covariance matrix we'll be solving $S_w^{-1}S_B$."
   ]
  },
  {
   "cell_type": "code",
   "execution_count": 40,
   "metadata": {},
   "outputs": [
    {
     "name": "stdout",
     "output_type": "stream",
     "text": [
      "Eigen values in descending order:\n",
      "544.9409138254811\n",
      "187.26591131223125\n",
      "4.716069852360453e-14\n",
      "2.986845217823087e-14\n",
      "2.842170943040401e-14\n",
      "2.4902697537481495e-14\n",
      "2.4902697537481495e-14\n",
      "2.4133016351395774e-14\n",
      "2.0867089155205042e-14\n",
      "1.8804853358358074e-14\n",
      "1.8804853358358074e-14\n",
      "2.8803848673629816e-15\n",
      "2.8803848673629816e-15\n"
     ]
    }
   ],
   "source": [
    "eigen_vals,eigen_vecs=np.linalg.eig(np.linalg.inv(S_W).dot(S_B))\n",
    "eigen_pairs=[(np.abs(eval),evec) for eval,evec in zip(eigen_vals,eigen_vecs)]\n",
    "eigen_pairs=sorted(eigen_pairs,key=lambda k:k[0],reverse=True)\n",
    "print('Eigen values in descending order:')\n",
    "for eigen_val in eigen_pairs:\n",
    "    print(eigen_val[0])"
   ]
  },
  {
   "cell_type": "code",
   "execution_count": 36,
   "metadata": {},
   "outputs": [
    {
     "data": {
      "text/plain": [
       "13"
      ]
     },
     "execution_count": 36,
     "metadata": {},
     "output_type": "execute_result"
    }
   ],
   "source": [
    "len(eigen_vals)"
   ]
  },
  {
   "cell_type": "markdown",
   "metadata": {},
   "source": [
    "###  Sort the eigenvalues by decreasing order to rank the corresponding eigenvectors.\n",
    "Need to calculate the **variance explained ratios** Given by :-\n",
    "$$\\frac{\\lambda_j}{\\sum_{j=1}^d\\lambda_j}$$"
   ]
  },
  {
   "cell_type": "code",
   "execution_count": 54,
   "metadata": {},
   "outputs": [
    {
     "data": {
      "text/plain": [
       "<function matplotlib.pyplot.show(*args, **kw)>"
      ]
     },
     "execution_count": 54,
     "metadata": {},
     "output_type": "execute_result"
    },
    {
     "data": {
      "image/png": "[encoded data removed]",
      "text/plain": [
       "<Figure size 432x288 with 1 Axes>"
      ]
     },
     "metadata": {
      "needs_background": "light"
     },
     "output_type": "display_data"
    }
   ],
   "source": [
    "tot_sum=np.sum(eigen_vals.real)\n",
    "discr=[i/tot_sum for i in sorted(eigen_vals.real,reverse=True)]\n",
    "cum_sum=np.cumsum(discr)\n",
    "plt.bar(range(1,14),discr,align='center',label='Individual Variance explained')\n",
    "plt.step(range(1,14),cum_sum,label='Cumulative Variance Explained')\n",
    "plt.legend(loc='best')\n",
    "plt.xlabel('# Features')\n",
    "plt.ylabel('Expalined Variance')\n",
    "plt.show"
   ]
  },
  {
   "cell_type": "code",
   "execution_count": 55,
   "metadata": {},
   "outputs": [
    {
     "name": "stdout",
     "output_type": "stream",
     "text": [
      "Matrix W :  [[-0.24153337 -0.12924145]\n",
      " [-0.38105086 -0.23564322]\n",
      " [-0.03002824  0.06602929]\n",
      " [ 0.08106218  0.40246235]\n",
      " [ 0.17619901  0.11310164]\n",
      " [ 0.1564624   0.02484698]\n",
      " [ 0.1564624   0.02484698]\n",
      " [-0.26092788 -0.08538147]\n",
      " [ 0.13557358  0.32076021]\n",
      " [-0.19246088 -0.17732492]\n",
      " [-0.19246088 -0.17732492]\n",
      " [-0.13411033  0.00096329]\n",
      " [-0.13411033  0.00096329]]\n"
     ]
    }
   ],
   "source": [
    "# let's stack the two most discriminative eigen vectors\n",
    "W=np.hstack((eigen_pairs[0][1][:,np.newaxis].real,eigen_pairs[1][1][:,np.newaxis].real))\n",
    "print('Matrix W : ',W)"
   ]
  },
  {
   "cell_type": "markdown",
   "metadata": {},
   "source": [
    "### 2.5 Projecting samples onto new feature space\n",
    "$$X^\"=XW$$"
   ]
  },
  {
   "cell_type": "code",
   "execution_count": null,
   "metadata": {},
   "outputs": [],
   "source": []
  }
 ],
 "metadata": {
  "kernelspec": {
   "display_name": "Python 3",
   "language": "python",
   "name": "python3"
  },
  "language_info": {
   "codemirror_mode": {
    "name": "ipython",
    "version": 3
   },
   "file_extension": ".py",
   "mimetype": "text/x-python",
   "name": "python",
   "nbconvert_exporter": "python",
   "pygments_lexer": "ipython3",
   "version": "3.6.10"
  }
 },
 "nbformat": 4,
 "nbformat_minor": 4
}
