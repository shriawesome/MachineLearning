{
 "cells": [
  {
   "cell_type": "code",
   "execution_count": 521,
   "metadata": {},
   "outputs": [],
   "source": [
    "import pandas as pd\n",
    "import numpy as np\n",
    "import matplotlib.pyplot as plt\n",
    "import string\n",
    "import math"
   ]
  },
  {
   "cell_type": "code",
   "execution_count": 522,
   "metadata": {},
   "outputs": [
    {
     "data": {
      "text/plain": [
       "(550593, 550593)"
      ]
     },
     "execution_count": 522,
     "metadata": {},
     "output_type": "execute_result"
    }
   ],
   "source": [
    "#load the data\n",
    "products=pd.read_csv('data_set/amazon_baby.csv')\n",
    "products1=pd.read_csv('data_set/amazon_baby.csv')\n",
    "products.size, products1.size"
   ]
  },
  {
   "cell_type": "code",
   "execution_count": 523,
   "metadata": {},
   "outputs": [
    {
     "data": {
      "text/plain": [
       "550593"
      ]
     },
     "execution_count": 523,
     "metadata": {},
     "output_type": "execute_result"
    }
   ],
   "source": [
    "products.size"
   ]
  },
  {
   "cell_type": "code",
   "execution_count": 524,
   "metadata": {},
   "outputs": [],
   "source": [
    "#  removing punctuation, so that words \"cake.\" and \"cake!\" are counted as the same word\n",
    "def remove_punctuation(text):\n",
    "    #text=str(text)\n",
    "    return text.translate([None,string.punctuation])"
   ]
  },
  {
   "cell_type": "markdown",
   "metadata": {},
   "source": [
    "## Filling the nan with empty string and remove punctuations"
   ]
  },
  {
   "cell_type": "code",
   "execution_count": 526,
   "metadata": {},
   "outputs": [
    {
     "data": {
      "text/plain": [
       "(183531, 4)"
      ]
     },
     "execution_count": 526,
     "metadata": {},
     "output_type": "execute_result"
    }
   ],
   "source": [
    "#products[products['review'].isnull()].head()\n",
    "products=products.fillna({'review':''})\n",
    "products[products['review'].isnull()].head()\n",
    "products['review_clean']=products['review'].apply(remove_punctuation)\n",
    "products.shape"
   ]
  },
  {
   "cell_type": "code",
   "execution_count": 527,
   "metadata": {},
   "outputs": [
    {
     "data": {
      "text/plain": [
       "(183531, 3)"
      ]
     },
     "execution_count": 527,
     "metadata": {},
     "output_type": "execute_result"
    }
   ],
   "source": [
    "products1.shape"
   ]
  },
  {
   "cell_type": "code",
   "execution_count": 528,
   "metadata": {},
   "outputs": [
    {
     "data": {
      "text/plain": [
       "(183531, 4)"
      ]
     },
     "execution_count": 528,
     "metadata": {},
     "output_type": "execute_result"
    }
   ],
   "source": [
    "products.shape"
   ]
  },
  {
   "cell_type": "code",
   "execution_count": null,
   "metadata": {},
   "outputs": [],
   "source": []
  },
  {
   "cell_type": "markdown",
   "metadata": {},
   "source": [
    "## Ignoring all the reviews with rating 3 as they have neutral sentiment"
   ]
  },
  {
   "cell_type": "code",
   "execution_count": 530,
   "metadata": {},
   "outputs": [
    {
     "data": {
      "text/plain": [
       "(166752, 4)"
      ]
     },
     "execution_count": 530,
     "metadata": {},
     "output_type": "execute_result"
    }
   ],
   "source": [
    "products=products[products['rating']!=3]\n",
    "products.shape"
   ]
  },
  {
   "cell_type": "markdown",
   "metadata": {},
   "source": [
    "## Rating > 3 is +ve class and < 3 -ve class "
   ]
  },
  {
   "cell_type": "code",
   "execution_count": 531,
   "metadata": {},
   "outputs": [],
   "source": [
    "products['sentiment']=products['rating'].apply(lambda rating: +1 if rating > 3 else -1)"
   ]
  },
  {
   "cell_type": "code",
   "execution_count": 532,
   "metadata": {},
   "outputs": [
    {
     "data": {
      "text/plain": [
       "(166752, 5)"
      ]
     },
     "execution_count": 532,
     "metadata": {},
     "output_type": "execute_result"
    }
   ],
   "source": [
    "products.shape"
   ]
  },
  {
   "cell_type": "markdown",
   "metadata": {},
   "source": [
    "### [NOTE : need products to contain review with 3 ratings also]"
   ]
  },
  {
   "cell_type": "code",
   "execution_count": 533,
   "metadata": {},
   "outputs": [],
   "source": [
    "indxs=pd.read_json('data_set/module-2-assignment-train-idx.json')\n",
    "indxs=list(indxs[0].values)"
   ]
  },
  {
   "cell_type": "code",
   "execution_count": 534,
   "metadata": {},
   "outputs": [],
   "source": [
    "train_data=products.iloc[indxs]"
   ]
  },
  {
   "cell_type": "code",
   "execution_count": 535,
   "metadata": {},
   "outputs": [
    {
     "data": {
      "text/plain": [
       "667080"
      ]
     },
     "execution_count": 535,
     "metadata": {},
     "output_type": "execute_result"
    }
   ],
   "source": [
    "train_data.size"
   ]
  },
  {
   "cell_type": "code",
   "execution_count": 536,
   "metadata": {},
   "outputs": [],
   "source": [
    "indxs=pd.read_json('data_set/module-2-assignment-test-idx.json')\n",
    "indxs=list(indxs[0].values)\n",
    "test_data=products.iloc[indxs]"
   ]
  },
  {
   "cell_type": "code",
   "execution_count": 537,
   "metadata": {},
   "outputs": [
    {
     "data": {
      "text/plain": [
       "Index(['name', 'review', 'rating', 'review_clean', 'sentiment'], dtype='object')"
      ]
     },
     "execution_count": 537,
     "metadata": {},
     "output_type": "execute_result"
    }
   ],
   "source": [
    "test_data.columns"
   ]
  },
  {
   "cell_type": "code",
   "execution_count": 538,
   "metadata": {},
   "outputs": [],
   "source": [
    "train_data=train_data.fillna({'review':''})\n",
    "test_data=test_data.fillna({'review':''})"
   ]
  },
  {
   "cell_type": "code",
   "execution_count": 539,
   "metadata": {},
   "outputs": [
    {
     "data": {
      "text/plain": [
       "(667080, 166680)"
      ]
     },
     "execution_count": 539,
     "metadata": {},
     "output_type": "execute_result"
    }
   ],
   "source": [
    "train_data.size,test_data.size"
   ]
  },
  {
   "cell_type": "code",
   "execution_count": 540,
   "metadata": {},
   "outputs": [],
   "source": [
    "train_data=train_data[train_data['rating']!=3]\n",
    "train_data['sentiment']=train_data['rating'].apply(lambda x:+1 if x>3 else -1)"
   ]
  },
  {
   "cell_type": "code",
   "execution_count": 461,
   "metadata": {},
   "outputs": [
    {
     "data": {
      "text/plain": [
       "667080"
      ]
     },
     "execution_count": 461,
     "metadata": {},
     "output_type": "execute_result"
    }
   ],
   "source": [
    "train_data.size"
   ]
  },
  {
   "cell_type": "markdown",
   "metadata": {},
   "source": [
    "## Building the word count vector for each review"
   ]
  },
  {
   "cell_type": "code",
   "execution_count": 541,
   "metadata": {},
   "outputs": [],
   "source": [
    "from sklearn.feature_extraction.text import CountVectorizer\n",
    "vectorizer=CountVectorizer(token_pattern=r'\\b\\w+\\b')\n",
    "train_matrix=vectorizer.fit_transform(train_data['review_clean'])\n",
    "test_matrix=vectorizer.transform(test_data['review_clean'])"
   ]
  },
  {
   "cell_type": "code",
   "execution_count": 542,
   "metadata": {},
   "outputs": [
    {
     "data": {
      "text/plain": [
       "{'it': 27401,\n",
       " 'came': 9634,\n",
       " 'early': 17596,\n",
       " 'and': 4370,\n",
       " 'was': 55401,\n",
       " 'not': 34305,\n",
       " 'disappointed': 16067,\n",
       " 'i': 25605,\n",
       " 'love': 30320,\n",
       " 'planet': 37855,\n",
       " 'wise': 56407,\n",
       " 'bags': 6328,\n",
       " 'now': 34395,\n",
       " 'my': 33235,\n",
       " 'wipe': 56362,\n",
       " 'holder': 24968,\n",
       " 'keps': 28258,\n",
       " 'osocozy': 35582,\n",
       " 'wipes': 56375,\n",
       " 'moist': 32466,\n",
       " 'does': 16669,\n",
       " 'leak': 29173,\n",
       " 'highly': 24745,\n",
       " 'recommend': 41226,\n",
       " 'very': 54728,\n",
       " 'soft': 46566,\n",
       " 'comfortable': 11960,\n",
       " 'warmer': 55352,\n",
       " 'than': 50501,\n",
       " 'looks': 30166,\n",
       " 'fit': 20583,\n",
       " 'the': 50557,\n",
       " 'full': 21855,\n",
       " 'size': 45673,\n",
       " 'bed': 6970,\n",
       " 'perfectly': 37114,\n",
       " 'would': 56818,\n",
       " 'to': 51570,\n",
       " 'anyone': 4656,\n",
       " 'looking': 30158,\n",
       " 'for': 21208,\n",
       " 'this': 51021,\n",
       " 'type': 52956,\n",
       " 'of': 34818,\n",
       " 'quilt': 40406,\n",
       " 'is': 27323,\n",
       " 'a': 2581,\n",
       " 'product': 39419,\n",
       " 'well': 55785,\n",
       " 'worth': 56797,\n",
       " 'purchase': 40032,\n",
       " 'have': 24252,\n",
       " 'found': 21403,\n",
       " 'anything': 4669,\n",
       " 'else': 18117,\n",
       " 'like': 29628,\n",
       " 'positive': 38568,\n",
       " 'ingenious': 26497,\n",
       " 'approach': 4852,\n",
       " 'losing': 30261,\n",
       " 'binky': 7480,\n",
       " 'what': 55886,\n",
       " 'most': 32810,\n",
       " 'about': 2708,\n",
       " 'how': 25305,\n",
       " 'much': 32985,\n",
       " 'ownership': 36105,\n",
       " 'daughter': 14567,\n",
       " 'has': 24191,\n",
       " 'in': 26047,\n",
       " 'getting': 22495,\n",
       " 'rid': 42718,\n",
       " 'she': 44877,\n",
       " 'so': 46499,\n",
       " 'proud': 39740,\n",
       " 'herself': 24640,\n",
       " 'loves': 30353,\n",
       " 'her': 24591,\n",
       " 'little': 29890,\n",
       " 'fairy': 19844,\n",
       " 'artwork': 5179,\n",
       " 'chart': 10504,\n",
       " 'back': 6189,\n",
       " 'clever': 11320,\n",
       " 'tool': 51795,\n",
       " 'all': 3901,\n",
       " 'kids': 28377,\n",
       " 'cried': 13785,\n",
       " 'non': 34181,\n",
       " 'stop': 48253,\n",
       " 'when': 55946,\n",
       " 'tried': 52465,\n",
       " 'ween': 55711,\n",
       " 'them': 50678,\n",
       " 'off': 34826,\n",
       " 'their': 50656,\n",
       " 'pacifier': 36180,\n",
       " 'until': 53895,\n",
       " 'thumbuddy': 51234,\n",
       " 's': 43368,\n",
       " 'puppet': 39999,\n",
       " 'an': 4318,\n",
       " 'easy': 17690,\n",
       " 'way': 55571,\n",
       " 'work': 56711,\n",
       " 'with': 56444,\n",
       " 'your': 57291,\n",
       " 'allow': 3958,\n",
       " 'understand': 53326,\n",
       " 'where': 55959,\n",
       " 'going': 22835,\n",
       " 'help': 24541,\n",
       " 'part': 36574,\n",
       " 'from': 21718,\n",
       " 'must': 33189,\n",
       " 'buy': 9383,\n",
       " 'book': 8100,\n",
       " 'great': 23276,\n",
       " 'gift': 22542,\n",
       " 'expecting': 19418,\n",
       " 'parents': 36548,\n",
       " 'you': 57260,\n",
       " 'will': 56238,\n",
       " 'save': 43734,\n",
       " 'soo': 46774,\n",
       " 'many': 31045,\n",
       " 'headaches': 24324,\n",
       " 'thanks': 50516,\n",
       " 'rock': 42939,\n",
       " 'our': 35665,\n",
       " 'house': 25270,\n",
       " 'we': 55597,\n",
       " 'didn': 15760,\n",
       " 't': 49765,\n",
       " 'any': 4638,\n",
       " 'special': 47034,\n",
       " 'explain': 19502,\n",
       " 'important': 25971,\n",
       " 'using': 54250,\n",
       " 'job': 27853,\n",
       " 'prepare': 39012,\n",
       " 'child': 10719,\n",
       " 'loss': 30264,\n",
       " 'favorite': 20053,\n",
       " 'item': 27440,\n",
       " 'doll': 16712,\n",
       " 'adorable': 3335,\n",
       " 'made': 30654,\n",
       " 'lots': 30284,\n",
       " 'cute': 14286,\n",
       " 'movies': 32939,\n",
       " 'telling': 50240,\n",
       " 'happens': 24062,\n",
       " 'comes': 11931,\n",
       " 'parent': 36540,\n",
       " 'trying': 52665,\n",
       " 'break': 8556,\n",
       " 'or': 35371,\n",
       " 'thumb': 51225,\n",
       " 'sucking': 48929,\n",
       " 'habit': 23771,\n",
       " 'lovely': 30348,\n",
       " 'bound': 8365,\n",
       " 'tightly': 51343,\n",
       " 'may': 31363,\n",
       " 'be': 6827,\n",
       " 'able': 2672,\n",
       " 'add': 3156,\n",
       " 'alot': 4020,\n",
       " 'photos': 37451,\n",
       " 'cards': 9883,\n",
       " 'aside': 5231,\n",
       " 'designated': 15378,\n",
       " 'spaces': 46934,\n",
       " 'shop': 45096,\n",
       " 'around': 5089,\n",
       " 'before': 7051,\n",
       " 'as': 5184,\n",
       " 'currently': 14182,\n",
       " 'listed': 29830,\n",
       " 'at': 5430,\n",
       " 'barnes': 6564,\n",
       " 'noble': 34124,\n",
       " '29': 1162,\n",
       " '95': 2483,\n",
       " 'perfect': 37096,\n",
       " 'new': 33831,\n",
       " 'were': 55825,\n",
       " 'keep': 28203,\n",
       " 'track': 52105,\n",
       " 'baby': 6022,\n",
       " 'feeding': 20166,\n",
       " 'sleep': 45862,\n",
       " 'diaper': 15671,\n",
       " 'change': 10414,\n",
       " 'schedule': 43880,\n",
       " 'first': 20543,\n",
       " 'two': 52930,\n",
       " 'half': 23840,\n",
       " 'months': 32671,\n",
       " 'life': 29514,\n",
       " 'easier': 17639,\n",
       " 'doctor': 16645,\n",
       " 'ask': 5240,\n",
       " 'questions': 40349,\n",
       " 'habits': 23773,\n",
       " 'because': 6947,\n",
       " 'had': 23788,\n",
       " 'right': 42766,\n",
       " 'there': 50788,\n",
       " 'friend': 21642,\n",
       " 'mine': 32036,\n",
       " 'pinned': 37695,\n",
       " 'on': 35046,\n",
       " 'pinterest': 37705,\n",
       " 'decided': 14775,\n",
       " 'give': 22635,\n",
       " 'whirl': 56034,\n",
       " 'fantastic': 19924,\n",
       " 'if': 25719,\n",
       " 'are': 4974,\n",
       " 'feedings': 20170,\n",
       " 'changes': 10424,\n",
       " 'm': 30596,\n",
       " 'time': 51376,\n",
       " 'mom': 32510,\n",
       " 'definitely': 14998,\n",
       " 'moms': 32543,\n",
       " 'plus': 38145,\n",
       " 'small': 46112,\n",
       " 'enough': 18474,\n",
       " 'that': 50531,\n",
       " 'throw': 51189,\n",
       " 'visits': 54947,\n",
       " 'originally': 35507,\n",
       " 'just': 28078,\n",
       " 'gave': 22294,\n",
       " 'nanny': 33379,\n",
       " 'pad': 36257,\n",
       " 'paper': 36468,\n",
       " 'write': 56934,\n",
       " 'down': 16922,\n",
       " 'information': 26468,\n",
       " 'one': 35067,\n",
       " 'take': 49873,\n",
       " 'him': 24800,\n",
       " 'park': 36554,\n",
       " 'leave': 29257,\n",
       " 'behind': 7091,\n",
       " 'incomplete': 26157,\n",
       " 'inaccurate': 26059,\n",
       " 'wohld': 56569,\n",
       " 'get': 22479,\n",
       " 'home': 25021,\n",
       " 'end': 18342,\n",
       " 'day': 14609,\n",
       " 'try': 52659,\n",
       " 'remember': 41852,\n",
       " 'naps': 33404,\n",
       " 'wanted': 55326,\n",
       " 'something': 46715,\n",
       " 'could': 13347,\n",
       " 'also': 4054,\n",
       " 'better': 7293,\n",
       " 'control': 12958,\n",
       " 'reported': 42038,\n",
       " 'solution': 46672,\n",
       " 'helpful': 24547,\n",
       " 'example': 19164,\n",
       " 'fill': 20391,\n",
       " 'out': 35691,\n",
       " 'pouch': 38690,\n",
       " 'additional': 3178,\n",
       " 'documents': 16656,\n",
       " 'section': 44321,\n",
       " 'up': 53968,\n",
       " 'front': 21740,\n",
       " 'emergency': 18193,\n",
       " 'contact': 12830,\n",
       " 'info': 26461,\n",
       " 'each': 17554,\n",
       " 'page': 36300,\n",
       " 'goes': 22817,\n",
       " '7': 2205,\n",
       " '6': 2077,\n",
       " 'works': 56754,\n",
       " 'me': 31446,\n",
       " 'starts': 47867,\n",
       " '7am': 2266,\n",
       " 'ends': 18372,\n",
       " '6pm': 2182,\n",
       " 'use': 54159,\n",
       " 'app': 4750,\n",
       " 'phone': 37419,\n",
       " 'tracking': 52109,\n",
       " 'transfer': 52205,\n",
       " 'notebook': 34318,\n",
       " 'only': 35128,\n",
       " 'complaint': 12268,\n",
       " 'space': 46922,\n",
       " 'pretty': 39114,\n",
       " 'they': 50907,\n",
       " 'provide': 39751,\n",
       " 'useful': 54191,\n",
       " 'shorthand': 45135,\n",
       " 'but': 9316,\n",
       " 'difficult': 15832,\n",
       " 'some': 46687,\n",
       " 'provided': 39752,\n",
       " 'other': 35602,\n",
       " 'reviews': 42588,\n",
       " 'complain': 12261,\n",
       " 'format': 21320,\n",
       " 'isn': 27348,\n",
       " 'real': 40854,\n",
       " 'problem': 39336,\n",
       " 'suppose': 49256,\n",
       " 'entire': 18555,\n",
       " 'pages': 36304,\n",
       " 'too': 51782,\n",
       " 'big': 7396,\n",
       " 'deal': 14676,\n",
       " 'daycare': 14616,\n",
       " 'caregiver': 9897,\n",
       " 'situation': 45654,\n",
       " 'monthly': 32670,\n",
       " 'lot': 30272,\n",
       " 'stickers': 48099,\n",
       " 'come': 11918,\n",
       " 'exactly': 19148,\n",
       " 'bought': 8320,\n",
       " 'calender': 9563,\n",
       " 'myself': 33287,\n",
       " 'second': 44297,\n",
       " 'son': 46740,\n",
       " 'colorful': 11820,\n",
       " 'room': 43040,\n",
       " 'height': 24493,\n",
       " 'weight': 55735,\n",
       " 'likes': 29656,\n",
       " 'do': 16624,\n",
       " 'photo': 37436,\n",
       " 'placed': 37818,\n",
       " 'date': 14552,\n",
       " 'boxes': 8414,\n",
       " 'sticker': 48096,\n",
       " 'fine': 20442,\n",
       " 'writing': 56942,\n",
       " 'put': 40158,\n",
       " 'asterisks': 5399,\n",
       " 'whatever': 55889,\n",
       " 'event': 19020,\n",
       " 'happened': 24058,\n",
       " 'find': 20431,\n",
       " 'year': 57158,\n",
       " 'did': 15749,\n",
       " 'continue': 12896,\n",
       " 'cause': 10171,\n",
       " 'things': 50973,\n",
       " 'note': 34316,\n",
       " 'still': 48134,\n",
       " 'after': 3530,\n",
       " 'turn': 52807,\n",
       " '1': 63,\n",
       " 'got': 22959,\n",
       " 'completed': 12288,\n",
       " 'calendar': 9561,\n",
       " 'really': 40890,\n",
       " 'enjoyed': 18456,\n",
       " 'his': 24873,\n",
       " 'milestones': 31947,\n",
       " 'moments': 32524,\n",
       " 'since': 45524,\n",
       " 'he': 24320,\n",
       " 'doing': 16697,\n",
       " 'amazing': 4150,\n",
       " 'fun': 21881,\n",
       " 'every': 19054,\n",
       " 'simple': 45476,\n",
       " 'layout': 29121,\n",
       " 'while': 55994,\n",
       " 'might': 31912,\n",
       " 'milestone': 31946,\n",
       " 'want': 55323,\n",
       " 'least': 29246,\n",
       " 'recording': 41291,\n",
       " 'those': 51074,\n",
       " 'option': 35340,\n",
       " 'aren': 4992,\n",
       " 'choices': 10861,\n",
       " 'purchased': 40035,\n",
       " 'lack': 28779,\n",
       " 'selection': 44430,\n",
       " 'available': 5678,\n",
       " 'calendars': 9562,\n",
       " 'general': 22368,\n",
       " 'ones': 35086,\n",
       " 'okay': 34951,\n",
       " 'finish': 20479,\n",
       " 'glossy': 22729,\n",
       " 'which': 55976,\n",
       " 'makes': 30792,\n",
       " 'hard': 24096,\n",
       " 'certain': 10306,\n",
       " 'pens': 37019,\n",
       " 'old': 34968,\n",
       " 'fashioned': 19979,\n",
       " 'hopefully': 25132,\n",
       " 'future': 22029,\n",
       " 'purchasers': 40050,\n",
       " 'events': 19026,\n",
       " 'plenty': 38051,\n",
       " '1st': 730,\n",
       " 'loved': 30326,\n",
       " 'reocording': 41936,\n",
       " 'nature': 33478,\n",
       " 'lullabies': 30471,\n",
       " 'continuing': 12900,\n",
       " 'daily': 14406,\n",
       " 'record': 41286,\n",
       " 'keeping': 28211,\n",
       " 'wonderful': 56609,\n",
       " 'helped': 24543,\n",
       " 'think': 50981,\n",
       " 'thought': 51090,\n",
       " 'own': 36097,\n",
       " 'super': 49132,\n",
       " 'brat': 8530,\n",
       " 'either': 17960,\n",
       " 'gender': 22361,\n",
       " 'wife': 56194,\n",
       " 'options': 35350,\n",
       " 'mark': 31103,\n",
       " 'firsts': 20550,\n",
       " 'includes': 26140,\n",
       " 'borders': 8187,\n",
       " 'etc': 18916,\n",
       " 'scrap': 44015,\n",
       " 'booking': 8109,\n",
       " 'especially': 18822,\n",
       " 'who': 56098,\n",
       " 'dont': 16766,\n",
       " 'actually': 3096,\n",
       " 'sit': 45627,\n",
       " 'haul': 24235,\n",
       " 'ton': 51753,\n",
       " 'scrapbook': 44016,\n",
       " 'supplies': 49235,\n",
       " 'over': 35854,\n",
       " 'ago': 3622,\n",
       " 'receive': 41051,\n",
       " 'nearing': 33552,\n",
       " 'birthday': 7536,\n",
       " 'amazon': 4161,\n",
       " 'tender': 50318,\n",
       " 'sweet': 49545,\n",
       " 'art': 5151,\n",
       " 'unique': 53553,\n",
       " 'nice': 33918,\n",
       " 'keepsake': 28215,\n",
       " 'extremely': 19639,\n",
       " 'tired': 51513,\n",
       " 'inexpedient': 26374,\n",
       " 'remembering': 41854,\n",
       " 'long': 30114,\n",
       " 'ate': 5437,\n",
       " 'through': 51174,\n",
       " 'hook': 25106,\n",
       " 'attach': 5478,\n",
       " 'stroller': 48558,\n",
       " 'car': 9844,\n",
       " 'seat': 44225,\n",
       " 'wont': 56634,\n",
       " 'lost': 30270,\n",
       " 'go': 22781,\n",
       " 'family': 19894,\n",
       " 'members': 31632,\n",
       " 'beautiful': 6904,\n",
       " 'short': 45114,\n",
       " 'story': 48314,\n",
       " 'saying': 43764,\n",
       " 'keeps': 28213,\n",
       " 'attention': 5530,\n",
       " 'then': 50735,\n",
       " 'can': 9695,\n",
       " 'hold': 24962,\n",
       " 'finished': 20482,\n",
       " 'interacting': 26922,\n",
       " 'money': 32556,\n",
       " 'says': 43766,\n",
       " '9': 2443,\n",
       " 'box': 8408,\n",
       " 'wait': 55205,\n",
       " 'born': 8196,\n",
       " 'interactive': 26925,\n",
       " 'flaps': 20690,\n",
       " 'open': 35239,\n",
       " 'bite': 7560,\n",
       " 'chunks': 10990,\n",
       " 'board': 7914,\n",
       " 'rip': 42823,\n",
       " 'chew': 10668,\n",
       " 'pull': 39898,\n",
       " 'carry': 9992,\n",
       " 'learning': 29231,\n",
       " 'words': 56703,\n",
       " 'daddy': 14389,\n",
       " 'mommy': 32535,\n",
       " 'puppy': 40006,\n",
       " '6months': 2172,\n",
       " 'older': 34978,\n",
       " 'thing': 50963,\n",
       " 'strong': 48607,\n",
       " 'smell': 46170,\n",
       " 'dyes': 17523,\n",
       " 'material': 31234,\n",
       " 'dunked': 17387,\n",
       " 'detergent': 15514,\n",
       " 'let': 29409,\n",
       " 'dry': 17250,\n",
       " 'overnight': 35955,\n",
       " 'babies': 6005,\n",
       " 'd': 14369,\n",
       " 'been': 7029,\n",
       " 'books': 8114,\n",
       " 'couldn': 13350,\n",
       " 'damaged': 14430,\n",
       " 'by': 9418,\n",
       " '10': 64,\n",
       " 'month': 32666,\n",
       " 'drool': 17176,\n",
       " 'cloth': 11449,\n",
       " 'plastic': 37887,\n",
       " 'adds': 3197,\n",
       " 'another': 4542,\n",
       " 'level': 29430,\n",
       " 'usual': 54272,\n",
       " 'flap': 20685,\n",
       " 'moving': 32944,\n",
       " 'brushing': 8886,\n",
       " 'elmo': 18109,\n",
       " 'teeth': 50196,\n",
       " 'almost': 3997,\n",
       " 'play': 37932,\n",
       " 'haha': 23811,\n",
       " 'present': 39042,\n",
       " '2': 758,\n",
       " 'grandchildren': 23105,\n",
       " 'themselves': 50723,\n",
       " 'pictures': 37539,\n",
       " 'imaginative': 25827,\n",
       " 'appeal': 4765,\n",
       " 'young': 57276,\n",
       " 'children': 10747,\n",
       " 'again': 3557,\n",
       " 'absolutely': 2752,\n",
       " 'seemed': 44378,\n",
       " 'happy': 24076,\n",
       " 'say': 43759,\n",
       " 'beautifully': 6909,\n",
       " 'illustrated': 25800,\n",
       " 'takes': 49888,\n",
       " 'everywhere': 19090,\n",
       " 'reads': 40844,\n",
       " 'main': 30739,\n",
       " 'character': 10462,\n",
       " 'hides': 24715,\n",
       " 'sesame': 44666,\n",
       " 'street': 48453,\n",
       " 'characters': 10466,\n",
       " 'featured': 20109,\n",
       " 'centric': 10280,\n",
       " 'lovers': 30352,\n",
       " 'twinkle': 52901,\n",
       " 'price': 39166,\n",
       " 'birds': 7522,\n",
       " 'friends': 21652,\n",
       " 'softplay': 46598,\n",
       " 'bird': 7519,\n",
       " 'more': 32743,\n",
       " 'variety': 54471,\n",
       " 'creative': 13705,\n",
       " 'peek': 36923,\n",
       " 'boo': 8077,\n",
       " 'safe': 43430,\n",
       " 'handle': 23937,\n",
       " '3': 1267,\n",
       " 'read': 40819,\n",
       " 'smiles': 46190,\n",
       " 'laughs': 29050,\n",
       " '34': 1385,\n",
       " 'peekaboo': 36924,\n",
       " 'few': 20282,\n",
       " 'different': 15809,\n",
       " 'adores': 3346,\n",
       " '5': 1880,\n",
       " 'stars': 47837,\n",
       " 'sure': 49296,\n",
       " 'bright': 8714,\n",
       " 'illustrations': 25804,\n",
       " 'make': 30781,\n",
       " 'toddlers': 51620,\n",
       " 'granddauchildren': 23115,\n",
       " 'reading': 40831,\n",
       " 'fall': 19857,\n",
       " 'kiss': 28469,\n",
       " 'mos': 32788,\n",
       " 'having': 24275,\n",
       " 'see': 44359,\n",
       " 'high': 24723,\n",
       " 'stack': 47700,\n",
       " 'blocks': 7804,\n",
       " 'falls': 19867,\n",
       " 'teething': 50207,\n",
       " 'these': 50853,\n",
       " 'entertaining': 18531,\n",
       " 'letting': 29423,\n",
       " 'droll': 17172,\n",
       " 'without': 56489,\n",
       " 'worrying': 56783,\n",
       " 'ruining': 43266,\n",
       " 'setting': 44691,\n",
       " 'side': 45287,\n",
       " 'encourage': 18326,\n",
       " 'rolling': 43001,\n",
       " 'crawling': 13659,\n",
       " 'christmas': 10935,\n",
       " 'younger': 57279,\n",
       " 'bank': 6482,\n",
       " 'boring': 8195,\n",
       " 'nothing': 34334,\n",
       " 'stimulate': 48153,\n",
       " 'granddaughter': 23120,\n",
       " 'waste': 55478,\n",
       " 'actual': 3091,\n",
       " 'images': 25819,\n",
       " 'unrealistic': 53750,\n",
       " 'portrayals': 38519,\n",
       " 'animals': 4480,\n",
       " 'objects': 34626,\n",
       " 'look': 30150,\n",
       " 'teach': 50094,\n",
       " 'lion': 29792,\n",
       " 'show': 45177,\n",
       " 'drawing': 17047,\n",
       " 'no': 34115,\n",
       " 'chance': 10405,\n",
       " 'destroying': 15467,\n",
       " 'memories': 31651,\n",
       " 'momento': 32522,\n",
       " 'quick': 40354,\n",
       " 'busy': 9314,\n",
       " 'good': 22871,\n",
       " 'mother': 32823,\n",
       " 'soon': 46775,\n",
       " 'start': 47853,\n",
       " 'beginning': 7074,\n",
       " 'five': 20615,\n",
       " 'enjoy': 18452,\n",
       " 'law': 29090,\n",
       " 'place': 37812,\n",
       " 'verses': 54697,\n",
       " 'bottom': 8295,\n",
       " 'omg': 35025,\n",
       " 'gets': 22487,\n",
       " 'bigger': 7401,\n",
       " 'asking': 5244,\n",
       " 'even': 19007,\n",
       " 'foot': 21157,\n",
       " 'hand': 23895,\n",
       " 'prints': 39271,\n",
       " 'reason': 40930,\n",
       " 'why': 56142,\n",
       " 'liked': 29635,\n",
       " 'pockets': 38205,\n",
       " 'keepsakes': 28216,\n",
       " 'places': 37827,\n",
       " 'locks': 30026,\n",
       " 'hair': 23824,\n",
       " 'shower': 45184,\n",
       " 'cherished': 10647,\n",
       " 'times': 51415,\n",
       " 'granddaughters': 23122,\n",
       " 'pastel': 36692,\n",
       " 'pink': 37675,\n",
       " 'color': 11809,\n",
       " 'english': 18423,\n",
       " 'french': 21578,\n",
       " 'flammish': 20676,\n",
       " 'mini': 32047,\n",
       " 'preserve': 39056,\n",
       " 'maternity': 31257,\n",
       " 'bracelet': 8455,\n",
       " 'pleasantly': 38027,\n",
       " 'surprised': 49344,\n",
       " 'upon': 54027,\n",
       " 'receiving': 41061,\n",
       " 'memory': 31657,\n",
       " 'entitled': 18561,\n",
       " 'kindergarten': 28429,\n",
       " 'experience': 19469,\n",
       " 'photographs': 37448,\n",
       " 'detailed': 15487,\n",
       " 'descriptions': 15344,\n",
       " 'answer': 4563,\n",
       " 'serving': 44659,\n",
       " 'its': 27495,\n",
       " 'purpose': 40112,\n",
       " 'everyone': 19065,\n",
       " 'kindergartener': 28430,\n",
       " 'glad': 22651,\n",
       " 'stumbled': 48700,\n",
       " 'gem': 22355,\n",
       " 'already': 4037,\n",
       " 'started': 47854,\n",
       " 'answering': 4565,\n",
       " 'years': 57167,\n",
       " 'later': 29011,\n",
       " 'answered': 4564,\n",
       " 'elephant': 18050,\n",
       " 'neat': 33556,\n",
       " 'realization': 40874,\n",
       " 'association': 5368,\n",
       " 'between': 7307,\n",
       " 'stuffed': 48686,\n",
       " 'toy': 52060,\n",
       " 'gives': 22643,\n",
       " 'light': 29555,\n",
       " 'used': 54174,\n",
       " 'spring': 47393,\n",
       " 'project': 39513,\n",
       " 'affordable': 3494,\n",
       " 'wall': 55260,\n",
       " 'decals': 14740,\n",
       " 'quality': 40250,\n",
       " 'brightens': 8722,\n",
       " 'sizehard': 45688,\n",
       " 'apply': 4823,\n",
       " 'flower': 20945,\n",
       " 'pieceyou': 37566,\n",
       " 'know': 28597,\n",
       " 'morning': 32761,\n",
       " 'flowers': 20949,\n",
       " 'fell': 20204,\n",
       " 'floor': 20898,\n",
       " 'roll': 42985,\n",
       " 'winnie': 56345,\n",
       " 'pooh': 38390,\n",
       " 'themed': 50692,\n",
       " 'decor': 14821,\n",
       " 'zealand': 57377,\n",
       " 'cost': 13288,\n",
       " 'effective': 17886,\n",
       " 'impressed': 26003,\n",
       " 'stick': 48093,\n",
       " 'don': 16745,\n",
       " 'professional': 39470,\n",
       " 'seamless': 44197,\n",
       " 'paintwork': 36349,\n",
       " 'satisfied': 43692,\n",
       " 'grat': 23220,\n",
       " 'design': 15372,\n",
       " 'ir': 27251,\n",
       " 'said': 43498,\n",
       " 'reccomend': 41022,\n",
       " 'follow': 21102,\n",
       " 'buying': 9394,\n",
       " 'divine': 16589,\n",
       " 'mercy': 31701,\n",
       " 'pendant': 36994,\n",
       " 'jesus': 27764,\n",
       " 'chain': 10351,\n",
       " 'neck': 33610,\n",
       " 'represents': 42061,\n",
       " 'jesuswho': 27765,\n",
       " 'offers': 34841,\n",
       " 'us': 54134,\n",
       " 'ocean': 34755,\n",
       " 'pray': 38811,\n",
       " 'god': 22795,\n",
       " 'country': 13399,\n",
       " 'need': 33633,\n",
       " 'lives': 29921,\n",
       " 'reusable': 42525,\n",
       " 'clean': 11202,\n",
       " 'during': 17460,\n",
       " 'll': 29939,\n",
       " 'million': 31990,\n",
       " 'uses': 54232,\n",
       " 'days': 14628,\n",
       " 'done': 16753,\n",
       " 'ordering': 35423,\n",
       " 'bit': 7555,\n",
       " 'smaller': 46118,\n",
       " 'fault': 20034,\n",
       " 'taking': 49890,\n",
       " 'measurements': 31487,\n",
       " 'pins': 37698,\n",
       " 'autistic': 5632,\n",
       " 'normal': 34260,\n",
       " 'safety': 43467,\n",
       " 'needed': 33637,\n",
       " 'night': 33987,\n",
       " 'clothes': 11455,\n",
       " 'significantly': 45380,\n",
       " 'sturdy': 48734,\n",
       " 'hasn': 24198,\n",
       " 'learned': 29227,\n",
       " 'once': 35058,\n",
       " 'broken': 8812,\n",
       " 'seem': 44375,\n",
       " 'recall': 41001,\n",
       " 'shipping': 45036,\n",
       " 'reasonable': 40932,\n",
       " 'though': 51082,\n",
       " 'given': 22640,\n",
       " 'package': 36207,\n",
       " 'worked': 56724,\n",
       " 'heavy': 24448,\n",
       " 'duty': 17484,\n",
       " 'filled': 20393,\n",
       " 'others': 35611,\n",
       " 'pin': 37650,\n",
       " 'colors': 11834,\n",
       " 'bargain': 6542,\n",
       " 'dozen': 16987,\n",
       " 'attractive': 5554,\n",
       " 'metal': 31758,\n",
       " 'received': 41052,\n",
       " 'flimsy': 20832,\n",
       " 'thick': 50926,\n",
       " 'fabric': 19720,\n",
       " 'fortunately': 21366,\n",
       " 'involved': 27200,\n",
       " 'stuck': 48656,\n",
       " 'went': 55821,\n",
       " 'honduras': 25063,\n",
       " 'diapers': 15693,\n",
       " 'sent': 44530,\n",
       " 'missionaries': 32256,\n",
       " 'disposable': 16391,\n",
       " 'age': 3572,\n",
       " 'pampers': 36401,\n",
       " 'appreciated': 4839,\n",
       " 'kits': 28496,\n",
       " 'socks': 46544,\n",
       " 'together': 51649,\n",
       " 'wash': 55412,\n",
       " 'never': 33823,\n",
       " 'yet': 57209,\n",
       " 'brass': 8528,\n",
       " 'dressmaker': 17105,\n",
       " 'tended': 50312,\n",
       " 'cycle': 14345,\n",
       " 'suggested': 49007,\n",
       " 'thery': 50848,\n",
       " 're': 40795,\n",
       " 'working': 56737,\n",
       " 'staying': 47925,\n",
       " 'washing': 55446,\n",
       " 'matter': 31286,\n",
       " 'fact': 19794,\n",
       " 'tricky': 52459,\n",
       " 'course': 13420,\n",
       " 'idea': 25668,\n",
       " 'recommended': 41234,\n",
       " 'friended': 21644,\n",
       " 'reviewer': 42579,\n",
       " 'noted': 34321,\n",
       " 'matching': 31223,\n",
       " 'washer': 55436,\n",
       " 'hang': 24012,\n",
       " 'stay': 47917,\n",
       " 'line': 29737,\n",
       " 'clothespins': 11464,\n",
       " 'sock': 46538,\n",
       " 'dried': 17116,\n",
       " 'hamper': 23885,\n",
       " 'shelf': 44932,\n",
       " 'dirty': 16030,\n",
       " 'into': 27084,\n",
       " 'grab': 23003,\n",
       " 'saved': 43735,\n",
       " 'mismatched': 32224,\n",
       " 'feet': 20187,\n",
       " 'am': 4123,\n",
       " 'here': 24602,\n",
       " 'wish': 56414,\n",
       " 'whole': 56112,\n",
       " 'steel': 47962,\n",
       " 'unlike': 53607,\n",
       " 'thicker': 50930,\n",
       " 'turns': 52822,\n",
       " 'should': 45152,\n",
       " 'counted': 13370,\n",
       " 'picture': 37533,\n",
       " 'sad': 43411,\n",
       " 'overpriced': 35977,\n",
       " 'yarn': 57147,\n",
       " 'crochet': 13853,\n",
       " 'regular': 41631,\n",
       " 'sharp': 44847,\n",
       " 'pierce': 37570,\n",
       " 'dislike': 16296,\n",
       " 'sides': 45310,\n",
       " 'bend': 7193,\n",
       " 'pain': 36319,\n",
       " 'pushing': 40151,\n",
       " 'velcro': 54571,\n",
       " 'tabs': 49803,\n",
       " 'doesn': 16673,\n",
       " 'anymore': 4651,\n",
       " 'locally': 30004,\n",
       " 'peel': 36929,\n",
       " 'ordered': 35419,\n",
       " 'rosary': 43097,\n",
       " 'looked': 30152,\n",
       " 'blessed': 7751,\n",
       " 'pope': 38425,\n",
       " 'francis': 21480,\n",
       " 'crystal': 13999,\n",
       " 'knotted': 28593,\n",
       " 'fathers': 20019,\n",
       " 'giving': 22645,\n",
       " 'along': 4013,\n",
       " 'copy': 13146,\n",
       " 'novena': 34388,\n",
       " 'lady': 28810,\n",
       " 'untier': 53891,\n",
       " 'undoer': 53372,\n",
       " 'knots': 28592,\n",
       " 'whom': 56120,\n",
       " 'devotion': 15607,\n",
       " 'heart': 24401,\n",
       " 'beat': 6885,\n",
       " 'excellent': 19196,\n",
       " 'value': 54419,\n",
       " 'wearing': 55626,\n",
       " 'orattaching': 35390,\n",
       " 'brown': 8846,\n",
       " 'scapular': 43815,\n",
       " 'such': 48912,\n",
       " 'blessing': 7753,\n",
       " 'precious': 38844,\n",
       " 'pleased': 38030,\n",
       " 'bangles': 6475,\n",
       " 'however': 25312,\n",
       " 'slid': 45940,\n",
       " 'lotion': 30277,\n",
       " 'snug': 46433,\n",
       " 'fitting': 20607,\n",
       " 'bangle': 6474,\n",
       " 'whew': 55973,\n",
       " 'tough': 51999,\n",
       " 'wouldn': 56824,\n",
       " 'hands': 23974,\n",
       " 'large': 28948,\n",
       " 'kid': 28330,\n",
       " 'adult': 3367,\n",
       " 'wrist': 56928,\n",
       " 'overall': 35861,\n",
       " 'fast': 19985,\n",
       " 'yr': 57319,\n",
       " 'playing': 37967,\n",
       " 'set': 44672,\n",
       " 'pretend': 39097,\n",
       " 'cooking': 13081,\n",
       " 'bibs': 7365,\n",
       " 'awesome': 5782,\n",
       " 'protections': 39704,\n",
       " 'messy': 31751,\n",
       " 'eaters': 17709,\n",
       " 'grandson': 23170,\n",
       " '20': 759,\n",
       " 'boy': 8426,\n",
       " 'eat': 17705,\n",
       " 'marinara': 31096,\n",
       " 'pasta': 36686,\n",
       " 'fingers': 20466,\n",
       " 'elbows': 17990,\n",
       " 'curls': 14176,\n",
       " 'pocket': 38193,\n",
       " 'missing': 32254,\n",
       " 'mouth': 32909,\n",
       " 'ornament': 35541,\n",
       " 'collect': 11756,\n",
       " 'nativity': 33458,\n",
       " 'ornaments': 35543,\n",
       " 'collection': 11764,\n",
       " 'tree': 52387,\n",
       " 'pees': 36948,\n",
       " 'poops': 38409,\n",
       " 'breastfeed': 8600,\n",
       " 'patterns': 36763,\n",
       " 'wet': 55844,\n",
       " 'eating': 17714,\n",
       " 'saver': 43736,\n",
       " 'adopting': 3327,\n",
       " 'travel': 52318,\n",
       " 'complete': 12287,\n",
       " ...}"
      ]
     },
     "execution_count": 542,
     "metadata": {},
     "output_type": "execute_result"
    }
   ],
   "source": [
    "vectorizer.vocabulary_"
   ]
  },
  {
   "cell_type": "markdown",
   "metadata": {},
   "source": [
    "## Training a classifier with logistic regression"
   ]
  },
  {
   "cell_type": "code",
   "execution_count": 543,
   "metadata": {},
   "outputs": [
    {
     "data": {
      "text/plain": [
       "LogisticRegression(C=1.0, class_weight=None, dual=False, fit_intercept=True,\n",
       "          intercept_scaling=1, max_iter=100, multi_class='ovr', n_jobs=1,\n",
       "          penalty='l2', random_state=None, solver='liblinear', tol=0.0001,\n",
       "          verbose=0, warm_start=False)"
      ]
     },
     "execution_count": 543,
     "metadata": {},
     "output_type": "execute_result"
    }
   ],
   "source": [
    "from sklearn.linear_model import LogisticRegression\n",
    "sentiment_model=LogisticRegression()\n",
    "sentiment_model.fit(train_matrix,train_data['sentiment'])"
   ]
  },
  {
   "cell_type": "markdown",
   "metadata": {},
   "source": [
    "### Quiz question: How many weights are >= 0? **"
   ]
  },
  {
   "cell_type": "code",
   "execution_count": 546,
   "metadata": {},
   "outputs": [
    {
     "data": {
      "text/plain": [
       "39487"
      ]
     },
     "execution_count": 546,
     "metadata": {},
     "output_type": "execute_result"
    }
   ],
   "source": [
    "coefficients = list(sentiment_model.coef_[0])\n",
    "positive_weight=[]\n",
    "for coef in coefficients:\n",
    "    if coef>=0:\n",
    "        positive_weight.append(coef)\n",
    "len(positive_weight)"
   ]
  },
  {
   "cell_type": "code",
   "execution_count": 471,
   "metadata": {
    "scrolled": true
   },
   "outputs": [
    {
     "data": {
      "text/html": [
       "<div>\n",
       "<style scoped>\n",
       "    .dataframe tbody tr th:only-of-type {\n",
       "        vertical-align: middle;\n",
       "    }\n",
       "\n",
       "    .dataframe tbody tr th {\n",
       "        vertical-align: top;\n",
       "    }\n",
       "\n",
       "    .dataframe thead th {\n",
       "        text-align: right;\n",
       "    }\n",
       "</style>\n",
       "<table border=\"1\" class=\"dataframe\">\n",
       "  <thead>\n",
       "    <tr style=\"text-align: right;\">\n",
       "      <th></th>\n",
       "      <th>name</th>\n",
       "      <th>review</th>\n",
       "      <th>rating</th>\n",
       "      <th>review_clean</th>\n",
       "      <th>sentiment</th>\n",
       "    </tr>\n",
       "  </thead>\n",
       "  <tbody>\n",
       "    <tr>\n",
       "      <th>59</th>\n",
       "      <td>Our Baby Girl Memory Book</td>\n",
       "      <td>Absolutely love it and all of the Scripture in...</td>\n",
       "      <td>5</td>\n",
       "      <td>Absolutely love it and all of the Scripture in...</td>\n",
       "      <td>1</td>\n",
       "    </tr>\n",
       "    <tr>\n",
       "      <th>71</th>\n",
       "      <td>Wall Decor Removable Decal Sticker - Colorful ...</td>\n",
       "      <td>Would not purchase again or recommend. The dec...</td>\n",
       "      <td>2</td>\n",
       "      <td>Would not purchase again or recommend. The dec...</td>\n",
       "      <td>-1</td>\n",
       "    </tr>\n",
       "    <tr>\n",
       "      <th>91</th>\n",
       "      <td>New Style Trailing Cherry Blossom Tree Decal R...</td>\n",
       "      <td>Was so excited to get this product for my baby...</td>\n",
       "      <td>1</td>\n",
       "      <td>Was so excited to get this product for my baby...</td>\n",
       "      <td>-1</td>\n",
       "    </tr>\n",
       "  </tbody>\n",
       "</table>\n",
       "</div>"
      ],
      "text/plain": [
       "                                                 name  \\\n",
       "59                          Our Baby Girl Memory Book   \n",
       "71  Wall Decor Removable Decal Sticker - Colorful ...   \n",
       "91  New Style Trailing Cherry Blossom Tree Decal R...   \n",
       "\n",
       "                                               review  rating  \\\n",
       "59  Absolutely love it and all of the Scripture in...       5   \n",
       "71  Would not purchase again or recommend. The dec...       2   \n",
       "91  Was so excited to get this product for my baby...       1   \n",
       "\n",
       "                                         review_clean  sentiment  \n",
       "59  Absolutely love it and all of the Scripture in...          1  \n",
       "71  Would not purchase again or recommend. The dec...         -1  \n",
       "91  Was so excited to get this product for my baby...         -1  "
      ]
     },
     "execution_count": 471,
     "metadata": {},
     "output_type": "execute_result"
    }
   ],
   "source": [
    "sample_test_data=test_data[10:13]\n",
    "sample_test_data.head()"
   ]
  },
  {
   "cell_type": "code",
   "execution_count": 472,
   "metadata": {},
   "outputs": [
    {
     "data": {
      "text/plain": [
       "'Absolutely love it and all of the Scripture in it.  I purchased the Baby Boy version for my grandson when he was born and my daughter-in-law was thrilled to receive the same book again.'"
      ]
     },
     "execution_count": 472,
     "metadata": {},
     "output_type": "execute_result"
    }
   ],
   "source": [
    "sample_test_data.iloc[0]['review_clean']"
   ]
  },
  {
   "cell_type": "markdown",
   "metadata": {},
   "source": [
    "## Use of decision function\n",
    "Recall from the lecture that the score (sometimes called margin) for the logistic regression model is defined as:\n",
    "<br>\n",
    "$score_{i}=w^{⊺}h(x_{i})$<br>\n",
    "where $h(x_{i})$ represents the features for data point i. We will write some code to obtain the scores. For each row, the score (or margin) is a number in the range (-inf, inf). Use a pre-built function in your tool to calculate the score of each data point in sample_test_data. In scikit-learn, you can call the decision_function() function."
   ]
  },
  {
   "cell_type": "code",
   "execution_count": 473,
   "metadata": {},
   "outputs": [
    {
     "data": {
      "text/plain": [
       "([1, -1, -1], array([  4.96982261,  -3.0026716 , -10.60546377]))"
      ]
     },
     "execution_count": 473,
     "metadata": {},
     "output_type": "execute_result"
    }
   ],
   "source": [
    "sample_test_matrix=vectorizer.transform(sample_test_data['review_clean'])\n",
    "scores=sentiment_model.decision_function(sample_test_matrix)\n",
    "prediction_score=[]\n",
    "for score in scores:\n",
    "    if score>0:\n",
    "        prediction_score.append(+1)\n",
    "    elif score<0:\n",
    "        prediction_score.append(-1)\n",
    "prediction_score,scores"
   ]
  },
  {
   "cell_type": "code",
   "execution_count": 474,
   "metadata": {},
   "outputs": [
    {
     "data": {
      "text/plain": [
       "array([ 1, -1, -1], dtype=int64)"
      ]
     },
     "execution_count": 474,
     "metadata": {},
     "output_type": "execute_result"
    }
   ],
   "source": [
    "sentiment_model.predict(sample_test_matrix)"
   ]
  },
  {
   "cell_type": "code",
   "execution_count": 475,
   "metadata": {},
   "outputs": [],
   "source": [
    "def prediction_scores(scores):\n",
    "    prediction_score=[]\n",
    "    for score in scores:\n",
    "        if score>0:\n",
    "            prediction_score.append(+1)\n",
    "        elif score<0:\n",
    "            prediction_score.append(-1)\n",
    "    return prediction_score"
   ]
  },
  {
   "cell_type": "code",
   "execution_count": 476,
   "metadata": {},
   "outputs": [],
   "source": [
    "def prediction_probabs(scores):\n",
    "    probs=[]\n",
    "    for score in scores:\n",
    "        p=1/(1+math.exp(-score))\n",
    "        probs.append(p)\n",
    "    return probs"
   ]
  },
  {
   "cell_type": "code",
   "execution_count": 477,
   "metadata": {},
   "outputs": [
    {
     "data": {
      "text/plain": [
       "[0.9931035120694313, 0.047305325179694054, 2.4779631617439094e-05]"
      ]
     },
     "execution_count": 477,
     "metadata": {},
     "output_type": "execute_result"
    }
   ],
   "source": [
    "probs=prediction_probabs(scores)\n",
    "probs"
   ]
  },
  {
   "cell_type": "code",
   "execution_count": 478,
   "metadata": {},
   "outputs": [
    {
     "data": {
      "text/plain": [
       "0.9931035120694313"
      ]
     },
     "execution_count": 478,
     "metadata": {},
     "output_type": "execute_result"
    }
   ],
   "source": [
    "sentiment_model.predict_proba(sample_test_matrix)[0][1]"
   ]
  },
  {
   "cell_type": "markdown",
   "metadata": {},
   "source": [
    "### Quiz question: Of the three data points in sample_test_data, which one (first, second, or third) has the lowest probability of being classified as a positive review?"
   ]
  },
  {
   "cell_type": "code",
   "execution_count": 479,
   "metadata": {},
   "outputs": [
    {
     "data": {
      "text/plain": [
       "2.4779631617439094e-05"
      ]
     },
     "execution_count": 479,
     "metadata": {},
     "output_type": "execute_result"
    }
   ],
   "source": [
    "min(probs)"
   ]
  },
  {
   "cell_type": "code",
   "execution_count": 480,
   "metadata": {},
   "outputs": [],
   "source": [
    "test_matrix=vectorizer.transform(test_data['review_clean'])"
   ]
  },
  {
   "cell_type": "code",
   "execution_count": 481,
   "metadata": {},
   "outputs": [],
   "source": [
    "proba_20=sentiment_model.predict_proba(test_matrix)"
   ]
  },
  {
   "cell_type": "code",
   "execution_count": 482,
   "metadata": {},
   "outputs": [],
   "source": [
    "prob=[]\n",
    "for p in proba_20:\n",
    "    prob.append(p[1])\n",
    "prob.sort()"
   ]
  },
  {
   "cell_type": "code",
   "execution_count": 483,
   "metadata": {},
   "outputs": [
    {
     "data": {
      "text/plain": [
       "[0.9999999999999998,\n",
       " 0.9999999999999998,\n",
       " 1.0,\n",
       " 1.0,\n",
       " 1.0,\n",
       " 1.0,\n",
       " 1.0,\n",
       " 1.0,\n",
       " 1.0,\n",
       " 1.0,\n",
       " 1.0,\n",
       " 1.0,\n",
       " 1.0,\n",
       " 1.0,\n",
       " 1.0,\n",
       " 1.0,\n",
       " 1.0,\n",
       " 1.0,\n",
       " 1.0,\n",
       " 1.0]"
      ]
     },
     "execution_count": 483,
     "metadata": {},
     "output_type": "execute_result"
    }
   ],
   "source": [
    "prob[-21:-1]"
   ]
  },
  {
   "cell_type": "code",
   "execution_count": 484,
   "metadata": {},
   "outputs": [
    {
     "ename": "SyntaxError",
     "evalue": "invalid syntax (<ipython-input-484-581d9d237866>, line 2)",
     "output_type": "error",
     "traceback": [
      "\u001b[1;36m  File \u001b[1;32m\"<ipython-input-484-581d9d237866>\"\u001b[1;36m, line \u001b[1;32m2\u001b[0m\n\u001b[1;33m    if p\u001b[0m\n\u001b[1;37m        ^\u001b[0m\n\u001b[1;31mSyntaxError\u001b[0m\u001b[1;31m:\u001b[0m invalid syntax\n"
     ]
    }
   ],
   "source": [
    "for p in prob[-21:-1]:\n",
    "    if p"
   ]
  },
  {
   "cell_type": "code",
   "execution_count": 485,
   "metadata": {},
   "outputs": [
    {
     "data": {
      "text/plain": [
       "33336"
      ]
     },
     "execution_count": 485,
     "metadata": {},
     "output_type": "execute_result"
    }
   ],
   "source": [
    "len(proba_20)"
   ]
  },
  {
   "cell_type": "code",
   "execution_count": 234,
   "metadata": {},
   "outputs": [
    {
     "data": {
      "text/plain": [
       "(array([ 4348, 10113, 17286, 19928, 23127, 24710, 26677, 28802, 31589,\n",
       "        32192, 32439], dtype=int64),\n",
       " array([1, 1, 0, 1, 1, 1, 1, 1, 1, 1, 1], dtype=int64))"
      ]
     },
     "execution_count": 234,
     "metadata": {},
     "output_type": "execute_result"
    }
   ],
   "source": [
    "p=1.0\n",
    "np.where(p == proba_20)"
   ]
  },
  {
   "cell_type": "code",
   "execution_count": 486,
   "metadata": {},
   "outputs": [],
   "source": [
    "probs=[]\n",
    "for p in proba_20:\n",
    "    probs.append(p[1])"
   ]
  },
  {
   "cell_type": "markdown",
   "metadata": {},
   "source": [
    "### Quiz Question: Which of the following products are represented in the 20 most positive reviews?"
   ]
  },
  {
   "cell_type": "code",
   "execution_count": 487,
   "metadata": {},
   "outputs": [
    {
     "data": {
      "text/plain": [
       "array([ 2570, 27048, 15732, 32782, 21203, 30634, 24286, 21531, 18112,\n",
       "       30076, 11923,  9125,  9555, 26830, 17558, 33060,  4140, 16502,\n",
       "       24899, 14482], dtype=int64)"
      ]
     },
     "execution_count": 487,
     "metadata": {},
     "output_type": "execute_result"
    }
   ],
   "source": [
    "indices=np.argsort(probs)\n",
    "indices[-21:-1]"
   ]
  },
  {
   "cell_type": "markdown",
   "metadata": {},
   "source": [
    "### Quiz Question: Which of the following products are represented in the 20 most negative reviews?"
   ]
  },
  {
   "cell_type": "code",
   "execution_count": 488,
   "metadata": {},
   "outputs": [
    {
     "data": {
      "text/plain": [
       "array([28184, 21700, 17069,  2931,  8818, 13939,  1810,  9655, 20594,\n",
       "       13751,  1942, 14711, 15062, 31928, 17222,   205, 28120, 27231,\n",
       "       30373, 10814], dtype=int64)"
      ]
     },
     "execution_count": 488,
     "metadata": {},
     "output_type": "execute_result"
    }
   ],
   "source": [
    "indx_min=np.argsort(probs)\n",
    "indx_min[0:20]"
   ]
  },
  {
   "cell_type": "code",
   "execution_count": 489,
   "metadata": {},
   "outputs": [],
   "source": [
    "test_data['sentiment']=test_data['rating'].apply(lambda rating: +1 if rating >3 else -1)"
   ]
  },
  {
   "cell_type": "code",
   "execution_count": 490,
   "metadata": {},
   "outputs": [],
   "source": [
    "predictions=sentiment_model.predict(test_matrix)"
   ]
  },
  {
   "cell_type": "code",
   "execution_count": 491,
   "metadata": {},
   "outputs": [
    {
     "data": {
      "text/plain": [
       "31075"
      ]
     },
     "execution_count": 491,
     "metadata": {},
     "output_type": "execute_result"
    }
   ],
   "source": [
    "corrects = predictions == test_data['sentiment']\n",
    "np.sum(corrects)"
   ]
  },
  {
   "cell_type": "code",
   "execution_count": 492,
   "metadata": {},
   "outputs": [],
   "source": [
    "def accuracy_value(predictions,output):\n",
    "    total=len(output)\n",
    "    corrects=predictions == output\n",
    "    correctly_classified=np.sum(corrects)\n",
    "    return (correctly_classified/total)"
   ]
  },
  {
   "cell_type": "code",
   "execution_count": 493,
   "metadata": {},
   "outputs": [
    {
     "data": {
      "text/plain": [
       "0.9321754259659227"
      ]
     },
     "execution_count": 493,
     "metadata": {},
     "output_type": "execute_result"
    }
   ],
   "source": [
    "accuracy_sentiment_model=accuracy_value(predictions,test_data['sentiment'])\n",
    "accuracy_sentiment_model"
   ]
  },
  {
   "cell_type": "markdown",
   "metadata": {},
   "source": [
    "### Quiz Question: What is the accuracy of the sentiment_model on the test_data? Round your answer to 2 decimal places **"
   ]
  },
  {
   "cell_type": "code",
   "execution_count": 494,
   "metadata": {},
   "outputs": [
    {
     "data": {
      "text/plain": [
       "0.9321754259659227"
      ]
     },
     "execution_count": 494,
     "metadata": {},
     "output_type": "execute_result"
    }
   ],
   "source": [
    "from sklearn.metrics import accuracy_score\n",
    "score=accuracy_score(test_data['sentiment'],predictions)\n",
    "score"
   ]
  },
  {
   "cell_type": "markdown",
   "metadata": {},
   "source": [
    "## Learn another classifier with fewer words"
   ]
  },
  {
   "cell_type": "code",
   "execution_count": 495,
   "metadata": {},
   "outputs": [],
   "source": [
    "significant_words = ['love', 'great', 'easy', 'old', 'little', 'perfect', 'loves', \n",
    "      'well', 'able', 'car', 'broke', 'less', 'even', 'waste', 'disappointed', \n",
    "      'work', 'product', 'money', 'would', 'return']"
   ]
  },
  {
   "cell_type": "code",
   "execution_count": 496,
   "metadata": {},
   "outputs": [],
   "source": [
    "vectorizer_word_subset=CountVectorizer(vocabulary=significant_words) #Limits to 20 words"
   ]
  },
  {
   "cell_type": "code",
   "execution_count": 497,
   "metadata": {},
   "outputs": [],
   "source": [
    "train_matrix_words=vectorizer_word_subset.fit_transform(train_data['review_clean'])\n",
    "test_matrix_words=vectorizer_word_subset.transform(test_data['review_clean'])"
   ]
  },
  {
   "cell_type": "code",
   "execution_count": 498,
   "metadata": {},
   "outputs": [
    {
     "data": {
      "text/plain": [
       "LogisticRegression(C=1.0, class_weight=None, dual=False, fit_intercept=True,\n",
       "          intercept_scaling=1, max_iter=100, multi_class='ovr', n_jobs=1,\n",
       "          penalty='l2', random_state=None, solver='liblinear', tol=0.0001,\n",
       "          verbose=0, warm_start=False)"
      ]
     },
     "execution_count": 498,
     "metadata": {},
     "output_type": "execute_result"
    }
   ],
   "source": [
    "simple_model=LogisticRegression()\n",
    "simple_model.fit(train_matrix_words,train_data['sentiment'])"
   ]
  },
  {
   "cell_type": "code",
   "execution_count": 499,
   "metadata": {},
   "outputs": [
    {
     "data": {
      "text/html": [
       "<div>\n",
       "<style scoped>\n",
       "    .dataframe tbody tr th:only-of-type {\n",
       "        vertical-align: middle;\n",
       "    }\n",
       "\n",
       "    .dataframe tbody tr th {\n",
       "        vertical-align: top;\n",
       "    }\n",
       "\n",
       "    .dataframe thead th {\n",
       "        text-align: right;\n",
       "    }\n",
       "</style>\n",
       "<table border=\"1\" class=\"dataframe\">\n",
       "  <thead>\n",
       "    <tr style=\"text-align: right;\">\n",
       "      <th></th>\n",
       "      <th>words</th>\n",
       "      <th>coefficients</th>\n",
       "    </tr>\n",
       "  </thead>\n",
       "  <tbody>\n",
       "    <tr>\n",
       "      <th>0</th>\n",
       "      <td>love</td>\n",
       "      <td>1.352683</td>\n",
       "    </tr>\n",
       "    <tr>\n",
       "      <th>1</th>\n",
       "      <td>great</td>\n",
       "      <td>0.919866</td>\n",
       "    </tr>\n",
       "    <tr>\n",
       "      <th>2</th>\n",
       "      <td>easy</td>\n",
       "      <td>1.172944</td>\n",
       "    </tr>\n",
       "    <tr>\n",
       "      <th>3</th>\n",
       "      <td>old</td>\n",
       "      <td>0.115002</td>\n",
       "    </tr>\n",
       "    <tr>\n",
       "      <th>4</th>\n",
       "      <td>little</td>\n",
       "      <td>0.497347</td>\n",
       "    </tr>\n",
       "  </tbody>\n",
       "</table>\n",
       "</div>"
      ],
      "text/plain": [
       "    words  coefficients\n",
       "0    love      1.352683\n",
       "1   great      0.919866\n",
       "2    easy      1.172944\n",
       "3     old      0.115002\n",
       "4  little      0.497347"
      ]
     },
     "execution_count": 499,
     "metadata": {},
     "output_type": "execute_result"
    }
   ],
   "source": [
    "coeffs=simple_model.coef_\n",
    "d = {'words':['love', 'great', 'easy', 'old', 'little', 'perfect', 'loves', \n",
    "      'well', 'able', 'car', 'broke', 'less', 'even', 'waste', 'disappointed', \n",
    "      'work', 'product', 'money', 'would', 'return'],'coefficients':[ 1.35268316,  0.91986614,  1.17294417,  0.11500178,  0.49734749,\n",
    "         1.51080771,  1.7519224 ,  0.47764534,  0.18802123,  0.08941532,\n",
    "        -1.64278681, -0.17504869, -0.51982782, -1.99557715, -2.36196483,\n",
    "        -0.63499832, -0.31321812, -0.86247905, -0.33653428, -2.01676118]}\n",
    "df=pd.DataFrame(data=d)\n",
    "df.head()"
   ]
  },
  {
   "cell_type": "code",
   "execution_count": 500,
   "metadata": {},
   "outputs": [
    {
     "data": {
      "text/html": [
       "<div>\n",
       "<style scoped>\n",
       "    .dataframe tbody tr th:only-of-type {\n",
       "        vertical-align: middle;\n",
       "    }\n",
       "\n",
       "    .dataframe tbody tr th {\n",
       "        vertical-align: top;\n",
       "    }\n",
       "\n",
       "    .dataframe thead th {\n",
       "        text-align: right;\n",
       "    }\n",
       "</style>\n",
       "<table border=\"1\" class=\"dataframe\">\n",
       "  <thead>\n",
       "    <tr style=\"text-align: right;\">\n",
       "      <th></th>\n",
       "      <th>words</th>\n",
       "      <th>coefficients</th>\n",
       "    </tr>\n",
       "  </thead>\n",
       "  <tbody>\n",
       "    <tr>\n",
       "      <th>6</th>\n",
       "      <td>loves</td>\n",
       "      <td>1.751922</td>\n",
       "    </tr>\n",
       "    <tr>\n",
       "      <th>5</th>\n",
       "      <td>perfect</td>\n",
       "      <td>1.510808</td>\n",
       "    </tr>\n",
       "    <tr>\n",
       "      <th>0</th>\n",
       "      <td>love</td>\n",
       "      <td>1.352683</td>\n",
       "    </tr>\n",
       "    <tr>\n",
       "      <th>2</th>\n",
       "      <td>easy</td>\n",
       "      <td>1.172944</td>\n",
       "    </tr>\n",
       "    <tr>\n",
       "      <th>1</th>\n",
       "      <td>great</td>\n",
       "      <td>0.919866</td>\n",
       "    </tr>\n",
       "    <tr>\n",
       "      <th>4</th>\n",
       "      <td>little</td>\n",
       "      <td>0.497347</td>\n",
       "    </tr>\n",
       "    <tr>\n",
       "      <th>7</th>\n",
       "      <td>well</td>\n",
       "      <td>0.477645</td>\n",
       "    </tr>\n",
       "    <tr>\n",
       "      <th>8</th>\n",
       "      <td>able</td>\n",
       "      <td>0.188021</td>\n",
       "    </tr>\n",
       "    <tr>\n",
       "      <th>3</th>\n",
       "      <td>old</td>\n",
       "      <td>0.115002</td>\n",
       "    </tr>\n",
       "    <tr>\n",
       "      <th>9</th>\n",
       "      <td>car</td>\n",
       "      <td>0.089415</td>\n",
       "    </tr>\n",
       "    <tr>\n",
       "      <th>11</th>\n",
       "      <td>less</td>\n",
       "      <td>-0.175049</td>\n",
       "    </tr>\n",
       "    <tr>\n",
       "      <th>16</th>\n",
       "      <td>product</td>\n",
       "      <td>-0.313218</td>\n",
       "    </tr>\n",
       "    <tr>\n",
       "      <th>18</th>\n",
       "      <td>would</td>\n",
       "      <td>-0.336534</td>\n",
       "    </tr>\n",
       "    <tr>\n",
       "      <th>12</th>\n",
       "      <td>even</td>\n",
       "      <td>-0.519828</td>\n",
       "    </tr>\n",
       "    <tr>\n",
       "      <th>15</th>\n",
       "      <td>work</td>\n",
       "      <td>-0.634998</td>\n",
       "    </tr>\n",
       "    <tr>\n",
       "      <th>17</th>\n",
       "      <td>money</td>\n",
       "      <td>-0.862479</td>\n",
       "    </tr>\n",
       "    <tr>\n",
       "      <th>10</th>\n",
       "      <td>broke</td>\n",
       "      <td>-1.642787</td>\n",
       "    </tr>\n",
       "    <tr>\n",
       "      <th>13</th>\n",
       "      <td>waste</td>\n",
       "      <td>-1.995577</td>\n",
       "    </tr>\n",
       "    <tr>\n",
       "      <th>19</th>\n",
       "      <td>return</td>\n",
       "      <td>-2.016761</td>\n",
       "    </tr>\n",
       "    <tr>\n",
       "      <th>14</th>\n",
       "      <td>disappointed</td>\n",
       "      <td>-2.361965</td>\n",
       "    </tr>\n",
       "  </tbody>\n",
       "</table>\n",
       "</div>"
      ],
      "text/plain": [
       "           words  coefficients\n",
       "6          loves      1.751922\n",
       "5        perfect      1.510808\n",
       "0           love      1.352683\n",
       "2           easy      1.172944\n",
       "1          great      0.919866\n",
       "4         little      0.497347\n",
       "7           well      0.477645\n",
       "8           able      0.188021\n",
       "3            old      0.115002\n",
       "9            car      0.089415\n",
       "11          less     -0.175049\n",
       "16       product     -0.313218\n",
       "18         would     -0.336534\n",
       "12          even     -0.519828\n",
       "15          work     -0.634998\n",
       "17         money     -0.862479\n",
       "10         broke     -1.642787\n",
       "13         waste     -1.995577\n",
       "19        return     -2.016761\n",
       "14  disappointed     -2.361965"
      ]
     },
     "execution_count": 500,
     "metadata": {},
     "output_type": "execute_result"
    }
   ],
   "source": [
    "df.sort_values(by=['coefficients'],ascending=False)"
   ]
  },
  {
   "cell_type": "markdown",
   "metadata": {},
   "source": [
    "### Quiz Question: Consider the coefficients of simple_model. How many of the 20 coefficients (corresponding to the 20 significant_words) are positive for the simple_model?"
   ]
  },
  {
   "cell_type": "code",
   "execution_count": 501,
   "metadata": {},
   "outputs": [
    {
     "data": {
      "text/plain": [
       "10"
      ]
     },
     "execution_count": 501,
     "metadata": {},
     "output_type": "execute_result"
    }
   ],
   "source": [
    "np.sum(df['coefficients'].values > 0)"
   ]
  },
  {
   "cell_type": "markdown",
   "metadata": {},
   "source": [
    "### Quiz Question: Are the positive words in the simple_model also positive words in the sentiment_model?"
   ]
  },
  {
   "cell_type": "code",
   "execution_count": 502,
   "metadata": {},
   "outputs": [
    {
     "data": {
      "text/plain": [
       "array([[-5.44520531e-01, -6.11804000e-01, -5.82232457e-02, ...,\n",
       "         1.72839802e-02,  3.15923578e-03, -5.97656429e-05]])"
      ]
     },
     "execution_count": 502,
     "metadata": {},
     "output_type": "execute_result"
    }
   ],
   "source": [
    "sentiment_model.coef_"
   ]
  },
  {
   "cell_type": "code",
   "execution_count": 503,
   "metadata": {},
   "outputs": [
    {
     "name": "stdout",
     "output_type": "stream",
     "text": [
      "1.541260504650111\n",
      "1.2189277951693092\n",
      "1.3506620171965975\n",
      "0.04066916805130735\n",
      "0.6260677633409618\n",
      "1.8325795680496908\n",
      "1.4854892864244482\n",
      "0.5733529390273953\n",
      "0.4044147795868985\n",
      "0.09763585439417836\n",
      "-1.3462249107842401\n",
      "-0.2932268200959007\n",
      "-0.4573907952384159\n",
      "-1.9295488676990367\n",
      "-2.1824354103997066\n",
      "-0.45106180157238007\n",
      "-0.1996810604200818\n",
      "-0.777915629397156\n",
      "-0.2991809158146148\n",
      "-1.6231969095695902\n"
     ]
    }
   ],
   "source": [
    "idx_sentiment=[]\n",
    "for word in significant_words:\n",
    "    idx_sentiment.append(vectorizer.vocabulary_.get(word))\n",
    "idx_sentiment\n",
    "for idx in idx_sentiment:\n",
    "    print(sentiment_model.coef_[0][idx])"
   ]
  },
  {
   "cell_type": "markdown",
   "metadata": {},
   "source": [
    "### Quiz Question: Which model (sentiment_model or simple_model) has higher accuracy on the TRAINING set?"
   ]
  },
  {
   "cell_type": "code",
   "execution_count": 504,
   "metadata": {},
   "outputs": [
    {
     "data": {
      "text/plain": [
       "0.9624183006535948"
      ]
     },
     "execution_count": 504,
     "metadata": {},
     "output_type": "execute_result"
    }
   ],
   "source": [
    "predict_sentiment=sentiment_model.predict(train_matrix)\n",
    "accuracy_score(predict_sentiment,train_data['sentiment'])"
   ]
  },
  {
   "cell_type": "code",
   "execution_count": 505,
   "metadata": {},
   "outputs": [
    {
     "data": {
      "text/plain": [
       "0.8672273190621814"
      ]
     },
     "execution_count": 505,
     "metadata": {},
     "output_type": "execute_result"
    }
   ],
   "source": [
    "predict_simple=simple_model.predict(train_matrix_words)\n",
    "accuracy_score(predict_simple,train_data['sentiment'])"
   ]
  },
  {
   "cell_type": "markdown",
   "metadata": {},
   "source": [
    "### Quiz Question: Which model (sentiment_model or simple_model) has higher accuracy on the TEST set? **"
   ]
  },
  {
   "cell_type": "code",
   "execution_count": 506,
   "metadata": {},
   "outputs": [
    {
     "data": {
      "text/plain": [
       "0.9321754259659227"
      ]
     },
     "execution_count": 506,
     "metadata": {},
     "output_type": "execute_result"
    }
   ],
   "source": [
    "predict_sentiment=sentiment_model.predict(test_matrix)\n",
    "accuracy_score(predict_sentiment,test_data['sentiment'])"
   ]
  },
  {
   "cell_type": "code",
   "execution_count": 507,
   "metadata": {},
   "outputs": [
    {
     "data": {
      "text/plain": [
       "0.8702003839692825"
      ]
     },
     "execution_count": 507,
     "metadata": {},
     "output_type": "execute_result"
    }
   ],
   "source": [
    "predict_simple=simple_model.predict(test_matrix_words)\n",
    "accuracy_score(predict_simple,test_data['sentiment'])"
   ]
  },
  {
   "cell_type": "code",
   "execution_count": 508,
   "metadata": {},
   "outputs": [
    {
     "data": {
      "text/html": [
       "<div>\n",
       "<style scoped>\n",
       "    .dataframe tbody tr th:only-of-type {\n",
       "        vertical-align: middle;\n",
       "    }\n",
       "\n",
       "    .dataframe tbody tr th {\n",
       "        vertical-align: top;\n",
       "    }\n",
       "\n",
       "    .dataframe thead th {\n",
       "        text-align: right;\n",
       "    }\n",
       "</style>\n",
       "<table border=\"1\" class=\"dataframe\">\n",
       "  <thead>\n",
       "    <tr style=\"text-align: right;\">\n",
       "      <th></th>\n",
       "      <th>name</th>\n",
       "      <th>review</th>\n",
       "      <th>rating</th>\n",
       "      <th>review_clean</th>\n",
       "    </tr>\n",
       "    <tr>\n",
       "      <th>sentiment</th>\n",
       "      <th></th>\n",
       "      <th></th>\n",
       "      <th></th>\n",
       "      <th></th>\n",
       "    </tr>\n",
       "  </thead>\n",
       "  <tbody>\n",
       "    <tr>\n",
       "      <th>-1</th>\n",
       "      <td>21227</td>\n",
       "      <td>21252</td>\n",
       "      <td>21252</td>\n",
       "      <td>21252</td>\n",
       "    </tr>\n",
       "    <tr>\n",
       "      <th>1</th>\n",
       "      <td>111947</td>\n",
       "      <td>112164</td>\n",
       "      <td>112164</td>\n",
       "      <td>112164</td>\n",
       "    </tr>\n",
       "  </tbody>\n",
       "</table>\n",
       "</div>"
      ],
      "text/plain": [
       "             name  review  rating  review_clean\n",
       "sentiment                                      \n",
       "-1          21227   21252   21252         21252\n",
       " 1         111947  112164  112164        112164"
      ]
     },
     "execution_count": 508,
     "metadata": {},
     "output_type": "execute_result"
    }
   ],
   "source": [
    "train_data.groupby('sentiment').count()"
   ]
  },
  {
   "cell_type": "markdown",
   "metadata": {},
   "source": [
    "## Majority class classifier"
   ]
  },
  {
   "cell_type": "code",
   "execution_count": 509,
   "metadata": {},
   "outputs": [],
   "source": [
    "predict_majority=np.repeat(1,test_data['sentiment'].size)"
   ]
  },
  {
   "cell_type": "code",
   "execution_count": 510,
   "metadata": {},
   "outputs": [
    {
     "data": {
      "text/plain": [
       "0.8427825773938085"
      ]
     },
     "execution_count": 510,
     "metadata": {},
     "output_type": "execute_result"
    }
   ],
   "source": [
    "accuracy_score(predict_majority,test_data['sentiment'])"
   ]
  },
  {
   "cell_type": "code",
   "execution_count": 511,
   "metadata": {},
   "outputs": [
    {
     "name": "stdout",
     "output_type": "stream",
     "text": [
      "name                Stork Craft Beatrice Combo Tower Chest, White\n",
      "review          I bought the tower despite the bad reviews and...\n",
      "rating                                                          5\n",
      "review_clean    I bought the tower despite the bad reviews and...\n",
      "sentiment                                                       1\n",
      "Name: 14008, dtype: object\n",
      "______________________\n",
      "name            The Original CJ's BuTTer (All Natural Mango Su...\n",
      "review          I'm going to try to review the scents I've tri...\n",
      "rating                                                          4\n",
      "review_clean    I'm going to try to review the scents I've tri...\n",
      "sentiment                                                       1\n",
      "Name: 149002, dtype: object\n",
      "______________________\n",
      "name              Baby Einstein Around The World Discovery Center\n",
      "review          I am so HAPPY I brought this item for my 7 mon...\n",
      "rating                                                          5\n",
      "review_clean    I am so HAPPY I brought this item for my 7 mon...\n",
      "sentiment                                                       1\n",
      "Name: 87017, dtype: object\n",
      "______________________\n",
      "name                Mamas &amp; Papas 2014 Urbo2 Stroller - Black\n",
      "review          After much research I purchased an Urbo2. It's...\n",
      "rating                                                          4\n",
      "review_clean    After much research I purchased an Urbo2. It's...\n",
      "sentiment                                                       1\n",
      "Name: 180646, dtype: object\n",
      "______________________\n",
      "name                        Skip Hop Bento Diaper Tote Bag, Black\n",
      "review          Summary of below: It's a great bag that fits a...\n",
      "rating                                                          5\n",
      "review_clean    Summary of below: It's a great bag that fits a...\n",
      "sentiment                                                       1\n",
      "Name: 117528, dtype: object\n",
      "______________________\n",
      "name            Graco FastAction Fold Jogger Click Connect Str...\n",
      "review          Graco's FastAction Jogging Stroller definitely...\n",
      "rating                                                          5\n",
      "review_clean    Graco's FastAction Jogging Stroller definitely...\n",
      "sentiment                                                       1\n",
      "Name: 168697, dtype: object\n",
      "______________________\n",
      "name                            Britax 2012 B-Agile Stroller, Red\n",
      "review          [I got this stroller for my daughter prior to ...\n",
      "rating                                                          4\n",
      "review_clean    [I got this stroller for my daughter prior to ...\n",
      "sentiment                                                       1\n",
      "Name: 133651, dtype: object\n",
      "______________________\n",
      "name            Roan Rocco Classic Pram Stroller 2-in-1 with B...\n",
      "review          Great Pram Rocco!!!!!!I bought this pram from ...\n",
      "rating                                                          5\n",
      "review_clean    Great Pram Rocco!!!!!!I bought this pram from ...\n",
      "sentiment                                                       1\n",
      "Name: 119182, dtype: object\n",
      "______________________\n",
      "name            Infantino Wrap and Tie Baby Carrier, Black Blu...\n",
      "review          I bought this carrier when my daughter was abo...\n",
      "rating                                                          5\n",
      "review_clean    I bought this carrier when my daughter was abo...\n",
      "sentiment                                                       1\n",
      "Name: 100166, dtype: object\n",
      "______________________\n",
      "name            Ikea 36 Pcs Kalas Kids Plastic BPA Free Flatwa...\n",
      "review          For the price this set is unbelievable- and tr...\n",
      "rating                                                          5\n",
      "review_clean    For the price this set is unbelievable- and tr...\n",
      "sentiment                                                       1\n",
      "Name: 165593, dtype: object\n",
      "______________________\n",
      "name                 Evenflo 6 Pack Classic Glass Bottle, 4-Ounce\n",
      "review          It's always fun to write a review on those pro...\n",
      "rating                                                          5\n",
      "review_clean    It's always fun to write a review on those pro...\n",
      "sentiment                                                       1\n",
      "Name: 66059, dtype: object\n",
      "______________________\n",
      "name                   P'Kolino Silly Soft Seating in Tias, Green\n",
      "review          I've purchased both the P'Kolino Little Reader...\n",
      "rating                                                          4\n",
      "review_clean    I've purchased both the P'Kolino Little Reader...\n",
      "sentiment                                                       1\n",
      "Name: 50315, dtype: object\n",
      "______________________\n",
      "name            Evenflo X Sport Plus Convenience Stroller - Ch...\n",
      "review          After seeing this in Parent's Magazine and rea...\n",
      "rating                                                          5\n",
      "review_clean    After seeing this in Parent's Magazine and rea...\n",
      "sentiment                                                       1\n",
      "Name: 52631, dtype: object\n",
      "______________________\n",
      "name            Baby Jogger City Mini GT Single Stroller, Shad...\n",
      "review          Amazing, Love, Love, Love it !!! All 5 STARS a...\n",
      "rating                                                          5\n",
      "review_clean    Amazing, Love, Love, Love it !!! All 5 STARS a...\n",
      "sentiment                                                       1\n",
      "Name: 147949, dtype: object\n",
      "______________________\n",
      "name            Freemie Hands-Free Concealable Breast Pump Col...\n",
      "review          I absolutely love this product.  I work as a C...\n",
      "rating                                                          5\n",
      "review_clean    I absolutely love this product.  I work as a C...\n",
      "sentiment                                                       1\n",
      "Name: 97325, dtype: object\n",
      "______________________\n",
      "name            Summer Infant Wide View Digital Color Video Mo...\n",
      "review          I love this baby monitor.  I can compare this ...\n",
      "rating                                                          5\n",
      "review_clean    I love this baby monitor.  I can compare this ...\n",
      "sentiment                                                       1\n",
      "Name: 182089, dtype: object\n",
      "______________________\n",
      "name               Britax Decathlon Convertible Car Seat, Tiffany\n",
      "review          I researched a few different seats to put in o...\n",
      "rating                                                          4\n",
      "review_clean    I researched a few different seats to put in o...\n",
      "sentiment                                                       1\n",
      "Name: 22586, dtype: object\n",
      "______________________\n",
      "name            Dream On Me / Mia Moda  Atmosferra Stroller, Nero\n",
      "review          I recently bought this to replace a Chicco Cor...\n",
      "rating                                                          4\n",
      "review_clean    I recently bought this to replace a Chicco Cor...\n",
      "sentiment                                                       1\n",
      "Name: 91476, dtype: object\n",
      "______________________\n",
      "name                   Graco Pack 'n Play Element Playard - Flint\n",
      "review          My husband and I assembled this Pack n' Play l...\n",
      "rating                                                          4\n",
      "review_clean    My husband and I assembled this Pack n' Play l...\n",
      "sentiment                                                       1\n",
      "Name: 137034, dtype: object\n",
      "______________________\n",
      "name            Simple Wishes Hands-Free Breastpump Bra, Pink,...\n",
      "review          I just tried this hands free breastpump bra, a...\n",
      "rating                                                          5\n",
      "review_clean    I just tried this hands free breastpump bra, a...\n",
      "sentiment                                                       1\n",
      "Name: 80155, dtype: object\n",
      "______________________\n"
     ]
    }
   ],
   "source": [
    "for i in indices[-21:-1]:\n",
    "    print(test_data.iloc[i])\n",
    "    print(\"______________________\")"
   ]
  },
  {
   "cell_type": "code",
   "execution_count": 512,
   "metadata": {},
   "outputs": [
    {
     "data": {
      "text/plain": [
       "array([28184, 21700, 17069,  2931,  8818, 13939,  1810,  9655, 20594,\n",
       "       13751,  1942, 14711, 15062, 31928, 17222,   205, 28120, 27231,\n",
       "       30373, 10814], dtype=int64)"
      ]
     },
     "execution_count": 512,
     "metadata": {},
     "output_type": "execute_result"
    }
   ],
   "source": [
    "indx_min[0:20]"
   ]
  },
  {
   "cell_type": "code",
   "execution_count": 513,
   "metadata": {},
   "outputs": [
    {
     "name": "stdout",
     "output_type": "stream",
     "text": [
      "name            VTech Communications Safe &amp; Sounds Full Co...\n",
      "review          This is my second video monitoring system, the...\n",
      "rating                                                          1\n",
      "review_clean    This is my second video monitoring system, the...\n",
      "sentiment                                                      -1\n",
      "Name: 155287, dtype: object\n",
      "______________________\n",
      "name            Levana Safe N'See Digital Video Baby Monitor w...\n",
      "review          This is the first review I have ever written o...\n",
      "rating                                                          1\n",
      "review_clean    This is the first review I have ever written o...\n",
      "sentiment                                                      -1\n",
      "Name: 120209, dtype: object\n",
      "______________________\n",
      "name            The First Years True Choice P400 Premium Digit...\n",
      "review          Note: we never installed batteries in these un...\n",
      "rating                                                          1\n",
      "review_clean    Note: we never installed batteries in these un...\n",
      "sentiment                                                      -1\n",
      "Name: 94560, dtype: object\n",
      "______________________\n",
      "name                  Fisher-Price Ocean Wonders Aquarium Bouncer\n",
      "review          We have not had ANY luck with Fisher-Price pro...\n",
      "rating                                                          2\n",
      "review_clean    We have not had ANY luck with Fisher-Price pro...\n",
      "sentiment                                                      -1\n",
      "Name: 16042, dtype: object\n",
      "______________________\n",
      "name            Adiri BPA Free Natural Nurser Ultimate Bottle ...\n",
      "review          I will try to write an objective review of the...\n",
      "rating                                                          2\n",
      "review_clean    I will try to write an objective review of the...\n",
      "sentiment                                                      -1\n",
      "Name: 48694, dtype: object\n",
      "______________________\n",
      "name               Safety 1st Exchangeable Tip 3 in 1 Thermometer\n",
      "review          I thought it sounded great to have different t...\n",
      "rating                                                          1\n",
      "review_clean    I thought it sounded great to have different t...\n",
      "sentiment                                                      -1\n",
      "Name: 77072, dtype: object\n",
      "______________________\n",
      "name                 Cosco Alpha Omega Elite Convertible Car Seat\n",
      "review          I bought this car seat after both seeing  the ...\n",
      "rating                                                          1\n",
      "review_clean    I bought this car seat after both seeing  the ...\n",
      "sentiment                                                      -1\n",
      "Name: 9915, dtype: object\n",
      "______________________\n",
      "name                          Safety 1st High-Def Digital Monitor\n",
      "review          We bought this baby monitor to replace a diffe...\n",
      "rating                                                          1\n",
      "review_clean    We bought this baby monitor to replace a diffe...\n",
      "sentiment                                                      -1\n",
      "Name: 53207, dtype: object\n",
      "______________________\n",
      "name            Motorola Digital Video Baby Monitor with Room ...\n",
      "review          DO NOT BUY THIS BABY MONITOR!I purchased this ...\n",
      "rating                                                          1\n",
      "review_clean    DO NOT BUY THIS BABY MONITOR!I purchased this ...\n",
      "sentiment                                                      -1\n",
      "Name: 113995, dtype: object\n",
      "______________________\n",
      "name                   Peg-Perego Tatamia High Chair, White Latte\n",
      "review          I can see why there are so many good reviews o...\n",
      "rating                                                          2\n",
      "review_clean    I can see why there are so many good reviews o...\n",
      "sentiment                                                      -1\n",
      "Name: 75994, dtype: object\n",
      "______________________\n",
      "name                            Philips AVENT Newborn Starter Set\n",
      "review          It's 3am in the morning and needless to say, t...\n",
      "rating                                                          1\n",
      "review_clean    It's 3am in the morning and needless to say, t...\n",
      "sentiment                                                      -1\n",
      "Name: 10677, dtype: object\n",
      "______________________\n",
      "name                        Cloth Diaper Sprayer--styles may vary\n",
      "review          I bought this sprayer out of desperation durin...\n",
      "rating                                                          1\n",
      "review_clean    I bought this sprayer out of desperation durin...\n",
      "sentiment                                                      -1\n",
      "Name: 81332, dtype: object\n",
      "______________________\n",
      "name                Thirsties Hemp Inserts 2 Pack, Small 6-18 Lbs\n",
      "review          My Experience: Babykicks Inserts failure vs RA...\n",
      "rating                                                          5\n",
      "review_clean    My Experience: Babykicks Inserts failure vs RA...\n",
      "sentiment                                                       1\n",
      "Name: 83234, dtype: object\n",
      "______________________\n",
      "name                 Baby Trend Inertia Infant Car Seat - Horizon\n",
      "review          I really wanted to love this seat; however, I ...\n",
      "rating                                                          1\n",
      "review_clean    I really wanted to love this seat; however, I ...\n",
      "sentiment                                                      -1\n",
      "Name: 176046, dtype: object\n",
      "______________________\n",
      "name                 One Step Ahead Hide-Away Extra Long Bed Rail\n",
      "review          I bought a brand new 56\" hide-away bed safety ...\n",
      "rating                                                          1\n",
      "review_clean    I bought a brand new 56\" hide-away bed safety ...\n",
      "sentiment                                                      -1\n",
      "Name: 95420, dtype: object\n",
      "______________________\n",
      "name                        Safety 1st Deluxe 4-in-1 Bath Station\n",
      "review          This item is junk.  I originally chose it beca...\n",
      "rating                                                          1\n",
      "review_clean    This item is junk.  I originally chose it beca...\n",
      "sentiment                                                      -1\n",
      "Name: 1116, dtype: object\n",
      "______________________\n",
      "name            VTech Communications Safe &amp; Sound Digital ...\n",
      "review          First, the distance on these are no more than ...\n",
      "rating                                                          1\n",
      "review_clean    First, the distance on these are no more than ...\n",
      "sentiment                                                      -1\n",
      "Name: 154878, dtype: object\n",
      "______________________\n",
      "name                             NUK Cook-n-Blend Baby Food Maker\n",
      "review          It thought this would be great. I did a lot of...\n",
      "rating                                                          1\n",
      "review_clean    It thought this would be great. I did a lot of...\n",
      "sentiment                                                      -1\n",
      "Name: 149987, dtype: object\n",
      "______________________\n",
      "name            Samsung SEW-3037W Wireless Pan Tilt Video Baby...\n",
      "review          Reviewers. You failed me!This thing worked for...\n",
      "rating                                                          1\n",
      "review_clean    Reviewers. You failed me!This thing worked for...\n",
      "sentiment                                                      -1\n",
      "Name: 167249, dtype: object\n",
      "______________________\n",
      "name                       Ellaroo Mei Tai Baby Carrier - Hershey\n",
      "review          This is basically an overpriced piece of fabri...\n",
      "rating                                                          1\n",
      "review_clean    This is basically an overpriced piece of fabri...\n",
      "sentiment                                                      -1\n",
      "Name: 59546, dtype: object\n",
      "______________________\n"
     ]
    }
   ],
   "source": [
    "for i in indx_min[0:20]:\n",
    "    print(test_data.iloc[i])\n",
    "    print(\"______________________\")"
   ]
  },
  {
   "cell_type": "code",
   "execution_count": null,
   "metadata": {},
   "outputs": [],
   "source": []
  }
 ],
 "metadata": {
  "kernelspec": {
   "display_name": "Python 3",
   "language": "python",
   "name": "python3"
  },
  "language_info": {
   "codemirror_mode": {
    "name": "ipython",
    "version": 3
   },
   "file_extension": ".py",
   "mimetype": "text/x-python",
   "name": "python",
   "nbconvert_exporter": "python",
   "pygments_lexer": "ipython3",
   "version": "3.7.0"
  }
 },
 "nbformat": 4,
 "nbformat_minor": 2
}
