{
 "cells": [
  {
   "cell_type": "code",
   "execution_count": 2,
   "metadata": {},
   "outputs": [],
   "source": [
    "import pandas as pd\n",
    "import matplotlib.pyplot as plt\n",
    "%matplotlib inline"
   ]
  },
  {
   "cell_type": "markdown",
   "metadata": {},
   "source": [
    "# Load music data"
   ]
  },
  {
   "cell_type": "code",
   "execution_count": 3,
   "metadata": {},
   "outputs": [
    {
     "data": {
      "text/html": [
       "<div>\n",
       "<style scoped>\n",
       "    .dataframe tbody tr th:only-of-type {\n",
       "        vertical-align: middle;\n",
       "    }\n",
       "\n",
       "    .dataframe tbody tr th {\n",
       "        vertical-align: top;\n",
       "    }\n",
       "\n",
       "    .dataframe thead th {\n",
       "        text-align: right;\n",
       "    }\n",
       "</style>\n",
       "<table border=\"1\" class=\"dataframe\">\n",
       "  <thead>\n",
       "    <tr style=\"text-align: right;\">\n",
       "      <th></th>\n",
       "      <th>user_id</th>\n",
       "      <th>song_id</th>\n",
       "      <th>listen_count</th>\n",
       "      <th>title</th>\n",
       "      <th>artist</th>\n",
       "      <th>song</th>\n",
       "    </tr>\n",
       "  </thead>\n",
       "  <tbody>\n",
       "    <tr>\n",
       "      <th>0</th>\n",
       "      <td>b80344d063b5ccb3212f76538f3d9e43d87dca9e</td>\n",
       "      <td>SOAKIMP12A8C130995</td>\n",
       "      <td>1</td>\n",
       "      <td>The Cove</td>\n",
       "      <td>Jack Johnson</td>\n",
       "      <td>The Cove - Jack Johnson</td>\n",
       "    </tr>\n",
       "    <tr>\n",
       "      <th>1</th>\n",
       "      <td>b80344d063b5ccb3212f76538f3d9e43d87dca9e</td>\n",
       "      <td>SOBBMDR12A8C13253B</td>\n",
       "      <td>2</td>\n",
       "      <td>Entre Dos Aguas</td>\n",
       "      <td>Paco De Lucia</td>\n",
       "      <td>Entre Dos Aguas - Paco De Lucia</td>\n",
       "    </tr>\n",
       "    <tr>\n",
       "      <th>2</th>\n",
       "      <td>b80344d063b5ccb3212f76538f3d9e43d87dca9e</td>\n",
       "      <td>SOBXHDL12A81C204C0</td>\n",
       "      <td>1</td>\n",
       "      <td>Stronger</td>\n",
       "      <td>Kanye West</td>\n",
       "      <td>Stronger - Kanye West</td>\n",
       "    </tr>\n",
       "    <tr>\n",
       "      <th>3</th>\n",
       "      <td>b80344d063b5ccb3212f76538f3d9e43d87dca9e</td>\n",
       "      <td>SOBYHAJ12A6701BF1D</td>\n",
       "      <td>1</td>\n",
       "      <td>Constellations</td>\n",
       "      <td>Jack Johnson</td>\n",
       "      <td>Constellations - Jack Johnson</td>\n",
       "    </tr>\n",
       "    <tr>\n",
       "      <th>4</th>\n",
       "      <td>b80344d063b5ccb3212f76538f3d9e43d87dca9e</td>\n",
       "      <td>SODACBL12A8C13C273</td>\n",
       "      <td>1</td>\n",
       "      <td>Learn To Fly</td>\n",
       "      <td>Foo Fighters</td>\n",
       "      <td>Learn To Fly - Foo Fighters</td>\n",
       "    </tr>\n",
       "  </tbody>\n",
       "</table>\n",
       "</div>"
      ],
      "text/plain": [
       "                                    user_id             song_id  listen_count  \\\n",
       "0  b80344d063b5ccb3212f76538f3d9e43d87dca9e  SOAKIMP12A8C130995             1   \n",
       "1  b80344d063b5ccb3212f76538f3d9e43d87dca9e  SOBBMDR12A8C13253B             2   \n",
       "2  b80344d063b5ccb3212f76538f3d9e43d87dca9e  SOBXHDL12A81C204C0             1   \n",
       "3  b80344d063b5ccb3212f76538f3d9e43d87dca9e  SOBYHAJ12A6701BF1D             1   \n",
       "4  b80344d063b5ccb3212f76538f3d9e43d87dca9e  SODACBL12A8C13C273             1   \n",
       "\n",
       "             title         artist                             song  \n",
       "0         The Cove   Jack Johnson          The Cove - Jack Johnson  \n",
       "1  Entre Dos Aguas  Paco De Lucia  Entre Dos Aguas - Paco De Lucia  \n",
       "2         Stronger     Kanye West            Stronger - Kanye West  \n",
       "3   Constellations   Jack Johnson    Constellations - Jack Johnson  \n",
       "4     Learn To Fly   Foo Fighters      Learn To Fly - Foo Fighters  "
      ]
     },
     "execution_count": 3,
     "metadata": {},
     "output_type": "execute_result"
    }
   ],
   "source": [
    "song_data=pd.read_csv('song_data.csv')\n",
    "song_data.head()"
   ]
  },
  {
   "cell_type": "code",
   "execution_count": 4,
   "metadata": {},
   "outputs": [
    {
     "data": {
      "text/plain": [
       "Index(['user_id', 'song_id', 'listen_count', 'title', 'artist', 'song'], dtype='object')"
      ]
     },
     "execution_count": 4,
     "metadata": {},
     "output_type": "execute_result"
    }
   ],
   "source": [
    "song_data.columns"
   ]
  },
  {
   "cell_type": "code",
   "execution_count": 5,
   "metadata": {},
   "outputs": [
    {
     "data": {
      "text/plain": [
       "user_id         1116609\n",
       "song_id         1116609\n",
       "listen_count    1116609\n",
       "title           1116609\n",
       "artist          1116609\n",
       "song            1116609\n",
       "dtype: int64"
      ]
     },
     "execution_count": 5,
     "metadata": {},
     "output_type": "execute_result"
    }
   ],
   "source": [
    "#total data\n",
    "song_data.count()"
   ]
  },
  {
   "cell_type": "markdown",
   "metadata": {},
   "source": [
    "### Count number of users"
   ]
  },
  {
   "cell_type": "code",
   "execution_count": 6,
   "metadata": {},
   "outputs": [],
   "source": [
    "users=song_data.user_id.unique()"
   ]
  },
  {
   "cell_type": "code",
   "execution_count": 7,
   "metadata": {},
   "outputs": [
    {
     "data": {
      "text/plain": [
       "66346"
      ]
     },
     "execution_count": 7,
     "metadata": {},
     "output_type": "execute_result"
    }
   ],
   "source": [
    "len(users)"
   ]
  },
  {
   "cell_type": "code",
   "execution_count": 8,
   "metadata": {},
   "outputs": [
    {
     "data": {
      "text/plain": [
       "listen_count\n",
       "920                Crack Under Pressure - Righteous Pigs\n",
       "796                    Paradise & Dreams - Darren Styles\n",
       "683                      You\\'re The One - Dwight Yoakam\n",
       "676          I\\'m On A Boat - The Lonely Island / T-Pain\n",
       "649                   Reelin\\' In The Years - Steely Dan\n",
       "605    Can\\'t Help But Wait (Album Version) - Trey Songz\n",
       "585                                The Quest - HYPOCRISY\n",
       "553                Fast Car (LP Version) - Tracy Chapman\n",
       "500                            Peace Train - Cat Stevens\n",
       "488                              Revelry - Kings Of Leon\n",
       "453    A Beggar On A Beach Of Gold - Mike And The Mec...\n",
       "446                      You\\'re The One - Dwight Yoakam\n",
       "431    Nine Times Out Of Ten (1998 Digital Remaster) ...\n",
       "422      It\\'s Raining Men (Radio Edit) - Geri Halliwell\n",
       "419                   Bird Song - Florence + The Machine\n",
       "416        Voices On A String (Album Version) - Thursday\n",
       "415                                  El Scorcho - Weezer\n",
       "413     Recado Falado (Metrô Da Saudade) - Alceu Valença\n",
       "401                         ..Come Around - Collie Buddz\n",
       "392                                         Undo - Björk\n",
       "383           Hounds of Love (new mix) - The Futureheads\n",
       "375                                 Caroline - CREMATORY\n",
       "372                        The Big Gundown - The Prodigy\n",
       "364                                  Time Bomb - Iration\n",
       "359                      You\\'re The One - Dwight Yoakam\n",
       "356       Officially Missing You (Radio Version) - Tamia\n",
       "353               Working With Homesick - Homesick James\n",
       "333    Two Is Better Than One - Boys Like Girls featu...\n",
       "330                               Bodies - Drowning Pool\n",
       "328                         It Was A Good Day - Ice Cube\n",
       "                             ...                        \n",
       "30               sillyworld (Album Version) - Stone Sour\n",
       "29          ¡Viva La Gloria! (Album Version) - Green Day\n",
       "28               paranoid android - Christopher O\\'Riley\n",
       "27               paranoid android - Christopher O\\'Riley\n",
       "26                \\'Till I Collapse - Eminem / Nate Dogg\n",
       "25                                  the Love Song - K-OS\n",
       "24                Zopf: Pigtail - Penguin Café Orchestra\n",
       "23               paranoid android - Christopher O\\'Riley\n",
       "22             teachme (Album Version) - Musiq Soulchild\n",
       "21                                  the Love Song - K-OS\n",
       "20               paranoid android - Christopher O\\'Riley\n",
       "19             teachme (Album Version) - Musiq Soulchild\n",
       "18                                  the Love Song - K-OS\n",
       "17               sillyworld (Album Version) - Stone Sour\n",
       "16             teachme (Album Version) - Musiq Soulchild\n",
       "15               sillyworld (Album Version) - Stone Sour\n",
       "14               sillyworld (Album Version) - Stone Sour\n",
       "13                                  the Love Song - K-OS\n",
       "12             teachme (Album Version) - Musiq Soulchild\n",
       "11          ¡Viva La Gloria! (Album Version) - Green Day\n",
       "10               ¿Lo Ves? [Piano Y Voz] - Alejandro Sanz\n",
       "9                ¿Lo Ves? [Piano Y Voz] - Alejandro Sanz\n",
       "8                                  Época - Gotan Project\n",
       "7                ¿Lo Ves? [Piano Y Voz] - Alejandro Sanz\n",
       "6                                  Época - Gotan Project\n",
       "5                                  Época - Gotan Project\n",
       "4                                  Época - Gotan Project\n",
       "3                                  Época - Gotan Project\n",
       "2                                  Época - Gotan Project\n",
       "1                                  Época - Gotan Project\n",
       "Name: song, Length: 276, dtype: object"
      ]
     },
     "execution_count": 8,
     "metadata": {},
     "output_type": "execute_result"
    }
   ],
   "source": [
    "song_data.groupby('listen_count').song.max().sort_index(ascending=False)"
   ]
  },
  {
   "cell_type": "code",
   "execution_count": 9,
   "metadata": {},
   "outputs": [
    {
     "data": {
      "text/plain": [
       "<matplotlib.axes._subplots.AxesSubplot at 0x28b1668b390>"
      ]
     },
     "execution_count": 9,
     "metadata": {},
     "output_type": "execute_result"
    },
    {
     "data": {
      "image/png": "[encoded data removed]",
      "text/plain": [
       "<Figure size 432x288 with 1 Axes>"
      ]
     },
     "metadata": {
      "needs_background": "light"
     },
     "output_type": "display_data"
    }
   ],
   "source": [
    "song_data.listen_count.plot.hist(bins=100)"
   ]
  },
  {
   "cell_type": "code",
   "execution_count": 19,
   "metadata": {},
   "outputs": [
    {
     "data": {
      "text/plain": [
       "1      623998\n",
       "2      169875\n",
       "3       78816\n",
       "5       56102\n",
       "4       46401\n",
       "6       26421\n",
       "7       18042\n",
       "8       13359\n",
       "10      11755\n",
       "9       10129\n",
       "11       7639\n",
       "12       6054\n",
       "13       5051\n",
       "15       4449\n",
       "14       4037\n",
       "16       3392\n",
       "17       2768\n",
       "18       2422\n",
       "20       2191\n",
       "19       2094\n",
       "21       1768\n",
       "22       1554\n",
       "23       1328\n",
       "24       1248\n",
       "25       1231\n",
       "26       1016\n",
       "27        891\n",
       "28        831\n",
       "29        739\n",
       "30        721\n",
       "        ...  \n",
       "199         1\n",
       "196         1\n",
       "192         1\n",
       "191         1\n",
       "190         1\n",
       "185         1\n",
       "183         1\n",
       "172         1\n",
       "171         1\n",
       "796         1\n",
       "225         1\n",
       "232         1\n",
       "292         1\n",
       "234         1\n",
       "286         1\n",
       "284         1\n",
       "283         1\n",
       "274         1\n",
       "272         1\n",
       "270         1\n",
       "265         1\n",
       "260         1\n",
       "259         1\n",
       "255         1\n",
       "254         1\n",
       "251         1\n",
       "247         1\n",
       "243         1\n",
       "235         1\n",
       "920         1\n",
       "Name: listen_count, Length: 276, dtype: int64"
      ]
     },
     "execution_count": 19,
     "metadata": {},
     "output_type": "execute_result"
    }
   ],
   "source": [
    "song_data.listen_count.value_counts()"
   ]
  },
  {
   "cell_type": "markdown",
   "metadata": {},
   "source": [
    "# Create a song recommender"
   ]
  },
  {
   "cell_type": "code",
   "execution_count": 10,
   "metadata": {},
   "outputs": [],
   "source": [
    "song_grouped=song_data.groupby('song').agg({'listen_count':'count'}).reset_index()"
   ]
  },
  {
   "cell_type": "code",
   "execution_count": 12,
   "metadata": {},
   "outputs": [],
   "source": [
    "grouped_sum=song_grouped['listen_count'].sum()"
   ]
  },
  {
   "cell_type": "code",
   "execution_count": 13,
   "metadata": {},
   "outputs": [],
   "source": [
    "song_grouped['percentage']=song_grouped['listen_count'].div(grouped_sum)*100"
   ]
  },
  {
   "cell_type": "code",
   "execution_count": null,
   "metadata": {},
   "outputs": [],
   "source": []
  }
 ],
 "metadata": {
  "kernelspec": {
   "display_name": "Python 3",
   "language": "python",
   "name": "python3"
  },
  "language_info": {
   "codemirror_mode": {
    "name": "ipython",
    "version": 3
   },
   "file_extension": ".py",
   "mimetype": "text/x-python",
   "name": "python",
   "nbconvert_exporter": "python",
   "pygments_lexer": "ipython3",
   "version": "3.6.7"
  }
 },
 "nbformat": 4,
 "nbformat_minor": 2
}
