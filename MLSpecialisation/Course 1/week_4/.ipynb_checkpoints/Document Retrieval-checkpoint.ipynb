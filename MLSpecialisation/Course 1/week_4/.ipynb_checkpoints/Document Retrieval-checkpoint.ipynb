{
 "cells": [
  {
   "cell_type": "code",
   "execution_count": 1,
   "metadata": {},
   "outputs": [],
   "source": [
    "import pandas as pd\n",
    "import numpy as np\n",
    "import re"
   ]
  },
  {
   "cell_type": "markdown",
   "metadata": {},
   "source": [
    "# Load some text data - from wikipedia,pages on people"
   ]
  },
  {
   "cell_type": "code",
   "execution_count": 2,
   "metadata": {},
   "outputs": [
    {
     "data": {
      "text/html": [
       "<div>\n",
       "<style scoped>\n",
       "    .dataframe tbody tr th:only-of-type {\n",
       "        vertical-align: middle;\n",
       "    }\n",
       "\n",
       "    .dataframe tbody tr th {\n",
       "        vertical-align: top;\n",
       "    }\n",
       "\n",
       "    .dataframe thead th {\n",
       "        text-align: right;\n",
       "    }\n",
       "</style>\n",
       "<table border=\"1\" class=\"dataframe\">\n",
       "  <thead>\n",
       "    <tr style=\"text-align: right;\">\n",
       "      <th></th>\n",
       "      <th>URI</th>\n",
       "      <th>name</th>\n",
       "      <th>text</th>\n",
       "    </tr>\n",
       "  </thead>\n",
       "  <tbody>\n",
       "    <tr>\n",
       "      <th>0</th>\n",
       "      <td>&lt;http://dbpedia.org/resource/Digby_Morrell&gt;</td>\n",
       "      <td>Digby Morrell</td>\n",
       "      <td>digby morrell born 10 october 1979 is a former...</td>\n",
       "    </tr>\n",
       "    <tr>\n",
       "      <th>1</th>\n",
       "      <td>&lt;http://dbpedia.org/resource/Alfred_J._Lewy&gt;</td>\n",
       "      <td>Alfred J. Lewy</td>\n",
       "      <td>alfred j lewy aka sandy lewy graduated from un...</td>\n",
       "    </tr>\n",
       "    <tr>\n",
       "      <th>2</th>\n",
       "      <td>&lt;http://dbpedia.org/resource/Harpdog_Brown&gt;</td>\n",
       "      <td>Harpdog Brown</td>\n",
       "      <td>harpdog brown is a singer and harmonica player...</td>\n",
       "    </tr>\n",
       "    <tr>\n",
       "      <th>3</th>\n",
       "      <td>&lt;http://dbpedia.org/resource/Franz_Rottensteiner&gt;</td>\n",
       "      <td>Franz Rottensteiner</td>\n",
       "      <td>franz rottensteiner born in waidmannsfeld lowe...</td>\n",
       "    </tr>\n",
       "    <tr>\n",
       "      <th>4</th>\n",
       "      <td>&lt;http://dbpedia.org/resource/G-Enka&gt;</td>\n",
       "      <td>G-Enka</td>\n",
       "      <td>henry krvits born 30 december 1974 in tallinn ...</td>\n",
       "    </tr>\n",
       "  </tbody>\n",
       "</table>\n",
       "</div>"
      ],
      "text/plain": [
       "                                                 URI                 name  \\\n",
       "0        <http://dbpedia.org/resource/Digby_Morrell>        Digby Morrell   \n",
       "1       <http://dbpedia.org/resource/Alfred_J._Lewy>       Alfred J. Lewy   \n",
       "2        <http://dbpedia.org/resource/Harpdog_Brown>        Harpdog Brown   \n",
       "3  <http://dbpedia.org/resource/Franz_Rottensteiner>  Franz Rottensteiner   \n",
       "4               <http://dbpedia.org/resource/G-Enka>               G-Enka   \n",
       "\n",
       "                                                text  \n",
       "0  digby morrell born 10 october 1979 is a former...  \n",
       "1  alfred j lewy aka sandy lewy graduated from un...  \n",
       "2  harpdog brown is a singer and harmonica player...  \n",
       "3  franz rottensteiner born in waidmannsfeld lowe...  \n",
       "4  henry krvits born 30 december 1974 in tallinn ...  "
      ]
     },
     "execution_count": 2,
     "metadata": {},
     "output_type": "execute_result"
    }
   ],
   "source": [
    "people=pd.read_csv('people_wiki.csv')\n",
    "people.head()"
   ]
  },
  {
   "cell_type": "code",
   "execution_count": 3,
   "metadata": {},
   "outputs": [
    {
     "data": {
      "text/plain": [
       "(Index(['URI', 'name', 'text'], dtype='object'), URI     59071\n",
       " name    59071\n",
       " text    59071\n",
       " dtype: int64)"
      ]
     },
     "execution_count": 3,
     "metadata": {},
     "output_type": "execute_result"
    }
   ],
   "source": [
    "people.columns, people.count()"
   ]
  },
  {
   "cell_type": "markdown",
   "metadata": {},
   "source": [
    "# Explore the dataset and checkout the text it contains"
   ]
  },
  {
   "cell_type": "code",
   "execution_count": 4,
   "metadata": {},
   "outputs": [],
   "source": [
    "obama=people[people['name']=='Barack Obama']"
   ]
  },
  {
   "cell_type": "code",
   "execution_count": 5,
   "metadata": {},
   "outputs": [
    {
     "data": {
      "text/plain": [
       "'barack hussein obama ii brk husen bm born august 4 1961 is the 44th and current president of the united states and the first african american to hold the office born in honolulu hawaii obama is a graduate of columbia university and harvard law school where he served as president of the harvard law review he was a community organizer in chicago before earning his law degree he worked as a civil rights attorney and taught constitutional law at the university of chicago law school from 1992 to 2004 he served three terms representing the 13th district in the illinois senate from 1997 to 2004 running unsuccessfully for the united states house of representatives in 2000in 2004 obama received national attention during his campaign to represent illinois in the united states senate with his victory in the march democratic party primary his keynote address at the democratic national convention in july and his election to the senate in november he began his presidential campaign in 2007 and after a close primary campaign against hillary rodham clinton in 2008 he won sufficient delegates in the democratic party primaries to receive the presidential nomination he then defeated republican nominee john mccain in the general election and was inaugurated as president on january 20 2009 nine months after his election obama was named the 2009 nobel peace prize laureateduring his first two years in office obama signed into law economic stimulus legislation in response to the great recession in the form of the american recovery and reinvestment act of 2009 and the tax relief unemployment insurance reauthorization and job creation act of 2010 other major domestic initiatives in his first term included the patient protection and affordable care act often referred to as obamacare the doddfrank wall street reform and consumer protection act and the dont ask dont tell repeal act of 2010 in foreign policy obama ended us military involvement in the iraq war increased us troop levels in afghanistan signed the new start arms control treaty with russia ordered us military involvement in libya and ordered the military operation that resulted in the death of osama bin laden in january 2011 the republicans regained control of the house of representatives as the democratic party lost a total of 63 seats and after a lengthy debate over federal spending and whether or not to raise the nations debt limit obama signed the budget control act of 2011 and the american taxpayer relief act of 2012obama was reelected president in november 2012 defeating republican nominee mitt romney and was sworn in for a second term on january 20 2013 during his second term obama has promoted domestic policies related to gun control in response to the sandy hook elementary school shooting and has called for full equality for lgbt americans while his administration has filed briefs which urged the supreme court to strike down the defense of marriage act of 1996 and californias proposition 8 as unconstitutional in foreign policy obama ordered us military involvement in iraq in response to gains made by the islamic state in iraq after the 2011 withdrawal from iraq continued the process of ending us combat operations in afghanistan and has sought to normalize us relations with cuba'"
      ]
     },
     "execution_count": 5,
     "metadata": {},
     "output_type": "execute_result"
    }
   ],
   "source": [
    "obama.text.values[0]"
   ]
  },
  {
   "cell_type": "code",
   "execution_count": 6,
   "metadata": {},
   "outputs": [],
   "source": [
    "#Limits the print on the screen\n",
    "pd.set_option('display.max_colwidth',100)"
   ]
  },
  {
   "cell_type": "code",
   "execution_count": null,
   "metadata": {},
   "outputs": [],
   "source": []
  },
  {
   "cell_type": "markdown",
   "metadata": {},
   "source": [
    "# Get the word counts for obama article"
   ]
  },
  {
   "cell_type": "code",
   "execution_count": 7,
   "metadata": {},
   "outputs": [
    {
     "data": {
      "text/plain": [
       "array('barack hussein obama ii brk husen bm born august 4 1961 is the 44th and current president of the united states and the first african american to hold the office born in honolulu hawaii obama is a graduate of columbia university and harvard law school where he served as president of the harvard law review he was a community organizer in chicago before earning his law degree he worked as a civil rights attorney and taught constitutional law at the university of chicago law school from 1992 to 2004 he served three terms representing the 13th district in the illinois senate from 1997 to 2004 running unsuccessfully for the united states house of representatives in 2000in 2004 obama received national attention during his campaign to represent illinois in the united states senate with his victory in the march democratic party primary his keynote address at the democratic national convention in july and his election to the senate in november he began his presidential campaign in 2007 and after a close primary campaign against hillary rodham clinton in 2008 he won sufficient delegates in the democratic party primaries to receive the presidential nomination he then defeated republican nominee john mccain in the general election and was inaugurated as president on january 20 2009 nine months after his election obama was named the 2009 nobel peace prize laureateduring his first two years in office obama signed into law economic stimulus legislation in response to the great recession in the form of the american recovery and reinvestment act of 2009 and the tax relief unemployment insurance reauthorization and job creation act of 2010 other major domestic initiatives in his first term included the patient protection and affordable care act often referred to as obamacare the doddfrank wall street reform and consumer protection act and the dont ask dont tell repeal act of 2010 in foreign policy obama ended us military involvement in the iraq war increased us troop levels in afghanistan signed the new start arms control treaty with russia ordered us military involvement in libya and ordered the military operation that resulted in the death of osama bin laden in january 2011 the republicans regained control of the house of representatives as the democratic party lost a total of 63 seats and after a lengthy debate over federal spending and whether or not to raise the nations debt limit obama signed the budget control act of 2011 and the american taxpayer relief act of 2012obama was reelected president in november 2012 defeating republican nominee mitt romney and was sworn in for a second term on january 20 2013 during his second term obama has promoted domestic policies related to gun control in response to the sandy hook elementary school shooting and has called for full equality for lgbt americans while his administration has filed briefs which urged the supreme court to strike down the defense of marriage act of 1996 and californias proposition 8 as unconstitutional in foreign policy obama ordered us military involvement in iraq in response to gains made by the islamic state in iraq after the 2011 withdrawal from iraq continued the process of ending us combat operations in afghanistan and has sought to normalize us relations with cuba',\n",
       "      dtype='<U3278')"
      ]
     },
     "execution_count": 7,
     "metadata": {},
     "output_type": "execute_result"
    }
   ],
   "source": [
    "myvec = np.vectorize(lambda x: \" \".join(x.split(' ')))\n",
    "myvec(obama.text.values[0])"
   ]
  },
  {
   "cell_type": "code",
   "execution_count": 204,
   "metadata": {},
   "outputs": [
    {
     "name": "stdout",
     "output_type": "stream",
     "text": [
      "the 40\n",
      "in 31\n",
      "and 21\n",
      "of 18\n",
      "to 14\n",
      "his 11\n",
      "obama 10\n",
      "act 8\n",
      "he 7\n",
      "a 7\n",
      "us 6\n",
      "law 6\n",
      "as 6\n",
      "was 5\n",
      "president 4\n",
      "military 4\n",
      "iraq 4\n",
      "has 4\n",
      "for 4\n",
      "democratic 4\n",
      "control 4\n",
      "after 4\n",
      "with 3\n",
      "united 3\n",
      "term 3\n",
      "states 3\n",
      "signed 3\n",
      "senate 3\n",
      "school 3\n",
      "response 3\n",
      "party 3\n",
      "ordered 3\n",
      "january 3\n",
      "involvement 3\n",
      "from 3\n",
      "first 3\n",
      "election 3\n",
      "campaign 3\n",
      "american 3\n",
      "university 2\n",
      "th 2\n",
      "served 2\n",
      "second 2\n",
      "republican 2\n",
      "representatives 2\n",
      "relief 2\n",
      "protection 2\n",
      "primary 2\n",
      "presidential 2\n",
      "policy 2\n",
      "on 2\n",
      "office 2\n",
      "november 2\n",
      "nominee 2\n",
      "national 2\n",
      "is 2\n",
      "illinois 2\n",
      "house 2\n",
      "harvard 2\n",
      "foreign 2\n",
      "during 2\n",
      "dont 2\n",
      "domestic 2\n",
      "chicago 2\n",
      "born 2\n",
      "at 2\n",
      "afghanistan 2\n",
      "years 1\n",
      "worked 1\n",
      "won 1\n",
      "withdrawal 1\n",
      "while 1\n",
      "which 1\n",
      "whether 1\n",
      "where 1\n",
      "war 1\n",
      "wall 1\n",
      "victory 1\n",
      "urged 1\n",
      "unsuccessfully 1\n",
      "unemployment 1\n",
      "unconstitutional 1\n",
      "two 1\n",
      "troop 1\n",
      "treaty 1\n",
      "total 1\n",
      "three 1\n",
      "then 1\n",
      "that 1\n",
      "terms 1\n",
      "tell 1\n",
      "taxpayer 1\n",
      "tax 1\n",
      "taught 1\n",
      "sworn 1\n",
      "supreme 1\n",
      "sufficient 1\n",
      "strike 1\n",
      "street 1\n",
      "stimulus 1\n",
      "state 1\n",
      "start 1\n",
      "spending 1\n",
      "sought 1\n",
      "shooting 1\n",
      "seats 1\n",
      "sandy 1\n",
      "russia 1\n",
      "running 1\n",
      "romney 1\n",
      "rodham 1\n",
      "rights 1\n",
      "review 1\n",
      "resulted 1\n",
      "republicans 1\n",
      "representing 1\n",
      "represent 1\n",
      "repeal 1\n",
      "relations 1\n",
      "related 1\n",
      "reinvestment 1\n",
      "regained 1\n",
      "reform 1\n",
      "referred 1\n",
      "reelected 1\n",
      "recovery 1\n",
      "recession 1\n",
      "received 1\n",
      "receive 1\n",
      "reauthorization 1\n",
      "raise 1\n",
      "proposition 1\n",
      "promoted 1\n",
      "process 1\n",
      "prize 1\n",
      "primaries 1\n",
      "policies 1\n",
      "peace 1\n",
      "patient 1\n",
      "over 1\n",
      "other 1\n",
      "osama 1\n",
      "organizer 1\n",
      "or 1\n",
      "operations 1\n",
      "operation 1\n",
      "often 1\n",
      "obamacare 1\n",
      "not 1\n",
      "normalize 1\n",
      "nomination 1\n",
      "nobel 1\n",
      "nine 1\n",
      "new 1\n",
      "nations 1\n",
      "named 1\n",
      "months 1\n",
      "mitt 1\n",
      "mccain 1\n",
      "marriage 1\n",
      "march 1\n",
      "major 1\n",
      "made 1\n",
      "lost 1\n",
      "limit 1\n",
      "libya 1\n",
      "lgbt 1\n",
      "levels 1\n",
      "lengthy 1\n",
      "legislation 1\n",
      "laureateduring 1\n",
      "laden 1\n",
      "keynote 1\n",
      "july 1\n",
      "john 1\n",
      "job 1\n",
      "islamic 1\n",
      "into 1\n",
      "insurance 1\n",
      "initiatives 1\n",
      "increased 1\n",
      "included 1\n",
      "inaugurated 1\n",
      "ii 1\n",
      "hussein 1\n",
      "husen 1\n",
      "hook 1\n",
      "honolulu 1\n",
      "hold 1\n",
      "hillary 1\n",
      "hawaii 1\n",
      "gun 1\n",
      "great 1\n",
      "graduate 1\n",
      "general 1\n",
      "gains 1\n",
      "full 1\n",
      "form 1\n",
      "filed 1\n",
      "federal 1\n",
      "equality 1\n",
      "ending 1\n",
      "ended 1\n",
      "elementary 1\n",
      "economic 1\n",
      "earning 1\n",
      "down 1\n",
      "doddfrank 1\n",
      "district 1\n",
      "delegates 1\n",
      "degree 1\n",
      "defense 1\n",
      "defeating 1\n",
      "defeated 1\n",
      "debt 1\n",
      "debate 1\n",
      "death 1\n",
      "current 1\n",
      "cuba 1\n",
      "creation 1\n",
      "court 1\n",
      "convention 1\n",
      "continued 1\n",
      "consumer 1\n",
      "constitutional 1\n",
      "community 1\n",
      "combat 1\n",
      "columbia 1\n",
      "close 1\n",
      "clinton 1\n",
      "civil 1\n",
      "care 1\n",
      "called 1\n",
      "californias 1\n",
      "by 1\n",
      "budget 1\n",
      "brk 1\n",
      "briefs 1\n",
      "bm 1\n",
      "bin 1\n",
      "began 1\n",
      "before 1\n",
      "barack 1\n",
      "august 1\n",
      "attorney 1\n",
      "attention 1\n",
      "ask 1\n",
      "arms 1\n",
      "americans 1\n",
      "against 1\n",
      "african 1\n",
      "affordable 1\n",
      "administration 1\n",
      "address 1\n"
     ]
    }
   ],
   "source": [
    "word_count={}\n",
    "x=obama.text.values[0].split()\n",
    "for word in x:\n",
    "    if word not in word_count:\n",
    "        word_count[word]=1\n",
    "    else:\n",
    "        word_count[word]+=1\n",
    "for key,value in sorted(word_count.items(),key=lambda item:(item[1],item[0]),reverse=True):\n",
    "    print(\"%s %s\"%(key,word_count[key]))"
   ]
  },
  {
   "cell_type": "code",
   "execution_count": null,
   "metadata": {},
   "outputs": [],
   "source": []
  },
  {
   "cell_type": "markdown",
   "metadata": {},
   "source": [
    "# Data cleaning and preprocessing"
   ]
  },
  {
   "cell_type": "code",
   "execution_count": 10,
   "metadata": {},
   "outputs": [],
   "source": [
    "def pre_process(text):\n",
    "    #everything will be converted to lower case\n",
    "    text=text.lower()\n",
    "    \n",
    "    #remove tags\n",
    "    text=re.sub(\"&lt;/?.*?&gt;\",\"&lt;&gt; \",text)\n",
    "    \n",
    "    #remove special characters and digits\n",
    "    text=re.sub(\"(\\\\d|\\\\W)+\",\" \",text)\n",
    "    \n",
    "    return text\n"
   ]
  },
  {
   "cell_type": "code",
   "execution_count": 11,
   "metadata": {
    "scrolled": true
   },
   "outputs": [
    {
     "name": "stderr",
     "output_type": "stream",
     "text": [
      "C:\\Users\\733387\\AppData\\Local\\Continuum\\anaconda3\\lib\\site-packages\\ipykernel_launcher.py:1: SettingWithCopyWarning: \n",
      "A value is trying to be set on a copy of a slice from a DataFrame.\n",
      "Try using .loc[row_indexer,col_indexer] = value instead\n",
      "\n",
      "See the caveats in the documentation: http://pandas.pydata.org/pandas-docs/stable/indexing.html#indexing-view-versus-copy\n",
      "  \"\"\"Entry point for launching an IPython kernel.\n"
     ]
    }
   ],
   "source": [
    "obama['text']=obama['text'].apply(lambda x:pre_process(x))"
   ]
  },
  {
   "cell_type": "code",
   "execution_count": 12,
   "metadata": {},
   "outputs": [
    {
     "data": {
      "text/plain": [
       "35817    barack hussein obama ii brk husen bm born august is the th and current president of the united s...\n",
       "Name: text, dtype: object"
      ]
     },
     "execution_count": 12,
     "metadata": {},
     "output_type": "execute_result"
    }
   ],
   "source": [
    "obama['text']"
   ]
  },
  {
   "cell_type": "markdown",
   "metadata": {},
   "source": [
    "#### Identifying stop words"
   ]
  },
  {
   "cell_type": "code",
   "execution_count": 15,
   "metadata": {},
   "outputs": [],
   "source": [
    "import nltk\n",
    "#nltk.download('stopwords')\n",
    "from nltk.corpus import stopwords\n",
    "en_stops=stopwords.words('english')\n"
   ]
  },
  {
   "cell_type": "markdown",
   "metadata": {},
   "source": [
    "## Creating Vocabulary and Word Counts for IDF"
   ]
  },
  {
   "cell_type": "code",
   "execution_count": 197,
   "metadata": {},
   "outputs": [],
   "source": [
    "from sklearn.feature_extraction.text import CountVectorizer\n",
    "cv=CountVectorizer(stop_words=en_stops)\n",
    "cv1=CountVectorizer()"
   ]
  },
  {
   "cell_type": "code",
   "execution_count": 199,
   "metadata": {},
   "outputs": [
    {
     "data": {
      "text/plain": [
       "<59071x499850 sparse matrix of type '<class 'numpy.int64'>'\n",
       "\twith 9625123 stored elements in Compressed Sparse Row format>"
      ]
     },
     "execution_count": 199,
     "metadata": {},
     "output_type": "execute_result"
    }
   ],
   "source": [
    "people['text']=people.text.apply(lambda x : pre_process(x))\n",
    "#CREATES THE VOCABULARY AND RETURNS A TERM-DOCUMENT MATRIX\n",
    "word_count_vector=cv.fit_transform(people.text.values)\n",
    "cv1.fit_transform(people.text.values)"
   ]
  },
  {
   "cell_type": "code",
   "execution_count": 111,
   "metadata": {},
   "outputs": [
    {
     "data": {
      "text/plain": [
       "['digby',\n",
       " 'morrell',\n",
       " 'born',\n",
       " 'october',\n",
       " 'former',\n",
       " 'australian',\n",
       " 'rules',\n",
       " 'footballer',\n",
       " 'played',\n",
       " 'kangaroos',\n",
       " 'carlton',\n",
       " 'football',\n",
       " 'league',\n",
       " 'aflfrom',\n",
       " 'western',\n",
       " 'australia',\n",
       " 'early',\n",
       " 'senior',\n",
       " 'west',\n",
       " 'perth',\n",
       " 'game',\n",
       " 'career',\n",
       " 'falcons',\n",
       " 'spanned',\n",
       " 'clubs',\n",
       " 'leading',\n",
       " 'goalkicker',\n",
       " 'age',\n",
       " 'recruited',\n",
       " 'club',\n",
       " 'third',\n",
       " 'round',\n",
       " 'selection',\n",
       " 'afl',\n",
       " 'rookie',\n",
       " 'draft',\n",
       " 'forward',\n",
       " 'twice',\n",
       " 'kicked',\n",
       " 'five',\n",
       " 'goals',\n",
       " 'time',\n",
       " 'first',\n",
       " 'losing',\n",
       " 'cause',\n",
       " 'sydney',\n",
       " 'following',\n",
       " 'season',\n",
       " 'drawn',\n",
       " 'brisbaneafter',\n",
       " 'traded',\n",
       " 'along',\n",
       " 'david',\n",
       " 'teague',\n",
       " 'exchange',\n",
       " 'corey',\n",
       " 'mckernan',\n",
       " 'games',\n",
       " 'blues',\n",
       " 'delisted',\n",
       " 'end',\n",
       " 'continued',\n",
       " 'play',\n",
       " 'victorian',\n",
       " 'vfl',\n",
       " 'northern',\n",
       " 'bullants',\n",
       " 'carltons',\n",
       " 'vflaffiliate',\n",
       " 'acted',\n",
       " 'playing',\n",
       " 'assistant',\n",
       " 'coach',\n",
       " 'shifted',\n",
       " 'box',\n",
       " 'hill',\n",
       " 'hawks',\n",
       " 'retiring',\n",
       " 'strathmore',\n",
       " 'essendon',\n",
       " 'district',\n",
       " 'premier',\n",
       " 'division',\n",
       " 'premiership',\n",
       " 'since',\n",
       " 'coached',\n",
       " 'coburg',\n",
       " 'also',\n",
       " 'edflhe',\n",
       " 'currently',\n",
       " 'teaches',\n",
       " 'physical',\n",
       " 'education',\n",
       " 'parade',\n",
       " 'college',\n",
       " 'melbourne',\n",
       " 'alfred',\n",
       " 'lewy',\n",
       " 'aka',\n",
       " 'sandy',\n",
       " 'graduated',\n",
       " 'university',\n",
       " 'chicago',\n",
       " 'studying',\n",
       " 'psychiatry',\n",
       " 'pharmacology',\n",
       " 'ophthalmology',\n",
       " 'full',\n",
       " 'professor',\n",
       " 'vicechair',\n",
       " 'department',\n",
       " 'ohsu',\n",
       " 'oregon',\n",
       " 'health',\n",
       " 'science',\n",
       " 'holds',\n",
       " 'md',\n",
       " 'phd',\n",
       " 'prior',\n",
       " 'moving',\n",
       " 'national',\n",
       " 'institute',\n",
       " 'mental',\n",
       " 'nimh',\n",
       " 'bethesda',\n",
       " 'maryland',\n",
       " 'working',\n",
       " 'colleague',\n",
       " 'thomas',\n",
       " 'wehr',\n",
       " 'worked',\n",
       " 'closely',\n",
       " 'robert',\n",
       " 'sack',\n",
       " 'december',\n",
       " 'publications',\n",
       " 'available',\n",
       " 'pubmed',\n",
       " 'describes',\n",
       " 'research',\n",
       " 'follows',\n",
       " 'laboratory',\n",
       " 'studies',\n",
       " 'chronobiologic',\n",
       " 'sleep',\n",
       " 'mood',\n",
       " 'disorders',\n",
       " 'include',\n",
       " 'winter',\n",
       " 'depression',\n",
       " 'jet',\n",
       " 'lag',\n",
       " 'maladaptation',\n",
       " 'shift',\n",
       " 'work',\n",
       " 'certain',\n",
       " 'types',\n",
       " 'disturbances',\n",
       " 'relying',\n",
       " 'precise',\n",
       " 'assay',\n",
       " 'plasma',\n",
       " 'melatonin',\n",
       " 'hormone',\n",
       " 'clearly',\n",
       " 'defined',\n",
       " 'hour',\n",
       " 'pattern',\n",
       " 'secretion',\n",
       " 'biological',\n",
       " 'rhythm',\n",
       " 'assessed',\n",
       " 'treatment',\n",
       " 'monitored',\n",
       " 'current',\n",
       " 'focused',\n",
       " 'developing',\n",
       " 'bright',\n",
       " 'light',\n",
       " 'exposure',\n",
       " 'administration',\n",
       " 'modalities',\n",
       " 'must',\n",
       " 'precisely',\n",
       " 'scheduled',\n",
       " 'morning',\n",
       " 'evening',\n",
       " 'circadian',\n",
       " 'phaseadvance',\n",
       " 'shifts',\n",
       " 'phasedelay',\n",
       " 'totally',\n",
       " 'blind',\n",
       " 'individuals',\n",
       " 'rhythms',\n",
       " 'drifting',\n",
       " 'later',\n",
       " 'day',\n",
       " 'unless',\n",
       " 'take',\n",
       " 'capsule',\n",
       " 'every',\n",
       " 'harpdog',\n",
       " 'brown',\n",
       " 'singer',\n",
       " 'harmonica',\n",
       " 'player',\n",
       " 'active',\n",
       " 'canadas',\n",
       " 'scene',\n",
       " 'hailing',\n",
       " 'vancouver',\n",
       " 'crossed',\n",
       " 'tens',\n",
       " 'thousands',\n",
       " 'miles',\n",
       " 'dates',\n",
       " 'festivals',\n",
       " 'canada',\n",
       " 'northwestern',\n",
       " 'united',\n",
       " 'states',\n",
       " 'germanyover',\n",
       " 'years',\n",
       " 'issued',\n",
       " 'seven',\n",
       " 'cds',\n",
       " 'home',\n",
       " 'harp',\n",
       " 'muddy',\n",
       " 'award',\n",
       " 'best',\n",
       " 'nw',\n",
       " 'release',\n",
       " 'cascade',\n",
       " 'association',\n",
       " 'portland',\n",
       " 'well',\n",
       " 'year',\n",
       " 'nominated',\n",
       " 'canadian',\n",
       " 'juno',\n",
       " 'bluesgospel',\n",
       " 'recording',\n",
       " 'teamed',\n",
       " 'graham',\n",
       " 'guest',\n",
       " 'piano',\n",
       " 'cd',\n",
       " 'naturally',\n",
       " 'voted',\n",
       " 'album',\n",
       " 'lemon',\n",
       " 'surveybrown',\n",
       " 'tours',\n",
       " 'extensively',\n",
       " 'guitarist',\n",
       " 'arthur',\n",
       " 'edmonds',\n",
       " 'performing',\n",
       " 'electric',\n",
       " 'mid',\n",
       " 'either',\n",
       " 'duo',\n",
       " 'band',\n",
       " 'juggles',\n",
       " 'combos',\n",
       " 'many',\n",
       " 'venues',\n",
       " 'big',\n",
       " 'small',\n",
       " 'leads',\n",
       " 'gutsy',\n",
       " 'traditional',\n",
       " 'released',\n",
       " 'comprising',\n",
       " 'mainly',\n",
       " 'original',\n",
       " 'songs',\n",
       " 'classic',\n",
       " 'covers',\n",
       " 'influential',\n",
       " 'promoter',\n",
       " 'broadcaster',\n",
       " 'holger',\n",
       " 'petersen',\n",
       " 'called',\n",
       " 'browns',\n",
       " 'albumhe',\n",
       " 'awarded',\n",
       " 'maple',\n",
       " 'toronto',\n",
       " 'honored',\n",
       " 'life',\n",
       " 'membership',\n",
       " 'hamilton',\n",
       " 'society',\n",
       " 'franz',\n",
       " 'rottensteiner',\n",
       " 'waidmannsfeld',\n",
       " 'lower',\n",
       " 'austria',\n",
       " 'january',\n",
       " 'austrian',\n",
       " 'publisher',\n",
       " 'critic',\n",
       " 'fields',\n",
       " 'fiction',\n",
       " 'fantasticrottensteiner',\n",
       " 'studied',\n",
       " 'journalism',\n",
       " 'english',\n",
       " 'history',\n",
       " 'vienna',\n",
       " 'receiving',\n",
       " 'doctorate',\n",
       " 'served',\n",
       " 'fifteen',\n",
       " 'librarian',\n",
       " 'editor',\n",
       " 'sterreichisches',\n",
       " 'institut',\n",
       " 'fr',\n",
       " 'bauforschung',\n",
       " 'addition',\n",
       " 'produced',\n",
       " 'number',\n",
       " 'translations',\n",
       " 'german',\n",
       " 'sf',\n",
       " 'authors',\n",
       " 'including',\n",
       " 'herbert',\n",
       " 'franke',\n",
       " 'stanislaw',\n",
       " 'lem',\n",
       " 'philip',\n",
       " 'dick',\n",
       " 'kobo',\n",
       " 'abe',\n",
       " 'cordwainer',\n",
       " 'smith',\n",
       " 'brian',\n",
       " 'aldiss',\n",
       " 'strugatski',\n",
       " 'brothersin',\n",
       " 'new',\n",
       " 'york',\n",
       " 'anthology',\n",
       " 'view',\n",
       " 'another',\n",
       " 'shore',\n",
       " 'european',\n",
       " 'introduced',\n",
       " 'continental',\n",
       " 'englishreading',\n",
       " 'public',\n",
       " 'josef',\n",
       " 'nesvadba',\n",
       " 'gerard',\n",
       " 'klein',\n",
       " 'jeanpierre',\n",
       " 'andrevonthe',\n",
       " 'saw',\n",
       " 'start',\n",
       " 'series',\n",
       " 'die',\n",
       " 'phantastischen',\n",
       " 'romane',\n",
       " 'republished',\n",
       " 'works',\n",
       " 'lesser',\n",
       " 'betterknown',\n",
       " 'writers',\n",
       " 'ones',\n",
       " 'ending',\n",
       " 'total',\n",
       " 'volumes',\n",
       " 'brought',\n",
       " 'trnaslations',\n",
       " 'wellss',\n",
       " 'eighteen',\n",
       " 'seriesrottensteiner',\n",
       " 'provoked',\n",
       " 'controversy',\n",
       " 'negative',\n",
       " 'assessment',\n",
       " 'american',\n",
       " 'matters',\n",
       " 'highest',\n",
       " 'achievements',\n",
       " 'us',\n",
       " 'yet',\n",
       " 'produce',\n",
       " 'figure',\n",
       " 'comparable',\n",
       " 'hg',\n",
       " 'wells',\n",
       " 'olaf',\n",
       " 'stapledon',\n",
       " 'karel',\n",
       " 'apek',\n",
       " 'stanisaw',\n",
       " 'describedroger',\n",
       " 'zelazny',\n",
       " 'barry',\n",
       " 'malzberg',\n",
       " 'silverberg',\n",
       " 'producing',\n",
       " 'travesties',\n",
       " 'stated',\n",
       " 'asimov',\n",
       " 'typical',\n",
       " 'nonwriter',\n",
       " 'heinlein',\n",
       " 'andersonare',\n",
       " 'banal',\n",
       " 'however',\n",
       " 'praised',\n",
       " 'listing',\n",
       " 'one',\n",
       " 'greatest',\n",
       " 'advisor',\n",
       " 'suhrkamp',\n",
       " 'verlags',\n",
       " 'phantastische',\n",
       " 'bibliothek',\n",
       " 'three',\n",
       " 'hundred',\n",
       " 'books',\n",
       " 'edited',\n",
       " 'fifty',\n",
       " 'anthologies',\n",
       " 'two',\n",
       " 'illustrated',\n",
       " 'book',\n",
       " 'und',\n",
       " 'fantasy',\n",
       " 'numerous',\n",
       " 'reference',\n",
       " 'close',\n",
       " 'promotion',\n",
       " 'factor',\n",
       " 'recognition',\n",
       " 'latter',\n",
       " 'statesrottensteiner',\n",
       " 'quarber',\n",
       " 'merkur',\n",
       " 'language',\n",
       " 'critical',\n",
       " 'journal',\n",
       " 'occasion',\n",
       " 'hundredth',\n",
       " 'special',\n",
       " 'kurdlawitzpreis',\n",
       " 'henry',\n",
       " 'krvits',\n",
       " 'tallinn',\n",
       " 'better',\n",
       " 'known',\n",
       " 'stagename',\n",
       " 'genka',\n",
       " 'estonian',\n",
       " 'rapper',\n",
       " 'record',\n",
       " 'producergenka',\n",
       " 'started',\n",
       " 'rapping',\n",
       " 'revo',\n",
       " 'dj',\n",
       " 'paul',\n",
       " 'oja',\n",
       " 'genkas',\n",
       " 'schoolmate',\n",
       " 'together',\n",
       " 'toe',\n",
       " 'tag',\n",
       " 'real',\n",
       " 'kuhnja',\n",
       " 'homophobes',\n",
       " 'next',\n",
       " 'joined',\n",
       " 'rap',\n",
       " 'group',\n",
       " 'arhm',\n",
       " 'went',\n",
       " 'vacation',\n",
       " 'making',\n",
       " 'solo',\n",
       " 'famous',\n",
       " 'hit',\n",
       " 'rapped',\n",
       " 'droopy',\n",
       " 'came',\n",
       " 'back',\n",
       " 'tour',\n",
       " 'second',\n",
       " 'studio',\n",
       " 'legendaarne',\n",
       " 'legendary',\n",
       " 'consisted',\n",
       " 'pankrot',\n",
       " 'bankruptcy',\n",
       " 'leegion',\n",
       " 'palmisaar',\n",
       " 'palm',\n",
       " 'island',\n",
       " 'tugitooli',\n",
       " 'gangster',\n",
       " 'armchair',\n",
       " 'gangstergenka',\n",
       " 'company',\n",
       " 'records',\n",
       " 'warmup',\n",
       " 'performers',\n",
       " 'cent',\n",
       " 'europe',\n",
       " 'promo',\n",
       " 'curtis',\n",
       " 'sam',\n",
       " 'henderson',\n",
       " 'cartoonist',\n",
       " 'writer',\n",
       " 'expert',\n",
       " 'comedy',\n",
       " 'historyhenderson',\n",
       " 'woodstock',\n",
       " 'attended',\n",
       " 'boiceville',\n",
       " 'yorks',\n",
       " 'onteora',\n",
       " 'high',\n",
       " 'school',\n",
       " 'graduating',\n",
       " 'visual',\n",
       " 'arts',\n",
       " 'city',\n",
       " 'selfpublishing',\n",
       " 'xeroxed',\n",
       " 'minicomics',\n",
       " 'midtolate',\n",
       " 'drew',\n",
       " 'published',\n",
       " 'comic',\n",
       " 'captain',\n",
       " 'spaz',\n",
       " 'friend',\n",
       " 'bobby',\n",
       " 'weiss',\n",
       " 'ended',\n",
       " 'busy',\n",
       " 'featuring',\n",
       " 'character',\n",
       " 'monroe',\n",
       " 'simmons',\n",
       " 'began',\n",
       " 'bestknown',\n",
       " 'title',\n",
       " 'magic',\n",
       " 'whistle',\n",
       " 'alternative',\n",
       " 'comics',\n",
       " 'wordless',\n",
       " 'strip',\n",
       " 'heard',\n",
       " 'starring',\n",
       " 'pink',\n",
       " 'man',\n",
       " 'red',\n",
       " 'bear',\n",
       " 'nickelodeon',\n",
       " 'magazine',\n",
       " 'magazines',\n",
       " 'longestrunning',\n",
       " 'collection',\n",
       " 'due',\n",
       " 'review',\n",
       " 'bigger',\n",
       " 'larger',\n",
       " 'san',\n",
       " 'antonio',\n",
       " 'expressnews',\n",
       " 'wrote',\n",
       " 'hendersons',\n",
       " 'crude',\n",
       " 'blobby',\n",
       " 'little',\n",
       " 'scratchings',\n",
       " 'funniest',\n",
       " 'junk',\n",
       " 'turned',\n",
       " 'harvey',\n",
       " 'awards',\n",
       " 'humor',\n",
       " 'writing',\n",
       " 'storyboard',\n",
       " 'directing',\n",
       " 'spongebob',\n",
       " 'squarepants',\n",
       " 'earned',\n",
       " 'nomination',\n",
       " 'animated',\n",
       " 'program',\n",
       " 'programming',\n",
       " 'less',\n",
       " 'th',\n",
       " 'emmy',\n",
       " 'awardshis',\n",
       " 'earliest',\n",
       " 'reprinted',\n",
       " 'contained',\n",
       " 'toilets',\n",
       " 'penises',\n",
       " 'sic',\n",
       " 'asses',\n",
       " 'lives',\n",
       " 'hometown',\n",
       " 'yorksince',\n",
       " 'march',\n",
       " 'weekly',\n",
       " 'niblit',\n",
       " 'aaron',\n",
       " 'lacrate',\n",
       " 'music',\n",
       " 'producer',\n",
       " 'artist',\n",
       " 'fashion',\n",
       " 'designer',\n",
       " 'milkcrate',\n",
       " 'clothing',\n",
       " 'film',\n",
       " 'director',\n",
       " 'baltimore',\n",
       " 'grew',\n",
       " 'highlandtown',\n",
       " 'east',\n",
       " 'baltimoreaaron',\n",
       " 'credited',\n",
       " 'popularizing',\n",
       " 'culture',\n",
       " 'world',\n",
       " 'wide',\n",
       " 'level',\n",
       " 'via',\n",
       " 'ever',\n",
       " 'platinum',\n",
       " 'pop',\n",
       " 'star',\n",
       " 'dizzee',\n",
       " 'rascals',\n",
       " 'song',\n",
       " 'road',\n",
       " 'ragehbo',\n",
       " 'commissioned',\n",
       " 'athletics',\n",
       " 'create',\n",
       " 'official',\n",
       " 'range',\n",
       " 'based',\n",
       " 'cable',\n",
       " 'television',\n",
       " 'wire',\n",
       " 'hbo',\n",
       " 'collaborated',\n",
       " 'streetwear',\n",
       " 'baltimores',\n",
       " 'brandaaron',\n",
       " 'productions',\n",
       " 'success',\n",
       " 'lily',\n",
       " 'allen',\n",
       " 'amanda',\n",
       " 'blank',\n",
       " 'spank',\n",
       " 'rock',\n",
       " 'mndr',\n",
       " 'eliza',\n",
       " 'doolittleat',\n",
       " 'experimenting',\n",
       " 'diy',\n",
       " 'djing',\n",
       " 'nightclubs',\n",
       " 'house',\n",
       " 'parties',\n",
       " 'graffiti',\n",
       " 'even',\n",
       " 'custom',\n",
       " 'tshirts',\n",
       " 'basement',\n",
       " 'created',\n",
       " 'mixtapes',\n",
       " 'sold',\n",
       " 'throughout',\n",
       " 'youngest',\n",
       " 'attending',\n",
       " 'syracuse',\n",
       " 'took',\n",
       " 'campus',\n",
       " 'spent',\n",
       " 'summers',\n",
       " 'interning',\n",
       " 'def',\n",
       " 'jam',\n",
       " 'recordings',\n",
       " 'payday',\n",
       " 'rocafella',\n",
       " 'helping',\n",
       " 'launch',\n",
       " 'jayzs',\n",
       " 'reasonable',\n",
       " 'doubt',\n",
       " 'vital',\n",
       " 'role',\n",
       " 'hard',\n",
       " 'knock',\n",
       " 'exclusive',\n",
       " 'jay',\n",
       " 'fade',\n",
       " 'black',\n",
       " 'collaboration',\n",
       " 'tshirtin',\n",
       " 'sponsored',\n",
       " 'highly',\n",
       " 'successful',\n",
       " 'live',\n",
       " 'shows',\n",
       " 'nyc',\n",
       " 'nightclub',\n",
       " 'tramps',\n",
       " 'eminems',\n",
       " 'show',\n",
       " 'tribe',\n",
       " 'quest',\n",
       " 'rakim',\n",
       " 'slick',\n",
       " 'ricks',\n",
       " 'upon',\n",
       " 'prison',\n",
       " 'outkast',\n",
       " 'wutang',\n",
       " 'clan',\n",
       " 'epmd',\n",
       " 'ultramagnetic',\n",
       " 'mcs',\n",
       " 'historical',\n",
       " 'performanceslacrate',\n",
       " 'remixed',\n",
       " 'major',\n",
       " 'label',\n",
       " 'madonna',\n",
       " 'gorillaz',\n",
       " 'soulja',\n",
       " 'boy',\n",
       " 'tell',\n",
       " 'em',\n",
       " 'rascal',\n",
       " 'young',\n",
       " 'mc',\n",
       " 'cool',\n",
       " 'kids',\n",
       " 'tracks',\n",
       " 'lacrates',\n",
       " 'bmore',\n",
       " 'gutter',\n",
       " 'used',\n",
       " 'marc',\n",
       " 'jacobs',\n",
       " 'showlacrate',\n",
       " 'toured',\n",
       " 'mark',\n",
       " 'ronson',\n",
       " 'recently',\n",
       " 'kanye',\n",
       " 'developed',\n",
       " 'specialedition',\n",
       " 'collaborations',\n",
       " 'vans',\n",
       " 'colette',\n",
       " 'paris',\n",
       " 'jayz',\n",
       " 'cashmere',\n",
       " 'king',\n",
       " 'lucien',\n",
       " 'pellatfinet',\n",
       " 'cocacola',\n",
       " 'delicious',\n",
       " 'vinyl',\n",
       " 'dazed',\n",
       " 'confused',\n",
       " 'ferrariwhich',\n",
       " 'ferrari',\n",
       " 'featured',\n",
       " 'entourage',\n",
       " 'support',\n",
       " 'hero',\n",
       " 'videogame',\n",
       " 'soundtrack',\n",
       " 'observe',\n",
       " 'report',\n",
       " 'seth',\n",
       " 'rogenrecently',\n",
       " 'crack',\n",
       " 'features',\n",
       " 'mr',\n",
       " 'vegas',\n",
       " 'doolittle',\n",
       " 'local',\n",
       " 'artists',\n",
       " 'mz',\n",
       " 'streamz',\n",
       " 'verb',\n",
       " 'trevor',\n",
       " 'ferguson',\n",
       " 'john',\n",
       " 'farrow',\n",
       " 'november',\n",
       " 'novelist',\n",
       " 'hudson',\n",
       " 'quebec',\n",
       " 'author',\n",
       " 'nine',\n",
       " 'novels',\n",
       " 'four',\n",
       " 'plays',\n",
       " 'starborn',\n",
       " 'seaforth',\n",
       " 'huron',\n",
       " 'county',\n",
       " 'ontario',\n",
       " 'raised',\n",
       " 'montreal',\n",
       " 'midteens',\n",
       " 'gravitated',\n",
       " 'towards',\n",
       " 'northwest',\n",
       " 'railway',\n",
       " 'gangs',\n",
       " 'write',\n",
       " 'night',\n",
       " 'bunkhousesin',\n",
       " 'twenties',\n",
       " 'travelled',\n",
       " 'returning',\n",
       " 'settled',\n",
       " 'driving',\n",
       " 'taxi',\n",
       " 'publication',\n",
       " 'novel',\n",
       " 'water',\n",
       " 'chants',\n",
       " 'dennis',\n",
       " 'lee',\n",
       " 'onyx',\n",
       " 'received',\n",
       " 'arguably',\n",
       " 'acclaim',\n",
       " 'literature',\n",
       " 'leon',\n",
       " 'rooke',\n",
       " 'twentieth',\n",
       " 'century',\n",
       " 'sixteen',\n",
       " 'would',\n",
       " 'become',\n",
       " 'bestseller',\n",
       " 'france',\n",
       " 'indeed',\n",
       " 'regarded',\n",
       " 'hes',\n",
       " 'often',\n",
       " 'cited',\n",
       " 'worlds',\n",
       " 'preeminent',\n",
       " 'writersextraordinary',\n",
       " 'praise',\n",
       " 'awaited',\n",
       " 'kinkajou',\n",
       " 'timekeeper',\n",
       " 'hugh',\n",
       " 'maclennan',\n",
       " 'prize',\n",
       " 'ninth',\n",
       " 'river',\n",
       " 'paperback',\n",
       " 'pages',\n",
       " 'option',\n",
       " 'miniseries',\n",
       " 'agreed',\n",
       " 'fergusons',\n",
       " 'burns',\n",
       " 'simon',\n",
       " 'schuster',\n",
       " 'april',\n",
       " 'ice',\n",
       " 'written',\n",
       " 'penname',\n",
       " 'countries',\n",
       " 'sun',\n",
       " 'genre',\n",
       " 'lake',\n",
       " 'caused',\n",
       " 'library',\n",
       " 'booklist',\n",
       " 'claim',\n",
       " 'among',\n",
       " 'crime',\n",
       " 'today',\n",
       " 'ziet',\n",
       " 'cultural',\n",
       " 'newspaper',\n",
       " 'germany',\n",
       " 'declared',\n",
       " 'equally',\n",
       " 'trilogy',\n",
       " 'storm',\n",
       " 'murders',\n",
       " 'dunne',\n",
       " 'booksst',\n",
       " 'martins',\n",
       " 'press',\n",
       " 'appear',\n",
       " 'long',\n",
       " 'short',\n",
       " 'infinitheatre',\n",
       " 'dir',\n",
       " 'guy',\n",
       " 'sprung',\n",
       " 'lacadmie',\n",
       " 'qubcoise',\n",
       " 'du',\n",
       " 'theatre',\n",
       " 'masque',\n",
       " 'text',\n",
       " 'returned',\n",
       " 'stage',\n",
       " 'french',\n",
       " 'fall',\n",
       " 'place',\n",
       " 'des',\n",
       " 'seen',\n",
       " 'people',\n",
       " 'beach',\n",
       " 'burnt',\n",
       " 'sienna',\n",
       " 'chosen',\n",
       " 'commemorate',\n",
       " 'tenth',\n",
       " 'anniversary',\n",
       " 'village',\n",
       " 'coproduced',\n",
       " 'enjoyed',\n",
       " 'run',\n",
       " 'barnacle',\n",
       " 'wood',\n",
       " 'fourth',\n",
       " 'zarathustra',\n",
       " 'said',\n",
       " 'things',\n",
       " 'opens',\n",
       " 'bridge',\n",
       " 'past',\n",
       " 'chair',\n",
       " 'union',\n",
       " 'writerinresidence',\n",
       " 'alberta',\n",
       " 'invit',\n",
       " 'dhonneur',\n",
       " 'salon',\n",
       " 'livres',\n",
       " 'invited',\n",
       " 'guests',\n",
       " 'fair',\n",
       " 'festival',\n",
       " 'americas',\n",
       " 'faculty',\n",
       " 'may',\n",
       " 'banff',\n",
       " 'centre',\n",
       " 'frequently',\n",
       " 'creative',\n",
       " 'concordia',\n",
       " 'grant',\n",
       " 'nelson',\n",
       " 'london',\n",
       " 'wishdokta',\n",
       " 'bump',\n",
       " 'flex',\n",
       " 'nng',\n",
       " 'remixer',\n",
       " 'producernelson',\n",
       " 'heralded',\n",
       " 'godfathers',\n",
       " 'uk',\n",
       " 'garage',\n",
       " 'hits',\n",
       " 'nice',\n",
       " 'ripe',\n",
       " 'sound',\n",
       " 'others',\n",
       " 'gave',\n",
       " ...]"
      ]
     },
     "execution_count": 111,
     "metadata": {},
     "output_type": "execute_result"
    }
   ],
   "source": [
    "list(cv.vocabulary_.keys())"
   ]
  },
  {
   "cell_type": "markdown",
   "metadata": {},
   "source": [
    "### Tfidf transformer to compute IDF"
   ]
  },
  {
   "cell_type": "code",
   "execution_count": 112,
   "metadata": {},
   "outputs": [],
   "source": [
    "from sklearn.feature_extraction.text import TfidfTransformer\n",
    "tfidf_transformer=TfidfTransformer(smooth_idf=True,use_idf=True)"
   ]
  },
  {
   "cell_type": "code",
   "execution_count": 113,
   "metadata": {},
   "outputs": [],
   "source": [
    "tfidf=tfidf_transformer.fit(word_count_vector)"
   ]
  },
  {
   "cell_type": "code",
   "execution_count": 114,
   "metadata": {},
   "outputs": [],
   "source": [
    "feature_names=cv.get_feature_names()"
   ]
  },
  {
   "cell_type": "markdown",
   "metadata": {},
   "source": [
    "### Generate tfidf for the given document"
   ]
  },
  {
   "cell_type": "code",
   "execution_count": 115,
   "metadata": {},
   "outputs": [],
   "source": [
    "obama_tfidf=tfidf_transformer.transform(cv.transform(obama.text.values))"
   ]
  },
  {
   "cell_type": "code",
   "execution_count": 116,
   "metadata": {},
   "outputs": [],
   "source": [
    "def sort_coo(coo_matrix):\n",
    "    tuples=zip(coo_matrix.col,coo_matrix.data)\n",
    "    return sorted(tuples,key=lambda x:(x[1],x[0]),reverse=True)"
   ]
  },
  {
   "cell_type": "code",
   "execution_count": 117,
   "metadata": {},
   "outputs": [],
   "source": [
    "sorted_item=sort_coo(obama_tfidf.tocoo())"
   ]
  },
  {
   "cell_type": "code",
   "execution_count": 118,
   "metadata": {},
   "outputs": [
    {
     "data": {
      "text/plain": [
       "([(312536, 0.45322811040528993),\n",
       "  (3218, 0.278320802582129),\n",
       "  (214499, 0.16966126920914315),\n",
       "  (247445, 0.16172675415812093),\n",
       "  (95476, 0.1474023209289959),\n",
       "  (319300, 0.13680747406193494),\n",
       "  (464294, 0.1363350377414514),\n",
       "  (282962, 0.1335855290464906),\n",
       "  (112583, 0.12808298827379144),\n",
       "  (213961, 0.12317788960596528),\n",
       "  (370950, 0.12314982895784826),\n",
       "  (395532, 0.102742987230978),\n",
       "  (439030, 0.0960710626814515),\n",
       "  (65738, 0.09426334149572822),\n",
       "  (307881, 0.08913717358866566),\n",
       "  (6357, 0.08910785701284929),\n",
       "  (247125, 0.08815076833426103),\n",
       "  (202383, 0.08815076833426103),\n",
       "  (349052, 0.0875936557237778),\n",
       "  (122689, 0.08558339602546317),\n",
       "  (309270, 0.08498589582921724),\n",
       "  (58468, 0.08498589582921724),\n",
       "  (368311, 0.0846095109070767),\n",
       "  (133347, 0.0835874920264203),\n",
       "  (353874, 0.08348714727312186),\n",
       "  (122074, 0.08274038305120093),\n",
       "  (403890, 0.08232278356589509),\n",
       "  (123166, 0.08016796581096058),\n",
       "  (328744, 0.0785357880248825),\n",
       "  (312540, 0.07732999776814083),\n",
       "  (364331, 0.07641063804111337),\n",
       "  (369684, 0.07400986403845136),\n",
       "  (205820, 0.07396538801966589),\n",
       "  (349114, 0.07325986672163988),\n",
       "  (367707, 0.07296189657963423),\n",
       "  (369859, 0.07186001523590092),\n",
       "  (349989, 0.06798747779379746),\n",
       "  (376453, 0.06755151129657412),\n",
       "  (219070, 0.06753824393517875),\n",
       "  (187867, 0.06738597802266261),\n",
       "  (421838, 0.06727760473589722),\n",
       "  (419735, 0.06612598811620571),\n",
       "  (57849, 0.06580975626979195),\n",
       "  (435095, 0.06558986747499315),\n",
       "  (158783, 0.06541748461371115),\n",
       "  (369262, 0.06457473309830629),\n",
       "  (454152, 0.06420297064649315),\n",
       "  (50962, 0.063848112448211),\n",
       "  (343128, 0.06318352703546191),\n",
       "  (353546, 0.061733788237558006),\n",
       "  (78396, 0.0613182397441721),\n",
       "  (377443, 0.0610988419189605),\n",
       "  (460291, 0.06097782343253711),\n",
       "  (285940, 0.06085865262892911),\n",
       "  (274299, 0.0605116827951558),\n",
       "  (165601, 0.06017948219193305),\n",
       "  (461551, 0.06012481658763858),\n",
       "  (243706, 0.06007181791923268),\n",
       "  (349985, 0.05975745854895964),\n",
       "  (460843, 0.0595547059542755),\n",
       "  (364692, 0.0595547059542755),\n",
       "  (320688, 0.05926012246490559),\n",
       "  (426402, 0.05793396941391672),\n",
       "  (252965, 0.05716051180435335),\n",
       "  (198052, 0.05687138482413062),\n",
       "  (485032, 0.0567307407304539),\n",
       "  (207427, 0.0567307407304539),\n",
       "  (314236, 0.05656885022217188),\n",
       "  (464063, 0.05612743778286507),\n",
       "  (111808, 0.0556884566359004),\n",
       "  (6327, 0.05556743814947701),\n",
       "  (202444, 0.05550762532026648),\n",
       "  (193836, 0.05455523322901412),\n",
       "  (64944, 0.05399563929930957),\n",
       "  (452502, 0.05380170296245986),\n",
       "  (197748, 0.05365934881597376),\n",
       "  (250853, 0.05351954443355784),\n",
       "  (389211, 0.05204514961576719),\n",
       "  (199401, 0.05190752696119629),\n",
       "  (329872, 0.05178703219769246),\n",
       "  (109892, 0.05160422440382916),\n",
       "  (47405, 0.05149656013112879),\n",
       "  (369884, 0.051390360723970345),\n",
       "  (252403, 0.051390360723970345),\n",
       "  (366804, 0.05135527960416727),\n",
       "  (26793, 0.05078182910407446),\n",
       "  (319844, 0.05071705249980496),\n",
       "  (384982, 0.05065280904235561),\n",
       "  (231922, 0.050187132040507516),\n",
       "  (15241, 0.04981147287905222),\n",
       "  (254350, 0.04957860042061163),\n",
       "  (139094, 0.04946788174129151),\n",
       "  (182638, 0.04886003725868356),\n",
       "  (365611, 0.047616956599030674),\n",
       "  (307288, 0.04740309291917186),\n",
       "  (37503, 0.04734005998429801),\n",
       "  (23938, 0.04705245507028538),\n",
       "  (423807, 0.04697219178190381),\n",
       "  (103081, 0.04683368687501721),\n",
       "  (392906, 0.04681409957234915),\n",
       "  (430391, 0.04650720850613149),\n",
       "  (134012, 0.04648842261013896),\n",
       "  (310342, 0.04638383683077796),\n",
       "  (89057, 0.046284707853849014),\n",
       "  (210298, 0.0459975753040989),\n",
       "  (463238, 0.045502632388377685),\n",
       "  (437968, 0.045290556713570136),\n",
       "  (188764, 0.045290556713570136),\n",
       "  (4476, 0.04527447939374161),\n",
       "  (215594, 0.0451470392401381),\n",
       "  (109747, 0.04511550167797289),\n",
       "  (15333, 0.04495969738297155),\n",
       "  (94739, 0.04489823615189889),\n",
       "  (208100, 0.044867686069780185),\n",
       "  (481803, 0.04482208397697304),\n",
       "  (153036, 0.04452469425495844),\n",
       "  (250034, 0.044365834199648686),\n",
       "  (401605, 0.04433729473086282),\n",
       "  (360930, 0.04426639927511931),\n",
       "  (440214, 0.04419903365950141),\n",
       "  (343087, 0.04416821513755153),\n",
       "  (251921, 0.04407125071027878),\n",
       "  (211896, 0.04364270887401037),\n",
       "  (435035, 0.04327367430589278),\n",
       "  (136432, 0.04327367430589278),\n",
       "  (84737, 0.043248855410524076),\n",
       "  (94491, 0.0431503615356091),\n",
       "  (60714, 0.04310157677669682),\n",
       "  (364605, 0.04251617990337195),\n",
       "  (95620, 0.042271889990174456),\n",
       "  (318229, 0.04181541997171551),\n",
       "  (393129, 0.041687362266446565),\n",
       "  (413406, 0.04157179439018369),\n",
       "  (110930, 0.041248760594846196),\n",
       "  (366519, 0.0410126404728176),\n",
       "  (369646, 0.04045614828605758),\n",
       "  (415672, 0.04038714862333125),\n",
       "  (196565, 0.0401503428037259),\n",
       "  (270481, 0.03991242575746889),\n",
       "  (366614, 0.039728757612431706),\n",
       "  (155016, 0.03970014829468006),\n",
       "  (397051, 0.03959173851183763),\n",
       "  (100573, 0.03929137976409603),\n",
       "  (381003, 0.03919496811725035),\n",
       "  (476285, 0.03917288737829013),\n",
       "  (371215, 0.03914354322336454),\n",
       "  (68413, 0.03835710974405871),\n",
       "  (428343, 0.03835049207853543),\n",
       "  (129184, 0.037894424030277984),\n",
       "  (439132, 0.03764270974760376),\n",
       "  (318249, 0.0375526102167984),\n",
       "  (111072, 0.03740471765280635),\n",
       "  (331082, 0.03739300641877569),\n",
       "  (307798, 0.037213693889806415),\n",
       "  (351052, 0.03703281892283346),\n",
       "  (367890, 0.03683422213471356),\n",
       "  (366266, 0.036540243889869005),\n",
       "  (29528, 0.03635877190972804),\n",
       "  (6725, 0.035757290493225534),\n",
       "  (84950, 0.03544112073825457),\n",
       "  (369756, 0.03537306855464885),\n",
       "  (353217, 0.03526540428194848),\n",
       "  (367906, 0.0346984165177889),\n",
       "  (222246, 0.0346984165177889),\n",
       "  (29421, 0.03455067325489414),\n",
       "  (110910, 0.03439371209858833),\n",
       "  (470547, 0.034196989589052665),\n",
       "  (299820, 0.03412406128369039),\n",
       "  (300007, 0.03403929662944143),\n",
       "  (380676, 0.03395974425126867),\n",
       "  (136382, 0.03389593331050914),\n",
       "  (83148, 0.03375148510537402),\n",
       "  (205151, 0.03360605870938482),\n",
       "  (4950, 0.03352364925516632),\n",
       "  (419332, 0.03340339847424533),\n",
       "  (449414, 0.03337187506404239),\n",
       "  (130236, 0.03333004091646845),\n",
       "  (306288, 0.03325392249747442),\n",
       "  (423510, 0.033161507704966404),\n",
       "  (159035, 0.03303996576107594),\n",
       "  (88830, 0.03302992217914057),\n",
       "  (372007, 0.03298987658800923),\n",
       "  (109599, 0.03244048442765824),\n",
       "  (149936, 0.031909821353969525),\n",
       "  (373962, 0.031737823149366656),\n",
       "  (289203, 0.03153630654542912),\n",
       "  (163989, 0.031243462930222073),\n",
       "  (99223, 0.030408835329500738),\n",
       "  (314735, 0.03014549106545204),\n",
       "  (434849, 0.030037573419729166),\n",
       "  (104278, 0.02988403174657916),\n",
       "  (476848, 0.02972249398155735),\n",
       "  (120417, 0.02945977252117112),\n",
       "  (178923, 0.029402805253179697),\n",
       "  (350625, 0.029226131338424586),\n",
       "  (259215, 0.029124043354072364),\n",
       "  (95185, 0.029039309383497157),\n",
       "  (461848, 0.028834952881653497),\n",
       "  (90605, 0.02882165042331349),\n",
       "  (177822, 0.02868048365499283),\n",
       "  (207769, 0.02687954487480572),\n",
       "  (169491, 0.02513596420516243),\n",
       "  (65107, 0.024026128140258885),\n",
       "  (265446, 0.023865226639554354),\n",
       "  (298432, 0.023649015581329712),\n",
       "  (111370, 0.023570949562056093),\n",
       "  (30139, 0.023408338612936525),\n",
       "  (222600, 0.023345198471355362),\n",
       "  (269008, 0.023076097371225613),\n",
       "  (224865, 0.02295736559764044),\n",
       "  (41887, 0.02128719010257698),\n",
       "  (419514, 0.02114285721100079),\n",
       "  (487039, 0.019934002014607263),\n",
       "  (364606, 0.019822315174038013),\n",
       "  (54117, 0.01977261648559937),\n",
       "  (263451, 0.019667986651066525),\n",
       "  (443511, 0.01944294874818292),\n",
       "  (457527, 0.016379472557404313),\n",
       "  (492951, 0.016187255507782466),\n",
       "  (303827, 0.01472973323019531)],\n",
       " 499717)"
      ]
     },
     "execution_count": 118,
     "metadata": {},
     "output_type": "execute_result"
    }
   ],
   "source": [
    "sorted_item,len(obama_tfidf.toarray()[0])"
   ]
  },
  {
   "cell_type": "code",
   "execution_count": 119,
   "metadata": {},
   "outputs": [],
   "source": [
    "def extract_topn_from_vector(feature_names,sorted_item,topn=10):\n",
    "    sorted_items=sorted_item[:topn]\n",
    "    score_vals=[]\n",
    "    feature_vals=[]\n",
    "    \n",
    "    for idx,score in sorted_items:\n",
    "        score_vals.append(round(score,3))\n",
    "        feature_vals.append(feature_names[idx])\n",
    "        \n",
    "    #CREATING A TUPLE OF FEATURE,SCORE\n",
    "    results={}\n",
    "    for idx in range(len(feature_vals)):\n",
    "        results[feature_vals[idx]]=score_vals[idx]\n",
    "    \n",
    "    return results"
   ]
  },
  {
   "cell_type": "code",
   "execution_count": 120,
   "metadata": {},
   "outputs": [],
   "source": [
    "keywords=extract_topn_from_vector(feature_names,sorted_item)"
   ]
  },
  {
   "cell_type": "code",
   "execution_count": 121,
   "metadata": {},
   "outputs": [
    {
     "data": {
      "text/plain": [
       "{'obama': 0.453,\n",
       " 'act': 0.278,\n",
       " 'iraq': 0.17,\n",
       " 'law': 0.162,\n",
       " 'control': 0.147,\n",
       " 'ordered': 0.137,\n",
       " 'us': 0.136,\n",
       " 'military': 0.134,\n",
       " 'democratic': 0.128,\n",
       " 'involvement': 0.123}"
      ]
     },
     "execution_count": 121,
     "metadata": {},
     "output_type": "execute_result"
    }
   ],
   "source": [
    "keywords"
   ]
  },
  {
   "cell_type": "markdown",
   "metadata": {
    "collapsed": true
   },
   "source": [
    "## Identifying whether clinton or beckham is closer to obama"
   ]
  },
  {
   "cell_type": "code",
   "execution_count": 122,
   "metadata": {},
   "outputs": [],
   "source": [
    "clinton=people[people['name']=='Bill Clinton']"
   ]
  },
  {
   "cell_type": "code",
   "execution_count": 123,
   "metadata": {},
   "outputs": [],
   "source": [
    "clinton_tfidf=tfidf_transformer.transform(cv.transform(clinton.text.values))"
   ]
  },
  {
   "cell_type": "code",
   "execution_count": 124,
   "metadata": {},
   "outputs": [],
   "source": [
    "from sklearn.metrics.pairwise import linear_kernel\n",
    "ocb=linear_kernel(obama_tfidf,clinton_tfidf)"
   ]
  },
  {
   "cell_type": "code",
   "execution_count": 125,
   "metadata": {},
   "outputs": [
    {
     "data": {
      "text/plain": [
       "array([[0.1909488]])"
      ]
     },
     "execution_count": 125,
     "metadata": {},
     "output_type": "execute_result"
    }
   ],
   "source": [
    "ocb"
   ]
  },
  {
   "cell_type": "code",
   "execution_count": 126,
   "metadata": {},
   "outputs": [],
   "source": [
    "beckham=people[people['name']=='David Beckham']"
   ]
  },
  {
   "cell_type": "code",
   "execution_count": 127,
   "metadata": {},
   "outputs": [],
   "source": [
    "beckham_tfidf=tfidf_transformer.transform(cv.transform(beckham.text.values))"
   ]
  },
  {
   "cell_type": "code",
   "execution_count": 128,
   "metadata": {},
   "outputs": [
    {
     "data": {
      "text/plain": [
       "array([[0.02171945]])"
      ]
     },
     "execution_count": 128,
     "metadata": {},
     "output_type": "execute_result"
    }
   ],
   "source": [
    "obb=linear_kernel(obama_tfidf,beckham_tfidf)\n",
    "obb"
   ]
  },
  {
   "cell_type": "markdown",
   "metadata": {},
   "source": [
    "##### To learn more about cosine similarity and distance **[scikit learn](https://scikit-learn.org/stable/modules/metrics.html)**"
   ]
  },
  {
   "cell_type": "markdown",
   "metadata": {},
   "source": [
    "# Build a nearest neighbor model for document retrieval"
   ]
  },
  {
   "cell_type": "code",
   "execution_count": 129,
   "metadata": {},
   "outputs": [],
   "source": [
    "x_data=tfidf_transformer.transform(word_count_vector)"
   ]
  },
  {
   "cell_type": "code",
   "execution_count": 130,
   "metadata": {},
   "outputs": [
    {
     "data": {
      "text/plain": [
       "(59071, 499717)"
      ]
     },
     "execution_count": 130,
     "metadata": {},
     "output_type": "execute_result"
    }
   ],
   "source": [
    "x_data.shape"
   ]
  },
  {
   "cell_type": "code",
   "execution_count": 131,
   "metadata": {},
   "outputs": [],
   "source": [
    "Y = people['name']\n",
    "y = cv.transform(Y)"
   ]
  },
  {
   "cell_type": "code",
   "execution_count": 132,
   "metadata": {},
   "outputs": [
    {
     "data": {
      "text/plain": [
       "'Barack Obama'"
      ]
     },
     "execution_count": 132,
     "metadata": {},
     "output_type": "execute_result"
    }
   ],
   "source": [
    "Y[35817]"
   ]
  },
  {
   "cell_type": "code",
   "execution_count": 133,
   "metadata": {},
   "outputs": [],
   "source": [
    "from sklearn.neighbors import KNeighborsClassifier\n",
    "clf=KNeighborsClassifier(n_neighbors=15,algorithm='auto')"
   ]
  },
  {
   "cell_type": "code",
   "execution_count": 134,
   "metadata": {},
   "outputs": [
    {
     "data": {
      "text/plain": [
       "KNeighborsClassifier(algorithm='auto', leaf_size=30, metric='minkowski',\n",
       "           metric_params=None, n_jobs=1, n_neighbors=15, p=2,\n",
       "           weights='uniform')"
      ]
     },
     "execution_count": 134,
     "metadata": {},
     "output_type": "execute_result"
    }
   ],
   "source": [
    "clf.fit(x_data,Y)"
   ]
  },
  {
   "cell_type": "code",
   "execution_count": 136,
   "metadata": {},
   "outputs": [
    {
     "data": {
      "text/plain": [
       "array([[35817, 24478, 38376, 57108, 38714,  6796]], dtype=int64)"
      ]
     },
     "execution_count": 136,
     "metadata": {},
     "output_type": "execute_result"
    }
   ],
   "source": [
    "indxs=clf.kneighbors(obama_tfidf,n_neighbors=6,return_distance=False)\n",
    "indxs"
   ]
  },
  {
   "cell_type": "code",
   "execution_count": 137,
   "metadata": {},
   "outputs": [],
   "source": [
    "def neighbors_names(indxs):\n",
    "    names=[]\n",
    "    for index in indxs:\n",
    "        for i in index:\n",
    "            names.append(Y[i])\n",
    "    return names"
   ]
  },
  {
   "cell_type": "code",
   "execution_count": 138,
   "metadata": {},
   "outputs": [
    {
     "data": {
      "text/plain": [
       "['Barack Obama',\n",
       " 'Joe Biden',\n",
       " 'Samantha Power',\n",
       " 'Hillary Rodham Clinton',\n",
       " 'Eric Stern (politician)',\n",
       " 'Eric Holder']"
      ]
     },
     "execution_count": 138,
     "metadata": {},
     "output_type": "execute_result"
    }
   ],
   "source": [
    "neighbors=neighbors_names(indxs)\n",
    "neighbors"
   ]
  },
  {
   "cell_type": "markdown",
   "metadata": {},
   "source": [
    "## Other examples of document retrieval"
   ]
  },
  {
   "cell_type": "code",
   "execution_count": 139,
   "metadata": {},
   "outputs": [
    {
     "name": "stderr",
     "output_type": "stream",
     "text": [
      "C:\\Users\\733387\\AppData\\Local\\Continuum\\anaconda3\\lib\\site-packages\\ipykernel_launcher.py:2: SettingWithCopyWarning: \n",
      "A value is trying to be set on a copy of a slice from a DataFrame.\n",
      "Try using .loc[row_indexer,col_indexer] = value instead\n",
      "\n",
      "See the caveats in the documentation: http://pandas.pydata.org/pandas-docs/stable/indexing.html#indexing-view-versus-copy\n",
      "  \n"
     ]
    }
   ],
   "source": [
    "swift=people[people['name']=='Taylor Swift']\n",
    "swift['text']=swift.text.apply(lambda x : pre_process(x))"
   ]
  },
  {
   "cell_type": "code",
   "execution_count": 140,
   "metadata": {},
   "outputs": [],
   "source": [
    "swift_tfidf=tfidf_transformer.transform(cv.transform(swift.text.values))"
   ]
  },
  {
   "cell_type": "code",
   "execution_count": 141,
   "metadata": {},
   "outputs": [
    {
     "data": {
      "text/plain": [
       "array([[54264,   317,  9379, 29297, 25403, 52794]], dtype=int64)"
      ]
     },
     "execution_count": 141,
     "metadata": {},
     "output_type": "execute_result"
    }
   ],
   "source": [
    "index_taylor=clf.kneighbors(swift_tfidf,n_neighbors=6,return_distance=False)\n",
    "index_taylor"
   ]
  },
  {
   "cell_type": "code",
   "execution_count": 142,
   "metadata": {},
   "outputs": [
    {
     "data": {
      "text/plain": [
       "['Taylor Swift',\n",
       " 'Carrie Underwood',\n",
       " 'Al Swift',\n",
       " 'Kelly Clarkson',\n",
       " 'Ed Sheeran',\n",
       " 'Bill Swift']"
      ]
     },
     "execution_count": 142,
     "metadata": {},
     "output_type": "execute_result"
    }
   ],
   "source": [
    "Taylor_neighors=neighbors_names(index_taylor)\n",
    "Taylor_neighors"
   ]
  },
  {
   "cell_type": "code",
   "execution_count": 143,
   "metadata": {},
   "outputs": [
    {
     "data": {
      "text/plain": [
       "array(['Adele'], dtype=object)"
      ]
     },
     "execution_count": 143,
     "metadata": {},
     "output_type": "execute_result"
    }
   ],
   "source": [
    "clf.predict(swift_tfidf)"
   ]
  },
  {
   "cell_type": "code",
   "execution_count": 148,
   "metadata": {},
   "outputs": [],
   "source": [
    "jolie=people[people['name']=='Angelina Jolie']\n",
    "jolie_tfidf=tfidf_transformer.transform(cv.transform(jolie.text.values))"
   ]
  },
  {
   "cell_type": "code",
   "execution_count": 149,
   "metadata": {},
   "outputs": [
    {
     "data": {
      "text/plain": [
       "array([[39521, 24426, 16625, 21644, 34756, 36323]], dtype=int64)"
      ]
     },
     "execution_count": 149,
     "metadata": {},
     "output_type": "execute_result"
    }
   ],
   "source": [
    "jolie_idx=clf.kneighbors(jolie_tfidf,n_neighbors=6,return_distance=False)\n",
    "jolie_idx"
   ]
  },
  {
   "cell_type": "code",
   "execution_count": 151,
   "metadata": {},
   "outputs": [
    {
     "data": {
      "text/plain": [
       "['Angelina Jolie',\n",
       " 'Brad Pitt',\n",
       " 'Keith Jolie',\n",
       " 'Jodie Foster',\n",
       " 'Maggie Smith',\n",
       " 'Barry Voight']"
      ]
     },
     "execution_count": 151,
     "metadata": {},
     "output_type": "execute_result"
    }
   ],
   "source": [
    "jolie_nighbors=neighbors_names(jolie_idx)\n",
    "jolie_nighbors"
   ]
  },
  {
   "cell_type": "code",
   "execution_count": 153,
   "metadata": {},
   "outputs": [],
   "source": [
    "arnold=people[people['name']=='Arnold Schwarzenegger']"
   ]
  },
  {
   "cell_type": "code",
   "execution_count": 156,
   "metadata": {},
   "outputs": [],
   "source": [
    "arnold_tfidf=tfidf_transformer.transform(cv.transform(arnold.text))"
   ]
  },
  {
   "cell_type": "code",
   "execution_count": 157,
   "metadata": {},
   "outputs": [],
   "source": [
    "arnold_idx=clf.kneighbors(arnold_tfidf,n_neighbors=6,return_distance=False)"
   ]
  },
  {
   "cell_type": "code",
   "execution_count": 159,
   "metadata": {},
   "outputs": [
    {
     "data": {
      "text/plain": [
       "['Arnold Schwarzenegger',\n",
       " 'Bonnie Garcia',\n",
       " 'Paul Grant (bodybuilder)',\n",
       " 'James Tramel',\n",
       " 'Abel Maldonado',\n",
       " 'Gray Davis']"
      ]
     },
     "execution_count": 159,
     "metadata": {},
     "output_type": "execute_result"
    }
   ],
   "source": [
    "arnold_neighbors=neighbors_names(arnold_idx)\n",
    "arnold_neighbors"
   ]
  },
  {
   "cell_type": "markdown",
   "metadata": {},
   "source": [
    "# Assignments"
   ]
  },
  {
   "cell_type": "markdown",
   "metadata": {},
   "source": [
    "#### 1.  Take a particular famous person, 'Elton John'. What are the 3 words in his articles with highest word counts? What are the 3 words in his articles with highest TF-IDF?"
   ]
  },
  {
   "cell_type": "code",
   "execution_count": 160,
   "metadata": {},
   "outputs": [],
   "source": [
    "elton=people[people['name']=='Elton John']"
   ]
  },
  {
   "cell_type": "code",
   "execution_count": 161,
   "metadata": {},
   "outputs": [
    {
     "data": {
      "text/html": [
       "<div>\n",
       "<style scoped>\n",
       "    .dataframe tbody tr th:only-of-type {\n",
       "        vertical-align: middle;\n",
       "    }\n",
       "\n",
       "    .dataframe tbody tr th {\n",
       "        vertical-align: top;\n",
       "    }\n",
       "\n",
       "    .dataframe thead th {\n",
       "        text-align: right;\n",
       "    }\n",
       "</style>\n",
       "<table border=\"1\" class=\"dataframe\">\n",
       "  <thead>\n",
       "    <tr style=\"text-align: right;\">\n",
       "      <th></th>\n",
       "      <th>URI</th>\n",
       "      <th>name</th>\n",
       "      <th>text</th>\n",
       "    </tr>\n",
       "  </thead>\n",
       "  <tbody>\n",
       "    <tr>\n",
       "      <th>19923</th>\n",
       "      <td>&lt;http://dbpedia.org/resource/Elton_John&gt;</td>\n",
       "      <td>Elton John</td>\n",
       "      <td>sir elton hercules john cbe born reginald kenneth dwight march is an english singer songwriter c...</td>\n",
       "    </tr>\n",
       "  </tbody>\n",
       "</table>\n",
       "</div>"
      ],
      "text/plain": [
       "                                            URI        name  \\\n",
       "19923  <http://dbpedia.org/resource/Elton_John>  Elton John   \n",
       "\n",
       "                                                                                                      text  \n",
       "19923  sir elton hercules john cbe born reginald kenneth dwight march is an english singer songwriter c...  "
      ]
     },
     "execution_count": 161,
     "metadata": {},
     "output_type": "execute_result"
    }
   ],
   "source": [
    "elton"
   ]
  },
  {
   "cell_type": "code",
   "execution_count": 214,
   "metadata": {},
   "outputs": [],
   "source": [
    "elton_word_count=cv.transform(elton.text)"
   ]
  },
  {
   "cell_type": "code",
   "execution_count": 206,
   "metadata": {},
   "outputs": [],
   "source": [
    "elton_sorted_item=sort_coo(elton_word_count.tocoo())"
   ]
  },
  {
   "cell_type": "code",
   "execution_count": 207,
   "metadata": {},
   "outputs": [],
   "source": [
    "elton_termfrequency=extract_topn_from_vector(feature_names,elton_sorted_item)"
   ]
  },
  {
   "cell_type": "code",
   "execution_count": 208,
   "metadata": {},
   "outputs": [
    {
     "data": {
      "text/plain": [
       "{'john': 7,\n",
       " 'since': 5,\n",
       " 'award': 5,\n",
       " 'top': 4,\n",
       " 'billboard': 4,\n",
       " 'one': 3,\n",
       " 'music': 3,\n",
       " 'million': 3,\n",
       " 'elton': 3,\n",
       " 'british': 3}"
      ]
     },
     "execution_count": 208,
     "metadata": {},
     "output_type": "execute_result"
    }
   ],
   "source": [
    "elton_termfrequency"
   ]
  },
  {
   "cell_type": "code",
   "execution_count": 209,
   "metadata": {},
   "outputs": [
    {
     "name": "stdout",
     "output_type": "stream",
     "text": [
      "the 27\n",
      "in 18\n",
      "and 15\n",
      "of 13\n",
      "a 10\n",
      "has 9\n",
      "he 8\n",
      "john 7\n",
      "on 6\n",
      "since 5\n",
      "for 5\n",
      "award 5\n",
      "top 4\n",
      "to 4\n",
      "is 4\n",
      "his 4\n",
      "billboard 4\n",
      "at 4\n",
      "than 3\n",
      "one 3\n",
      "no 3\n",
      "music 3\n",
      "more 3\n",
      "million 3\n",
      "into 3\n",
      "him 3\n",
      "elton 3\n",
      "british 3\n",
      "been 3\n",
      "awards 3\n",
      "an 3\n",
      "academy 3\n",
      "worldwide 2\n",
      "with 2\n",
      "was 2\n",
      "songwriters 2\n",
      "songwriter 2\n",
      "sold 2\n",
      "single 2\n",
      "services 2\n",
      "roll 2\n",
      "rock 2\n",
      "received 2\n",
      "ranked 2\n",
      "party 2\n",
      "palace 2\n",
      "over 2\n",
      "number 2\n",
      "marriage 2\n",
      "its 2\n",
      "hot 2\n",
      "hall 2\n",
      "gay 2\n",
      "furnish 2\n",
      "foundation 2\n",
      "fame 2\n",
      "december 2\n",
      "consecutive 2\n",
      "bestselling 2\n",
      "as 2\n",
      "artists 2\n",
      "albums 2\n",
      "aids 2\n",
      "you 1\n",
      "years 1\n",
      "year 1\n",
      "world 1\n",
      "worked 1\n",
      "winning 1\n",
      "wind 1\n",
      "who 1\n",
      "which 1\n",
      "westminster 1\n",
      "wed 1\n",
      "way 1\n",
      "us 1\n",
      "two 1\n",
      "tony 1\n",
      "tonightcandle 1\n",
      "time 1\n",
      "third 1\n",
      "they 1\n",
      "taupin 1\n",
      "such 1\n",
      "successful 1\n",
      "stone 1\n",
      "song 1\n",
      "something 1\n",
      "solo 1\n",
      "social 1\n",
      "six 1\n",
      "sir 1\n",
      "singles 1\n",
      "singer 1\n",
      "seven 1\n",
      "samesex 1\n",
      "s 1\n",
      "royal 1\n",
      "rolling 1\n",
      "reginald 1\n",
      "records 1\n",
      "record 1\n",
      "raised 1\n",
      "queens 1\n",
      "producer 1\n",
      "princess 1\n",
      "pianist 1\n",
      "performed 1\n",
      "partnership 1\n",
      "partner 1\n",
      "parties 1\n",
      "overallelton 1\n",
      "outstanding 1\n",
      "outside 1\n",
      "oscar 1\n",
      "order 1\n",
      "openly 1\n",
      "occasional 1\n",
      "nine 1\n",
      "named 1\n",
      "musicians 1\n",
      "movements 1\n",
      "most 1\n",
      "march 1\n",
      "male 1\n",
      "making 1\n",
      "lyricist 1\n",
      "look 1\n",
      "list 1\n",
      "lgbt 1\n",
      "legend 1\n",
      "legal 1\n",
      "least 1\n",
      "later 1\n",
      "late 1\n",
      "lasting 1\n",
      "knighthood 1\n",
      "kenneth 1\n",
      "kennedy 1\n",
      "jubilee 1\n",
      "involved 1\n",
      "influential 1\n",
      "industry 1\n",
      "inductee 1\n",
      "inducted 1\n",
      "including 1\n",
      "inception 1\n",
      "impact 1\n",
      "ii 1\n",
      "icon 1\n",
      "hosting 1\n",
      "honors 1\n",
      "hollywood 1\n",
      "hits 1\n",
      "highestprofile 1\n",
      "hercules 1\n",
      "heavily 1\n",
      "having 1\n",
      "have 1\n",
      "had 1\n",
      "grammy 1\n",
      "golden 1\n",
      "globe 1\n",
      "funeral 1\n",
      "from 1\n",
      "four 1\n",
      "fivedecade 1\n",
      "five 1\n",
      "first 1\n",
      "film 1\n",
      "fight 1\n",
      "fifty 1\n",
      "fellow 1\n",
      "events 1\n",
      "established 1\n",
      "era 1\n",
      "entered 1\n",
      "english 1\n",
      "england 1\n",
      "empire 1\n",
      "elizabeth 1\n",
      "dwight 1\n",
      "disney 1\n",
      "diana 1\n",
      "diamond 1\n",
      "david 1\n",
      "datein 1\n",
      "culture 1\n",
      "copies 1\n",
      "contribution 1\n",
      "continues 1\n",
      "concert 1\n",
      "composers 1\n",
      "composer 1\n",
      "commander 1\n",
      "collaborated 1\n",
      "civil 1\n",
      "charitable 1\n",
      "champion 1\n",
      "center 1\n",
      "cbe 1\n",
      "career 1\n",
      "buckingham 1\n",
      "brits 1\n",
      "brit 1\n",
      "born 1\n",
      "bisexual 1\n",
      "bernie 1\n",
      "began 1\n",
      "become 1\n",
      "became 1\n",
      "be 1\n",
      "authors 1\n",
      "artist 1\n",
      "annual 1\n",
      "announced 1\n",
      "alltime 1\n",
      "all 1\n",
      "against 1\n",
      "after 1\n",
      "actor 1\n",
      "about 1\n",
      "abbey 1\n"
     ]
    }
   ],
   "source": [
    "word_count={}\n",
    "x=elton.text.values[0].split()\n",
    "for word in x:\n",
    "    if word not in word_count:\n",
    "        word_count[word]=1\n",
    "    else:\n",
    "        word_count[word]+=1\n",
    "for key,value in sorted(word_count.items(),key=lambda item:(item[1],item[0]),reverse=True):\n",
    "    print(\"%s %s\"%(key,word_count[key]))"
   ]
  },
  {
   "cell_type": "code",
   "execution_count": 170,
   "metadata": {},
   "outputs": [],
   "source": [
    "elton_tfidf=tfidf_transformer.transform(elton_word_count)\n",
    "elton_sort_item=sort_coo(elton_tfidf.tocoo())\n",
    "elton_tfidf_count=extract_topn_from_vector(feature_names,elton_sort_item)"
   ]
  },
  {
   "cell_type": "code",
   "execution_count": 171,
   "metadata": {},
   "outputs": [
    {
     "data": {
      "text/plain": [
       "{'billboard': 0.226,\n",
       " 'john': 0.222,\n",
       " 'elton': 0.217,\n",
       " 'furnish': 0.213,\n",
       " 'songwriters': 0.14,\n",
       " 'award': 0.139,\n",
       " 'top': 0.138,\n",
       " 'aids': 0.13,\n",
       " 'since': 0.129,\n",
       " 'million': 0.127}"
      ]
     },
     "execution_count": 171,
     "metadata": {},
     "output_type": "execute_result"
    }
   ],
   "source": [
    "elton_tfidf_count"
   ]
  },
  {
   "cell_type": "markdown",
   "metadata": {},
   "source": [
    "#### 2.  Elton John is a famous singer; let’s compute the distance between his article and those of two other famous singers. In this assignment, you will use the cosine distance, which one measure of similarity between vectors, similar to the one discussed in the lectures. You can compute this distance using the graphlab.distances.cosine function. What’s the cosine distance between the articles on ‘Elton John’ and ‘Victoria Beckham’? What’s the cosine distance between the articles on ‘Elton John’ and Paul McCartney’? Which one of the two is closest to Elton John? "
   ]
  },
  {
   "cell_type": "code",
   "execution_count": 173,
   "metadata": {},
   "outputs": [
    {
     "data": {
      "text/html": [
       "<div>\n",
       "<style scoped>\n",
       "    .dataframe tbody tr th:only-of-type {\n",
       "        vertical-align: middle;\n",
       "    }\n",
       "\n",
       "    .dataframe tbody tr th {\n",
       "        vertical-align: top;\n",
       "    }\n",
       "\n",
       "    .dataframe thead th {\n",
       "        text-align: right;\n",
       "    }\n",
       "</style>\n",
       "<table border=\"1\" class=\"dataframe\">\n",
       "  <thead>\n",
       "    <tr style=\"text-align: right;\">\n",
       "      <th></th>\n",
       "      <th>URI</th>\n",
       "      <th>name</th>\n",
       "      <th>text</th>\n",
       "    </tr>\n",
       "  </thead>\n",
       "  <tbody>\n",
       "    <tr>\n",
       "      <th>50411</th>\n",
       "      <td>&lt;http://dbpedia.org/resource/Victoria_Beckham&gt;</td>\n",
       "      <td>Victoria Beckham</td>\n",
       "      <td>victoria caroline beckham ne adams born april is an english businesswoman fashion designer model...</td>\n",
       "    </tr>\n",
       "  </tbody>\n",
       "</table>\n",
       "</div>"
      ],
      "text/plain": [
       "                                                  URI              name  \\\n",
       "50411  <http://dbpedia.org/resource/Victoria_Beckham>  Victoria Beckham   \n",
       "\n",
       "                                                                                                      text  \n",
       "50411  victoria caroline beckham ne adams born april is an english businesswoman fashion designer model...  "
      ]
     },
     "execution_count": 173,
     "metadata": {},
     "output_type": "execute_result"
    }
   ],
   "source": [
    "victoria=people[people['name']=='Victoria Beckham']\n",
    "victoria"
   ]
  },
  {
   "cell_type": "code",
   "execution_count": 174,
   "metadata": {},
   "outputs": [
    {
     "name": "stderr",
     "output_type": "stream",
     "text": [
      "C:\\Users\\733387\\AppData\\Local\\Continuum\\anaconda3\\lib\\site-packages\\ipykernel_launcher.py:1: SettingWithCopyWarning: \n",
      "A value is trying to be set on a copy of a slice from a DataFrame.\n",
      "Try using .loc[row_indexer,col_indexer] = value instead\n",
      "\n",
      "See the caveats in the documentation: http://pandas.pydata.org/pandas-docs/stable/indexing.html#indexing-view-versus-copy\n",
      "  \"\"\"Entry point for launching an IPython kernel.\n"
     ]
    },
    {
     "data": {
      "text/html": [
       "<div>\n",
       "<style scoped>\n",
       "    .dataframe tbody tr th:only-of-type {\n",
       "        vertical-align: middle;\n",
       "    }\n",
       "\n",
       "    .dataframe tbody tr th {\n",
       "        vertical-align: top;\n",
       "    }\n",
       "\n",
       "    .dataframe thead th {\n",
       "        text-align: right;\n",
       "    }\n",
       "</style>\n",
       "<table border=\"1\" class=\"dataframe\">\n",
       "  <thead>\n",
       "    <tr style=\"text-align: right;\">\n",
       "      <th></th>\n",
       "      <th>URI</th>\n",
       "      <th>name</th>\n",
       "      <th>text</th>\n",
       "    </tr>\n",
       "  </thead>\n",
       "  <tbody>\n",
       "    <tr>\n",
       "      <th>50411</th>\n",
       "      <td>&lt;http://dbpedia.org/resource/Victoria_Beckham&gt;</td>\n",
       "      <td>Victoria Beckham</td>\n",
       "      <td>victoria caroline beckham ne adams born april is an english businesswoman fashion designer model...</td>\n",
       "    </tr>\n",
       "  </tbody>\n",
       "</table>\n",
       "</div>"
      ],
      "text/plain": [
       "                                                  URI              name  \\\n",
       "50411  <http://dbpedia.org/resource/Victoria_Beckham>  Victoria Beckham   \n",
       "\n",
       "                                                                                                      text  \n",
       "50411  victoria caroline beckham ne adams born april is an english businesswoman fashion designer model...  "
      ]
     },
     "execution_count": 174,
     "metadata": {},
     "output_type": "execute_result"
    }
   ],
   "source": [
    "victoria['text']=victoria.text.apply(lambda x : pre_process(x))\n",
    "victoria"
   ]
  },
  {
   "cell_type": "code",
   "execution_count": 175,
   "metadata": {},
   "outputs": [],
   "source": [
    "victoria_tfidf=tfidf_transformer.transform(cv1.transform(victoria.text))"
   ]
  },
  {
   "cell_type": "code",
   "execution_count": 177,
   "metadata": {},
   "outputs": [
    {
     "data": {
      "text/plain": [
       "array([[0.04722352]])"
      ]
     },
     "execution_count": 177,
     "metadata": {},
     "output_type": "execute_result"
    }
   ],
   "source": [
    "evc=linear_kernel(elton_tfidf,victoria_tfidf)\n",
    "evc"
   ]
  },
  {
   "cell_type": "code",
   "execution_count": 210,
   "metadata": {},
   "outputs": [
    {
     "data": {
      "text/plain": [
       "array([[0.95277648]])"
      ]
     },
     "execution_count": 210,
     "metadata": {},
     "output_type": "execute_result"
    }
   ],
   "source": [
    "#cosine distance\n",
    "from sklearn.metrics.pairwise import cosine_distances\n",
    "evcd=cosine_distances(elton_tfidf,victoria_tfidf)\n",
    "evcd"
   ]
  },
  {
   "cell_type": "code",
   "execution_count": 179,
   "metadata": {},
   "outputs": [
    {
     "data": {
      "text/html": [
       "<div>\n",
       "<style scoped>\n",
       "    .dataframe tbody tr th:only-of-type {\n",
       "        vertical-align: middle;\n",
       "    }\n",
       "\n",
       "    .dataframe tbody tr th {\n",
       "        vertical-align: top;\n",
       "    }\n",
       "\n",
       "    .dataframe thead th {\n",
       "        text-align: right;\n",
       "    }\n",
       "</style>\n",
       "<table border=\"1\" class=\"dataframe\">\n",
       "  <thead>\n",
       "    <tr style=\"text-align: right;\">\n",
       "      <th></th>\n",
       "      <th>URI</th>\n",
       "      <th>name</th>\n",
       "      <th>text</th>\n",
       "    </tr>\n",
       "  </thead>\n",
       "  <tbody>\n",
       "    <tr>\n",
       "      <th>53028</th>\n",
       "      <td>&lt;http://dbpedia.org/resource/Paul_McCartney&gt;</td>\n",
       "      <td>Paul McCartney</td>\n",
       "      <td>sir james paul mccartney mbe born june is an english singer multiinstrumentalist and composer wi...</td>\n",
       "    </tr>\n",
       "  </tbody>\n",
       "</table>\n",
       "</div>"
      ],
      "text/plain": [
       "                                                URI            name  \\\n",
       "53028  <http://dbpedia.org/resource/Paul_McCartney>  Paul McCartney   \n",
       "\n",
       "                                                                                                      text  \n",
       "53028  sir james paul mccartney mbe born june is an english singer multiinstrumentalist and composer wi...  "
      ]
     },
     "execution_count": 179,
     "metadata": {},
     "output_type": "execute_result"
    }
   ],
   "source": [
    "paul=people[people['name']=='Paul McCartney']\n",
    "paul"
   ]
  },
  {
   "cell_type": "code",
   "execution_count": 180,
   "metadata": {},
   "outputs": [
    {
     "name": "stderr",
     "output_type": "stream",
     "text": [
      "C:\\Users\\733387\\AppData\\Local\\Continuum\\anaconda3\\lib\\site-packages\\ipykernel_launcher.py:1: SettingWithCopyWarning: \n",
      "A value is trying to be set on a copy of a slice from a DataFrame.\n",
      "Try using .loc[row_indexer,col_indexer] = value instead\n",
      "\n",
      "See the caveats in the documentation: http://pandas.pydata.org/pandas-docs/stable/indexing.html#indexing-view-versus-copy\n",
      "  \"\"\"Entry point for launching an IPython kernel.\n"
     ]
    }
   ],
   "source": [
    "paul['text']=paul['text'].apply(lambda x : pre_process(x))"
   ]
  },
  {
   "cell_type": "code",
   "execution_count": 181,
   "metadata": {},
   "outputs": [],
   "source": [
    "paul_tfidf=tfidf_transformer.transform(cv.transform(paul.text))"
   ]
  },
  {
   "cell_type": "code",
   "execution_count": 183,
   "metadata": {},
   "outputs": [
    {
     "data": {
      "text/plain": [
       "array([[0.18544054]])"
      ]
     },
     "execution_count": 183,
     "metadata": {},
     "output_type": "execute_result"
    }
   ],
   "source": [
    "#Elton-Paul-Cosine similarity\n",
    "epc=linear_kernel(elton_tfidf,paul_tfidf)\n",
    "epc"
   ]
  },
  {
   "cell_type": "code",
   "execution_count": 211,
   "metadata": {},
   "outputs": [
    {
     "data": {
      "text/plain": [
       "array([[0.81455946]])"
      ]
     },
     "execution_count": 211,
     "metadata": {},
     "output_type": "execute_result"
    }
   ],
   "source": [
    "epcd=cosine_distances(elton_tfidf,paul_tfidf)\n",
    "epcd"
   ]
  },
  {
   "cell_type": "markdown",
   "metadata": {},
   "source": [
    "#### 3. What’s the most similar article, other than itself, to the one on ‘Elton John’ using word count features?What’s the most similar article, other than itself, to the one on ‘Elton John’ using TF-IDF features?What’s the most similar article, other than itself, to the one on ‘Victoria Beckham’ using word count features?What’s the most similar article, other than itself, to the one on ‘Victoria Beckham’ using TF-IDF features?"
   ]
  },
  {
   "cell_type": "code",
   "execution_count": 217,
   "metadata": {},
   "outputs": [],
   "source": [
    "elton_idx1=clf.kneighbors(elton_word_count,n_neighbors=30,return_distance=False)"
   ]
  },
  {
   "cell_type": "code",
   "execution_count": 218,
   "metadata": {},
   "outputs": [
    {
     "data": {
      "text/plain": [
       "['Elton John',\n",
       " 'Rod Stewart',\n",
       " 'Kelly Clarkson',\n",
       " 'Barbra Streisand',\n",
       " 'George Michael',\n",
       " 'Adele',\n",
       " 'Sting (musician)',\n",
       " 'Phil Collins',\n",
       " 'Bryan Adams',\n",
       " 'Rihanna',\n",
       " 'Joss Stone',\n",
       " 'Billy Joel',\n",
       " 'Andrea Bocelli',\n",
       " 'Usher (entertainer)',\n",
       " 'Madonna (entertainer)',\n",
       " 'Bruno Mars',\n",
       " 'Carrie Underwood',\n",
       " 'Barry Gibb',\n",
       " 'Kate Bush',\n",
       " 'Britney Spears',\n",
       " 'Mariah Carey',\n",
       " 'JoJo (singer)',\n",
       " 'Taylor Swift',\n",
       " 'Pink (singer)',\n",
       " 'Ricky Martin',\n",
       " 'Jay Sean',\n",
       " 'M.I.A. (rapper)',\n",
       " 'Cliff Richard',\n",
       " 'Cyndi Lauper',\n",
       " 'Glen Campbell']"
      ]
     },
     "execution_count": 218,
     "metadata": {},
     "output_type": "execute_result"
    }
   ],
   "source": [
    "elton_neighbors1=neighbors_names(elton_idx1)\n",
    "elton_neighbors1"
   ]
  },
  {
   "cell_type": "code",
   "execution_count": 186,
   "metadata": {},
   "outputs": [],
   "source": [
    "elton_idx2=clf.kneighbors(elton_tfidf,n_neighbors=6,return_distance=False)"
   ]
  },
  {
   "cell_type": "code",
   "execution_count": 187,
   "metadata": {},
   "outputs": [
    {
     "data": {
      "text/plain": [
       "['Elton John',\n",
       " 'Rod Stewart',\n",
       " 'Sting (musician)',\n",
       " 'George Michael',\n",
       " 'Kelly Clarkson',\n",
       " 'Phil Collins']"
      ]
     },
     "execution_count": 187,
     "metadata": {},
     "output_type": "execute_result"
    }
   ],
   "source": [
    "elton_neighbors=neighbors_names(elton_idx2)\n",
    "elton_neighbors"
   ]
  },
  {
   "cell_type": "code",
   "execution_count": 188,
   "metadata": {},
   "outputs": [],
   "source": [
    "victoria_word_count=cv.transform(victoria.text)"
   ]
  },
  {
   "cell_type": "code",
   "execution_count": 221,
   "metadata": {},
   "outputs": [],
   "source": [
    "victoria_idx1=clf.kneighbors(victoria_word_count,n_neighbors=40,return_distance=False)"
   ]
  },
  {
   "cell_type": "code",
   "execution_count": 222,
   "metadata": {},
   "outputs": [
    {
     "data": {
      "text/plain": [
       "['Victoria Beckham',\n",
       " 'David Beckham',\n",
       " 'Caroline Rush',\n",
       " 'Angelique Westerhof',\n",
       " 'Zurain Imam',\n",
       " 'Yuliya Polishchuk',\n",
       " 'Marc Robinson',\n",
       " 'Colin McDowell',\n",
       " 'Hilary Alexander',\n",
       " 'Jamal Taslaq',\n",
       " 'Mona al Mansouri',\n",
       " 'Mel B',\n",
       " 'Jasper Garvida',\n",
       " 'Marco Coretti',\n",
       " 'Caryn Franklin',\n",
       " 'Emma Bunton',\n",
       " 'Salim al-Shimiri',\n",
       " 'Ece S%C3%BCkan',\n",
       " 'Wal%C3%A9 Adeyemi',\n",
       " 'Andrew Groves',\n",
       " 'Mary Ping',\n",
       " 'Sunny Fong',\n",
       " 'Nikola Eftimov',\n",
       " 'Asher Levine',\n",
       " 'Wayne Cooper (fashion designer)',\n",
       " 'Geri Halliwell',\n",
       " 'Louis Molloy',\n",
       " 'Annelies Nuy',\n",
       " 'Irina Pantaeva',\n",
       " 'Adama Ndiaye',\n",
       " 'Michaele Vollbracht',\n",
       " 'Esteban Cort%C3%A1zar',\n",
       " 'Natalia Kills',\n",
       " 'Grace Woodward',\n",
       " 'Simon Fuller',\n",
       " 'Felicity Brown',\n",
       " 'Rubin Singer',\n",
       " 'Nol%C3%A9 Marin',\n",
       " 'Nachiket Barve',\n",
       " 'Stephen Dow Beckham']"
      ]
     },
     "execution_count": 222,
     "metadata": {},
     "output_type": "execute_result"
    }
   ],
   "source": [
    "victoria_neighbor_term=neighbors_names(victoria_idx1)\n",
    "victoria_neighbor_term"
   ]
  },
  {
   "cell_type": "code",
   "execution_count": 191,
   "metadata": {},
   "outputs": [],
   "source": [
    "victoria_idx=clf.kneighbors(victoria_tfidf,return_distance=False)"
   ]
  },
  {
   "cell_type": "code",
   "execution_count": 192,
   "metadata": {},
   "outputs": [
    {
     "data": {
      "text/plain": [
       "['Victoria Beckham',\n",
       " 'David Beckham',\n",
       " 'Stephen Dow Beckham',\n",
       " 'Angelique Westerhof',\n",
       " 'Caroline Rush',\n",
       " 'Louis Molloy',\n",
       " 'Mel B',\n",
       " 'Colin McDowell',\n",
       " 'Wal%C3%A9 Adeyemi',\n",
       " 'Zurain Imam',\n",
       " 'Yuliya Polishchuk',\n",
       " 'Marc Robinson',\n",
       " 'Hilary Alexander',\n",
       " 'Mona al Mansouri',\n",
       " 'Jasper Garvida']"
      ]
     },
     "execution_count": 192,
     "metadata": {},
     "output_type": "execute_result"
    }
   ],
   "source": [
    "victoria_neighbors=neighbors_names(victoria_idx)\n",
    "victoria_neighbors"
   ]
  },
  {
   "cell_type": "code",
   "execution_count": null,
   "metadata": {},
   "outputs": [],
   "source": []
  }
 ],
 "metadata": {
  "kernelspec": {
   "display_name": "Python 3",
   "language": "python",
   "name": "python3"
  },
  "language_info": {
   "codemirror_mode": {
    "name": "ipython",
    "version": 3
   },
   "file_extension": ".py",
   "mimetype": "text/x-python",
   "name": "python",
   "nbconvert_exporter": "python",
   "pygments_lexer": "ipython3",
   "version": "3.6.7"
  }
 },
 "nbformat": 4,
 "nbformat_minor": 2
}
