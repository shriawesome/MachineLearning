{
 "cells": [
  {
   "cell_type": "code",
   "execution_count": 6,
   "metadata": {},
   "outputs": [],
   "source": [
    "import pandas as pd \n",
    "import numpy as np\n",
    "\n",
    "import matplotlib.pyplot as plt\n",
    "%matplotlib inline\n",
    "\n",
    "from sklearn.model_selection import train_test_split\n",
    "\n",
    "from sklearn.feature_selection import mutual_info_classif,mutual_info_regression\n",
    "from sklearn.feature_selection import SelectKBest, SelectPercentile"
   ]
  },
  {
   "cell_type": "markdown",
   "metadata": {},
   "source": [
    "<font size=5>1. Classification</font>"
   ]
  },
  {
   "cell_type": "code",
   "execution_count": 13,
   "metadata": {},
   "outputs": [
    {
     "data": {
      "text/plain": [
       "(50000, 133)"
      ]
     },
     "execution_count": 13,
     "metadata": {},
     "output_type": "execute_result"
    }
   ],
   "source": [
    "# Load the Paribas dataset\n",
    "data=pd.read_csv('datasets/paribas.csv',nrows=50000)\n",
    "data.shape"
   ]
  },
  {
   "cell_type": "code",
   "execution_count": 18,
   "metadata": {},
   "outputs": [
    {
     "data": {
      "text/html": [
       "<div>\n",
       "<style scoped>\n",
       "    .dataframe tbody tr th:only-of-type {\n",
       "        vertical-align: middle;\n",
       "    }\n",
       "\n",
       "    .dataframe tbody tr th {\n",
       "        vertical-align: top;\n",
       "    }\n",
       "\n",
       "    .dataframe thead th {\n",
       "        text-align: right;\n",
       "    }\n",
       "</style>\n",
       "<table border=\"1\" class=\"dataframe\">\n",
       "  <thead>\n",
       "    <tr style=\"text-align: right;\">\n",
       "      <th></th>\n",
       "      <th>ID</th>\n",
       "      <th>target</th>\n",
       "      <th>v1</th>\n",
       "      <th>v2</th>\n",
       "      <th>v4</th>\n",
       "      <th>v5</th>\n",
       "      <th>v6</th>\n",
       "      <th>v7</th>\n",
       "      <th>v8</th>\n",
       "      <th>v9</th>\n",
       "      <th>...</th>\n",
       "      <th>v121</th>\n",
       "      <th>v122</th>\n",
       "      <th>v123</th>\n",
       "      <th>v124</th>\n",
       "      <th>v126</th>\n",
       "      <th>v127</th>\n",
       "      <th>v128</th>\n",
       "      <th>v129</th>\n",
       "      <th>v130</th>\n",
       "      <th>v131</th>\n",
       "    </tr>\n",
       "  </thead>\n",
       "  <tbody>\n",
       "    <tr>\n",
       "      <th>0</th>\n",
       "      <td>3</td>\n",
       "      <td>1</td>\n",
       "      <td>1.335739</td>\n",
       "      <td>8.727474</td>\n",
       "      <td>3.921026</td>\n",
       "      <td>7.915266</td>\n",
       "      <td>2.599278</td>\n",
       "      <td>3.176895</td>\n",
       "      <td>0.012941</td>\n",
       "      <td>9.999999</td>\n",
       "      <td>...</td>\n",
       "      <td>0.803572</td>\n",
       "      <td>8.000000</td>\n",
       "      <td>1.989780</td>\n",
       "      <td>0.035754</td>\n",
       "      <td>1.804126</td>\n",
       "      <td>3.113719</td>\n",
       "      <td>2.024285</td>\n",
       "      <td>0</td>\n",
       "      <td>0.636365</td>\n",
       "      <td>2.857144</td>\n",
       "    </tr>\n",
       "    <tr>\n",
       "      <th>1</th>\n",
       "      <td>4</td>\n",
       "      <td>1</td>\n",
       "      <td>NaN</td>\n",
       "      <td>NaN</td>\n",
       "      <td>NaN</td>\n",
       "      <td>9.191265</td>\n",
       "      <td>NaN</td>\n",
       "      <td>NaN</td>\n",
       "      <td>2.301630</td>\n",
       "      <td>NaN</td>\n",
       "      <td>...</td>\n",
       "      <td>NaN</td>\n",
       "      <td>NaN</td>\n",
       "      <td>NaN</td>\n",
       "      <td>0.598896</td>\n",
       "      <td>NaN</td>\n",
       "      <td>NaN</td>\n",
       "      <td>1.957825</td>\n",
       "      <td>0</td>\n",
       "      <td>NaN</td>\n",
       "      <td>NaN</td>\n",
       "    </tr>\n",
       "    <tr>\n",
       "      <th>2</th>\n",
       "      <td>5</td>\n",
       "      <td>1</td>\n",
       "      <td>0.943877</td>\n",
       "      <td>5.310079</td>\n",
       "      <td>4.410969</td>\n",
       "      <td>5.326159</td>\n",
       "      <td>3.979592</td>\n",
       "      <td>3.928571</td>\n",
       "      <td>0.019645</td>\n",
       "      <td>12.666667</td>\n",
       "      <td>...</td>\n",
       "      <td>2.238806</td>\n",
       "      <td>9.333333</td>\n",
       "      <td>2.477596</td>\n",
       "      <td>0.013452</td>\n",
       "      <td>1.773709</td>\n",
       "      <td>3.922193</td>\n",
       "      <td>1.120468</td>\n",
       "      <td>2</td>\n",
       "      <td>0.883118</td>\n",
       "      <td>1.176472</td>\n",
       "    </tr>\n",
       "    <tr>\n",
       "      <th>3</th>\n",
       "      <td>6</td>\n",
       "      <td>1</td>\n",
       "      <td>0.797415</td>\n",
       "      <td>8.304757</td>\n",
       "      <td>4.225930</td>\n",
       "      <td>11.627438</td>\n",
       "      <td>2.097700</td>\n",
       "      <td>1.987549</td>\n",
       "      <td>0.171947</td>\n",
       "      <td>8.965516</td>\n",
       "      <td>...</td>\n",
       "      <td>1.956521</td>\n",
       "      <td>7.018256</td>\n",
       "      <td>1.812795</td>\n",
       "      <td>0.002267</td>\n",
       "      <td>1.415230</td>\n",
       "      <td>2.954381</td>\n",
       "      <td>1.990847</td>\n",
       "      <td>1</td>\n",
       "      <td>1.677108</td>\n",
       "      <td>1.034483</td>\n",
       "    </tr>\n",
       "    <tr>\n",
       "      <th>4</th>\n",
       "      <td>8</td>\n",
       "      <td>1</td>\n",
       "      <td>NaN</td>\n",
       "      <td>NaN</td>\n",
       "      <td>NaN</td>\n",
       "      <td>NaN</td>\n",
       "      <td>NaN</td>\n",
       "      <td>NaN</td>\n",
       "      <td>NaN</td>\n",
       "      <td>NaN</td>\n",
       "      <td>...</td>\n",
       "      <td>NaN</td>\n",
       "      <td>NaN</td>\n",
       "      <td>NaN</td>\n",
       "      <td>NaN</td>\n",
       "      <td>NaN</td>\n",
       "      <td>NaN</td>\n",
       "      <td>NaN</td>\n",
       "      <td>0</td>\n",
       "      <td>NaN</td>\n",
       "      <td>NaN</td>\n",
       "    </tr>\n",
       "  </tbody>\n",
       "</table>\n",
       "<p>5 rows × 114 columns</p>\n",
       "</div>"
      ],
      "text/plain": [
       "   ID  target        v1        v2        v4         v5        v6        v7  \\\n",
       "0   3       1  1.335739  8.727474  3.921026   7.915266  2.599278  3.176895   \n",
       "1   4       1       NaN       NaN       NaN   9.191265       NaN       NaN   \n",
       "2   5       1  0.943877  5.310079  4.410969   5.326159  3.979592  3.928571   \n",
       "3   6       1  0.797415  8.304757  4.225930  11.627438  2.097700  1.987549   \n",
       "4   8       1       NaN       NaN       NaN        NaN       NaN       NaN   \n",
       "\n",
       "         v8         v9    ...         v121      v122      v123      v124  \\\n",
       "0  0.012941   9.999999    ...     0.803572  8.000000  1.989780  0.035754   \n",
       "1  2.301630        NaN    ...          NaN       NaN       NaN  0.598896   \n",
       "2  0.019645  12.666667    ...     2.238806  9.333333  2.477596  0.013452   \n",
       "3  0.171947   8.965516    ...     1.956521  7.018256  1.812795  0.002267   \n",
       "4       NaN        NaN    ...          NaN       NaN       NaN       NaN   \n",
       "\n",
       "       v126      v127      v128  v129      v130      v131  \n",
       "0  1.804126  3.113719  2.024285     0  0.636365  2.857144  \n",
       "1       NaN       NaN  1.957825     0       NaN       NaN  \n",
       "2  1.773709  3.922193  1.120468     2  0.883118  1.176472  \n",
       "3  1.415230  2.954381  1.990847     1  1.677108  1.034483  \n",
       "4       NaN       NaN       NaN     0       NaN       NaN  \n",
       "\n",
       "[5 rows x 114 columns]"
      ]
     },
     "execution_count": 18,
     "metadata": {},
     "output_type": "execute_result"
    }
   ],
   "source": [
    "data.head()"
   ]
  },
  {
   "cell_type": "code",
   "execution_count": 16,
   "metadata": {},
   "outputs": [
    {
     "data": {
      "text/plain": [
       "(50000, 114)"
      ]
     },
     "execution_count": 16,
     "metadata": {},
     "output_type": "execute_result"
    }
   ],
   "source": [
    "# In practice, feature selection should be done after data pre-processing,\n",
    "# Ideally, all categorical variables are encoded into numerical values,\n",
    "# and then you can assess how deterministic they are of the target.\n",
    "\n",
    "# here for simplicity We will use only numerical Variables\n",
    "# Select numerical columns\n",
    "numerics=['int16','int32','int64','float16','float32','float64']\n",
    "numerical_vars=list(data.select_dtypes(include=numerics).columns)\n",
    "data=data[numerical_vars]\n",
    "data.shape"
   ]
  },
  {
   "cell_type": "code",
   "execution_count": 17,
   "metadata": {},
   "outputs": [
    {
     "data": {
      "text/plain": [
       "((35000, 112), (15000, 112))"
      ]
     },
     "execution_count": 17,
     "metadata": {},
     "output_type": "execute_result"
    }
   ],
   "source": [
    "# Split the train and test sets to avoid overfitting\n",
    "x_train,x_test,y_train,y_test=train_test_split(data.drop(labels=['target','ID'],axis=1),\n",
    "                                              data['target'],test_size=0.3,random_state=0)\n",
    "x_train.shape,x_test.shape"
   ]
  },
  {
   "cell_type": "code",
   "execution_count": 11,
   "metadata": {},
   "outputs": [
    {
     "data": {
      "text/plain": [
       "array([0.00000000e+00, 3.56390063e-03, 5.36747265e-03, 2.50969774e-03,\n",
       "       1.83444031e-03, 9.21638352e-03, 4.99432612e-03, 4.05167666e-03,\n",
       "       2.52737202e-02, 3.54388301e-03, 1.72732749e-02, 6.24649852e-03,\n",
       "       2.30210827e-02, 4.91292734e-03, 4.13115764e-03, 3.03073695e-03,\n",
       "       2.23232596e-03, 5.76567866e-03, 5.71206057e-04, 1.18133000e-02,\n",
       "       0.00000000e+00, 4.01617153e-03, 4.24640172e-03, 3.61458042e-03,\n",
       "       6.84726503e-03, 3.10329402e-03, 1.93849973e-03, 8.25579755e-03,\n",
       "       8.50878808e-03, 6.18572893e-03, 4.78825994e-03, 4.42951232e-03,\n",
       "       2.12651035e-03, 5.56917711e-03, 7.13739127e-03, 4.92764959e-03,\n",
       "       7.27018803e-03, 1.08602114e-03, 3.32768586e-03, 5.74045009e-03,\n",
       "       5.79761040e-03, 2.87520561e-03, 6.23914980e-03, 3.90963870e-02,\n",
       "       6.45634494e-03, 5.06546566e-03, 5.02700984e-03, 2.51317685e-03,\n",
       "       8.61024414e-03, 2.70650897e-03, 4.98952701e-03, 3.23527408e-03,\n",
       "       3.61300237e-03, 1.40352222e-02, 5.47955292e-03, 5.81165624e-03,\n",
       "       5.36004799e-03, 1.45955130e-03, 6.10168841e-05, 5.14734037e-03,\n",
       "       1.54859992e-03, 5.28673756e-03, 3.24341242e-03, 3.64688223e-03,\n",
       "       4.11150987e-03, 1.11488774e-03, 3.45417183e-03, 2.41223664e-05,\n",
       "       8.21819285e-03, 3.16390676e-03, 1.15888640e-03, 8.28493362e-03,\n",
       "       3.00008315e-03, 2.75856145e-03, 3.92277209e-03, 5.31091426e-03,\n",
       "       4.40881859e-03, 0.00000000e+00, 1.04980579e-02, 3.45966603e-03,\n",
       "       0.00000000e+00, 1.81098757e-03, 4.17030318e-04, 3.88041461e-03,\n",
       "       7.72076294e-03, 7.05056376e-03, 8.38881480e-03, 1.95781314e-03,\n",
       "       5.67463372e-03, 1.79148646e-03, 5.90414201e-03, 6.41207762e-03,\n",
       "       4.87869568e-03, 4.38912877e-03, 5.23686501e-03, 9.92661679e-03,\n",
       "       0.00000000e+00, 2.83601214e-03, 5.76666881e-03, 5.22539190e-03,\n",
       "       6.08994450e-03, 7.38909520e-03, 4.37812856e-03, 4.79491580e-03,\n",
       "       7.43971053e-03, 0.00000000e+00, 6.58614137e-03, 4.60900039e-03,\n",
       "       4.77468766e-03, 1.40330659e-02, 6.66029764e-03, 4.26060877e-03])"
      ]
     },
     "execution_count": 11,
     "metadata": {},
     "output_type": "execute_result"
    }
   ],
   "source": [
    "# Calculate the mutual information between the variables and the target\n",
    "# this returns the mutual information value of each features\n",
    "# the smaller the value the less information the feature has about the target.\n",
    "mi=mutual_info_classif(x_train.fillna(0),y_train)\n",
    "mi"
   ]
  },
  {
   "cell_type": "code",
   "execution_count": 19,
   "metadata": {},
   "outputs": [
    {
     "data": {
      "text/plain": [
       "v50     0.039096\n",
       "v10     0.025274\n",
       "v14     0.023021\n",
       "v12     0.017273\n",
       "v62     0.014035\n",
       "v129    0.014033\n",
       "v21     0.011813\n",
       "v93     0.010498\n",
       "v114    0.009927\n",
       "v7      0.009216\n",
       "v57     0.008610\n",
       "v34     0.008509\n",
       "v101    0.008389\n",
       "v85     0.008285\n",
       "v33     0.008256\n",
       "v82     0.008218\n",
       "v99     0.007721\n",
       "v123    0.007440\n",
       "v120    0.007389\n",
       "v42     0.007270\n",
       "v40     0.007137\n",
       "v100    0.007051\n",
       "v28     0.006847\n",
       "v130    0.006660\n",
       "v126    0.006586\n",
       "v51     0.006456\n",
       "v106    0.006412\n",
       "v13     0.006246\n",
       "v49     0.006239\n",
       "v35     0.006186\n",
       "          ...   \n",
       "v17     0.003031\n",
       "v86     0.003000\n",
       "v48     0.002875\n",
       "v116    0.002836\n",
       "v87     0.002759\n",
       "v58     0.002707\n",
       "v55     0.002513\n",
       "v5      0.002510\n",
       "v18     0.002232\n",
       "v38     0.002127\n",
       "v102    0.001958\n",
       "v32     0.001938\n",
       "v6      0.001834\n",
       "v96     0.001811\n",
       "v104    0.001791\n",
       "v70     0.001549\n",
       "v67     0.001460\n",
       "v84     0.001159\n",
       "v78     0.001115\n",
       "v43     0.001086\n",
       "v20     0.000571\n",
       "v97     0.000417\n",
       "v68     0.000061\n",
       "v81     0.000024\n",
       "v124    0.000000\n",
       "v92     0.000000\n",
       "v115    0.000000\n",
       "v95     0.000000\n",
       "v23     0.000000\n",
       "v1      0.000000\n",
       "Length: 112, dtype: float64"
      ]
     },
     "execution_count": 19,
     "metadata": {},
     "output_type": "execute_result"
    }
   ],
   "source": [
    "mi=pd.Series(mi)\n",
    "mi.index=x_train.columns\n",
    "mi.sort_values(ascending=False)"
   ]
  },
  {
   "cell_type": "code",
   "execution_count": 20,
   "metadata": {},
   "outputs": [
    {
     "data": {
      "text/plain": [
       "<matplotlib.axes._subplots.AxesSubplot at 0x1a14db75c0>"
      ]
     },
     "execution_count": 20,
     "metadata": {},
     "output_type": "execute_result"
    },
    {
     "data": {
      "image/png": "[encoded data removed]",
      "text/plain": [
       "<Figure size 1440x576 with 1 Axes>"
      ]
     },
     "metadata": {
      "needs_background": "light"
     },
     "output_type": "display_data"
    }
   ],
   "source": [
    "# Plot the ordered MI values per feature\n",
    "mi.sort_values(ascending=False).plot.bar(figsize=(20,8))"
   ]
  },
  {
   "cell_type": "markdown",
   "metadata": {},
   "source": [
    "Comparatively, we can see that there are a few features(left to the plot) that seem to contribute the most to predicting the target. There are also few features with almost 0 MI value on the right of the plot.\n",
    "\n",
    "One could choose a certain value of MI after studying the plot above. An alternative and the most frequent way of selecting features is to select the top 10, or top 20 features, or the features in the top 10th percentile of the MI Value distribution.\n",
    "\n",
    "To do this, we can use MI in combination with `SelectKBest` or `SelectPercentile`."
   ]
  },
  {
   "cell_type": "code",
   "execution_count": 21,
   "metadata": {},
   "outputs": [
    {
     "data": {
      "text/plain": [
       "Index(['v10', 'v12', 'v14', 'v21', 'v50', 'v62', 'v72', 'v82', 'v114', 'v129'], dtype='object')"
      ]
     },
     "execution_count": 21,
     "metadata": {},
     "output_type": "execute_result"
    }
   ],
   "source": [
    "# Here we'll select top 10 features which are shown below\n",
    "sel=SelectKBest(mutual_info_classif,k=10).fit(x_train.fillna(0),y_train)\n",
    "x_train.columns[sel.get_support()]"
   ]
  },
  {
   "cell_type": "markdown",
   "metadata": {},
   "source": [
    " <font size=5>2. Regression</font>"
   ]
  },
  {
   "cell_type": "code",
   "execution_count": 22,
   "metadata": {},
   "outputs": [
    {
     "data": {
      "text/plain": [
       "(1460, 81)"
      ]
     },
     "execution_count": 22,
     "metadata": {},
     "output_type": "execute_result"
    }
   ],
   "source": [
    "# Load the House Price dataset for Feature Extraction\n",
    "data=pd.read_csv('datasets/houseprice.csv')\n",
    "data.shape"
   ]
  },
  {
   "cell_type": "code",
   "execution_count": 24,
   "metadata": {},
   "outputs": [
    {
     "data": {
      "text/plain": [
       "(1460, 38)"
      ]
     },
     "execution_count": 24,
     "metadata": {},
     "output_type": "execute_result"
    }
   ],
   "source": [
    "# In practice, feature selection should be done after data pre-processing,\n",
    "# Ideally, all categorical variables are encoded into numerical values,\n",
    "# and then you can assess how deterministic they are of the target.\n",
    "\n",
    "# here for simplicity We will use only numerical Variables\n",
    "# Select numerical columns\n",
    "numerical_vars=list(data.select_dtypes(include=numerics).columns)\n",
    "data=data[numerical_vars]\n",
    "data.shape"
   ]
  },
  {
   "cell_type": "code",
   "execution_count": 25,
   "metadata": {},
   "outputs": [
    {
     "data": {
      "text/plain": [
       "((1022, 37), (438, 37))"
      ]
     },
     "execution_count": 25,
     "metadata": {},
     "output_type": "execute_result"
    }
   ],
   "source": [
    "# Seperate train and test sets\n",
    "x_train,x_test,y_train,y_test=train_test_split(data.drop(labels=['SalePrice'],axis=1),\n",
    "                                              data['SalePrice'],test_size=0.3,random_state=0)\n",
    "x_train.shape,x_test.shape"
   ]
  },
  {
   "cell_type": "code",
   "execution_count": 26,
   "metadata": {},
   "outputs": [
    {
     "name": "stderr",
     "output_type": "stream",
     "text": [
      "/Users/shri/anaconda3/lib/python3.6/site-packages/sklearn/utils/validation.py:595: DataConversionWarning: Data with input dtype int64 was converted to float64 by the scale function.\n",
      "  warnings.warn(msg, DataConversionWarning)\n"
     ]
    },
    {
     "data": {
      "text/plain": [
       "<matplotlib.axes._subplots.AxesSubplot at 0x1a13ebada0>"
      ]
     },
     "execution_count": 26,
     "metadata": {},
     "output_type": "execute_result"
    },
    {
     "data": {
      "image/png": "[encoded data removed]",
      "text/plain": [
       "<Figure size 1440x576 with 1 Axes>"
      ]
     },
     "metadata": {
      "needs_background": "light"
     },
     "output_type": "display_data"
    }
   ],
   "source": [
    "# Determine the Mutual Information\n",
    "mi=mutual_info_regression(x_train.fillna(0),y_train)\n",
    "mi=pd.Series(mi)\n",
    "mi.index=x_train.columns\n",
    "mi.sort_values(ascending=False).plot.bar(figsize=(20,8))"
   ]
  },
  {
   "cell_type": "markdown",
   "metadata": {},
   "source": [
    "Same Conclusion can be made as above."
   ]
  },
  {
   "cell_type": "code",
   "execution_count": 29,
   "metadata": {},
   "outputs": [
    {
     "name": "stderr",
     "output_type": "stream",
     "text": [
      "/Users/shri/anaconda3/lib/python3.6/site-packages/sklearn/utils/validation.py:595: DataConversionWarning: Data with input dtype int64 was converted to float64 by the scale function.\n",
      "  warnings.warn(msg, DataConversionWarning)\n"
     ]
    },
    {
     "data": {
      "text/plain": [
       "Index(['OverallQual', 'TotalBsmtSF', 'GrLivArea', 'GarageCars'], dtype='object')"
      ]
     },
     "execution_count": 29,
     "metadata": {},
     "output_type": "execute_result"
    }
   ],
   "source": [
    "# Here we'll select top 10 percentile of the features i.e if there are 100 feature \n",
    "# then 10 features will be selected\n",
    "sel=SelectPercentile(mutual_info_regression,percentile=10).fit(x_train.fillna(10),y_train)\n",
    "x_train.columns[sel.get_support()]"
   ]
  }
 ],
 "metadata": {
  "kernelspec": {
   "display_name": "Python 3",
   "language": "python",
   "name": "python3"
  },
  "language_info": {
   "codemirror_mode": {
    "name": "ipython",
    "version": 3
   },
   "file_extension": ".py",
   "mimetype": "text/x-python",
   "name": "python",
   "nbconvert_exporter": "python",
   "pygments_lexer": "ipython3",
   "version": "3.6.10"
  }
 },
 "nbformat": 4,
 "nbformat_minor": 4
}
