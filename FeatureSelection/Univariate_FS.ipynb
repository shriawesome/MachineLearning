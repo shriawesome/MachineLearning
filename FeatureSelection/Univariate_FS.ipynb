{
 "cells": [
  {
   "cell_type": "code",
   "execution_count": 1,
   "metadata": {},
   "outputs": [
    {
     "name": "stderr",
     "output_type": "stream",
     "text": [
      "/Users/shri/anaconda3/lib/python3.6/importlib/_bootstrap.py:219: RuntimeWarning: numpy.dtype size changed, may indicate binary incompatibility. Expected 96, got 88\n",
      "  return f(*args, **kwds)\n",
      "/Users/shri/anaconda3/lib/python3.6/importlib/_bootstrap.py:219: RuntimeWarning: numpy.dtype size changed, may indicate binary incompatibility. Expected 96, got 88\n",
      "  return f(*args, **kwds)\n"
     ]
    }
   ],
   "source": [
    "import pandas as pd\n",
    "import numpy as np\n",
    "\n",
    "import matplotlib.pyplot as plt\n",
    "%matplotlib inline\n",
    "\n",
    "from sklearn.feature_selection import f_classif,f_regression\n",
    "from sklearn.feature_selection import SelectKBest,SelectPercentile\n",
    "\n",
    "from sklearn.model_selection import train_test_split"
   ]
  },
  {
   "cell_type": "markdown",
   "metadata": {},
   "source": [
    "### 1. Classification Feature Selection"
   ]
  },
  {
   "cell_type": "code",
   "execution_count": 9,
   "metadata": {},
   "outputs": [
    {
     "data": {
      "text/plain": [
       "(114321, 133)"
      ]
     },
     "execution_count": 9,
     "metadata": {},
     "output_type": "execute_result"
    }
   ],
   "source": [
    "# Load the pribas dataset from the Kaggle\n",
    "data=pd.read_csv('datasets/paribas.csv')\n",
    "data.shape"
   ]
  },
  {
   "cell_type": "code",
   "execution_count": 3,
   "metadata": {},
   "outputs": [
    {
     "data": {
      "text/html": [
       "<div>\n",
       "<style scoped>\n",
       "    .dataframe tbody tr th:only-of-type {\n",
       "        vertical-align: middle;\n",
       "    }\n",
       "\n",
       "    .dataframe tbody tr th {\n",
       "        vertical-align: top;\n",
       "    }\n",
       "\n",
       "    .dataframe thead th {\n",
       "        text-align: right;\n",
       "    }\n",
       "</style>\n",
       "<table border=\"1\" class=\"dataframe\">\n",
       "  <thead>\n",
       "    <tr style=\"text-align: right;\">\n",
       "      <th></th>\n",
       "      <th>ID</th>\n",
       "      <th>target</th>\n",
       "      <th>v1</th>\n",
       "      <th>v2</th>\n",
       "      <th>v3</th>\n",
       "      <th>v4</th>\n",
       "      <th>v5</th>\n",
       "      <th>v6</th>\n",
       "      <th>v7</th>\n",
       "      <th>v8</th>\n",
       "      <th>...</th>\n",
       "      <th>v122</th>\n",
       "      <th>v123</th>\n",
       "      <th>v124</th>\n",
       "      <th>v125</th>\n",
       "      <th>v126</th>\n",
       "      <th>v127</th>\n",
       "      <th>v128</th>\n",
       "      <th>v129</th>\n",
       "      <th>v130</th>\n",
       "      <th>v131</th>\n",
       "    </tr>\n",
       "  </thead>\n",
       "  <tbody>\n",
       "    <tr>\n",
       "      <th>0</th>\n",
       "      <td>3</td>\n",
       "      <td>1</td>\n",
       "      <td>1.335739</td>\n",
       "      <td>8.727474</td>\n",
       "      <td>C</td>\n",
       "      <td>3.921026</td>\n",
       "      <td>7.915266</td>\n",
       "      <td>2.599278</td>\n",
       "      <td>3.176895</td>\n",
       "      <td>0.012941</td>\n",
       "      <td>...</td>\n",
       "      <td>8.000000</td>\n",
       "      <td>1.989780</td>\n",
       "      <td>0.035754</td>\n",
       "      <td>AU</td>\n",
       "      <td>1.804126</td>\n",
       "      <td>3.113719</td>\n",
       "      <td>2.024285</td>\n",
       "      <td>0</td>\n",
       "      <td>0.636365</td>\n",
       "      <td>2.857144</td>\n",
       "    </tr>\n",
       "    <tr>\n",
       "      <th>1</th>\n",
       "      <td>4</td>\n",
       "      <td>1</td>\n",
       "      <td>NaN</td>\n",
       "      <td>NaN</td>\n",
       "      <td>C</td>\n",
       "      <td>NaN</td>\n",
       "      <td>9.191265</td>\n",
       "      <td>NaN</td>\n",
       "      <td>NaN</td>\n",
       "      <td>2.301630</td>\n",
       "      <td>...</td>\n",
       "      <td>NaN</td>\n",
       "      <td>NaN</td>\n",
       "      <td>0.598896</td>\n",
       "      <td>AF</td>\n",
       "      <td>NaN</td>\n",
       "      <td>NaN</td>\n",
       "      <td>1.957825</td>\n",
       "      <td>0</td>\n",
       "      <td>NaN</td>\n",
       "      <td>NaN</td>\n",
       "    </tr>\n",
       "    <tr>\n",
       "      <th>2</th>\n",
       "      <td>5</td>\n",
       "      <td>1</td>\n",
       "      <td>0.943877</td>\n",
       "      <td>5.310079</td>\n",
       "      <td>C</td>\n",
       "      <td>4.410969</td>\n",
       "      <td>5.326159</td>\n",
       "      <td>3.979592</td>\n",
       "      <td>3.928571</td>\n",
       "      <td>0.019645</td>\n",
       "      <td>...</td>\n",
       "      <td>9.333333</td>\n",
       "      <td>2.477596</td>\n",
       "      <td>0.013452</td>\n",
       "      <td>AE</td>\n",
       "      <td>1.773709</td>\n",
       "      <td>3.922193</td>\n",
       "      <td>1.120468</td>\n",
       "      <td>2</td>\n",
       "      <td>0.883118</td>\n",
       "      <td>1.176472</td>\n",
       "    </tr>\n",
       "    <tr>\n",
       "      <th>3</th>\n",
       "      <td>6</td>\n",
       "      <td>1</td>\n",
       "      <td>0.797415</td>\n",
       "      <td>8.304757</td>\n",
       "      <td>C</td>\n",
       "      <td>4.225930</td>\n",
       "      <td>11.627438</td>\n",
       "      <td>2.097700</td>\n",
       "      <td>1.987549</td>\n",
       "      <td>0.171947</td>\n",
       "      <td>...</td>\n",
       "      <td>7.018256</td>\n",
       "      <td>1.812795</td>\n",
       "      <td>0.002267</td>\n",
       "      <td>CJ</td>\n",
       "      <td>1.415230</td>\n",
       "      <td>2.954381</td>\n",
       "      <td>1.990847</td>\n",
       "      <td>1</td>\n",
       "      <td>1.677108</td>\n",
       "      <td>1.034483</td>\n",
       "    </tr>\n",
       "    <tr>\n",
       "      <th>4</th>\n",
       "      <td>8</td>\n",
       "      <td>1</td>\n",
       "      <td>NaN</td>\n",
       "      <td>NaN</td>\n",
       "      <td>C</td>\n",
       "      <td>NaN</td>\n",
       "      <td>NaN</td>\n",
       "      <td>NaN</td>\n",
       "      <td>NaN</td>\n",
       "      <td>NaN</td>\n",
       "      <td>...</td>\n",
       "      <td>NaN</td>\n",
       "      <td>NaN</td>\n",
       "      <td>NaN</td>\n",
       "      <td>Z</td>\n",
       "      <td>NaN</td>\n",
       "      <td>NaN</td>\n",
       "      <td>NaN</td>\n",
       "      <td>0</td>\n",
       "      <td>NaN</td>\n",
       "      <td>NaN</td>\n",
       "    </tr>\n",
       "  </tbody>\n",
       "</table>\n",
       "<p>5 rows × 133 columns</p>\n",
       "</div>"
      ],
      "text/plain": [
       "   ID  target        v1        v2 v3        v4         v5        v6        v7  \\\n",
       "0   3       1  1.335739  8.727474  C  3.921026   7.915266  2.599278  3.176895   \n",
       "1   4       1       NaN       NaN  C       NaN   9.191265       NaN       NaN   \n",
       "2   5       1  0.943877  5.310079  C  4.410969   5.326159  3.979592  3.928571   \n",
       "3   6       1  0.797415  8.304757  C  4.225930  11.627438  2.097700  1.987549   \n",
       "4   8       1       NaN       NaN  C       NaN        NaN       NaN       NaN   \n",
       "\n",
       "         v8    ...         v122      v123      v124  v125      v126      v127  \\\n",
       "0  0.012941    ...     8.000000  1.989780  0.035754    AU  1.804126  3.113719   \n",
       "1  2.301630    ...          NaN       NaN  0.598896    AF       NaN       NaN   \n",
       "2  0.019645    ...     9.333333  2.477596  0.013452    AE  1.773709  3.922193   \n",
       "3  0.171947    ...     7.018256  1.812795  0.002267    CJ  1.415230  2.954381   \n",
       "4       NaN    ...          NaN       NaN       NaN     Z       NaN       NaN   \n",
       "\n",
       "       v128  v129      v130      v131  \n",
       "0  2.024285     0  0.636365  2.857144  \n",
       "1  1.957825     0       NaN       NaN  \n",
       "2  1.120468     2  0.883118  1.176472  \n",
       "3  1.990847     1  1.677108  1.034483  \n",
       "4       NaN     0       NaN       NaN  \n",
       "\n",
       "[5 rows x 133 columns]"
      ]
     },
     "execution_count": 3,
     "metadata": {},
     "output_type": "execute_result"
    }
   ],
   "source": [
    "# Knowing the data\n",
    "data.head()"
   ]
  },
  {
   "cell_type": "code",
   "execution_count": 40,
   "metadata": {},
   "outputs": [
    {
     "data": {
      "text/plain": [
       "Index(['v3', 'v22', 'v24', 'v30', 'v31', 'v47', 'v52', 'v56', 'v66', 'v71',\n",
       "       'v74', 'v75', 'v79', 'v91', 'v107', 'v110', 'v112', 'v113', 'v125'],\n",
       "      dtype='object')"
      ]
     },
     "execution_count": 40,
     "metadata": {},
     "output_type": "execute_result"
    }
   ],
   "source": [
    "# Total Categorical cols\n",
    "len(list(data.columns))\n",
    "\n",
    "# Count total entries for unique values\n",
    "data.groupby('v125')['ID'].nunique()\n",
    "\n",
    "data.select_dtypes(include='O').columns"
   ]
  },
  {
   "cell_type": "code",
   "execution_count": 41,
   "metadata": {},
   "outputs": [
    {
     "data": {
      "text/plain": [
       "(114321, 114)"
      ]
     },
     "execution_count": 41,
     "metadata": {},
     "output_type": "execute_result"
    }
   ],
   "source": [
    "# In practise, feature selection should be done after data preprocesssing,\n",
    "# so ideally, all the categorical variables should be encoded into numbers\n",
    "# and then you can assess how deterministic they are of the target\n",
    "\n",
    "# here for simplicity we'll use numerical variables\n",
    "numerics=['int16','int32','int64','float16','float32','float64']\n",
    "numerical_var=data.select_dtypes(include=numerics).columns\n",
    "data=data[numerical_var]\n",
    "data.shape"
   ]
  },
  {
   "cell_type": "code",
   "execution_count": 42,
   "metadata": {},
   "outputs": [
    {
     "data": {
      "text/plain": [
       "((80024, 112), (34297, 112))"
      ]
     },
     "execution_count": 42,
     "metadata": {},
     "output_type": "execute_result"
    }
   ],
   "source": [
    "# Seperate the dataset into training and testing so as to avoid Overfitting.\n",
    "x_train,x_test,y_train,y_test=train_test_split(data.drop(labels=['target','ID'],axis=1),\n",
    "                                              data['target'],test_size=0.3,random_state=0)\n",
    "x_train.shape,x_test.shape"
   ]
  },
  {
   "cell_type": "code",
   "execution_count": 48,
   "metadata": {},
   "outputs": [
    {
     "data": {
      "text/plain": [
       "(array([3.28943248e+01, 1.24509507e-01, 3.56791176e-04, 1.83925180e+01,\n",
       "        7.70770317e+00, 8.51319945e+00, 2.58136886e+01, 3.66712075e+01,\n",
       "        1.84987057e+03, 2.94115021e+01, 2.22103957e+02, 5.35072430e+01,\n",
       "        1.40316020e+03, 6.71307533e+01, 2.99677161e+01, 4.72435469e+00,\n",
       "        1.25309066e+01, 3.23780703e+01, 2.41975733e+01, 2.04523731e+02,\n",
       "        6.97374959e+01, 1.86699385e+01, 5.43386252e+00, 7.79938651e+00,\n",
       "        4.19582385e+01, 1.65746655e+01, 6.43577083e+01, 1.09781643e+02,\n",
       "        7.17092018e+02, 2.82344426e+01, 7.75847300e+01, 5.74486104e+01,\n",
       "        3.04247033e+02, 5.34881327e+00, 7.60912403e+01, 2.35795902e+01,\n",
       "        3.05437914e+01, 6.83854785e+00, 5.16016558e+00, 5.18855982e+01,\n",
       "        2.22602977e+01, 7.66466957e+01, 3.03384821e+01, 5.03565588e+03,\n",
       "        1.09750749e+02, 2.99367125e+01, 1.22279689e+01, 1.14345375e+02,\n",
       "        1.66146173e+01, 8.88998669e+01, 1.00008514e+01, 3.35814398e+00,\n",
       "        9.82628852e+00, 7.15712510e+02, 2.34692647e+01, 1.74487339e+00,\n",
       "        1.49870211e+01, 2.58960788e+01, 4.00459192e+01, 3.60308878e+01,\n",
       "        3.65911224e+01, 4.61857879e+02, 7.19288728e+01, 6.69861479e+00,\n",
       "        2.33031201e+01, 3.45395251e+01, 6.37428621e+01, 8.34989901e+01,\n",
       "        2.02114481e+00, 1.13156852e+02, 9.36315912e+01, 1.31619598e+02,\n",
       "        4.53737112e+01, 6.27361730e+00, 2.86454544e+00, 1.13788791e+01,\n",
       "        3.48660605e+01, 3.16609299e+01, 8.14619245e-03, 3.85614210e+01,\n",
       "        4.58228638e+01, 1.52954095e+01, 1.67445468e+01, 1.64226859e+01,\n",
       "        7.40840255e-01, 4.51271530e-01, 2.24431184e-01, 4.96856842e+00,\n",
       "        4.95654851e+01, 5.08337670e+01, 1.09588296e+01, 6.11853697e-01,\n",
       "        9.85449451e-01, 5.15942723e+00, 9.59613995e+01, 4.48291524e+02,\n",
       "        2.28502435e+01, 9.34118574e+00, 1.24185179e+01, 2.19801460e+01,\n",
       "        2.05255181e+02, 1.79576569e+01, 1.13395485e+02, 2.33852753e+01,\n",
       "        1.75311039e+02, 1.33070626e+01, 2.35461093e+01, 9.21005364e+00,\n",
       "        2.12593335e-02, 1.67663955e+03, 1.25965222e+02, 1.04400612e-01]),\n",
       " array([9.76561436e-009, 7.24195044e-001, 9.84929768e-001, 1.79972805e-005,\n",
       "        5.49984445e-003, 3.52677660e-003, 3.76855560e-007, 1.40449835e-009,\n",
       "        0.00000000e+000, 5.86982207e-008, 3.67176367e-050, 2.60041154e-013,\n",
       "        1.90547983e-304, 2.57791657e-016, 4.40615126e-008, 2.97412622e-002,\n",
       "        4.00502545e-004, 1.27352284e-008, 8.71138741e-007, 2.45424250e-046,\n",
       "        6.88122959e-017, 1.55600633e-005, 1.97524200e-002, 5.22763802e-003,\n",
       "        9.37821047e-011, 4.68165707e-005, 1.05154278e-015, 1.13673232e-025,\n",
       "        2.84763935e-157, 1.07761670e-007, 1.29623894e-018, 3.50644895e-014,\n",
       "        5.23125795e-068, 2.07389035e-002, 2.75927222e-018, 1.20077779e-006,\n",
       "        3.27428952e-008, 8.92280583e-003, 2.31133369e-002, 5.93460799e-013,\n",
       "        2.38479947e-006, 2.08331495e-018, 3.63967900e-008, 0.00000000e+000,\n",
       "        1.15456251e-025, 4.47714263e-008, 4.71039255e-004, 1.14119951e-026,\n",
       "        4.58408694e-005, 4.25920684e-021, 1.56526281e-003, 6.68771126e-002,\n",
       "        1.72097318e-003, 5.64672458e-157, 1.27162254e-006, 1.86526296e-001,\n",
       "        1.08339071e-004, 3.61113331e-007, 2.49369658e-010, 1.95046842e-009,\n",
       "        1.46337322e-009, 3.69103352e-102, 2.26829995e-017, 9.65052828e-003,\n",
       "        1.38630123e-006, 4.19331787e-009, 1.43633137e-015, 6.51851275e-020,\n",
       "        1.55126050e-001, 2.07638133e-026, 3.90845301e-022, 1.91444440e-030,\n",
       "        1.63901158e-011, 1.22568429e-002, 9.05551815e-002, 7.43191315e-004,\n",
       "        3.54603926e-009, 1.84190115e-008, 9.28083804e-001, 5.33170581e-010,\n",
       "        1.30332429e-011, 9.20154839e-005, 4.28068577e-005, 5.07229149e-005,\n",
       "        3.89394426e-001, 5.01733682e-001, 6.35685416e-001, 2.58147685e-002,\n",
       "        1.93396480e-012, 1.01375685e-012, 9.31998122e-004, 4.34093028e-001,\n",
       "        3.20860119e-001, 2.31231643e-002, 1.20633626e-022, 3.18269929e-099,\n",
       "        1.75437627e-006, 2.24134308e-003, 4.25334536e-004, 2.75938839e-006,\n",
       "        1.70108074e-046, 2.26126479e-005, 1.84124949e-026, 1.32835358e-006,\n",
       "        5.64153140e-040, 2.64576049e-004, 1.22184852e-006, 2.40766896e-003,\n",
       "        8.84075058e-001, 0.00000000e+000, 3.29062783e-029, 7.46612149e-001]))"
      ]
     },
     "execution_count": 48,
     "metadata": {},
     "output_type": "execute_result"
    }
   ],
   "source": [
    "# Calculate the univariate statistical measure between \n",
    "# each variable and the target\n",
    "# similarly to chi2, the output is the array of f-scores at index 0,\n",
    "# and an array of p_values at index 1\n",
    "univariate=f_classif(x_train.fillna(0),y_train)\n",
    "univariate"
   ]
  },
  {
   "cell_type": "code",
   "execution_count": 49,
   "metadata": {},
   "outputs": [
    {
     "data": {
      "text/plain": [
       "v4       9.849298e-01\n",
       "v93      9.280838e-01\n",
       "v128     8.840751e-01\n",
       "v131     7.466121e-01\n",
       "v2       7.241950e-01\n",
       "v101     6.356854e-01\n",
       "v100     5.017337e-01\n",
       "v106     4.340930e-01\n",
       "v99      3.893944e-01\n",
       "v108     3.208601e-01\n",
       "v64      1.865263e-01\n",
       "v82      1.551261e-01\n",
       "v88      9.055518e-02\n",
       "v60      6.687711e-02\n",
       "v17      2.974126e-02\n",
       "v102     2.581477e-02\n",
       "v109     2.312316e-02\n",
       "v44      2.311334e-02\n",
       "v39      2.073890e-02\n",
       "v26      1.975242e-02\n",
       "v87      1.225684e-02\n",
       "v76      9.650528e-03\n",
       "v43      8.922806e-03\n",
       "v6       5.499844e-03\n",
       "v27      5.227638e-03\n",
       "v7       3.526777e-03\n",
       "v127     2.407669e-03\n",
       "v116     2.241343e-03\n",
       "v61      1.720973e-03\n",
       "v59      1.565263e-03\n",
       "            ...      \n",
       "v15      2.577917e-16\n",
       "v23      6.881230e-17\n",
       "v73      2.268300e-17\n",
       "v40      2.759272e-18\n",
       "v48      2.083315e-18\n",
       "v36      1.296239e-18\n",
       "v81      6.518513e-20\n",
       "v58      4.259207e-21\n",
       "v84      3.908453e-22\n",
       "v111     1.206336e-22\n",
       "v51      1.154563e-25\n",
       "v33      1.136732e-25\n",
       "v83      2.076381e-26\n",
       "v121     1.841249e-26\n",
       "v55      1.141200e-26\n",
       "v130     3.290628e-29\n",
       "v85      1.914444e-30\n",
       "v123     5.641531e-40\n",
       "v21      2.454242e-46\n",
       "v119     1.701081e-46\n",
       "v12      3.671764e-50\n",
       "v38      5.231258e-68\n",
       "v114     3.182699e-99\n",
       "v72     3.691034e-102\n",
       "v62     5.646725e-157\n",
       "v34     2.847639e-157\n",
       "v14     1.905480e-304\n",
       "v10      0.000000e+00\n",
       "v50      0.000000e+00\n",
       "v129     0.000000e+00\n",
       "Length: 112, dtype: float64"
      ]
     },
     "execution_count": 49,
     "metadata": {},
     "output_type": "execute_result"
    }
   ],
   "source": [
    "# Let's add the varaible name against the respective p_values\n",
    "univariate=pd.Series(univariate[1])\n",
    "univariate.index=x_train.columns\n",
    "univariate.sort_values(ascending=False)"
   ]
  },
  {
   "cell_type": "code",
   "execution_count": 50,
   "metadata": {},
   "outputs": [
    {
     "data": {
      "text/plain": [
       "<matplotlib.axes._subplots.AxesSubplot at 0x1a13cde828>"
      ]
     },
     "execution_count": 50,
     "metadata": {},
     "output_type": "execute_result"
    },
    {
     "data": {
      "image/png": "[encoded data removed]",
      "text/plain": [
       "<Figure size 1440x576 with 1 Axes>"
      ]
     },
     "metadata": {
      "needs_background": "light"
     },
     "output_type": "display_data"
    }
   ],
   "source": [
    "univariate.sort_values(ascending=False,inplace=True).plot.bar(figsize=(20,8))"
   ]
  },
  {
   "cell_type": "markdown",
   "metadata": {},
   "source": [
    "Remember that the lower the p_value more predictable the feature is to the principle. There are few features on the left that do not seem to have predictive power according to this test. Thus, we'll assume that variables with p_values greater than 0.05(5%) are indeed not important for us.\n",
    "\n",
    "Similarly as in case of chi2, if the data set is large, it is not unusual to have small pvalues. This doesnot say much about the relevance of the feature. Mostly it indicates that the dataset is big.\n",
    "\n",
    "Once again, where we put cut-off to select features is a bit arbitrary. One way is to select the top 10,20 features. Alternatively, the top 10th percentile. This can be achieved by using either `SelectKBest` OR `SelectPercentile`"
   ]
  },
  {
   "cell_type": "code",
   "execution_count": 52,
   "metadata": {},
   "outputs": [
    {
     "data": {
      "text/plain": [
       "Index(['v10', 'v12', 'v14', 'v34', 'v38', 'v50', 'v62', 'v72', 'v114', 'v129'], dtype='object')"
      ]
     },
     "execution_count": 52,
     "metadata": {},
     "output_type": "execute_result"
    }
   ],
   "source": [
    "# Here we'll select the top 10 featuer\n",
    "sel_=SelectKBest(f_classif,k=10).fit(x_train.fillna(0),y_train)\n",
    "\n",
    "# Features that can be used for modelling\n",
    "x_train.columns[sel_.get_support()]"
   ]
  },
  {
   "cell_type": "code",
   "execution_count": 54,
   "metadata": {},
   "outputs": [
    {
     "data": {
      "text/plain": [
       "(80024, 10)"
      ]
     },
     "execution_count": 54,
     "metadata": {},
     "output_type": "execute_result"
    }
   ],
   "source": [
    "x_train=sel_.transform(x_train.fillna(0))\n",
    "x_train.shape"
   ]
  },
  {
   "cell_type": "code",
   "execution_count": 77,
   "metadata": {},
   "outputs": [
    {
     "data": {
      "text/html": [
       "<div>\n",
       "<style scoped>\n",
       "    .dataframe tbody tr th:only-of-type {\n",
       "        vertical-align: middle;\n",
       "    }\n",
       "\n",
       "    .dataframe tbody tr th {\n",
       "        vertical-align: top;\n",
       "    }\n",
       "\n",
       "    .dataframe thead th {\n",
       "        text-align: right;\n",
       "    }\n",
       "</style>\n",
       "<table border=\"1\" class=\"dataframe\">\n",
       "  <thead>\n",
       "    <tr style=\"text-align: right;\">\n",
       "      <th></th>\n",
       "      <th>OverallQual</th>\n",
       "      <th>GrLivArea</th>\n",
       "      <th>GarageCars</th>\n",
       "      <th>GarageArea</th>\n",
       "    </tr>\n",
       "  </thead>\n",
       "  <tbody>\n",
       "    <tr>\n",
       "      <th>0</th>\n",
       "      <td>7.0</td>\n",
       "      <td>2034.0</td>\n",
       "      <td>2.0</td>\n",
       "      <td>645.0</td>\n",
       "    </tr>\n",
       "    <tr>\n",
       "      <th>1</th>\n",
       "      <td>6.0</td>\n",
       "      <td>1291.0</td>\n",
       "      <td>2.0</td>\n",
       "      <td>431.0</td>\n",
       "    </tr>\n",
       "    <tr>\n",
       "      <th>2</th>\n",
       "      <td>5.0</td>\n",
       "      <td>858.0</td>\n",
       "      <td>0.0</td>\n",
       "      <td>0.0</td>\n",
       "    </tr>\n",
       "    <tr>\n",
       "      <th>3</th>\n",
       "      <td>6.0</td>\n",
       "      <td>1258.0</td>\n",
       "      <td>1.0</td>\n",
       "      <td>280.0</td>\n",
       "    </tr>\n",
       "    <tr>\n",
       "      <th>4</th>\n",
       "      <td>2.0</td>\n",
       "      <td>438.0</td>\n",
       "      <td>1.0</td>\n",
       "      <td>246.0</td>\n",
       "    </tr>\n",
       "  </tbody>\n",
       "</table>\n",
       "</div>"
      ],
      "text/plain": [
       "   OverallQual  GrLivArea  GarageCars  GarageArea\n",
       "0          7.0     2034.0         2.0       645.0\n",
       "1          6.0     1291.0         2.0       431.0\n",
       "2          5.0      858.0         0.0         0.0\n",
       "3          6.0     1258.0         1.0       280.0\n",
       "4          2.0      438.0         1.0       246.0"
      ]
     },
     "execution_count": 77,
     "metadata": {},
     "output_type": "execute_result"
    }
   ],
   "source": [
    "x_train.head()"
   ]
  },
  {
   "cell_type": "markdown",
   "metadata": {},
   "source": [
    "### 2. Regression Feature Selection "
   ]
  },
  {
   "cell_type": "code",
   "execution_count": 78,
   "metadata": {},
   "outputs": [
    {
     "data": {
      "text/plain": [
       "(1460, 81)"
      ]
     },
     "execution_count": 78,
     "metadata": {},
     "output_type": "execute_result"
    }
   ],
   "source": [
    "# We'll use the housepriceprediction dataset from kaggle\n",
    "data=pd.read_csv('datasets/houseprice.csv')\n",
    "data.shape"
   ]
  },
  {
   "cell_type": "code",
   "execution_count": 79,
   "metadata": {},
   "outputs": [
    {
     "data": {
      "text/html": [
       "<div>\n",
       "<style scoped>\n",
       "    .dataframe tbody tr th:only-of-type {\n",
       "        vertical-align: middle;\n",
       "    }\n",
       "\n",
       "    .dataframe tbody tr th {\n",
       "        vertical-align: top;\n",
       "    }\n",
       "\n",
       "    .dataframe thead th {\n",
       "        text-align: right;\n",
       "    }\n",
       "</style>\n",
       "<table border=\"1\" class=\"dataframe\">\n",
       "  <thead>\n",
       "    <tr style=\"text-align: right;\">\n",
       "      <th></th>\n",
       "      <th>Id</th>\n",
       "      <th>MSSubClass</th>\n",
       "      <th>MSZoning</th>\n",
       "      <th>LotFrontage</th>\n",
       "      <th>LotArea</th>\n",
       "      <th>Street</th>\n",
       "      <th>Alley</th>\n",
       "      <th>LotShape</th>\n",
       "      <th>LandContour</th>\n",
       "      <th>Utilities</th>\n",
       "      <th>...</th>\n",
       "      <th>PoolArea</th>\n",
       "      <th>PoolQC</th>\n",
       "      <th>Fence</th>\n",
       "      <th>MiscFeature</th>\n",
       "      <th>MiscVal</th>\n",
       "      <th>MoSold</th>\n",
       "      <th>YrSold</th>\n",
       "      <th>SaleType</th>\n",
       "      <th>SaleCondition</th>\n",
       "      <th>SalePrice</th>\n",
       "    </tr>\n",
       "  </thead>\n",
       "  <tbody>\n",
       "    <tr>\n",
       "      <th>0</th>\n",
       "      <td>1</td>\n",
       "      <td>60</td>\n",
       "      <td>RL</td>\n",
       "      <td>65.0</td>\n",
       "      <td>8450</td>\n",
       "      <td>Pave</td>\n",
       "      <td>NaN</td>\n",
       "      <td>Reg</td>\n",
       "      <td>Lvl</td>\n",
       "      <td>AllPub</td>\n",
       "      <td>...</td>\n",
       "      <td>0</td>\n",
       "      <td>NaN</td>\n",
       "      <td>NaN</td>\n",
       "      <td>NaN</td>\n",
       "      <td>0</td>\n",
       "      <td>2</td>\n",
       "      <td>2008</td>\n",
       "      <td>WD</td>\n",
       "      <td>Normal</td>\n",
       "      <td>208500</td>\n",
       "    </tr>\n",
       "    <tr>\n",
       "      <th>1</th>\n",
       "      <td>2</td>\n",
       "      <td>20</td>\n",
       "      <td>RL</td>\n",
       "      <td>80.0</td>\n",
       "      <td>9600</td>\n",
       "      <td>Pave</td>\n",
       "      <td>NaN</td>\n",
       "      <td>Reg</td>\n",
       "      <td>Lvl</td>\n",
       "      <td>AllPub</td>\n",
       "      <td>...</td>\n",
       "      <td>0</td>\n",
       "      <td>NaN</td>\n",
       "      <td>NaN</td>\n",
       "      <td>NaN</td>\n",
       "      <td>0</td>\n",
       "      <td>5</td>\n",
       "      <td>2007</td>\n",
       "      <td>WD</td>\n",
       "      <td>Normal</td>\n",
       "      <td>181500</td>\n",
       "    </tr>\n",
       "    <tr>\n",
       "      <th>2</th>\n",
       "      <td>3</td>\n",
       "      <td>60</td>\n",
       "      <td>RL</td>\n",
       "      <td>68.0</td>\n",
       "      <td>11250</td>\n",
       "      <td>Pave</td>\n",
       "      <td>NaN</td>\n",
       "      <td>IR1</td>\n",
       "      <td>Lvl</td>\n",
       "      <td>AllPub</td>\n",
       "      <td>...</td>\n",
       "      <td>0</td>\n",
       "      <td>NaN</td>\n",
       "      <td>NaN</td>\n",
       "      <td>NaN</td>\n",
       "      <td>0</td>\n",
       "      <td>9</td>\n",
       "      <td>2008</td>\n",
       "      <td>WD</td>\n",
       "      <td>Normal</td>\n",
       "      <td>223500</td>\n",
       "    </tr>\n",
       "    <tr>\n",
       "      <th>3</th>\n",
       "      <td>4</td>\n",
       "      <td>70</td>\n",
       "      <td>RL</td>\n",
       "      <td>60.0</td>\n",
       "      <td>9550</td>\n",
       "      <td>Pave</td>\n",
       "      <td>NaN</td>\n",
       "      <td>IR1</td>\n",
       "      <td>Lvl</td>\n",
       "      <td>AllPub</td>\n",
       "      <td>...</td>\n",
       "      <td>0</td>\n",
       "      <td>NaN</td>\n",
       "      <td>NaN</td>\n",
       "      <td>NaN</td>\n",
       "      <td>0</td>\n",
       "      <td>2</td>\n",
       "      <td>2006</td>\n",
       "      <td>WD</td>\n",
       "      <td>Abnorml</td>\n",
       "      <td>140000</td>\n",
       "    </tr>\n",
       "    <tr>\n",
       "      <th>4</th>\n",
       "      <td>5</td>\n",
       "      <td>60</td>\n",
       "      <td>RL</td>\n",
       "      <td>84.0</td>\n",
       "      <td>14260</td>\n",
       "      <td>Pave</td>\n",
       "      <td>NaN</td>\n",
       "      <td>IR1</td>\n",
       "      <td>Lvl</td>\n",
       "      <td>AllPub</td>\n",
       "      <td>...</td>\n",
       "      <td>0</td>\n",
       "      <td>NaN</td>\n",
       "      <td>NaN</td>\n",
       "      <td>NaN</td>\n",
       "      <td>0</td>\n",
       "      <td>12</td>\n",
       "      <td>2008</td>\n",
       "      <td>WD</td>\n",
       "      <td>Normal</td>\n",
       "      <td>250000</td>\n",
       "    </tr>\n",
       "  </tbody>\n",
       "</table>\n",
       "<p>5 rows × 81 columns</p>\n",
       "</div>"
      ],
      "text/plain": [
       "   Id  MSSubClass MSZoning  LotFrontage  LotArea Street Alley LotShape  \\\n",
       "0   1          60       RL         65.0     8450   Pave   NaN      Reg   \n",
       "1   2          20       RL         80.0     9600   Pave   NaN      Reg   \n",
       "2   3          60       RL         68.0    11250   Pave   NaN      IR1   \n",
       "3   4          70       RL         60.0     9550   Pave   NaN      IR1   \n",
       "4   5          60       RL         84.0    14260   Pave   NaN      IR1   \n",
       "\n",
       "  LandContour Utilities    ...     PoolArea PoolQC Fence MiscFeature MiscVal  \\\n",
       "0         Lvl    AllPub    ...            0    NaN   NaN         NaN       0   \n",
       "1         Lvl    AllPub    ...            0    NaN   NaN         NaN       0   \n",
       "2         Lvl    AllPub    ...            0    NaN   NaN         NaN       0   \n",
       "3         Lvl    AllPub    ...            0    NaN   NaN         NaN       0   \n",
       "4         Lvl    AllPub    ...            0    NaN   NaN         NaN       0   \n",
       "\n",
       "  MoSold YrSold  SaleType  SaleCondition  SalePrice  \n",
       "0      2   2008        WD         Normal     208500  \n",
       "1      5   2007        WD         Normal     181500  \n",
       "2      9   2008        WD         Normal     223500  \n",
       "3      2   2006        WD        Abnorml     140000  \n",
       "4     12   2008        WD         Normal     250000  \n",
       "\n",
       "[5 rows x 81 columns]"
      ]
     },
     "execution_count": 79,
     "metadata": {},
     "output_type": "execute_result"
    }
   ],
   "source": [
    "data.head()"
   ]
  },
  {
   "cell_type": "code",
   "execution_count": 80,
   "metadata": {},
   "outputs": [
    {
     "data": {
      "text/plain": [
       "(1460, 38)"
      ]
     },
     "execution_count": 80,
     "metadata": {},
     "output_type": "execute_result"
    }
   ],
   "source": [
    "# Convert Categorical values into numerical using encoding\n",
    "# and then use them for further processes.\n",
    "\n",
    "# For simplicity we'll use only numerical cols now\n",
    "numerical_vals=data.select_dtypes(include=numerics).columns\n",
    "data=data[numerical_vals]\n",
    "data.shape"
   ]
  },
  {
   "cell_type": "code",
   "execution_count": 81,
   "metadata": {},
   "outputs": [
    {
     "data": {
      "text/plain": [
       "((1022, 36), (438, 36))"
      ]
     },
     "execution_count": 81,
     "metadata": {},
     "output_type": "execute_result"
    }
   ],
   "source": [
    "# Now split the data like we did above\n",
    "x_train,x_test,y_train,y_test=train_test_split(data.drop(labels=['SalePrice','Id'],axis=1),\n",
    "                                              data['SalePrice'],test_size=0.3,random_state=0)\n",
    "x_train.shape,x_test.shape"
   ]
  },
  {
   "cell_type": "code",
   "execution_count": 82,
   "metadata": {},
   "outputs": [
    {
     "data": {
      "text/plain": [
       "(array([6.73682615e+00, 3.94145023e+01, 7.33363614e+01, 1.62857050e+03,\n",
       "        1.38505790e+00, 3.65097556e+02, 3.62663803e+02, 3.04197009e+02,\n",
       "        1.93160129e+02, 2.64166379e-01, 4.33623731e+01, 6.54341155e+02,\n",
       "        6.05576313e+02, 1.28758896e+02, 4.21311432e-02, 1.13187965e+03,\n",
       "        5.98878339e+01, 3.74697166e-01, 4.97954582e+02, 8.65303218e+01,\n",
       "        3.89632778e+01, 1.92381821e+01, 4.31845019e+02, 2.93787921e+02,\n",
       "        7.95849269e+01, 7.58024880e+02, 7.27175552e+02, 1.02368716e+02,\n",
       "        1.09493897e+02, 1.42760011e+01, 3.52022335e+00, 9.59825179e+00,\n",
       "        1.22112072e+00, 7.33481415e-01, 2.11044803e+00, 2.78001568e+00]),\n",
       " array([9.57991693e-003, 5.06213650e-010, 3.98274527e-017, 1.42257159e-213,\n",
       "        2.39516038e-001, 8.26023733e-070, 2.03038106e-069, 8.04969151e-060,\n",
       "        2.41079365e-040, 6.07383462e-001, 7.26891935e-011, 6.70757414e-112,\n",
       "        2.41864868e-105, 3.45788546e-028, 8.37410946e-001, 1.53312942e-167,\n",
       "        2.40752943e-014, 5.40591400e-001, 3.82659966e-090, 8.14428943e-020,\n",
       "        6.32389876e-010, 1.27359099e-005, 2.92810962e-080, 4.56582052e-058,\n",
       "        2.09825253e-018, 3.16142686e-125, 2.40845357e-121, 5.37449335e-023,\n",
       "        2.06877117e-024, 1.67005152e-004, 6.09096484e-002, 2.00091638e-003,\n",
       "        2.69401412e-001, 3.91958201e-001, 1.46604031e-001, 9.57542024e-002]))"
      ]
     },
     "execution_count": 82,
     "metadata": {},
     "output_type": "execute_result"
    }
   ],
   "source": [
    "# Performing statistical test for regression\n",
    "univariate=f_regression(x_train.fillna(0),y_train)\n",
    "univariate"
   ]
  },
  {
   "cell_type": "code",
   "execution_count": 83,
   "metadata": {},
   "outputs": [
    {
     "data": {
      "text/plain": [
       "MSSubClass        9.579917e-03\n",
       "LotFrontage       5.062137e-10\n",
       "LotArea           3.982745e-17\n",
       "OverallQual      1.422572e-213\n",
       "OverallCond       2.395160e-01\n",
       "YearBuilt         8.260237e-70\n",
       "YearRemodAdd      2.030381e-69\n",
       "MasVnrArea        8.049692e-60\n",
       "BsmtFinSF1        2.410794e-40\n",
       "BsmtFinSF2        6.073835e-01\n",
       "BsmtUnfSF         7.268919e-11\n",
       "TotalBsmtSF      6.707574e-112\n",
       "1stFlrSF         2.418649e-105\n",
       "2ndFlrSF          3.457885e-28\n",
       "LowQualFinSF      8.374109e-01\n",
       "GrLivArea        1.533129e-167\n",
       "BsmtFullBath      2.407529e-14\n",
       "BsmtHalfBath      5.405914e-01\n",
       "FullBath          3.826600e-90\n",
       "HalfBath          8.144289e-20\n",
       "BedroomAbvGr      6.323899e-10\n",
       "KitchenAbvGr      1.273591e-05\n",
       "TotRmsAbvGrd      2.928110e-80\n",
       "Fireplaces        4.565821e-58\n",
       "GarageYrBlt       2.098253e-18\n",
       "GarageCars       3.161427e-125\n",
       "GarageArea       2.408454e-121\n",
       "WoodDeckSF        5.374493e-23\n",
       "OpenPorchSF       2.068771e-24\n",
       "EnclosedPorch     1.670052e-04\n",
       "3SsnPorch         6.090965e-02\n",
       "ScreenPorch       2.000916e-03\n",
       "PoolArea          2.694014e-01\n",
       "MiscVal           3.919582e-01\n",
       "MoSold            1.466040e-01\n",
       "YrSold            9.575420e-02\n",
       "dtype: float64"
      ]
     },
     "execution_count": 83,
     "metadata": {},
     "output_type": "execute_result"
    }
   ],
   "source": [
    "univariate=pd.Series(univariate[1])\n",
    "univariate.index=x_train.columns\n",
    "univariate"
   ]
  },
  {
   "cell_type": "code",
   "execution_count": 84,
   "metadata": {},
   "outputs": [
    {
     "data": {
      "text/plain": [
       "<matplotlib.axes._subplots.AxesSubplot at 0x1a13cb3a58>"
      ]
     },
     "execution_count": 84,
     "metadata": {},
     "output_type": "execute_result"
    },
    {
     "data": {
      "image/png": "[encoded data removed]",
      "text/plain": [
       "<Figure size 1440x648 with 1 Axes>"
      ]
     },
     "metadata": {
      "needs_background": "light"
     },
     "output_type": "display_data"
    }
   ],
   "source": [
    "univariate.sort_values(ascending=False).plot.bar(figsize=(20,9))"
   ]
  },
  {
   "cell_type": "code",
   "execution_count": 85,
   "metadata": {},
   "outputs": [
    {
     "data": {
      "text/plain": [
       "MSSubClass        9.579917e-03\n",
       "LotFrontage       5.062137e-10\n",
       "LotArea           3.982745e-17\n",
       "OverallQual      1.422572e-213\n",
       "YearBuilt         8.260237e-70\n",
       "YearRemodAdd      2.030381e-69\n",
       "MasVnrArea        8.049692e-60\n",
       "BsmtFinSF1        2.410794e-40\n",
       "BsmtUnfSF         7.268919e-11\n",
       "TotalBsmtSF      6.707574e-112\n",
       "1stFlrSF         2.418649e-105\n",
       "2ndFlrSF          3.457885e-28\n",
       "GrLivArea        1.533129e-167\n",
       "BsmtFullBath      2.407529e-14\n",
       "FullBath          3.826600e-90\n",
       "HalfBath          8.144289e-20\n",
       "BedroomAbvGr      6.323899e-10\n",
       "KitchenAbvGr      1.273591e-05\n",
       "TotRmsAbvGrd      2.928110e-80\n",
       "Fireplaces        4.565821e-58\n",
       "GarageYrBlt       2.098253e-18\n",
       "GarageCars       3.161427e-125\n",
       "GarageArea       2.408454e-121\n",
       "WoodDeckSF        5.374493e-23\n",
       "OpenPorchSF       2.068771e-24\n",
       "EnclosedPorch     1.670052e-04\n",
       "ScreenPorch       2.000916e-03\n",
       "dtype: float64"
      ]
     },
     "execution_count": 85,
     "metadata": {},
     "output_type": "execute_result"
    }
   ],
   "source": [
    "# All important features with pvalue<0.05\n",
    "univariate[univariate<0.05]"
   ]
  },
  {
   "cell_type": "code",
   "execution_count": 86,
   "metadata": {},
   "outputs": [
    {
     "data": {
      "text/plain": [
       "Index(['OverallQual', 'GrLivArea', 'GarageCars', 'GarageArea'], dtype='object')"
      ]
     },
     "execution_count": 86,
     "metadata": {},
     "output_type": "execute_result"
    }
   ],
   "source": [
    "# We'll use Percentile method here to select top 10 percentile entries\n",
    "sel_=SelectPercentile(f_regression,percentile=10).fit(x_train.fillna(0),y_train)\n",
    "x_train.columns[sel_.get_support()]"
   ]
  },
  {
   "cell_type": "code",
   "execution_count": 88,
   "metadata": {},
   "outputs": [
    {
     "ename": "AttributeError",
     "evalue": "'numpy.ndarray' object has no attribute 'head'",
     "output_type": "error",
     "traceback": [
      "\u001b[0;31m---------------------------------------------------------------------------\u001b[0m",
      "\u001b[0;31mAttributeError\u001b[0m                            Traceback (most recent call last)",
      "\u001b[0;32m<ipython-input-88-cdde005dbe35>\u001b[0m in \u001b[0;36m<module>\u001b[0;34m\u001b[0m\n\u001b[1;32m      1\u001b[0m \u001b[0mx_train\u001b[0m\u001b[0;34m=\u001b[0m\u001b[0msel_\u001b[0m\u001b[0;34m.\u001b[0m\u001b[0mtransform\u001b[0m\u001b[0;34m(\u001b[0m\u001b[0mx_train\u001b[0m\u001b[0;34m.\u001b[0m\u001b[0mfillna\u001b[0m\u001b[0;34m(\u001b[0m\u001b[0;36m0\u001b[0m\u001b[0;34m)\u001b[0m\u001b[0;34m)\u001b[0m\u001b[0;34m\u001b[0m\u001b[0;34m\u001b[0m\u001b[0m\n\u001b[0;32m----> 2\u001b[0;31m \u001b[0mx_train\u001b[0m\u001b[0;34m.\u001b[0m\u001b[0mhead\u001b[0m\u001b[0;34m(\u001b[0m\u001b[0;34m)\u001b[0m\u001b[0;34m\u001b[0m\u001b[0;34m\u001b[0m\u001b[0m\n\u001b[0m",
      "\u001b[0;31mAttributeError\u001b[0m: 'numpy.ndarray' object has no attribute 'head'"
     ]
    }
   ],
   "source": [
    "x_train=sel_.transform(x_train.fillna(0))\n",
    "x_train.head()"
   ]
  },
  {
   "cell_type": "code",
   "execution_count": 74,
   "metadata": {},
   "outputs": [],
   "source": [
    "x_train=pd.DataFrame(x_train)"
   ]
  },
  {
   "cell_type": "code",
   "execution_count": 75,
   "metadata": {},
   "outputs": [],
   "source": [
    "x_train.columns=['OverallQual', 'GrLivArea', 'GarageCars', 'GarageArea']"
   ]
  },
  {
   "cell_type": "code",
   "execution_count": 76,
   "metadata": {},
   "outputs": [
    {
     "data": {
      "text/html": [
       "<div>\n",
       "<style scoped>\n",
       "    .dataframe tbody tr th:only-of-type {\n",
       "        vertical-align: middle;\n",
       "    }\n",
       "\n",
       "    .dataframe tbody tr th {\n",
       "        vertical-align: top;\n",
       "    }\n",
       "\n",
       "    .dataframe thead th {\n",
       "        text-align: right;\n",
       "    }\n",
       "</style>\n",
       "<table border=\"1\" class=\"dataframe\">\n",
       "  <thead>\n",
       "    <tr style=\"text-align: right;\">\n",
       "      <th></th>\n",
       "      <th>OverallQual</th>\n",
       "      <th>GrLivArea</th>\n",
       "      <th>GarageCars</th>\n",
       "      <th>GarageArea</th>\n",
       "    </tr>\n",
       "  </thead>\n",
       "  <tbody>\n",
       "    <tr>\n",
       "      <th>0</th>\n",
       "      <td>7.0</td>\n",
       "      <td>2034.0</td>\n",
       "      <td>2.0</td>\n",
       "      <td>645.0</td>\n",
       "    </tr>\n",
       "    <tr>\n",
       "      <th>1</th>\n",
       "      <td>6.0</td>\n",
       "      <td>1291.0</td>\n",
       "      <td>2.0</td>\n",
       "      <td>431.0</td>\n",
       "    </tr>\n",
       "    <tr>\n",
       "      <th>2</th>\n",
       "      <td>5.0</td>\n",
       "      <td>858.0</td>\n",
       "      <td>0.0</td>\n",
       "      <td>0.0</td>\n",
       "    </tr>\n",
       "    <tr>\n",
       "      <th>3</th>\n",
       "      <td>6.0</td>\n",
       "      <td>1258.0</td>\n",
       "      <td>1.0</td>\n",
       "      <td>280.0</td>\n",
       "    </tr>\n",
       "    <tr>\n",
       "      <th>4</th>\n",
       "      <td>2.0</td>\n",
       "      <td>438.0</td>\n",
       "      <td>1.0</td>\n",
       "      <td>246.0</td>\n",
       "    </tr>\n",
       "  </tbody>\n",
       "</table>\n",
       "</div>"
      ],
      "text/plain": [
       "   OverallQual  GrLivArea  GarageCars  GarageArea\n",
       "0          7.0     2034.0         2.0       645.0\n",
       "1          6.0     1291.0         2.0       431.0\n",
       "2          5.0      858.0         0.0         0.0\n",
       "3          6.0     1258.0         1.0       280.0\n",
       "4          2.0      438.0         1.0       246.0"
      ]
     },
     "execution_count": 76,
     "metadata": {},
     "output_type": "execute_result"
    }
   ],
   "source": [
    "x_train.head()"
   ]
  },
  {
   "cell_type": "code",
   "execution_count": null,
   "metadata": {},
   "outputs": [],
   "source": []
  }
 ],
 "metadata": {
  "kernelspec": {
   "display_name": "Python 3",
   "language": "python",
   "name": "python3"
  },
  "language_info": {
   "codemirror_mode": {
    "name": "ipython",
    "version": 3
   },
   "file_extension": ".py",
   "mimetype": "text/x-python",
   "name": "python",
   "nbconvert_exporter": "python",
   "pygments_lexer": "ipython3",
   "version": "3.6.10"
  }
 },
 "nbformat": 4,
 "nbformat_minor": 4
}
