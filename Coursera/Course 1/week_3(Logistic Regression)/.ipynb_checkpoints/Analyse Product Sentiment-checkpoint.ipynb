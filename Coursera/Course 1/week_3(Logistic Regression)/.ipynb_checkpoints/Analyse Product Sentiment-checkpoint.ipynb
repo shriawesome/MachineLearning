{
 "cells": [
  {
   "cell_type": "code",
   "execution_count": 1,
   "metadata": {},
   "outputs": [],
   "source": [
    "import pandas as pd\n",
    "from matplotlib.pyplot import plot as plt\n",
    "import numpy as np"
   ]
  },
  {
   "cell_type": "markdown",
   "metadata": {},
   "source": [
    "# Read some product review data"
   ]
  },
  {
   "cell_type": "code",
   "execution_count": 2,
   "metadata": {},
   "outputs": [
    {
     "data": {
      "text/plain": [
       "Index(['name', 'review', 'rating'], dtype='object')"
      ]
     },
     "execution_count": 2,
     "metadata": {},
     "output_type": "execute_result"
    }
   ],
   "source": [
    "products=pd.read_csv('data_set/amazon_baby.csv')\n",
    "products.columns"
   ]
  },
  {
   "cell_type": "markdown",
   "metadata": {},
   "source": [
    "# Building a sentiment classifier"
   ]
  },
  {
   "cell_type": "code",
   "execution_count": 3,
   "metadata": {},
   "outputs": [
    {
     "name": "stdout",
     "output_type": "stream",
     "text": [
      "rating\n",
      "1     15183\n",
      "2     11310\n",
      "3     16779\n",
      "4     33205\n",
      "5    107054\n",
      "dtype: int64\n"
     ]
    }
   ],
   "source": [
    "print(products.groupby('rating').size())"
   ]
  },
  {
   "cell_type": "markdown",
   "metadata": {},
   "source": [
    "## Define what's a positive and a negative sentiment"
   ]
  },
  {
   "cell_type": "code",
   "execution_count": 4,
   "metadata": {},
   "outputs": [],
   "source": [
    "#ignore 3* rating\n",
    "products=products[products['rating']!=3]"
   ]
  },
  {
   "cell_type": "code",
   "execution_count": 5,
   "metadata": {},
   "outputs": [],
   "source": [
    "#add a sentiment column with 4* and 5* rating\n",
    "products['sentiment'] = products['rating']>=4 "
   ]
  },
  {
   "cell_type": "code",
   "execution_count": 6,
   "metadata": {},
   "outputs": [
    {
     "data": {
      "text/html": [
       "<div>\n",
       "<style scoped>\n",
       "    .dataframe tbody tr th:only-of-type {\n",
       "        vertical-align: middle;\n",
       "    }\n",
       "\n",
       "    .dataframe tbody tr th {\n",
       "        vertical-align: top;\n",
       "    }\n",
       "\n",
       "    .dataframe thead th {\n",
       "        text-align: right;\n",
       "    }\n",
       "</style>\n",
       "<table border=\"1\" class=\"dataframe\">\n",
       "  <thead>\n",
       "    <tr style=\"text-align: right;\">\n",
       "      <th></th>\n",
       "      <th>name</th>\n",
       "      <th>review</th>\n",
       "      <th>rating</th>\n",
       "      <th>sentiment</th>\n",
       "    </tr>\n",
       "  </thead>\n",
       "  <tbody>\n",
       "    <tr>\n",
       "      <th>1</th>\n",
       "      <td>Planetwise Wipe Pouch</td>\n",
       "      <td>it came early and was not disappointed. i love...</td>\n",
       "      <td>5</td>\n",
       "      <td>1.0</td>\n",
       "    </tr>\n",
       "    <tr>\n",
       "      <th>2</th>\n",
       "      <td>Annas Dream Full Quilt with 2 Shams</td>\n",
       "      <td>Very soft and comfortable and warmer than it l...</td>\n",
       "      <td>5</td>\n",
       "      <td>1.0</td>\n",
       "    </tr>\n",
       "    <tr>\n",
       "      <th>3</th>\n",
       "      <td>Stop Pacifier Sucking without tears with Thumb...</td>\n",
       "      <td>This is a product well worth the purchase.  I ...</td>\n",
       "      <td>5</td>\n",
       "      <td>1.0</td>\n",
       "    </tr>\n",
       "    <tr>\n",
       "      <th>4</th>\n",
       "      <td>Stop Pacifier Sucking without tears with Thumb...</td>\n",
       "      <td>All of my kids have cried non-stop when I trie...</td>\n",
       "      <td>5</td>\n",
       "      <td>1.0</td>\n",
       "    </tr>\n",
       "    <tr>\n",
       "      <th>5</th>\n",
       "      <td>Stop Pacifier Sucking without tears with Thumb...</td>\n",
       "      <td>When the Binky Fairy came to our house, we did...</td>\n",
       "      <td>5</td>\n",
       "      <td>1.0</td>\n",
       "    </tr>\n",
       "    <tr>\n",
       "      <th>6</th>\n",
       "      <td>A Tale of Baby\\'s Days with Peter Rabbit</td>\n",
       "      <td>Lovely book, it\\'s bound tightly so you may no...</td>\n",
       "      <td>4</td>\n",
       "      <td>1.0</td>\n",
       "    </tr>\n",
       "    <tr>\n",
       "      <th>7</th>\n",
       "      <td>Baby Tracker&amp;reg; - Daily Childcare Journal, S...</td>\n",
       "      <td>Perfect for new parents. We were able to keep ...</td>\n",
       "      <td>5</td>\n",
       "      <td>1.0</td>\n",
       "    </tr>\n",
       "    <tr>\n",
       "      <th>8</th>\n",
       "      <td>Baby Tracker&amp;reg; - Daily Childcare Journal, S...</td>\n",
       "      <td>A friend of mine pinned this product on Pinter...</td>\n",
       "      <td>5</td>\n",
       "      <td>1.0</td>\n",
       "    </tr>\n",
       "    <tr>\n",
       "      <th>9</th>\n",
       "      <td>Baby Tracker&amp;reg; - Daily Childcare Journal, S...</td>\n",
       "      <td>This has been an easy way for my nanny to reco...</td>\n",
       "      <td>4</td>\n",
       "      <td>1.0</td>\n",
       "    </tr>\n",
       "    <tr>\n",
       "      <th>10</th>\n",
       "      <td>Baby Tracker&amp;reg; - Daily Childcare Journal, S...</td>\n",
       "      <td>I love this journal and our nanny uses it ever...</td>\n",
       "      <td>4</td>\n",
       "      <td>1.0</td>\n",
       "    </tr>\n",
       "    <tr>\n",
       "      <th>11</th>\n",
       "      <td>Baby Tracker&amp;reg; - Daily Childcare Journal, S...</td>\n",
       "      <td>This book is perfect!  I\\'m a first time new m...</td>\n",
       "      <td>5</td>\n",
       "      <td>1.0</td>\n",
       "    </tr>\n",
       "    <tr>\n",
       "      <th>12</th>\n",
       "      <td>Baby Tracker&amp;reg; - Daily Childcare Journal, S...</td>\n",
       "      <td>I originally just gave the nanny a pad of pape...</td>\n",
       "      <td>4</td>\n",
       "      <td>1.0</td>\n",
       "    </tr>\n",
       "    <tr>\n",
       "      <th>14</th>\n",
       "      <td>Nature\\'s Lullabies First Year Sticker Calendar</td>\n",
       "      <td>Space for monthly photos, info and a lot of us...</td>\n",
       "      <td>5</td>\n",
       "      <td>1.0</td>\n",
       "    </tr>\n",
       "    <tr>\n",
       "      <th>15</th>\n",
       "      <td>Nature\\'s Lullabies First Year Sticker Calendar</td>\n",
       "      <td>I bought this calender for myself for my secon...</td>\n",
       "      <td>4</td>\n",
       "      <td>1.0</td>\n",
       "    </tr>\n",
       "    <tr>\n",
       "      <th>16</th>\n",
       "      <td>Nature\\'s Lullabies First Year Sticker Calendar</td>\n",
       "      <td>I love this little calender, you can keep trac...</td>\n",
       "      <td>5</td>\n",
       "      <td>1.0</td>\n",
       "    </tr>\n",
       "    <tr>\n",
       "      <th>17</th>\n",
       "      <td>Nature\\'s Lullabies Second Year Sticker Calendar</td>\n",
       "      <td>This was the only calender I could find for th...</td>\n",
       "      <td>5</td>\n",
       "      <td>1.0</td>\n",
       "    </tr>\n",
       "    <tr>\n",
       "      <th>18</th>\n",
       "      <td>Nature\\'s Lullabies Second Year Sticker Calendar</td>\n",
       "      <td>I completed a calendar for my son\\'s first yea...</td>\n",
       "      <td>4</td>\n",
       "      <td>1.0</td>\n",
       "    </tr>\n",
       "    <tr>\n",
       "      <th>19</th>\n",
       "      <td>Nature\\'s Lullabies Second Year Sticker Calendar</td>\n",
       "      <td>We wanted to get something to keep track of ou...</td>\n",
       "      <td>5</td>\n",
       "      <td>1.0</td>\n",
       "    </tr>\n",
       "    <tr>\n",
       "      <th>20</th>\n",
       "      <td>Nature\\'s Lullabies Second Year Sticker Calendar</td>\n",
       "      <td>I had a hard time finding a second year calend...</td>\n",
       "      <td>5</td>\n",
       "      <td>1.0</td>\n",
       "    </tr>\n",
       "    <tr>\n",
       "      <th>21</th>\n",
       "      <td>Nature\\'s Lullabies Second Year Sticker Calendar</td>\n",
       "      <td>I only purchased a second-year calendar for my...</td>\n",
       "      <td>2</td>\n",
       "      <td>0.0</td>\n",
       "    </tr>\n",
       "    <tr>\n",
       "      <th>22</th>\n",
       "      <td>Nature\\'s Lullabies Second Year Sticker Calendar</td>\n",
       "      <td>I LOVE this calendar for recording events of m...</td>\n",
       "      <td>5</td>\n",
       "      <td>1.0</td>\n",
       "    </tr>\n",
       "    <tr>\n",
       "      <th>24</th>\n",
       "      <td>Nature\\'s Lullabies Second Year Sticker Calendar</td>\n",
       "      <td>Wife loves this calender. Comes with a lot of ...</td>\n",
       "      <td>5</td>\n",
       "      <td>1.0</td>\n",
       "    </tr>\n",
       "    <tr>\n",
       "      <th>25</th>\n",
       "      <td>Nature\\'s Lullabies Second Year Sticker Calendar</td>\n",
       "      <td>My daughter had her 1st baby over a year ago. ...</td>\n",
       "      <td>5</td>\n",
       "      <td>1.0</td>\n",
       "    </tr>\n",
       "    <tr>\n",
       "      <th>26</th>\n",
       "      <td>Baby\\'s First Journal - Green</td>\n",
       "      <td>Extremely useful! As a new mom, tired and inex...</td>\n",
       "      <td>5</td>\n",
       "      <td>1.0</td>\n",
       "    </tr>\n",
       "    <tr>\n",
       "      <th>28</th>\n",
       "      <td>Lamaze Peekaboo, I Love You</td>\n",
       "      <td>One of baby\\'s first and favorite books, and i...</td>\n",
       "      <td>4</td>\n",
       "      <td>1.0</td>\n",
       "    </tr>\n",
       "    <tr>\n",
       "      <th>29</th>\n",
       "      <td>Lamaze Peekaboo, I Love You</td>\n",
       "      <td>I like how the book has a hook to attach it to...</td>\n",
       "      <td>5</td>\n",
       "      <td>1.0</td>\n",
       "    </tr>\n",
       "    <tr>\n",
       "      <th>30</th>\n",
       "      <td>Lamaze Peekaboo, I Love You</td>\n",
       "      <td>Beautiful little book.  A great little short s...</td>\n",
       "      <td>5</td>\n",
       "      <td>1.0</td>\n",
       "    </tr>\n",
       "    <tr>\n",
       "      <th>31</th>\n",
       "      <td>Lamaze Peekaboo, I Love You</td>\n",
       "      <td>This book is so worth the money. It says 9+ mo...</td>\n",
       "      <td>5</td>\n",
       "      <td>1.0</td>\n",
       "    </tr>\n",
       "    <tr>\n",
       "      <th>32</th>\n",
       "      <td>Lamaze Peekaboo, I Love You</td>\n",
       "      <td>we just got this book for our one-year-old and...</td>\n",
       "      <td>5</td>\n",
       "      <td>1.0</td>\n",
       "    </tr>\n",
       "    <tr>\n",
       "      <th>33</th>\n",
       "      <td>Lamaze Peekaboo, I Love You</td>\n",
       "      <td>The book is colorful and is perfect for 6month...</td>\n",
       "      <td>4</td>\n",
       "      <td>1.0</td>\n",
       "    </tr>\n",
       "    <tr>\n",
       "      <th>...</th>\n",
       "      <td>...</td>\n",
       "      <td>...</td>\n",
       "      <td>...</td>\n",
       "      <td>...</td>\n",
       "    </tr>\n",
       "    <tr>\n",
       "      <th>183499</th>\n",
       "      <td>Maxboost iPhone 5S/5 Case - Protective Snap-on...</td>\n",
       "      <td>I received a free sample from VIPU program for...</td>\n",
       "      <td>5</td>\n",
       "      <td>1.0</td>\n",
       "    </tr>\n",
       "    <tr>\n",
       "      <th>183500</th>\n",
       "      <td>Maxboost iPhone 5S/5 Case - Protective Snap-on...</td>\n",
       "      <td>Great product, great company! Their daily give...</td>\n",
       "      <td>5</td>\n",
       "      <td>1.0</td>\n",
       "    </tr>\n",
       "    <tr>\n",
       "      <th>183501</th>\n",
       "      <td>Maxboost iPhone 5S/5 Case - Protective Snap-on...</td>\n",
       "      <td>I received a free sample from VIPU program for...</td>\n",
       "      <td>5</td>\n",
       "      <td>1.0</td>\n",
       "    </tr>\n",
       "    <tr>\n",
       "      <th>183502</th>\n",
       "      <td>Maxboost iPhone 5S/5 Case - Protective Snap-on...</td>\n",
       "      <td>It got here incredibly fast &amp; it is a nice dur...</td>\n",
       "      <td>5</td>\n",
       "      <td>1.0</td>\n",
       "    </tr>\n",
       "    <tr>\n",
       "      <th>183503</th>\n",
       "      <td>Maxboost iPhone 5S/5 Case - Protective Snap-on...</td>\n",
       "      <td>I got this case in the mail today, it came on ...</td>\n",
       "      <td>2</td>\n",
       "      <td>0.0</td>\n",
       "    </tr>\n",
       "    <tr>\n",
       "      <th>183504</th>\n",
       "      <td>Maxboost iPhone 5S/5 Case - Protective Snap-on...</td>\n",
       "      <td>Free caseLove it... The color was great firm h...</td>\n",
       "      <td>5</td>\n",
       "      <td>1.0</td>\n",
       "    </tr>\n",
       "    <tr>\n",
       "      <th>183505</th>\n",
       "      <td>Maxboost iPhone 5S/5 Case - Protective Snap-on...</td>\n",
       "      <td>I received a free sample from VIPU program for...</td>\n",
       "      <td>5</td>\n",
       "      <td>1.0</td>\n",
       "    </tr>\n",
       "    <tr>\n",
       "      <th>183506</th>\n",
       "      <td>Maxboost iPhone 5S/5 Case - Protective Snap-on...</td>\n",
       "      <td>This case definitely isn\\'t cheap. It feels ve...</td>\n",
       "      <td>5</td>\n",
       "      <td>1.0</td>\n",
       "    </tr>\n",
       "    <tr>\n",
       "      <th>183507</th>\n",
       "      <td>Maxboost iPhone 5S/5 Case - Protective Snap-on...</td>\n",
       "      <td>got this for my wife and she loves it would de...</td>\n",
       "      <td>5</td>\n",
       "      <td>1.0</td>\n",
       "    </tr>\n",
       "    <tr>\n",
       "      <th>183508</th>\n",
       "      <td>Maxboost iPhone 5S/5 Case - Protective Snap-on...</td>\n",
       "      <td>love this case. It fit perfectly and the color...</td>\n",
       "      <td>5</td>\n",
       "      <td>1.0</td>\n",
       "    </tr>\n",
       "    <tr>\n",
       "      <th>183509</th>\n",
       "      <td>Maxboost iPhone 5S/5 Case - Protective Snap-on...</td>\n",
       "      <td>this case is the greatest very cool and stylis...</td>\n",
       "      <td>5</td>\n",
       "      <td>1.0</td>\n",
       "    </tr>\n",
       "    <tr>\n",
       "      <th>183510</th>\n",
       "      <td>Maxboost iPhone 5S/5 Case - Protective Snap-on...</td>\n",
       "      <td>Great fit. Really love how red it is.</td>\n",
       "      <td>5</td>\n",
       "      <td>1.0</td>\n",
       "    </tr>\n",
       "    <tr>\n",
       "      <th>183512</th>\n",
       "      <td>Maxboost iPhone 5S/5 Case - Protective Snap-on...</td>\n",
       "      <td>*I received a free sample from VIPU program fo...</td>\n",
       "      <td>5</td>\n",
       "      <td>1.0</td>\n",
       "    </tr>\n",
       "    <tr>\n",
       "      <th>183513</th>\n",
       "      <td>Maxboost iPhone 5S/5 Case - Protective Snap-on...</td>\n",
       "      <td>I was a very surprised by the quality of this ...</td>\n",
       "      <td>5</td>\n",
       "      <td>1.0</td>\n",
       "    </tr>\n",
       "    <tr>\n",
       "      <th>183514</th>\n",
       "      <td>Maxboost iPhone 5S/5 Case - Protective Snap-on...</td>\n",
       "      <td>I received a free sample from VIPU program for...</td>\n",
       "      <td>4</td>\n",
       "      <td>1.0</td>\n",
       "    </tr>\n",
       "    <tr>\n",
       "      <th>183515</th>\n",
       "      <td>Maxboost iPhone 5S/5 Case - Protective Snap-on...</td>\n",
       "      <td>I love this phone case!  My  iPhone is always ...</td>\n",
       "      <td>5</td>\n",
       "      <td>1.0</td>\n",
       "    </tr>\n",
       "    <tr>\n",
       "      <th>183517</th>\n",
       "      <td>Baby Mucus Extractor, Nasal Aspirator From Dr....</td>\n",
       "      <td>I recieved this product free of charge and abs...</td>\n",
       "      <td>5</td>\n",
       "      <td>1.0</td>\n",
       "    </tr>\n",
       "    <tr>\n",
       "      <th>183518</th>\n",
       "      <td>Baby Mucus Extractor, Nasal Aspirator From Dr....</td>\n",
       "      <td>The tube is soft and easy to use, and the tip ...</td>\n",
       "      <td>5</td>\n",
       "      <td>1.0</td>\n",
       "    </tr>\n",
       "    <tr>\n",
       "      <th>183519</th>\n",
       "      <td>Baby Mucus Extractor, Nasal Aspirator From Dr....</td>\n",
       "      <td>I love this so much. It works way better than ...</td>\n",
       "      <td>5</td>\n",
       "      <td>1.0</td>\n",
       "    </tr>\n",
       "    <tr>\n",
       "      <th>183520</th>\n",
       "      <td>Baby Mucus Extractor, Nasal Aspirator From Dr....</td>\n",
       "      <td>The aspirator works well but needs to come wit...</td>\n",
       "      <td>4</td>\n",
       "      <td>1.0</td>\n",
       "    </tr>\n",
       "    <tr>\n",
       "      <th>183521</th>\n",
       "      <td>Airline Seat Belt Extender - The Best Extensio...</td>\n",
       "      <td>Up until recently I have hated flying, putting...</td>\n",
       "      <td>5</td>\n",
       "      <td>1.0</td>\n",
       "    </tr>\n",
       "    <tr>\n",
       "      <th>183522</th>\n",
       "      <td>Airline Seat Belt Extender - The Best Extensio...</td>\n",
       "      <td>I bought this as a father\\'s day gift for my d...</td>\n",
       "      <td>5</td>\n",
       "      <td>1.0</td>\n",
       "    </tr>\n",
       "    <tr>\n",
       "      <th>183523</th>\n",
       "      <td>Squeasy Snacker 6oz Silicone Reusable Food Pou...</td>\n",
       "      <td>I love that these can hold purees OR liquids, ...</td>\n",
       "      <td>5</td>\n",
       "      <td>1.0</td>\n",
       "    </tr>\n",
       "    <tr>\n",
       "      <th>183524</th>\n",
       "      <td>Squeasy Snacker 6oz Silicone Reusable Food Pou...</td>\n",
       "      <td>I love this product, it makes my life easier. ...</td>\n",
       "      <td>5</td>\n",
       "      <td>1.0</td>\n",
       "    </tr>\n",
       "    <tr>\n",
       "      <th>183525</th>\n",
       "      <td>Squeasy Snacker 6oz Silicone Reusable Food Pou...</td>\n",
       "      <td>This reusable squeeze bottle is the best I hav...</td>\n",
       "      <td>5</td>\n",
       "      <td>1.0</td>\n",
       "    </tr>\n",
       "    <tr>\n",
       "      <th>183526</th>\n",
       "      <td>Baby Teething Necklace for Mom Pretty Donut Sh...</td>\n",
       "      <td>Such a great idea! very handy to have and look...</td>\n",
       "      <td>5</td>\n",
       "      <td>1.0</td>\n",
       "    </tr>\n",
       "    <tr>\n",
       "      <th>183527</th>\n",
       "      <td>Baby Teething Necklace for Mom Pretty Donut Sh...</td>\n",
       "      <td>This product rocks!  It is a great blend of fu...</td>\n",
       "      <td>5</td>\n",
       "      <td>1.0</td>\n",
       "    </tr>\n",
       "    <tr>\n",
       "      <th>183528</th>\n",
       "      <td>Abstract 2 PK Baby / Toddler Training Cup (Pink)</td>\n",
       "      <td>This item looks great and cool for my kids.......</td>\n",
       "      <td>5</td>\n",
       "      <td>1.0</td>\n",
       "    </tr>\n",
       "    <tr>\n",
       "      <th>183529</th>\n",
       "      <td>Baby Food Freezer Tray - Bacteria Resistant, B...</td>\n",
       "      <td>I am extremely happy with this product. I have...</td>\n",
       "      <td>5</td>\n",
       "      <td>1.0</td>\n",
       "    </tr>\n",
       "    <tr>\n",
       "      <th>183530</th>\n",
       "      <td>Best 2 Pack Baby Car Shade for Kids - Window S...</td>\n",
       "      <td>I love this product very mush . I have bought ...</td>\n",
       "      <td>5</td>\n",
       "      <td>1.0</td>\n",
       "    </tr>\n",
       "  </tbody>\n",
       "</table>\n",
       "<p>166752 rows × 4 columns</p>\n",
       "</div>"
      ],
      "text/plain": [
       "                                                     name  \\\n",
       "1                                   Planetwise Wipe Pouch   \n",
       "2                     Annas Dream Full Quilt with 2 Shams   \n",
       "3       Stop Pacifier Sucking without tears with Thumb...   \n",
       "4       Stop Pacifier Sucking without tears with Thumb...   \n",
       "5       Stop Pacifier Sucking without tears with Thumb...   \n",
       "6                A Tale of Baby\\'s Days with Peter Rabbit   \n",
       "7       Baby Tracker&reg; - Daily Childcare Journal, S...   \n",
       "8       Baby Tracker&reg; - Daily Childcare Journal, S...   \n",
       "9       Baby Tracker&reg; - Daily Childcare Journal, S...   \n",
       "10      Baby Tracker&reg; - Daily Childcare Journal, S...   \n",
       "11      Baby Tracker&reg; - Daily Childcare Journal, S...   \n",
       "12      Baby Tracker&reg; - Daily Childcare Journal, S...   \n",
       "14        Nature\\'s Lullabies First Year Sticker Calendar   \n",
       "15        Nature\\'s Lullabies First Year Sticker Calendar   \n",
       "16        Nature\\'s Lullabies First Year Sticker Calendar   \n",
       "17       Nature\\'s Lullabies Second Year Sticker Calendar   \n",
       "18       Nature\\'s Lullabies Second Year Sticker Calendar   \n",
       "19       Nature\\'s Lullabies Second Year Sticker Calendar   \n",
       "20       Nature\\'s Lullabies Second Year Sticker Calendar   \n",
       "21       Nature\\'s Lullabies Second Year Sticker Calendar   \n",
       "22       Nature\\'s Lullabies Second Year Sticker Calendar   \n",
       "24       Nature\\'s Lullabies Second Year Sticker Calendar   \n",
       "25       Nature\\'s Lullabies Second Year Sticker Calendar   \n",
       "26                          Baby\\'s First Journal - Green   \n",
       "28                            Lamaze Peekaboo, I Love You   \n",
       "29                            Lamaze Peekaboo, I Love You   \n",
       "30                            Lamaze Peekaboo, I Love You   \n",
       "31                            Lamaze Peekaboo, I Love You   \n",
       "32                            Lamaze Peekaboo, I Love You   \n",
       "33                            Lamaze Peekaboo, I Love You   \n",
       "...                                                   ...   \n",
       "183499  Maxboost iPhone 5S/5 Case - Protective Snap-on...   \n",
       "183500  Maxboost iPhone 5S/5 Case - Protective Snap-on...   \n",
       "183501  Maxboost iPhone 5S/5 Case - Protective Snap-on...   \n",
       "183502  Maxboost iPhone 5S/5 Case - Protective Snap-on...   \n",
       "183503  Maxboost iPhone 5S/5 Case - Protective Snap-on...   \n",
       "183504  Maxboost iPhone 5S/5 Case - Protective Snap-on...   \n",
       "183505  Maxboost iPhone 5S/5 Case - Protective Snap-on...   \n",
       "183506  Maxboost iPhone 5S/5 Case - Protective Snap-on...   \n",
       "183507  Maxboost iPhone 5S/5 Case - Protective Snap-on...   \n",
       "183508  Maxboost iPhone 5S/5 Case - Protective Snap-on...   \n",
       "183509  Maxboost iPhone 5S/5 Case - Protective Snap-on...   \n",
       "183510  Maxboost iPhone 5S/5 Case - Protective Snap-on...   \n",
       "183512  Maxboost iPhone 5S/5 Case - Protective Snap-on...   \n",
       "183513  Maxboost iPhone 5S/5 Case - Protective Snap-on...   \n",
       "183514  Maxboost iPhone 5S/5 Case - Protective Snap-on...   \n",
       "183515  Maxboost iPhone 5S/5 Case - Protective Snap-on...   \n",
       "183517  Baby Mucus Extractor, Nasal Aspirator From Dr....   \n",
       "183518  Baby Mucus Extractor, Nasal Aspirator From Dr....   \n",
       "183519  Baby Mucus Extractor, Nasal Aspirator From Dr....   \n",
       "183520  Baby Mucus Extractor, Nasal Aspirator From Dr....   \n",
       "183521  Airline Seat Belt Extender - The Best Extensio...   \n",
       "183522  Airline Seat Belt Extender - The Best Extensio...   \n",
       "183523  Squeasy Snacker 6oz Silicone Reusable Food Pou...   \n",
       "183524  Squeasy Snacker 6oz Silicone Reusable Food Pou...   \n",
       "183525  Squeasy Snacker 6oz Silicone Reusable Food Pou...   \n",
       "183526  Baby Teething Necklace for Mom Pretty Donut Sh...   \n",
       "183527  Baby Teething Necklace for Mom Pretty Donut Sh...   \n",
       "183528   Abstract 2 PK Baby / Toddler Training Cup (Pink)   \n",
       "183529  Baby Food Freezer Tray - Bacteria Resistant, B...   \n",
       "183530  Best 2 Pack Baby Car Shade for Kids - Window S...   \n",
       "\n",
       "                                                   review  rating  sentiment  \n",
       "1       it came early and was not disappointed. i love...       5        1.0  \n",
       "2       Very soft and comfortable and warmer than it l...       5        1.0  \n",
       "3       This is a product well worth the purchase.  I ...       5        1.0  \n",
       "4       All of my kids have cried non-stop when I trie...       5        1.0  \n",
       "5       When the Binky Fairy came to our house, we did...       5        1.0  \n",
       "6       Lovely book, it\\'s bound tightly so you may no...       4        1.0  \n",
       "7       Perfect for new parents. We were able to keep ...       5        1.0  \n",
       "8       A friend of mine pinned this product on Pinter...       5        1.0  \n",
       "9       This has been an easy way for my nanny to reco...       4        1.0  \n",
       "10      I love this journal and our nanny uses it ever...       4        1.0  \n",
       "11      This book is perfect!  I\\'m a first time new m...       5        1.0  \n",
       "12      I originally just gave the nanny a pad of pape...       4        1.0  \n",
       "14      Space for monthly photos, info and a lot of us...       5        1.0  \n",
       "15      I bought this calender for myself for my secon...       4        1.0  \n",
       "16      I love this little calender, you can keep trac...       5        1.0  \n",
       "17      This was the only calender I could find for th...       5        1.0  \n",
       "18      I completed a calendar for my son\\'s first yea...       4        1.0  \n",
       "19      We wanted to get something to keep track of ou...       5        1.0  \n",
       "20      I had a hard time finding a second year calend...       5        1.0  \n",
       "21      I only purchased a second-year calendar for my...       2        0.0  \n",
       "22      I LOVE this calendar for recording events of m...       5        1.0  \n",
       "24      Wife loves this calender. Comes with a lot of ...       5        1.0  \n",
       "25      My daughter had her 1st baby over a year ago. ...       5        1.0  \n",
       "26      Extremely useful! As a new mom, tired and inex...       5        1.0  \n",
       "28      One of baby\\'s first and favorite books, and i...       4        1.0  \n",
       "29      I like how the book has a hook to attach it to...       5        1.0  \n",
       "30      Beautiful little book.  A great little short s...       5        1.0  \n",
       "31      This book is so worth the money. It says 9+ mo...       5        1.0  \n",
       "32      we just got this book for our one-year-old and...       5        1.0  \n",
       "33      The book is colorful and is perfect for 6month...       4        1.0  \n",
       "...                                                   ...     ...        ...  \n",
       "183499  I received a free sample from VIPU program for...       5        1.0  \n",
       "183500  Great product, great company! Their daily give...       5        1.0  \n",
       "183501  I received a free sample from VIPU program for...       5        1.0  \n",
       "183502  It got here incredibly fast & it is a nice dur...       5        1.0  \n",
       "183503  I got this case in the mail today, it came on ...       2        0.0  \n",
       "183504  Free caseLove it... The color was great firm h...       5        1.0  \n",
       "183505  I received a free sample from VIPU program for...       5        1.0  \n",
       "183506  This case definitely isn\\'t cheap. It feels ve...       5        1.0  \n",
       "183507  got this for my wife and she loves it would de...       5        1.0  \n",
       "183508  love this case. It fit perfectly and the color...       5        1.0  \n",
       "183509  this case is the greatest very cool and stylis...       5        1.0  \n",
       "183510              Great fit. Really love how red it is.       5        1.0  \n",
       "183512  *I received a free sample from VIPU program fo...       5        1.0  \n",
       "183513  I was a very surprised by the quality of this ...       5        1.0  \n",
       "183514  I received a free sample from VIPU program for...       4        1.0  \n",
       "183515  I love this phone case!  My  iPhone is always ...       5        1.0  \n",
       "183517  I recieved this product free of charge and abs...       5        1.0  \n",
       "183518  The tube is soft and easy to use, and the tip ...       5        1.0  \n",
       "183519  I love this so much. It works way better than ...       5        1.0  \n",
       "183520  The aspirator works well but needs to come wit...       4        1.0  \n",
       "183521  Up until recently I have hated flying, putting...       5        1.0  \n",
       "183522  I bought this as a father\\'s day gift for my d...       5        1.0  \n",
       "183523  I love that these can hold purees OR liquids, ...       5        1.0  \n",
       "183524  I love this product, it makes my life easier. ...       5        1.0  \n",
       "183525  This reusable squeeze bottle is the best I hav...       5        1.0  \n",
       "183526  Such a great idea! very handy to have and look...       5        1.0  \n",
       "183527  This product rocks!  It is a great blend of fu...       5        1.0  \n",
       "183528  This item looks great and cool for my kids.......       5        1.0  \n",
       "183529  I am extremely happy with this product. I have...       5        1.0  \n",
       "183530  I love this product very mush . I have bought ...       5        1.0  \n",
       "\n",
       "[166752 rows x 4 columns]"
      ]
     },
     "execution_count": 6,
     "metadata": {},
     "output_type": "execute_result"
    }
   ],
   "source": [
    "products['sentiment']=products['sentiment'].replace(to_replace=True,value=int(1))\n",
    "products"
   ]
  },
  {
   "cell_type": "markdown",
   "metadata": {},
   "source": [
    "# Building the word count vector for each review"
   ]
  },
  {
   "cell_type": "markdown",
   "metadata": {},
   "source": [
    "## Tokenizing text with `scikit-learn`"
   ]
  },
  {
   "cell_type": "code",
   "execution_count": 7,
   "metadata": {},
   "outputs": [],
   "source": [
    "from sklearn.feature_extraction.text import CountVectorizer\n",
    "count_vect=CountVectorizer()\n",
    "X_products_wc=count_vect.fit_transform(products['review'].values.astype(str))"
   ]
  },
  {
   "cell_type": "code",
   "execution_count": 8,
   "metadata": {},
   "outputs": [
    {
     "data": {
      "text/plain": [
       "Index(['name', 'review', 'rating', 'sentiment'], dtype='object')"
      ]
     },
     "execution_count": 8,
     "metadata": {},
     "output_type": "execute_result"
    }
   ],
   "source": [
    "products.columns    # use of df[].values.astype('U') as countvectorizer accepts only str or file or unicode data"
   ]
  },
  {
   "cell_type": "code",
   "execution_count": 9,
   "metadata": {},
   "outputs": [
    {
     "data": {
      "text/plain": [
       "(3892, 'awesome')"
      ]
     },
     "execution_count": 9,
     "metadata": {},
     "output_type": "execute_result"
    }
   ],
   "source": [
    "x_counts=X_products_wc\n",
    "x_count=np.sum(x_counts,axis=0)\n",
    "x_count.item((0,6500)),count_vect.get_feature_names()[6500]"
   ]
  },
  {
   "cell_type": "markdown",
   "metadata": {},
   "source": [
    "# Exploring the most commom product"
   ]
  },
  {
   "cell_type": "code",
   "execution_count": 10,
   "metadata": {},
   "outputs": [],
   "source": [
    "products_common=products.groupby('name').review.size().sort_values(ascending = False)"
   ]
  },
  {
   "cell_type": "code",
   "execution_count": 11,
   "metadata": {},
   "outputs": [
    {
     "data": {
      "text/plain": [
       "name\n",
       "Vulli Sophie the Giraffe Teether                                               723\n",
       "Simple Wishes Hands-Free Breastpump Bra, Pink, XS-L                            547\n",
       "Baby Einstein Take Along Tunes                                                 526\n",
       "Infant Optics DXR-5 2.4 GHz Digital Video Baby Monitor with Night Vision       519\n",
       "Cloud b Twilight Constellation Night Light, Turtle                             490\n",
       "Fisher-Price Booster Seat, Blue/Green/Gray                                     473\n",
       "Fisher-Price Rainforest Jumperoo                                               437\n",
       "Graco Nautilus 3-in-1 Car Seat, Matrix                                         386\n",
       "Leachco Snoogle Total Body Pillow                                              366\n",
       "Regalo Easy Step Walk Thru Gate, White                                         333\n",
       "Baby Trend Diaper Champ                                                        298\n",
       "Skip Hop Zoo Pack Little Kid Backpack, Dog                                     276\n",
       "NTM-910YIC - Sony Baby Call Nursery Monitor                                    265\n",
       "Fisher-Price Cradle \\'N Swing,  My Little Snugabunny                           264\n",
       "Leachco Back \\'N Belly Contoured Body Pillow, Ivory                            263\n",
       "North States Superyard Play Yard, Grey, 6 Panel                                259\n",
       "The First Years Jet Stroller, Red/Black                                        251\n",
       "Fisher-Price Newborn Rock \\'n Play Sleeper, Yellow                             228\n",
       "BABYBJORN Potty Chair - Red                                                    221\n",
       "Fisher-Price Rainforest Melodies and Lights Deluxe Gym                         218\n",
       "Tiny Love Take-Along Arch, Sunny Stroll                                        217\n",
       "Munchkin Nursery Projector and Sound System, White                             216\n",
       "VTech Communications Safe &amp; Sound Digital Audio Monitor                    213\n",
       "The First Year\\'s Infant To Toddler Tub with Sling, Blue                       212\n",
       "Thermos Foogo Leak-Proof Stainless Steel 10-Ounce Food Jar, Pink               210\n",
       "The First Years Ignite Stroller                                                209\n",
       "Summer Infant Multi-Use Deco Extra Tall Walk-Thru Gate, Bronze                 205\n",
       "Prince Lionheart Jumbo Toy Hammock                                             205\n",
       "Regalo Easy Open 50 Inch Super Wide Walk Thru Gate - White                     201\n",
       "Summer Infant Contoured Changing Pad Amazon Frustration Free Packaging         198\n",
       "                                                                              ... \n",
       "Maclaren BMW Stroller WITH Cup Holder (Silver)                                   1\n",
       "Teutonia T-Duo Cushion, Houndstooth                                              1\n",
       "Evenflo Triumph Advance Premier Convertible Car Seat                             1\n",
       "Peg Perego P3 Light Weight One Hand Fold Stroller in Mint                        1\n",
       "Everbright Deluxe Baby Stroller With Bassnet &amp; Foot Cover                    1\n",
       "Peg Perego John Deere Gt3 Stroller                                               1\n",
       "Evenflo lightweight Eurotek Car Seat Travel System, Spheres                      1\n",
       "Evenflo Zoo Friends Decorated Polypro Bottle- 8oz-3pk                            1\n",
       "Evenflo Zoo Friends Bottle Pegable with Anatomic Nipple, 8 Ounce                 1\n",
       "Nuby Nibbler with Cap                                                            1\n",
       "Evenflo XSport Folding Umbrella Stroller- Pink                                   1\n",
       "Tennessee Titans Baby Bib                                                        1\n",
       "Tennessee Volunteers Baby Crib Set - NCAA 5 Pc Set                               1\n",
       "Terry Bath Robe Off-white with Sage Trim Organic Cotton (2-3 Yrs)                1\n",
       "Terry Contoured Changing Pad Cover - Blue                                        1\n",
       "Maclaren 2009 Quest Stroller Black Scarlet                                       1\n",
       "Evenflo Whisper Connect Dual Nursery Monitor                                     1\n",
       "Peg Perego Navetta XL Bassinet Pad, White                                        1\n",
       "Maclaren 2010 Volo Stroller Silver Green Stripe                                  1\n",
       "Tessell Transforming Playmats, Animal, Small                                     1\n",
       "Evenflo Vizion Pacifiers                                                         1\n",
       "Evenflo TruVent Angled Bottle, 6 Ounce                                           1\n",
       "Test Right Early Detection LH Ovulation FDA APPROVED Test Strips, 100 Count      1\n",
       "Teutonia T-150 Stroller Chassis with Explore Wheels                              1\n",
       "Maclaren BMW Buggy (Medieval Blue)                                               1\n",
       "Maclaren BMW Buggy - black, one size                                             1\n",
       "Peg Perego Navetta XL Bassinet Stand, Black and Silver                           1\n",
       "Teutonia T-Car Seat Adapter                                                      1\n",
       "Evenflo Triumph DLX Convertible Car Seat - Reservoir                             1\n",
       "Nikki\\'s Baby Blossom Clothing Bouquet Gift-Boy                                  1\n",
       "Name: review, Length: 30729, dtype: int64"
      ]
     },
     "execution_count": 11,
     "metadata": {},
     "output_type": "execute_result"
    }
   ],
   "source": [
    "products_common"
   ]
  },
  {
   "cell_type": "code",
   "execution_count": 12,
   "metadata": {},
   "outputs": [
    {
     "data": {
      "text/plain": [
       "(rating\n",
       " 5    535\n",
       " 4     95\n",
       " 2     37\n",
       " 1     56\n",
       " dtype: int64,                                     name  \\\n",
       " 34313   Vulli Sophie the Giraffe Teether   \n",
       " 34314   Vulli Sophie the Giraffe Teether   \n",
       " 34315   Vulli Sophie the Giraffe Teether   \n",
       " 34316   Vulli Sophie the Giraffe Teether   \n",
       " 34317   Vulli Sophie the Giraffe Teether   \n",
       " 34318   Vulli Sophie the Giraffe Teether   \n",
       " 34319   Vulli Sophie the Giraffe Teether   \n",
       " 34320   Vulli Sophie the Giraffe Teether   \n",
       " 34321   Vulli Sophie the Giraffe Teether   \n",
       " 34323   Vulli Sophie the Giraffe Teether   \n",
       " 34324   Vulli Sophie the Giraffe Teether   \n",
       " 34325   Vulli Sophie the Giraffe Teether   \n",
       " 34326   Vulli Sophie the Giraffe Teether   \n",
       " 34327   Vulli Sophie the Giraffe Teether   \n",
       " 34328   Vulli Sophie the Giraffe Teether   \n",
       " 34329   Vulli Sophie the Giraffe Teether   \n",
       " 34330   Vulli Sophie the Giraffe Teether   \n",
       " 34332   Vulli Sophie the Giraffe Teether   \n",
       " 34333   Vulli Sophie the Giraffe Teether   \n",
       " 34334   Vulli Sophie the Giraffe Teether   \n",
       " 34335   Vulli Sophie the Giraffe Teether   \n",
       " 34336   Vulli Sophie the Giraffe Teether   \n",
       " 34337   Vulli Sophie the Giraffe Teether   \n",
       " 34338   Vulli Sophie the Giraffe Teether   \n",
       " 34339   Vulli Sophie the Giraffe Teether   \n",
       " 34340   Vulli Sophie the Giraffe Teether   \n",
       " 34341   Vulli Sophie the Giraffe Teether   \n",
       " 34342   Vulli Sophie the Giraffe Teether   \n",
       " 34343   Vulli Sophie the Giraffe Teether   \n",
       " 34344   Vulli Sophie the Giraffe Teether   \n",
       " ...                                  ...   \n",
       " 35068   Vulli Sophie the Giraffe Teether   \n",
       " 35069   Vulli Sophie the Giraffe Teether   \n",
       " 35070   Vulli Sophie the Giraffe Teether   \n",
       " 35071   Vulli Sophie the Giraffe Teether   \n",
       " 35072   Vulli Sophie the Giraffe Teether   \n",
       " 35073   Vulli Sophie the Giraffe Teether   \n",
       " 35074   Vulli Sophie the Giraffe Teether   \n",
       " 35075   Vulli Sophie the Giraffe Teether   \n",
       " 35076   Vulli Sophie the Giraffe Teether   \n",
       " 35077   Vulli Sophie the Giraffe Teether   \n",
       " 35078   Vulli Sophie the Giraffe Teether   \n",
       " 35079   Vulli Sophie the Giraffe Teether   \n",
       " 35080   Vulli Sophie the Giraffe Teether   \n",
       " 35081   Vulli Sophie the Giraffe Teether   \n",
       " 35082   Vulli Sophie the Giraffe Teether   \n",
       " 35083   Vulli Sophie the Giraffe Teether   \n",
       " 35084   Vulli Sophie the Giraffe Teether   \n",
       " 35085   Vulli Sophie the Giraffe Teether   \n",
       " 35086   Vulli Sophie the Giraffe Teether   \n",
       " 159643  Vulli Sophie the Giraffe Teether   \n",
       " 159644  Vulli Sophie the Giraffe Teether   \n",
       " 159645  Vulli Sophie the Giraffe Teether   \n",
       " 159646  Vulli Sophie the Giraffe Teether   \n",
       " 159647  Vulli Sophie the Giraffe Teether   \n",
       " 159648  Vulli Sophie the Giraffe Teether   \n",
       " 159649  Vulli Sophie the Giraffe Teether   \n",
       " 159650  Vulli Sophie the Giraffe Teether   \n",
       " 159651  Vulli Sophie the Giraffe Teether   \n",
       " 159652  Vulli Sophie the Giraffe Teether   \n",
       " 159653  Vulli Sophie the Giraffe Teether   \n",
       " \n",
       "                                                    review  rating  sentiment  \n",
       " 34313   He likes chewing on all the parts especially t...       5        1.0  \n",
       " 34314   My son loves this toy and fits great in the di...       5        1.0  \n",
       " 34315   There really should be a large warning on the ...       1        0.0  \n",
       " 34316   All the moms in my moms\\' group got Sophie for...       5        1.0  \n",
       " 34317   I was a little skeptical on whether Sophie was...       5        1.0  \n",
       " 34318   I have been reading about Sophie and was going...       5        1.0  \n",
       " 34319   My neice loves her sophie and has spent hours ...       5        1.0  \n",
       " 34320   What a friendly face!  And those mesmerizing s...       5        1.0  \n",
       " 34321   We got this just for my son to chew on instead...       5        1.0  \n",
       " 34323   This product is without a doubt the best on th...       5        1.0  \n",
       " 34324   I hear my wife talking about &#34;Sophie the G...       5        1.0  \n",
       " 34325   I splurged and got this for my teething baby. ...       5        1.0  \n",
       " 34326                                                 NaN       5        1.0  \n",
       " 34327   He liked it, but he didn\\'t go crazy for it as...       4        1.0  \n",
       " 34328   My 5 month-old baby loves his Sophie. One of h...       5        1.0  \n",
       " 34329   My nine month old has had Sophie since she was...       5        1.0  \n",
       " 34330   my son is now 5 and half months old n i bought...       4        1.0  \n",
       " 34332   I thought Sophie was an expensive for a baby t...       5        1.0  \n",
       " 34333   The giraffe never left my grandaughter\\'s hand...       5        1.0  \n",
       " 34334   My son loves this giraffe, it\\'s perfect for t...       5        1.0  \n",
       " 34335   My child loved this when he was teething and n...       5        1.0  \n",
       " 34336   My 3 month old was just starting to show inter...       5        1.0  \n",
       " 34337   The Vulli Sophie giraffe teether is the greate...       5        1.0  \n",
       " 34338   Just as described. Wonderful product. Babies l...       5        1.0  \n",
       " 34339   I can\\'t see how this product can be safe for ...       1        0.0  \n",
       " 34340   we got a lot of use out of it. This was a life...       4        1.0  \n",
       " 34341   I\\'ll be honest...I bought this toy because al...       4        1.0  \n",
       " 34342   I don\\'t have any complaints it seems like a w...       4        1.0  \n",
       " 34343   Both my 4 month old and my dog love Sophie the...       5        1.0  \n",
       " 34344                                                 NaN       5        1.0  \n",
       " ...                                                   ...     ...        ...  \n",
       " 35068   Sophie rocks!  Much softer than it looks and m...       5        1.0  \n",
       " 35069   Great baby toy! My 6-month-old son loves his S...       5        1.0  \n",
       " 35070   Wow is waht I can say. My grandaughtes 5 mo an...       5        1.0  \n",
       " 35071   I thought that Sophie would be a harder rubber...       4        1.0  \n",
       " 35072   I recently ordered this as a gift and compared...       2        0.0  \n",
       " 35073   Grandson loves this Giraffe. It is easy for hi...       5        1.0  \n",
       " 35074   We purchased this for our 4 month old son and ...       5        1.0  \n",
       " 35075   My 14 month old daughter loves Sophie.  Is is ...       5        1.0  \n",
       " 35076   Sturdy material and easy to clean. Light enoug...       5        1.0  \n",
       " 35077   I can\\'t say enough about how much I love this...       5        1.0  \n",
       " 35078   This is a great toy for teething babies. We ha...       5        1.0  \n",
       " 35079   It looks not good as expected but it useful, i...       4        1.0  \n",
       " 35080   Despite all theses pretty reviews, I wish I co...       2        0.0  \n",
       " 35081   My baby is more interested in any other teethe...       2        0.0  \n",
       " 35082   My baby looooves this teether!  I think she li...       5        1.0  \n",
       " 35083   My 5 month old baby loves it. Easy to hold and...       5        1.0  \n",
       " 35084   My daughter has had this giraffe since she was...       5        1.0  \n",
       " 35085   My Grandson loves his Sophie.  Would recommend...       5        1.0  \n",
       " 35086   Maybe I got defective one.  Baby was chewing o...       1        0.0  \n",
       " 159643  This is  the second we have owned.  The first ...       5        1.0  \n",
       " 159644  The rubber is perfect for a teething baby. It ...       5        1.0  \n",
       " 159645  The Sophie Giraffe has a very strong rubber od...       1        0.0  \n",
       " 159646  It is worth the price. My daughter loves it!!!...       5        1.0  \n",
       " 159647  I was very optimistic at first on purchasing S...       5        1.0  \n",
       " 159648  Even though the product is sold guaranteeing t...       1        0.0  \n",
       " 159649  My baby loves her Sophie Chew Toy. She can che...       5        1.0  \n",
       " 159650  Sophie the Giraffe was a big hit at the baby s...       5        1.0  \n",
       " 159651  quick shipping and perfect product. I would pu...       5        1.0  \n",
       " 159652  My baby who is currently teething love his Sop...       5        1.0  \n",
       " 159653  I know several baits that are enjoying the sof...       5        1.0  \n",
       " \n",
       " [723 rows x 4 columns])"
      ]
     },
     "execution_count": 12,
     "metadata": {},
     "output_type": "execute_result"
    }
   ],
   "source": [
    "giraffe_review=products[products['name']=='Vulli Sophie the Giraffe Teether']\n",
    "giraffe_review_rate=giraffe_review.groupby('rating').size().sort_index(ascending=False)\n",
    "giraffe_review_rate,giraffe_review"
   ]
  },
  {
   "cell_type": "markdown",
   "metadata": {},
   "source": [
    "# Training a classifier"
   ]
  },
  {
   "cell_type": "code",
   "execution_count": 13,
   "metadata": {},
   "outputs": [],
   "source": [
    "Y_products = products['sentiment']\n",
    "\n",
    "from sklearn.model_selection import train_test_split\n",
    "x_train,x_test,y_train,y_test=train_test_split(X_products_wc,Y_products,test_size=0.2,train_size=0.8,random_state=42)"
   ]
  },
  {
   "cell_type": "code",
   "execution_count": 14,
   "metadata": {},
   "outputs": [
    {
     "data": {
      "text/plain": [
       "LogisticRegression(C=1.0, class_weight=None, dual=False, fit_intercept=True,\n",
       "          intercept_scaling=1, max_iter=100, multi_class='ovr', n_jobs=1,\n",
       "          penalty='l2', random_state=None, solver='liblinear', tol=0.0001,\n",
       "          verbose=0, warm_start=False)"
      ]
     },
     "execution_count": 14,
     "metadata": {},
     "output_type": "execute_result"
    }
   ],
   "source": [
    "from sklearn.linear_model import LogisticRegression\n",
    "sentiment_model=LogisticRegression()\n",
    "sentiment_model.fit(x_train,y_train)"
   ]
  },
  {
   "cell_type": "markdown",
   "metadata": {},
   "source": [
    "# Evaluating the model"
   ]
  },
  {
   "cell_type": "code",
   "execution_count": 15,
   "metadata": {},
   "outputs": [
    {
     "data": {
      "text/plain": [
       "(3875, 1399, 843, 27234, 0.9327756289166742)"
      ]
     },
     "execution_count": 15,
     "metadata": {},
     "output_type": "execute_result"
    }
   ],
   "source": [
    "y_pred=sentiment_model.predict(x_test)\n",
    "confidence_val=sentiment_model.predict_proba(x_test)\n",
    "from sklearn.metrics import confusion_matrix,accuracy_score\n",
    "tn,fp,fn,tp=confusion_matrix(y_test,y_pred).ravel()\n",
    "accuracy=accuracy_score(y_test,y_pred)\n",
    "tn,fp,fn,tp,accuracy"
   ]
  },
  {
   "cell_type": "markdown",
   "metadata": {
    "collapsed": true
   },
   "source": [
    "# Applying the learned model to understand sentiment for the Giraffe"
   ]
  },
  {
   "cell_type": "code",
   "execution_count": 16,
   "metadata": {},
   "outputs": [
    {
     "name": "stderr",
     "output_type": "stream",
     "text": [
      "C:\\Users\\733387\\AppData\\Local\\Continuum\\anaconda3\\lib\\site-packages\\ipykernel_launcher.py:3: SettingWithCopyWarning: \n",
      "A value is trying to be set on a copy of a slice from a DataFrame.\n",
      "Try using .loc[row_indexer,col_indexer] = value instead\n",
      "\n",
      "See the caveats in the documentation: http://pandas.pydata.org/pandas-docs/stable/indexing.html#indexing-view-versus-copy\n",
      "  This is separate from the ipykernel package so we can avoid doing imports until\n"
     ]
    }
   ],
   "source": [
    "giraffe_review_data=count_vect.transform(giraffe_review['review'].values.astype(str))\n",
    "giraffe_pred=sentiment_model.predict(giraffe_review_data)\n",
    "giraffe_review['predict_sentiment']=giraffe_pred"
   ]
  },
  {
   "cell_type": "code",
   "execution_count": 17,
   "metadata": {},
   "outputs": [
    {
     "data": {
      "text/html": [
       "<div>\n",
       "<style scoped>\n",
       "    .dataframe tbody tr th:only-of-type {\n",
       "        vertical-align: middle;\n",
       "    }\n",
       "\n",
       "    .dataframe tbody tr th {\n",
       "        vertical-align: top;\n",
       "    }\n",
       "\n",
       "    .dataframe thead th {\n",
       "        text-align: right;\n",
       "    }\n",
       "</style>\n",
       "<table border=\"1\" class=\"dataframe\">\n",
       "  <thead>\n",
       "    <tr style=\"text-align: right;\">\n",
       "      <th></th>\n",
       "      <th>name</th>\n",
       "      <th>review</th>\n",
       "      <th>rating</th>\n",
       "      <th>sentiment</th>\n",
       "      <th>predict_sentiment</th>\n",
       "    </tr>\n",
       "  </thead>\n",
       "  <tbody>\n",
       "    <tr>\n",
       "      <th>159649</th>\n",
       "      <td>Vulli Sophie the Giraffe Teether</td>\n",
       "      <td>My baby loves her Sophie Chew Toy. She can che...</td>\n",
       "      <td>5</td>\n",
       "      <td>1.0</td>\n",
       "      <td>1.0</td>\n",
       "    </tr>\n",
       "    <tr>\n",
       "      <th>159650</th>\n",
       "      <td>Vulli Sophie the Giraffe Teether</td>\n",
       "      <td>Sophie the Giraffe was a big hit at the baby s...</td>\n",
       "      <td>5</td>\n",
       "      <td>1.0</td>\n",
       "      <td>1.0</td>\n",
       "    </tr>\n",
       "    <tr>\n",
       "      <th>159651</th>\n",
       "      <td>Vulli Sophie the Giraffe Teether</td>\n",
       "      <td>quick shipping and perfect product. I would pu...</td>\n",
       "      <td>5</td>\n",
       "      <td>1.0</td>\n",
       "      <td>1.0</td>\n",
       "    </tr>\n",
       "    <tr>\n",
       "      <th>159652</th>\n",
       "      <td>Vulli Sophie the Giraffe Teether</td>\n",
       "      <td>My baby who is currently teething love his Sop...</td>\n",
       "      <td>5</td>\n",
       "      <td>1.0</td>\n",
       "      <td>1.0</td>\n",
       "    </tr>\n",
       "    <tr>\n",
       "      <th>159653</th>\n",
       "      <td>Vulli Sophie the Giraffe Teether</td>\n",
       "      <td>I know several baits that are enjoying the sof...</td>\n",
       "      <td>5</td>\n",
       "      <td>1.0</td>\n",
       "      <td>1.0</td>\n",
       "    </tr>\n",
       "  </tbody>\n",
       "</table>\n",
       "</div>"
      ],
      "text/plain": [
       "                                    name  \\\n",
       "159649  Vulli Sophie the Giraffe Teether   \n",
       "159650  Vulli Sophie the Giraffe Teether   \n",
       "159651  Vulli Sophie the Giraffe Teether   \n",
       "159652  Vulli Sophie the Giraffe Teether   \n",
       "159653  Vulli Sophie the Giraffe Teether   \n",
       "\n",
       "                                                   review  rating  sentiment  \\\n",
       "159649  My baby loves her Sophie Chew Toy. She can che...       5        1.0   \n",
       "159650  Sophie the Giraffe was a big hit at the baby s...       5        1.0   \n",
       "159651  quick shipping and perfect product. I would pu...       5        1.0   \n",
       "159652  My baby who is currently teething love his Sop...       5        1.0   \n",
       "159653  I know several baits that are enjoying the sof...       5        1.0   \n",
       "\n",
       "        predict_sentiment  \n",
       "159649                1.0  \n",
       "159650                1.0  \n",
       "159651                1.0  \n",
       "159652                1.0  \n",
       "159653                1.0  "
      ]
     },
     "execution_count": 17,
     "metadata": {},
     "output_type": "execute_result"
    }
   ],
   "source": [
    "giraffe_review.tail(5).sort_values(by='predict_sentiment',ascending=False)"
   ]
  },
  {
   "cell_type": "markdown",
   "metadata": {},
   "source": [
    "# Assignment"
   ]
  },
  {
   "cell_type": "code",
   "execution_count": 18,
   "metadata": {},
   "outputs": [],
   "source": [
    "selected_words = ['awesome', 'great', 'fantastic', 'amazing', 'love', 'horrible', 'bad', 'terrible', 'awful', 'wow', 'hate']"
   ]
  },
  {
   "cell_type": "code",
   "execution_count": 19,
   "metadata": {},
   "outputs": [
    {
     "name": "stdout",
     "output_type": "stream",
     "text": [
      "awesome 6500\n",
      "great 25994\n",
      "fantastic 22274\n",
      "amazing 4672\n",
      "love 33879\n",
      "horrible 28143\n",
      "bad 7067\n",
      "terrible 56272\n",
      "awful 6509\n",
      "wow 63486\n",
      "hate 27054\n"
     ]
    }
   ],
   "source": [
    "for word in selected_words:\n",
    "    print(word,count_vect.vocabulary_.get(word))"
   ]
  },
  {
   "cell_type": "markdown",
   "metadata": {},
   "source": [
    "# Building feature word vector based on selected words"
   ]
  },
  {
   "cell_type": "code",
   "execution_count": 35,
   "metadata": {},
   "outputs": [
    {
     "data": {
      "text/plain": [
       "(166752, 11)"
      ]
     },
     "execution_count": 35,
     "metadata": {},
     "output_type": "execute_result"
    }
   ],
   "source": [
    "assign_vect = CountVectorizer(token_pattern=r'awesome|great|fantastic|amazing|love|horrible|bad|terrible|awful|wow|hate')\n",
    "x_assign_data=assign_vect.fit_transform(products['review'].values.astype(str))\n",
    "x_assign_data.shape"
   ]
  },
  {
   "cell_type": "markdown",
   "metadata": {},
   "source": [
    "## Counting the entries for each word"
   ]
  },
  {
   "cell_type": "code",
   "execution_count": 36,
   "metadata": {},
   "outputs": [
    {
     "data": {
      "text/plain": [
       "['amazing',\n",
       " 'awesome',\n",
       " 'awful',\n",
       " 'bad',\n",
       " 'fantastic',\n",
       " 'great',\n",
       " 'hate',\n",
       " 'horrible',\n",
       " 'love',\n",
       " 'terrible',\n",
       " 'wow']"
      ]
     },
     "execution_count": 36,
     "metadata": {},
     "output_type": "execute_result"
    }
   ],
   "source": [
    "assign_vect.get_feature_names()"
   ]
  },
  {
   "cell_type": "code",
   "execution_count": 39,
   "metadata": {},
   "outputs": [],
   "source": [
    "x_data_array=x_assign_data.toarray()"
   ]
  },
  {
   "cell_type": "code",
   "execution_count": 126,
   "metadata": {},
   "outputs": [
    {
     "data": {
      "text/plain": [
       "array([ 2890,  3916,   726,  4523,  1716, 56522,  3644,  1112, 73428,\n",
       "        1147,   435], dtype=int64)"
      ]
     },
     "execution_count": 126,
     "metadata": {},
     "output_type": "execute_result"
    }
   ],
   "source": [
    "x_data_array.sum(axis=0)"
   ]
  },
  {
   "cell_type": "markdown",
   "metadata": {},
   "source": [
    "# New sentiment model based on selected_words"
   ]
  },
  {
   "cell_type": "code",
   "execution_count": 47,
   "metadata": {},
   "outputs": [],
   "source": [
    "x_train_a,x_test_a,y_train_a,y_test_a=train_test_split(x_assign_data,Y_products,train_size=0.8,test_size=0.2,random_state=42)"
   ]
  },
  {
   "cell_type": "code",
   "execution_count": 48,
   "metadata": {},
   "outputs": [
    {
     "data": {
      "text/plain": [
       "LogisticRegression(C=1.0, class_weight=None, dual=False, fit_intercept=True,\n",
       "          intercept_scaling=1, max_iter=100, multi_class='ovr', n_jobs=1,\n",
       "          penalty='l2', random_state=None, solver='liblinear', tol=0.0001,\n",
       "          verbose=0, warm_start=False)"
      ]
     },
     "execution_count": 48,
     "metadata": {},
     "output_type": "execute_result"
    }
   ],
   "source": [
    "selected_model = LogisticRegression()\n",
    "selected_model.fit(x_train_a,y_train_a)"
   ]
  },
  {
   "cell_type": "markdown",
   "metadata": {},
   "source": [
    "## Coefficients/weights for each feature"
   ]
  },
  {
   "cell_type": "code",
   "execution_count": 52,
   "metadata": {},
   "outputs": [
    {
     "data": {
      "text/plain": [
       "(array([[ 1.06988849,  1.1077068 , -1.96539839, -1.0116976 ,  0.95896157,\n",
       "          0.85713743, -0.77760037, -2.073764  ,  1.23847433, -2.22990885,\n",
       "         -0.06498879]]),\n",
       " ['amazing',\n",
       "  'awesome',\n",
       "  'awful',\n",
       "  'bad',\n",
       "  'fantastic',\n",
       "  'great',\n",
       "  'hate',\n",
       "  'horrible',\n",
       "  'love',\n",
       "  'terrible',\n",
       "  'wow'])"
      ]
     },
     "execution_count": 52,
     "metadata": {},
     "output_type": "execute_result"
    }
   ],
   "source": [
    "selected_model.coef_,assign_vect.get_feature_names()"
   ]
  },
  {
   "cell_type": "markdown",
   "metadata": {},
   "source": [
    " # Evaluate the accuracy of the model"
   ]
  },
  {
   "cell_type": "code",
   "execution_count": 53,
   "metadata": {},
   "outputs": [],
   "source": [
    "y_assign_pred=selected_model.predict(x_test_a)"
   ]
  },
  {
   "cell_type": "code",
   "execution_count": 54,
   "metadata": {},
   "outputs": [
    {
     "data": {
      "text/plain": [
       "0.8490599982009535"
      ]
     },
     "execution_count": 54,
     "metadata": {},
     "output_type": "execute_result"
    }
   ],
   "source": [
    "accuracy_assign=accuracy_score(y_test_a,y_assign_pred)\n",
    "accuracy_assign"
   ]
  },
  {
   "cell_type": "markdown",
   "metadata": {},
   "source": [
    "## Interpreting the difference between the models"
   ]
  },
  {
   "cell_type": "code",
   "execution_count": 57,
   "metadata": {},
   "outputs": [],
   "source": [
    "diaper_champ_reviews=products[products['name']=='Baby Trend Diaper Champ'].review.values"
   ]
  },
  {
   "cell_type": "code",
   "execution_count": 58,
   "metadata": {},
   "outputs": [
    {
     "data": {
      "text/plain": [
       "array([\"Ok - newsflash.  Diapers are just smelly.  We\\\\'ve had this pail for 2.5 years now.  It was our first and primary one.  There were no major smell problems until after one year, when our son started eating solids.  Also, we change the bag twice weekly as 3 days is about the max for smell-containment.  Around 20-22 months we started shopping for a container that would be less smelly and didn\\\\'t find one as good.  (We have a cheaper one upstairs which broke immediately and always stunk!)  We finally just put the Diaper Champ in the attic a few months ago and use the cheap one with the flip-up lid - mainly since the cheapo fits inside the cabinet and we didn\\\\'t notice a big difference in smell-control.  (The most helpful action is to tie the dirty diapers inside a small plastic bag before putting them in the pail.)A couple of our friends have this pail and were pleased until the children started eating solid food and things got stinkier - but that\\\\'s pretty much the consensus according to many reviews on the different pails.  I\\\\'ve knocked off a star since the mechanism isn\\\\'t that intuitive (to grandmothers and babysitters, at least) and it frequently gets stuck when the bag starts getting full.  Plus there are some smell issues, as with any pail.  However, the fact that you can use regular trash bags is so much more convenient!\",\n",
       "       'My husband and I selected the Diaper \"Champ\" mainly because you can use ordinary trash bags and not be roped into buying the specialty refill bags, and it was moderately priced (a little less than the Diaper Dekor). It also seemed that the reviews of this product were generally more positive...The positives are:1. You can use any trash bag2. Easy to use and refillThe negatives are:1. The bag doesn\\\\\\'t seal around the dirty diapers, so when it comes time to refill the bag, it\\\\\\'s just like opening a regular trash can. Smells like the Champ is trying to knock YOU out with odor!2. The plastic seems to smell, ie. You put a dirty diaper in the hole, and flip the handle to dump the diaper into the champ. That \"side\" of the plastic dumper-thingie is in contact with the air inside the dirty diaper changer, so when you flip it over the next time to dispose of another diaper, you smell the last 8 diapers you put in there...pretty gross.3. The \"odor seal\" (some soft material) really seems to retain odor. It cannot be washed or replaced, so after a while, the Diaper \"Champ\" smells even when freshly washed and deodorized (I\\\\\\'m talking about hosing down outside and scrubbing with Clorox cleanser!). Super-frustrating! This is my primary complaint.Okay, so some things are a given as far as disposal systems go (ie. *some* odor, must empty frequently, must wash and disinfect occasionally), but still I think this product leaves much to be desired.We\\\\\\'re going to try another disposal system.',\n",
       "       'Excellent diaper disposal unit.  I used it in conjunction with Glad 3ply kitchen trash bags with odor control (scented).  I am soooo pleased with this product!!! A wise investment for the pocketbook & for the nose!!!',\n",
       "       \"We love our diaper champ.  It is very easy to use just drop the diaper in and flip the top over.  No need to stick your hand inside.  No hint of an odor, even when you are putting another dipaer in.  When it gets full, just put in a new trash bags.  The best feature of all is that even the most curious little ones can\\\\'t get into the diapers.  Before we found the diaper champ, we had another diaper pail and our son learned to open it and pull the diapers out.  That is no longer a problem!!\",\n",
       "       \"Two girlfriends and two family members put me onto this diaper pail.  They each had tried the Diaper Genie and had horrible results with eventual smells, and costliness of buying proprietary DG cartridges.  My family members eventually started bringing every dirty diaper out to the trash and leaving just wet diapers in the DG, that is until they found out about the Diaper Champ!Wow, what a difference, it seals in orders very well and using normal 8 - 13 gallon trash bags makes it economical.  The ease of use factor is amazing, drop a dirty diaper in the hole, grab the handle, give it a flip, the plunger pushes the diaper down and it drops into the can with a little gravitic help.No wrenching, turning, fighting a cartridge bag system.Opening it for the first time was a little hard, but look at that from a child\\\\'s point of view, a toddler is not going to get into it, and neither is a dog.  Also, it needs to be away from the wall a little bit, so that it\\\\'s flip top access lid locks into place and doesn\\\\'t plop back down, but when engaged, the top will stay open so you can get at the bag of diapers within without having it fall onto your hand.We keep a little can of Oust nearby, spritz it before opening the top, grab the bag at it\\\\'s neck to close off stinky odors, lift it out, twist it at the top and secure it with a twist-tie, and away we go to the garbage can.  And we take antibacterial wipes and run them around in the plunger area on both sides, voila, it\\\\'s clean.At 3 months, we change the bag about 1 - 2 times a week.  Maybe as baby grows into larger diapers it will be more like 2 - 3 times a week.Still, that\\\\'s better than taking every dirty diaper (8 or more a day) outside to the garbage can, especially in a Minnesota winter.\",\n",
       "       'I waited to review this until I saw how it performed in the really-stinky-diaper stage.  Now, with my daughter at 1 year and eating lots of solids (and making really stinky diapers), I can happily recommend the diaper champ.  A couple suggestions: 1) as baby\\\\\\'s poop gets stinkier, empty more often (at least once a week) and 2) every time you empty, spray with Lysol or similar product and wipe out with antibacterial cleaner.  This second step has kept the plastic from retaining a bad smell.I gave 4 stars because it\\\\\\'s not \"perfect\" -- sometimes a little smell leaks out if it\\\\\\'s very full.  But all around a good product, and not needing special refill bags is a huge benefit for a busy mom.',\n",
       "       'I have had a diaper genie for almost 4 years since my first son was born and I have been using it with my second as well.  I thought I\\\\\\'d try the champ to save $ on the genie refills.  Well it is not a $ saver because it does not hold the odor inside so I was constantly changing the trash bags.  The diaper genie is not odorless, but it does a much better job of keeping the room fresh smelling for a longer period before you have to empty it.  The champ is just like a regular trash can with a lid-just looks fancier.  I suppose you could use it as a regular trash can in your child\\\\\\'s room-they wouldn\\\\\\'t be able to get into it!  Don\\\\\\'t waste your $ to \"save\" $!  Buy the genie-your nose will thank you!!  Also, if you don\\\\\\'t keep the dirty wipes enclosed in the diaper, they get this thing all dirty and you have to clean it! YUCK!',\n",
       "       \"I originally put this item on my baby registry because friends of mine highly recommended the use of a diaper pail.  I decided to go with the Diaper Champ rather than the more popular Diaper Genie, because I didn\\\\'t like the idea of having to buy special bags.  Too costly and not efficient if you ask me!THIS PRODUCT IS A LIFESAVER!! I HAVE NEVER HAD AN ODOR PROBLEM!No one has ever come to my house and noticed \\\\'diaper odor.\\\\'  In fact, people who have been present while I changed my almost 3 month old son\\\\'s diaper have been amazed at how the very \\\\'potent\\\\' smell of the dirty diaper seems to disappear once I dispose of the diaper in the Diaper Champ.For those who are experiencing odor problems, here are some suggestions which should solve the problem:1. CHANGE BAGS FREQUENTLY!!  I change mine about 1 or 2 times a week.  For those who complain that the pail gets stuck, that is probably a good indication that the BAG IS GETTING TOO FULL!! Also, making sure that the tape on the diapers is secure will prevent that from happening as well.2. YOU STILL HAVE TO CLEAN THE THING!!  Hello, it does house dirty diapers!! All I do is wipe it down with some antibacterial wipes (takes about 10 seconds!!) and then maybe spray some Lysol in it and let it air out for a minute or two.  SIMPLE AND IT WORKS!Also, for those that complain that the Diaper Champ isn\\\\'t as effective as time passes, keep the following in mind:AS BABIES GET OLDER, THEIR DIETS CHANGES (aka SOLID FOODS!) AND SO DOES THE SMELL OF THEIR DIAPERS!In talking with other parents, I get the same feedback - as babies get older and become toddlers, ALL DIAPER PAILS become gradually less and less effective until they are just no longer useful.  Again, this is because as their diet changes, so does the consistency and odor of their stool, in other words, it gets stinkier!!!All in all, this product is definitely one I would recommend and certainly worth the very reasonable price.\",\n",
       "       \"I am so glad I got the Diaper Champ instead of the Diaper Genie!  You can use pretty much any plastic bag - even a grocery bag will do in a pinch.  My baby is 6 weeks and I have never smelled any odors at all from the Champ.  I especially like the way you close it - you just flip the handle and that\\\\'s it.  The Champ is definitely the best.\",\n",
       "       \"We had 2 diaper Genie\\\\'s both given to us as a gift but it was hard to use it since everytime you stuff the diaper in you have to turn it which cannot be done with one hand (required if you are holding your baby).  Also everytime you dispose your diaper it smells even when you are careful to put the poopy diapers in a plastic bag before disposing.  On top of that the refills are very expensive.  So we decided to buy Diaper Champ and so far we love it.  It is very easy to use with one hand.  I like the feature that you can acutally clean the chute if for some reason it gets messy.  Also it does not smell everytime you dispose off the diaper but when you change the bag you have to hold your breath for that much time (the only down side and the reason for a 4 star rating) but I can handle it and I love this product and would recommend it to everyone.  It is very easy to use and does not smell unless the bag needs to be replaced and the most important part is that you can use your regular garbage bags (no need for expensive refills).\",\n",
       "       \"When shopping around for a diaper pail I was drawn to the Diaper Champ for several reasons. 1) I loved the idea of using regular plastic bags from the grocery store. 2) The one-hand chute is quick and easy to use while dealing with a squirming baby. 3) I\\\\'d heard negative reviews about the Diaper Genie. Now that I\\\\'ve had the Diaper Champ for 8 months, I\\\\'m looking for a diaper pail that lives up to its name.About 2 months ago the chute began to stick and the pail began to release unpleasant fumes each time I\\\\'d drop a diaper in. The inner lining had come loose and was preventing diapers from dropping down into the bag. Eventually, the lining just fell out and that\\\\'s when the smell became unbearable. Not only is my daughter\\\\'s nursery filled with odors strong enough to give you a headache, the smell is seeping into the hall and down the stairs.Our Diaper Champ is on its way to the recycle bin. It won\\\\'t be returning for a come-back fight.\",\n",
       "       \"This is the very best. So much better than Diaper Genie. No doubt about it. I would never buy Diaper Genie again. As a matter of fact I threw them out. Here you have No Refills to buy, much easier to empty and put in a new garbage bag, a lot cheaper and most of all a lot quieter. The Diaper Genie is so loud when putting in a diaper in the middle of the night that is a pain. I highly recommend this product. In regards to smell?.....excuse me there are diapers in there, not roses. Like the lady below said a Clorox wipe with some Lysol and your set to go. If you\\\\'re still picky put in an airfreshner.\",\n",
       "       \"We bought this pail because it used regular trash bags and hoped it lived up to all it says - IT DOES!!  We use the scented trash bags and have had no trouble at all!  (It does get a little smelly when you change the bag, but that is expected)The only thing we don\\\\'t like is the inside lid that holds the bag down. It does not stay up on its own.  So when you change bags it has to be held open with 1 hand-leaving only 1 hand to get the bag out.  It just makes it akward.My husband even recommends it!!  So it has to be good.\",\n",
       "       \"Diaper Champ or Diaper Genie? That was my dilemma when registering for gifts before my son was born. Lucky for me, I had my Mom with me. She runs a daycare and said Diaper Champ is the best by far and that\\\\'s what I went with. The fact that you can use regular trash bags instead of special cartridges was very appealing to me. Now my son is 6 months old and I must say this thing is GREAT! The only time I catch any smell at all is when I change trash bags. I use those Glad trash bags that are scented to prevent odors and that makes a difference, too. it is very easy and covenient to use and I highly recommend it. The only thing you need to watch is the opening latch is a bit tricky (I broke a nail the first time I used it, but then I got the hang of it). I am glad for this, though, because if it\\\\'s not easy for me to open, it won\\\\'t be for my son, either.\",\n",
       "       'I LOVE LOVE LOVE this product! It is SO much easier to use than the Diaper Genie, (you need a PHD in poopy to figure out how to use the darn thing!) and it even takes the same bags as my kitchen trash can, shich is super convenient, and cost efficient as I can buy them in bulk.The only reason for not rating it a 5 star was that I did have one small problem with it. The foam gasket in the barrell which keeps the poopy smell inside the unit ripped somehow, and it got VERY stinky. HOWEVER, I contacted the manufacturer though their website, and received an email back the same day stating that this was unusual, and that replacement gaskets were on their way to me. They arrived inside of a week and after replacing, it works great again! (They even sent me extras should it happen again)I HIGHLY reccomend this diaper pail over ANY competitors, you will not be sorry!',\n",
       "       \"Although I had a Diaper Genie from my first child, which I hated, I registered for this for my second.  I received very few items from my registry but this was by far the best gift I received overall. It is very easy to operate.  My 4 year old feels a part of the diaper changes because he can work it.  It keeps the smell out which makes mom and dad happy.  But, by far the best thing about the Diaper Champ is that it takes regular trash bags so you don\\\\'t have to worry if [the store] will have the refills.  It is definately a people pleaser!\",\n",
       "       \"Granted our 3-month old isn\\\\'t producing really stinky diapers yet, but the Champ is much better than using a trash can.  My only issue is that its hard to flip the handle over using one hand - kind of a must when holding on to a squirmy infant.\",\n",
       "       'We loved this pail at first. The mechanism seemed ingenius, and we appreciated that it took regular bags. But once our daughter started to stand up, that big white handle was irresistable to her, and before we even realized it, she started flipping it. That makes the heavy center portion slide back and forth FAST, and sure enough she caught her finger and started yowling.This was *not* an isolated incident -- if you play with the pail a little bit, you\\\\\\'ll quickly see that the mechanism is a total finger trap for toddlers. Worse yet, they can slam a finger then hurt it seriously in their attempts to get it free by pushing the handle the wrong way. It\\\\\\'s really pretty scary.You\\\\\\'ll notice that the positive reviews here generally say \"I\\\\\\'ve been using this for two months, and it\\\\\\'s great!\" But once you have older babies, I\\\\\\'d retire it pronto.',\n",
       "       \"I bought this for my church nursery room. At home we use the First years product, which isn\\\\'t bad but not as good as this one.There are a couple of occasions that dirty diapers were left in it for a week but i didn\\\\'t know because it didn\\\\'t smell till I opened it to change the garbage bag.I think this is the only diaper pail that is cheap to use yet does the job well.Highly recommend.\",\n",
       "       'I recently gave birth to my third child.  When I had my 1st 11 years ago, I got a Diaper Genie and it worked okay, but the stupid refills for it were so expensive that I soon gave up on it.  Not to mention that the \"sausage links\" of diapers it created were pretty gross and I still had to use a garbage bag to dispose of them.  With this baby, I decided to give the Diaper Champ a try.  I LOVE IT!  In fact, I am considering buying one for my church\\\\\\'s nursery, after having to smell a pretty foul diaper from one of the other babies there.  I agree with any reviews that suggest using scented garbage bags, as it DOES smell pretty awful when you empty it, and I think the scented bags would help that a little.  So far I have had only a minor complaint, and that is that it can be a little tricky to open sometimes, but overall it\\\\\\'s still a great product.  I would definitely buy this again and recommend to a friend.',\n",
       "       \"Our daughter is 13 months old and we\\\\'ve been using the Diaper Champ ever since she was born. I highly recommend it because it\\\\'s a great value.  However, there are a few things to be aware of which is why I only gave 4 stars.1. Make sure the grip part of the diaper is not loose when placed in the DC. My husband learned the hard way that the grips get stuck on the seal and the diaper won\\\\'t drop into the bag.  Then you have to pull the diaper out and the grips slowly pull away the seal.  It didn\\\\'t seem to affect the odor control, but it did make it difficult to move the handle/shoot back and forth.  The company does send free replacement seals and instructions if you call and ask.2. The unit is top heavy when it\\\\'s empty. I learned this one the hard way.  When pulling out a full bag of diapers be sure to put your foot on the base to keep it from banging you in the shin as it falls backward.  Ouch!!3. No, the stink isn\\\\'t completely trapped, but it\\\\'s pretty darn close! The stinkiest part is emptying a full bag.  I found that putting a stick-up inside the lid has made it much more tolerable.\",\n",
       "       \"My husband & I had received a tip from another parent that this was the must have item.  I had always hated that the diaper genie had to have special bags, I was just going to get a regular garbage pail & use that.  That is until we heard about the Diaper Champ.I absolutely love it.  It is a complete life saver all around.  No special bags to buy, not a hassle to put together.  Comes almost all the way assembled out of box just attach to base & voila you are ready to start changing diapers.  A little tip to keep the odor down.  I wipe it out with antibacterial wipes a couple of times a wk, & I spray Lysol disinfecting spray.  Once a month I wash it out with a mild dishwashing detergent.  Also, to give it a little good smell I buy a 2 pk of stick-ups(.97 cents at Wal-Mart) & stick one in the bottom of the pail.You will not go wrong betting on this one.  It is a sure winner.  You\\\\'ll save a lot of money by using this one.\",\n",
       "       \"I don\\\\'t know how we survived the first year without the Diaper Champ.  My daughter is now 13 1/2 months old and we still have an odor free nursery.  It\\\\'s very economical, too.  Using regular kitchen bags and holding more diapers than the competing diaper disposal system makes this quite efficient.A trick that was passed down to me from an experienced mom to control odor (again, yes, it\\\\'s going to smell a little...you put stinky diapers in it!):  Place a Bounce dryer sheet in the bottom of the pail (before putting the trash bag in)and spray thoroughly with Lysol after each use.  I don\\\\'t know why the dryer sheet works...but it does!  And if I don\\\\'t change it out regularly (about once every few weeks) then I start to notice the smell.Recommended above all other diaper pails!  Price-wise the Diaper Champ just can\\\\'t be beat.\",\n",
       "       \"We originally had the diaper genie which we found to be a pain after the top broke off twice and all those replacement specialty bags we had to buy were getting expensive but not controlling the odors.  All that sausage shaped smelly garbage eeeewwww had to be put in another garbage bag just to get it out of the house!  My sis-in law had the diaper champ & I couldn\\\\'t believe she even had any dirty diapers around...there was no smell!  We chucked the genie and bought the champ. It was so much easier to use...just roll the diaper into a little ball and drop into the hole on top, flip the handle and bye bye smelly diaper (my 16 month old can do it) And there were no special bags to buy, just the same regular garbage bags we used already in the kitchen. Experienced parents will understand and appreciate that it comes apart for easier cleaning for those times when it may become a mess.  We had a problem with odors after about a year of use so I called BabyTrend to see what they recommended.  They sent me these replacement sponge gaskets (free of charge) and we were once again odor free. Now on my 3rd child and almost 3 years later, I just called them again to get another set of replacement gaskets (again free of charge) they will be here in about a week.  THIS IS A GREAT ITEM and the company stands behind their product (even years later!)\",\n",
       "       \"I didn\\\\'t want to get the Diaper Genie because of the expensive refills needed to use the product.  The Diaper Champ uses 10 or 13 gallon trash bags (or you can recycle larger store bags to use in the Champ).  The mechanism doesn\\\\'t let odors out and if you have toddlers that get into everything, they can\\\\'t get into the Diaper Champ!  Opening the Diaper Champ is easy but could be an initial challenge for some but once you figure it out it\\\\'s simple to open.  I highly recommend the Diaper Champ.\",\n",
       "       \"I wasn\\\\'t sure which to get between this and the Diaper Genie. I am so glad that I chose this one. I love that I can buy the scented bags of my choice. It really holds in the horrible diaper smell. I love it and wouldn\\\\'t trade it in for anything.\",\n",
       "       \"I chose the Diaper Champ over the Diaper Genie because of its money-saving feature of being able to accomodate most plastic bags with handles.  (The Genie requires use of their own bags.)  The plastic bags that work best are the larger kinds like the ones you get from Toys R Us or Ikea.  The plastic supermarket bags are a little too small.In regards to odor control, the DC has been successful for 3/4 of the year.  There is a noticeable smell during the summertime, so I\\\\'ve had to change the bags more frequently on hot days or else face the consequence of suffering the aroma of baking poop.My only negative comment about this product is concerning the lid.  For those who take great pride in your manicured nails, ask someone else to open it for you.  Even though I have short, uncared for nails, I\\\\'ve had a few bent nails from trying to pull open the lid.  Then, the next problem is that the lid doesn\\\\'t open all the way (like a cigarette lighter).  It opens up to about a 75 degree angle.  This makes it inconvenient when you are trying to remove a stuffed bag of diapers.  Also, the underside of the lid has several plastic sharp juttings against which my hands would occasionally get scratched.  And, during the removal of the full bag, this is when you get the full blast of your little one\\\\'s excretions (quite possibly 3-5 days worth of them), so hold your breath!Although there is room for improvement on this design, I haven\\\\'t seen or heard of any other model that can do this job nearly as well for as reasonable a price.\",\n",
       "       \"Bad construction is my main issue. My husband assembled it and when changing the bag, you\\\\'re supposed to open up the top head part which tilts back.  There\\\\'s a little plastic tab that\\\\'s suppused to slide in as your opening the top, but instead it get\\\\'s cought so it allows the top to open up only partially. It may just be one defective item that somehow passed the quality control inspection, but I\\\\'ve given up on diaper pails in general.  Talking to 1st time parents, I found out that almost everyone gets one, but almost everyone stops using them very quickly.\",\n",
       "       \"This is on my list of must haves.  The thing has been in my bedroom for 6 months.  Not once have I ever smelled an odor from this thing.  I love that I can use any kind of bag so I just buy those super cheap super flimsy tall size garbage bags.The only drawback, as with all diaper pails, is that as the baby gets bigger and the diapers get bigger, you have to change the bag more often.  Our baby is 6 months and we fill it about once every 36 hours.But still, I wouldn\\\\'t trade it for the world.\",\n",
       "       'Diaper catches and jams in the well and that is particularly nasty when the diaper is dirty.  Also, it is impossible to get it 100% clean after such a jam, which causes the oder to persist.  I have given up and am now throwing my Diaper Champ away and getting something new.',\n",
       "       \"I love the convenience of not having to buy special bags.  I got my Diaper Champ as a hand-me-down from a relative, and it still works great.  There is no diaper odor in our nursery.  When you change the bag, get in there with some Lysol spray and eliminate the germs and the residual odor (hello, if you didn\\\\'t flush the toilet for a week it would stink, too - try changing the bag before it\\\\'s overflowing!).If you don\\\\'t clean things, they don\\\\'t smell clean.  This isn\\\\'t rocket science.The only reason I\\\\'m not giving it five stars is because I don\\\\'t like the opening mechanism on the front.  But I can\\\\'t think of any way they could\\\\'ve done it differently that would be as effective.\",\n",
       "       \"I\\\\'ve been using this diaper pail for 2 and 1/2 years and I LOVE it.  I can buy inexpensive scented bags from the grocery store and I just use recycled grocery bags to wrap-up the poopie ones.  My son\\\\'s room has NEVER smelled at all!I do lysol it every once in a while.  But that\\\\'s all I\\\\'ve had to do.When I\\\\'m at friends\\\\' houses that have the diaper genie, I\\\\'ve been confused about how to use it.  No one has ever been confused about how to use ours.  Just put it in and flip.I have recommended this to all of my friends and family.\",\n",
       "       \"It suprises me to read all of these reviews saying that the diaper pail stinks up a room!  DUH! It\\\\'s full of dirty diapers.  Personally, we never had that problem too much.  The nursery smells a bit sometimes but I think you would have that with every diaper pail.We got this one because we use cloth diapers and don\\\\'t want each one mummified in it\\\\'s own cocoon.  I used this for my first two kids.  We threw it out when we moved but now that the third is here we are going to get a new Diaper Champ.\",\n",
       "       \"Diaper Champ is great.  But just to let you know that I\\\\'ve been breastfeeding and the poop doesn\\\\'t stink as much as formula poop.  So I can\\\\'t tell you if Diaper Champ will be as good at containing the formula generated poop smell, but it\\\\'s excellent at containing the smell of poop of my breastfed baby!\",\n",
       "       \"I registered for the Diaper Champ after seeing the reviews and I cannot talk enough about it. I just live it!!! It is odorless(so far) and very easy to use - and only with one hand, so you can SAFELY keep the other one on your baby. It\\\\'s very easy to change the bags, which you can use any 13 gallons one - no expensive refills to buy!!!! I just sprinkle some scented baby powder or spray some Lysol Disinfectant spray everytime I change a bag, to keep it from smelling even a little bit.I highly recommend the Champ, you will not regret it!!!\",\n",
       "       \"You really can not appreciate this device until you\\\\'ve used it.No smell unless you don\\\\'t empty it for a week or more. An airtight vault it\\\\'s not....but it does what it\\\\'s designed to do very well.Who doesn\\\\'t take out the trash more than once a week ? Same concept with this diaper pail.- From a Dad of a Newborn who\\\\'s thankful he ignored the negative reviews.\",\n",
       "       \"I am glad my friend told me about the diaper champ, because otherwise I would have gone in for the diaper genie. This is cheaper than the genie for one, and works just as well in terms of trapping odor. It is also bigger than the genie, and the best part is, you can use regular garbage bags in them. Isn\\\\'t that just PERFECT? Love this product, and would highly recommend it to any parents-to-be.\",\n",
       "       \"In reading some of the other reviews, I think it\\\\'s all been said but I guess I\\\\'ll say it again anyway.  :)  I love the Diaper Champ - you can operate it with one hand (allowing you a free hand to hold down a squirming baby on the changing table), no special bags to purchase, and odor-free if you stay on top of changing the bag and spraying with Lysol every few bag changes.  My husband and I tend to let it get to the point that we have to actually push the plunger down to get the diaper to go in and still the nursery is odor-free for playing or sleeping.  And I must admit, I have a 1 yr. old who eats everything under the sun and even when it comes time to change the bag, it\\\\'s not that bad.  Tie it up fast and you\\\\'re good to go. ;)  I will admit that it can be hard to open, but if it were easier, I\\\\'d have dirty diapers strung from one end of the room to the other because of my busy boy!!!  I highly recommend the Diaper Champ!\",\n",
       "       'I Loved this product. It kept smell to a minimum and could use a regular size trash bag.  Highly  recommend.',\n",
       "       \"After 2 and half years I still can\\\\'t get the smell out. Its been sitting outside airing out for 3 months now, I think thats where I\\\\'m leaving it too. I love the concept of a diaper champ, but somebody do something about the smell, please.\",\n",
       "       'This product meets all my expectations. The diaper champ is easy to put together. It keeps odors in the container. Most importantly it uses regular 13 gallon bags! By the way, keep a roll of these at the bottom of the container for that day when it fills up.  Depending on your use you could go for a week without emptying it out.',\n",
       "       'This is the worst diaper pail ever!  It was great for the first couple weeks, but then it began to smell.  I cleaned the inside and outside with 409 again and again, but the smell would return with the first diaper I put in.  Then to make matters worse my 16 month old figured out it was fun to put toys in the hole where you put the diapers and try to flip it the way I did with his dirty diapers.  I had a Diaper Genie that broke and was hopeful that this less complicated diaper disposal system would work as well, but it does not!',\n",
       "       \"I purchased this pail about a year ago and found out right away that it will not control Ordor for #2 diapers.  My cat box smells fresher!  So, I used it for wet diapers only until I found that my now 1 1/2 year old son makes is own deposits...his toys!  Oh and by the time the pail fills up with wet diapers, those smell too.  The bag gets heavy and awkward to pull out if you don\\\\'t have good upper body strength or a bad lower back.  So, the pail is now in our storage unit and we have a wicker basket with a lid (found free at a garage sale) lined with a garbage bag that sits on our deck right outside the sliding glass door. Diaper deposits are made there where it is easy to get too, the smell is outside and it can be emptied by my husband...outside!\",\n",
       "       \"This is my first baby so I have nothing to compare this product to. But I have heard horror stories of stinky diaper pails. My baby is now six months old and the only time I smell her diapers is when I change them and when I open the pail to replace the bag! I use the same garbage bags that I use in my 13-gallon kitchen trash can! It\\\\'s so simple and user-friendly it\\\\'s ridiculous! Put in a trash bag, old plastic grocery bag, yard waste bag, whatever; put down the top, you\\\\'re ready to go. The top acts like a chute and whisks the dirty diaper away. When full pop the top (hold your breath), pull out the bag and put in a new one. No jamming or any other kind of technical difficulty whatsoever! And, again, no leaking smells. Don\\\\'t waste your money on anything else!\",\n",
       "       \"As new parents, we started out with the Diaper Genie because everyone told us that we just *HAD* to have one.  While the Genie did a decent job at keeping the odors inside (except when emptying it!), it was a pain in the neck for older family members to use (e.g. grandparents) and those refill cartridges start to add up after a while!A friend with a child the same age as mine showed me her Diaper Champ and I was thoroughly impressed!  Not only did it do a comparable job at keeping odors inside, it was extremely easy to use and did not require me to spend an additional [$$$] each month on refills.  We decided to go ahead and buy a Diaper Champ because our son was only 13 months old and we figured he\\\\'d be in diapers for at least another year so we\\\\'d be saving money after 6 months by not having to buy the refill cartridges.  Then when our twins were born, we were so glad that we had the Champ!  After all, we\\\\'re already buying tons of diapers, who needs to spend another [$$$] a month on those Genie cartridges?!As for ease of use, my 3.5-year-old son loves throwing the dirty diapers away for me because all you have to do is drop it into the chamber and flip the lid.  It is super easy to empty it too.  And I\\\\'ve found that if I use scented garbage bags and give the inside a quick spray with Lysol each time I empty it, the smell when emptying it is not as bad as it is with the Genie.I HIGHLY recommend the Diaper Champ!  And even if you already have a Genie, if your child is going to be in diapers for more than 6 more months, go out and get a Champ because you\\\\'ll be saving money in the long run by not having to buy any more refill cartridges!\",\n",
       "       \"Can\\\\'t get the smell of rank diapers out of the top(cover) of the Diaper Champ. Any better models out there?\",\n",
       "       'My husband and I love the Diaper Champ. It holds a nice amount of diapers,contains the odor and it uses your own garbage bags. The Diaper Champ is easy to use and to empty, it really is a wonderfully designed product.',\n",
       "       \"We originally registered and received the safety 1st pail- what a disappointment.  the latch never worked- we purchased this pail and what a wonder!  my busy toddler can\\\\'t get into the diaper pail and it really works well with controlling odor (hint- use the scented garbage bags and little blue diaper sacks for smelly poops).  I have recommended this pail to all my friends and they love it as well!\",\n",
       "       \"I was told not to waste my money on a diaper pail because it didn\\\\'t do what it claimed to do.  Finding out it was a genie diaper pail I read the reviews of the diaper champ and decided to try the champ.  I couldn\\\\'t have spent my money any wiser. Their is never an odor and I always wait until it is completely full.  Convenience of not buying new bags is wonderful!!  This is great for my 10 week baby\\\\'s room-Love it!!!!!!\",\n",
       "       \"With my second child I wanted something better than the Diaper Genie which I did not like at all, it was smelly and impossible to do with a one hand action.  Enter the Diaper Champ! After reading all of the customer reviews here I decided to try it and everyone was so right.  I can put poopie diapers in this diaper pail and it doesn\\\\'t smell at all! It holds a sufficient amount of diapers and needs no special bags, just regular garbage bags. I has an easy one hand action to deposit the dirty diapers leaving one hand free to hold the baby with. I am totally pleased with the Diaper Champ and hope everyone gives it a try, its worth the money!\",\n",
       "       \"Let me just say, I LOVE THIS PRODUCT!!  I used the diaper genie from the time my daughter was born until the time she was 16 months.  That was all I could take.  Constantly buying expensive refills, emptying it every couple of days, juggling a wiggly baby while trying to open, lift, push, spin, and close the genie was just too much.  Then I was shopping at Babies R Us and in the STORE\\\\'s changing room is the Diaper Champ.  It was easy, didn\\\\'t smell, and used regular trash bags.  I was sold.After using the Diaper Champ for 2 months now, I am confident I made the right choice.  Yes, when it gets too full, you have to change the bag or the weight will get stuck (duh!).  Yes, if you don\\\\'t wrap up the poopy wipies in the dirty diaper, you will have to clean poop from the chute (just wrap it up).  Yes, poop does smell (not like roses), but my daughter\\\\'s room doesn\\\\'t smell like poop because the Diaper Champ does a great job of containing odor.  You do need to disenfect it when you change the bag, but I would recommend that with any product that is a holding tank for feces (you have to disinfect your toilets, too).I have recommended the Diaper Champ over the genie to every one of my friends.  It is fantastic!!\",\n",
       "       \"This is amazing! We can toss tons of diapers (abouth 5 days diapers for a new born). And there is NO smell at all. I do recommend the following: Close well each diaper with the velcro, you\\\\'ll be able to fit more diappers. And occasionally clean the tube where the diaper is toss with baby wipes, then toss the wipe. Somehow when you open the diaper champ to replace teh bag, you smell more wipes than stools!\",\n",
       "       \"We wanted to have a convenient locking receptable for poop-laden diapers in our toddler\\\\'s bedroom. While they do lock, they aren\\\\'t convenient. Wipes get caught in the mechanism and you have to shake and bang it while trying to keep wriggling baby on the changing table. Poop gets into the chamber, and smears on the outside of the rotating drum, particularly when they get too full, which they do often. They\\\\'re bigger than diaper genies, yes, but not quite big enough for a baby with a big appetite.This smearing problem, is, in my opinion, probably the source of the smell that others complain of. We have cured the smell by keeping handy a container of bleach-wipes, and frequently wiping thoroughly in and out of the drum. What a hassle!Our recommendation: buy a tall trash barrel with a foot lever, and if your toddler gets curious attach an appliance latch. You\\\\'d need to open the latch before starting the change, and close it after, but that seems easier to me than thumping and wiggling a diaper champ in the middle of the change. It will control odors better, and you won\\\\'t have to be continually wiping poop off the outside of it.\",\n",
       "       \"I wasn\\\\'t interested in getting the Diaper Genie because those sausage baggy things were too much of a pain!  Plus they can get expensive when you\\\\'re having to change your baby 8 times a day and you have to buy refills for it.  When I first saw the Diaper Champ and read what you needed for it and what it did, there was no question that I wanted it!  It\\\\'s awesome!  When they say it\\\\'s odorless, it REALLY is.  The only time you ever smell anything is when you open the lid to empty it and all the dirty diapers are right there.  You never smell anything when it\\\\'s closed.  Plus, I like the fact that you don\\\\'t have to buy refill bags for it.  It takes the plastic grocery store bags that everyone has too many of.  I recommend this for anyone who is looking for a very convenient and odorless diaper pail!\",\n",
       "       \"I checked out all of the available diaper disposal systems.  This by far is the best, no refillable special bags, no stink, and very easy to use.  It is great! Those exploding diapers for newborns can\\\\'t even crack this.\",\n",
       "       'This diaper pail has NO ODOR and is the perfect size.  I use normal 10-gallon trash bags from Target.  No complaints at all!  Very easy to use and seriously, you do not smell any poopy diapers!',\n",
       "       'I was definately excited to have a diaper pail capable of keeping smells down and holding more diapers. I have two little ones under the age of two.  I was immediately disapointed to find that everytime I tried to filp the diaper into the pail, in the entire thing opened up.  I guess mine could be broken but I think its just poor design.  It also seems to be no better than the competitors at keeping diaper smells in the pail.  The plus is that it uses regular trash bags.',\n",
       "       'I own both the Diaper Champ and the &quot;other one&quot;.  I have had the &quot;other one&quot; for two years now and cannot wait to get my toddler out of diapers so I can get rid if it.  I bought the Diaper Champ for my newborn and have had for 2 months and LOVE IT!  Easy to use, easy to clean, and I use tall kitchen garbage bags so emptying it is a breeze!  I wipe it out with Lysol Wipes everytime I change the bag and spray the openings with Lysol once a day and have zero odor problems.  Hint: I also put a dryer sheet at the bottom of the pail in the bag so it gets tossed every time I change the bag and a fresh one gets put in!  Enjoy this product - Wish I had known about it with my first child!',\n",
       "       \"This is absolutely, by far, the best diaper pail money can buy.  Never do we detect a diaper odor (and my husband has a very sensitive sense of smell and is usually very quick to complain about such things).  For those who say they have a problem with the Diaper Champ getting stuck...the ONLY time this ever happens to us is when the bag is full and needs to be changed.  We love that it uses regular kitchen trash bags, makes it much more economical.  We have not found that we need to worry about frequent emptying or cleaning.  We just leave the Champ to do its job until the mechanism begins to feel like it\\\\'s getting stuck...then we change the bag.  For us this means about once a week.  Not only is the Champ EASY to use, it\\\\'s kind of fun.  Before our daughter was born we really worried about whether the diaper pail we chose would be effective enough for us because my husband is so sensitive to smells.  But she\\\\'s two months old now and we still just can\\\\'t say enough good things about it.UPDATE:  My daughter is now 9 months old and we STILL love our Diaper Champ.  She\\\\'s eating solid foods, diapers are smellier, but the Champ is still doing it\\\\'s job.  We empty once a week and spray with Lysol.  Yes, there is an odor when changing the bag, but we take the bag directly out to the trash, spray Champ with Lysol, insert new bag and close the thing back up.  Everything is just fine after that.  We are so glad we have the Diaper Champ and cannot sing its praises enough.\",\n",
       "       \"At only 3 weeks old, my son goes through about a dozen diapers a day.  We have the diaper champ in his bedroom and it\\\\'s been great so far.  (We\\\\'ll see once he switches to solid food and his diapers are a bit more stinky!)  It\\\\'s so easy to use and you don\\\\'t have to buy the special bags.  We\\\\'ve used kitchen trash bags as well as large plastic shopping bags like the kind you get at babies r us.  One recommendation - get a can of Lysol and spray the diaper champ down when you change the bag.  Overall, I love this diaper pail and would buy it again in a hearbeat!\",\n",
       "       \"We\\\\'ve been using the Diaper Champ for about 4 months now, and have had NO problems whatsoever!  The design is absolutely ingenious and the fact that it takes regular trash bags is a definite plus!  We bought a box of Hefty Trash Bags with that odor patch to use in the Champ and we change the bag about 2-3 times a week, and we\\\\'ve have had no problems with smell.  I usually wipe the Champ off with a Clorox Wipe each time I change the bag, but my husband decided to take apart the Champ a few weeks ago to give it a thorough cleaning with some bleach water, and he mentioned that the gaskets were looking worn out.  So, I called Baby Trend (Diaper Champ manufacturer) and they sent me to two new gaskets and two new piston rings (which I didn\\\\'t even ask for) for FREE!  The customer service rep. even told me to call and request more gaskets and rings when we notice that the new ones start to wear out, usually after about 6 months.  Overall, I am very pleased with our purchase.\",\n",
       "       \"My biggest concern was would this truly control the odor and yes it did...dirty diapes and soaked diapers.....I only noticed an odor one time and that was because I did not close thelid when I changed out the bag. No need for deodorizers.I use the regular kitchen trash bags and it is so easy to empty...even did while daughter sleep and no noise! I use the scented bags and even if I don\\\\'t no smell! This holds alot and does not take up alot of space.\",\n",
       "       'Thank goodness we found something better and easier than \"genie\"!!This one works great, no difficulty loading bags or putting diapers in.Only reason for not 5 stars is a little odor escapes but in my opinion well worth the offsetting ease of use.',\n",
       "       \"My baby is 1 month old now and we have been using the diaper champ since day 1.  It is ultra convient when you have your hands full with a dirty diaper and a kicking, squirming wiggle worm.  There has been no smell at all, and the champ\\\\'s generous size allows plenty of diapers, which is important because it seems as though there is no time to do ANYTHING!!!  I would recomend this product to any and all people with babies.\",\n",
       "       \"I changed my registry from the Diaper Genie to the Diaper Champ after reading the reviews for the Diaper Champ online. I\\\\'m very happy with it. Our baby\\\\'s cradle is in our room so we keep the Champ in there with us. There are no odor problems whatsoever. I also love that you don\\\\'t have to buy specialty bags for this pail.The only caution I give is to moms with long natural or fake nails...the opening latch doesn\\\\'t release very smoothly. When releasing the latch (which is, wonderfully, a one-handed job, although it can be a tad bit difficult to squeeze), it springs open rather sharply. I have short nails but I can imagine long nails might get broken or fake ones snapped off if care isn\\\\'t taken when opening the top.Also, the diaper disposal mechanism, which is great (!!!) since it really keeps the odor inside the pail, can be a little loud as it slides down into the pail, especially in the quiet hours in the middle of the night when you\\\\'re trying to get baby back to sleep. Just be sure to dispose of your diaper(s) before putting baby down to sleep.I would recommend this product to everyone, even with these two very minor issues.\",\n",
       "       'I started off with the Genie but quickly realized that I had to keep buying the special, pricey Genie bags. The Champ is great, takes any appropriate sized plastic bag and contains stinky diaper smells well. A MUST have!',\n",
       "       \"you can use any ol\\\\' bag with this. go to the dollar store and get some of those kitchen bags. they fit it perfectly. you put the diaper in the hold in the top, turn the handle, and pop. byebye poopy diaper! it can hold quite a few. we only need to change the bag once a week. it really does hide the smell. the diaper champ is the best!\",\n",
       "       \"It works ok.  I\\\\'ve had it for a few months - I bought it based on its positive reviews in baby bargains, but I\\\\'m going to find something else.  The biggest drawback is that a couple days after emptying it, stuff starts getting stuck in the device so that you have to open it up and wrench poopy wet wipes unstuck...defeats the purpose of an airtight bin.I haven\\\\'t compared it with other bins, so I couldn\\\\'t say whether it\\\\'s the lesser of evils, but hopefully there\\\\'s something better out there for the job.\",\n",
       "       'We have been using our Diaper Champ for 4 weeks now (trust me, newborns poopy diapers DO smell) and it has met all our expectations. No odor and easy to use!',\n",
       "       'So far so good.  I was using the cheapie pail...and it worked ok until the opening device fell apart.  I am wondering how some of these reviewers are able to stand having kids?  Even the old pail hardly smelled bad to me, I think after you have changed diapers for 4 years, you get somewhat immune to it.  I could probably use a trash can and be ok at this point, but this prduct seems to work very well so far.',\n",
       "       \"I chose the Diaper Champ because you are able to use standard trash bags.  I hate to buy replacement items such as bags ( i usually forget).  I works great.  The only thing is when it is full it is full.  It is very difficult to squeeze anything else into it.  I have not noticed any lingering oder in the baby\\\\'s room and would recommend this item.\",\n",
       "       \"Overrated, odor is bad. I changed to Gallon zip-locs, you can stuff a few diapers in a gallon zip loc and discard.  If you don\\\\'t want the diaper smell don\\\\'t get this.\",\n",
       "       \"I\\\\'ve never even had a problem with it.  There is no odor and I find it very convenient to use garbage bags.  The only thing I do is spray the inside with lysol once in a while.  Even when I change the bag, the only smell is the diapers.  Once they are out, the diaper champ really doesn\\\\'t have a smell.\",\n",
       "       \"We have purchased three diaper pails prior to this one. This one is a hundred times better. The other ones always had springs that broke or the lid wouldn\\\\'t stay shut. The Diaper Champ has none of these problems, and it is nice to use regular garbage bags. It was a little more expensive, but well worth the extra money.\",\n",
       "       \"The Diaper Champ was a great invention. No special bags and easy to use one handed. You just put in regular garbage bags (fits like a glove) and empty as you would your regular garbage. NO smells, NO Mess, NO problem. It\\\\'s a must have!\",\n",
       "       \"This is the only diaper pail we\\\\'ve had and our son is now 2.  We use scented kitchen trash bags ($3-4 for a huge roll at Target) and that seems to improve it\\\\'s olfactory-blunting performance even more.  For especially messy and stinky diapers, I\\\\'ll pre-bag the whole bundle in a small scented bag ($1 for 100 at Dollar Tree) that I can rest in the opening of the Champ.This may seem like a lot of bother, but it\\\\'s not!  I haven\\\\'t even washed the Diaper Champ out or Lysol\\\\'d it in 2 years.  Did I really just admit that?!?  We empty it no more than 2x per week, on average 1x per week.  If there\\\\'s ever a smell in the nursery, it\\\\'s from the dipaer\\\\'s presence pre-Diaper Champ entry.I do wish the Diaper Champ people could find a way to have some button the parent can push to flip the handle while keeping the 1 hand operation.  My son likes to put toys in the Champ and we\\\\'ve had several close calls when he was about to send a toy into the pail, never to be seen again (becasue who wants to retrieve it, let alone let their child play with it?!?).  Some simple child-proof mechanism would be a Godsend.Even with that said,  the Diaper Champ is a great product and I\\\\'d recommend it to anyone!\",\n",
       "       'Works great - no smells.  LOVE that it uses regular garbage bags. Easy to change and keep clean. Great option instead of the Diaper Genie that requires special bags and is so wasteful since it wraps each diaper in plastic.',\n",
       "       \"We got the Diaper Champ as a gift and immediately fell in love with it.  I wish I had invented this product.  It is one of our Top 10 items to buy.It takes regular kitchen trash bags and is really quite good about the smell.  Now that we are introducing Isabella to more foods we are finding that it does not contain the smell as well, but better than anything else that we use.The only problem I run into this that it gets stuck on the inside from time to time at the worst possible moment -- stinky full diaper that needs to disappear right now!  I am pregnant again so these smells get to me.  Because of this problem I gave it 4 stars.It gets stuck from an occasional diaper sticky tab sticking to the inside .  When this happens, you have open everything up and it can get a little messy if the tab was stuck in the wrong placeWe also own a Diaper Genie which is 99% smell proof, but also has it\\\\'s own problems.  I would only buy this one, even if money, space and smell were not an issue.\",\n",
       "       \"Like other reviewers, I put this diaper pail on my registry because I just didn\\\\'t want the hassle of having to buy special bags--what happens when you run out in the middle of the night!  I liked the fact that you can use regular bags in this diaper pail... in fact I frequently recycle BabiesRUs bags by using them in the Diaper CHamp.  I have twins--so you can imagine how much poop goes into this pail and I\\\\'ve never had a problem with smell (I\\\\'ve been using it for two+ months now).  You just put the diaper in the hole... flip the lid and the counterweight pushes the diaper down into the bag underneath and its ready for the next diaper--then you flip it back.  The flip handle does get stuck sometimes... but only when it\\\\'s TIME TO EMPTY THE PAIL!!!!  Some reviewers seem to think the pail should empty itself, but unfortunately nothing on the market will do that for you.  When you change the bag (which is incredibly easy to do) you can just spray the inside with a little lysol and then periodically wipe it out with a sponge and some bleach.  I\\\\'d do that much even with the more expensive diaper pails and I\\\\'d still have to buy expensive special bags.... You can\\\\'t expect something that contains poop to smell like a rose or to be germ free without a little work on your part, but with the Diaper Champ you can have a smell-free nursery AND save money by using plain ordinary garbage bags (or recycled plastic bags!)\",\n",
       "       \"When our daughter was born we bought the diaper genie and it soon became another unused thing in our closet.  I found it so impractical, because no matter what it says it is never truely one hand operable.  And it takes so long to stuff and twist that the baby is neglected on the changing table for a longer period of time.  Also, it didn\\\\'t hold very many diapers and was a pain to unload.  I would rather just walk each diaper outside!  So when we were pregnant with our son I told my husband that we had to go shopping for a new diaper pail and that\\\\'s when we found the diaper champ.  I now give this at every baby shower I go to even if the mom-to-be has registered for the diaper genie!  I know she will convert to this one.  I have never had a problem with odor, and it is truely one hand operable, as well as taking less than a second to operate.  All you do is flip the handle over and you\\\\'re done.  No need to push the diaper in with your hand (gross!) just let gravity do it\\\\'s thing.  It is also very easy to unload and install a new bag.  Plus there are no special bags!  Not only a money saver, but no need to worry about running out.  I just use our kitchen trash bags, and they work great.\",\n",
       "       'Simply put, the Diaper Champ is much easier to use, less expensive, and most importantly, MUCH better at keeping those odors locked away when compared to the Diaper Genie.  Even the smell of my niece\\\\\\'s \"soy diapers\" don\\\\\\'t seep through this.  I have been thoroughly impressed -- even the nurses at the hospital where I had my baby recommended it.',\n",
       "       \"I love my Diaper Champ. My son is 3 months old and we have had a great experience with it. It\\\\'s simple to use and is cost efficient. The biggest plus to this diaper pail is that you can use any plastic bag you want. As far as some people saying it smells, I haven\\\\'t had a problem. Once a week I soak it with Lysol and water to keep germs away. I highly recommed this product if you want a clean, simple, and convenient diaper pail!\",\n",
       "       \"I agree it\\\\'s better than the genie.  I own the genie and served us well.  But when I had the chance to use this product at Babies R Us store, I was so impressed.  It\\\\'s very easy to use, and it seals out the odor as well.  I wanted to get this for our use, but my genie is still in good use.  Too bad, the champ came late, or we should have gotten this instead.\",\n",
       "       \"I love the diaper champ.  I registered for this item because I liked the fact that it takes regular garbage bags.  When it\\\\'s almost full it tends to have a bit of an odor, but lysol takes care of that, and helps kill germs.  This is very easy to use and is simple to change.  I highly recommend the diaper champ.\",\n",
       "       'love it because it uses the bags from the grocery store.  way cheaper than others.  have to change regulary (2 times per week) when the baby gets on solids though.',\n",
       "       \"I registered for the Diaper Champ after reading many reviews for several different diaper pails.  This is by far the easiest product to use.  There are no complicated bag systems and no special replacement bags.  I have not had the problem of having any oppressive odors leak out into the room.  The only odor was inside the actual diaper pail itself.  There is no such thing as a completely odorless plastic diaper pail since plastic absorbs odors, but just drop a couple of dryer sheets (Bounce or something similar) into the bottom of the diaper champ (not in the bag) and the odor disappears.  This product is easy to use and the bags aren\\\\'t hard to change.  I would recommend this to anyone.\",\n",
       "       'My 8 year old yellow lab was able to get the top of the diaper champ off and get his head stuck in the canistar.  No one was home and he suffocated.  This could just as easily have happend to a small child.  There is no warning in the literature to prevent this type of horrible tragedy .',\n",
       "       \"I have no problems with my Diaper Champ.  It\\\\'s great to be able to use regular diaper bags and I never have any problems with smell.  Definitely recommend\",\n",
       "       \"We are first time parents but have friends who have young children. We always try to get out of spending the night at their house because the diaper pail in the spare bathroom smells so bad. We took a strangers advice (no one we knew believed in a diaper pail that didn\\\\'t stink) and we purchased this product. We couldn\\\\'t be happier. At first we used it for disposable diapers which worked fine, but we were worried about how it was going to hold up when we started using cloth diapers. Our baby is now 3 weeks old and we have been using cloth diapers for 2 weeks and the diaper champ is doing great....no smell, no hassle with bags, no hassle getting the bag out and to the laundry room.Someone else wrote that the product has a design flaw in that the diapers can get stuck in the top. We did run in to that once, it means the diaper champ is full and you need to empty it.\",\n",
       "       \"I wasn\\\\'t going to get a diaper disposal system because I knew I did not want a new baby and then worrying about making sure I had the proper garbage bags.  But, I found the Diaper Champ and love it!  It works well and I went to Costco and purchased enough bags to last until the babies in high school for under twenty bucks!\",\n",
       "       \"This is by far the best diaper disposal system we have found. You don\\\\'t need any special bags - we usually just buy a roll of 35 13-gallon bags from Target for 99 cents. Usually the odor is not really a problem if you change the bags frequently, but if you don\\\\'t have a chance to change the bags just put a poopy diaper in a  plastic grocery bag before throwing it in the diaper champ. Your odor problem will be solved.I would recommend this to everyone.\",\n",
       "       \"We have been using our Diaper Champ for almost 14 months now and we are very happy with it.  It sits in the corner of our bathroom and we have never had any problems with odors at all (and we live in the damp and humid South, where odors of all kinds are generally rife).  It is easy to install and change the ordinary trash bags, easy to clean, and most important, easy to use one handed - just insert folded dirty diaper and flip the handle.  As the bag fills, you may need to flip twice to ensure that the weighted cylinder has completely pushed the diaper into the bag.  For the first 9 months or so, we only needed to empty this once a week.  Now that our son\\\\'s diapers are a little larger, they take up more space, and we empty twice a week.  We have never had any problems with anything like loose wipes getting stuck (we always wrap them in the dirty diaper).  It is a bit difficult to get the unit open (the advice to take it slowly is sound), but now that our son is walking and exploring, I consider this a positive attribute!Update (March 2005): My son has been out of diapers for almost 2 years now, but the Diaper Champ hung in there till the very end - easy to use, no problems with odors, and one of the best bargains among all of the paraphernalia required for the modern baby :-)\",\n",
       "       \"This is a wonderful product.  One suggestion to the manufacturer--the blue piece that holds the bag in place--perhaps the mouth of this could be made bigger so that an 8 gallon trash bag actually fills up completely before you need to take it out.  Right now, it\\\\'s only about 1/2 to 2/3 full before we have to remove it.\",\n",
       "       'I did a lot of research before buying a \"diaper system\" (asked friends, read other reviews on amazon, consulted baby product guides, etc.).  There didn\\\\\\'t seem to be a consensus on the best one out there.  However, I have been very happy with my Diaper Champ purchase - the stink is contained, the dirty diapers drop in easily and it uses regular kitchen bags (no special bags required like other systems).',\n",
       "       \"The best feature is that you can use your own garbage bags.  This makes the investment in a diaper pail a one-time occurance!!  The Diaper Champ works by using a piston-type chute.  You put the diaper in the chute, flip the handle, and the piston slide the diaper down into the bag below.  Nothing fancy...nothing to break!So far, it has worked great.  We change the bags 1-2 times per week.  Yes, it is stinky when you remove the bag, but what do you expect?!  We did put an sticky deodorant in the pail to help.  I agree with previous reviews...you still have to clean the thing!!When comparing to my sister\\\\'s Diaper Genie, this is much simpler to use and costs much less over its lifetime.\",\n",
       "       \"This has been a fantastic diaper pail for us.  We went through a Diaper Genie with each of our first two children, and this third time, I\\\\'m so glad we tried the Diaper Champ.  It has proven to be far better than the Diaper Genies.  Our baby is 7 months old now and eating solids, and the odors have not been a problem.  Not buying special bags has been great.  No twisting; no cutting; no blades to wear out.  Wish we\\\\'d used this with our first two.\",\n",
       "       'As much as I hear you all on the Diaper Champ - it is fabulous - the SMELL factor is greatly reduced when you take the trouble to empty diapers into the lavatory first.  This is what you are SUPPOSED to be doing.  Feces should NOT go into landfills because they can carry bacteria and intestinal viruses which can filter into, and contaminate, groundwater and soils.  Very few people seem to realize this and it is disconcerting that so many people are posting about the wonderful smell reducing power of this contraption without realizing that they are using it INCORRECTLY!  Please be more conscientious!  Do your part and put the poop in the pot and help to preserve our precious planet for that little person whose bottom you are currently managing.',\n",
       "       'Baby Luke can turn a clean diaper to a dirty diaper in 3 seconds flat. The diaper champ turns the smelly diaper into \"what diaper smell\" in less time than that. I hesitated and wondered what I REALLY needed for the nursery. This is one of the best purchases we made. The champ, the baby bjorn, fluerville diaper bag, and graco pack and play bassinet all vie for the best baby purchase.Great product, easy to use, economical, effective, absolutly fabulous.UpdateI knew that I loved the champ, and useing the diaper genie at a friend\\\\\\'s house REALLY reinforced that!! There is no comparison, the chanp is easy and smell free, the genie was difficult to use one handed (which is absolutly vital if you have a little one on a changing pad) and there was a deffinite odor eminating from the genieplus we found that the quick tie garbage bags where the ties are integrated into the bag work really well because there isn\\\\\\'t any added bulk around the sealing edge of the champ.',\n",
       "       \"I find this product easy to operate.  With any diaper pail you will have odor, but folding the diapers up and using the sticky tabs on the diapers to keep the diaper folded will help keep odor away.  We bought 2, one for near the crib and one for the main floor.  BRILLIANT idea...didn\\\\'t have to run up the stairs just to throw the diaper out.  Another helpful idea...put used diaper wipes in the diaper before folding the diaper up...otherwise the wipe will sometimes get caught in the slider and leave poopies on the pail.  How often did we have to empty it?  -  twice/wk when he was 0-3 months...once a wk after that.\",\n",
       "       \"I decided to register for this diaper pail mainly because of the fact that it didn\\\\'t require special bags.  My baby is now almost 6 weeks old and we are really happy with it.  You can use regular kitchen garbage bags and our nursery doesn\\\\'t smell at all.  It\\\\'s very easy to use.\",\n",
       "       \"I believed the reviews of this product, and bought it when my baby was an infant.  It worked very well while I was still breastfeeding, but once we started solid food, the smell was pretty bad.  Each morning when we went into his room, the whole place smelled like diapers.  Still, I resisted the diaper genie, because I didn\\\\'t want to spend the money on the refills.  However, by 10 months, we had enough, and finally bought a diaper genie.  What a difference!!  The only time smell escapes is when we empty it.  To me, it is worth the price of refills not to have to put up with the smell.  If it is not worth it to you, just buy a regular garbage can--it will work just as well as the &quot;champ&quot;.\",\n",
       "       'If you dont want the baby room to smell bad and do not want to worry buying special bags all time. This is the product for you.',\n",
       "       \"Easy to change bags.Stable when changing bags (others are not!!!) - won\\\\'t topple over.REGULAR GARBAGE BAGSOne hand use.\",\n",
       "       \"I love this diaper pale and wouldn\\\\'t dream of trying anything else.  It is great that you can use regular trashbags and not have to buy expensive cartridges.  So far it has done great on containing the odor and I like how easy it is to use.\",\n",
       "       'Worth every single penny and then some! I orginally registered for the famous \"Diaper Genie\" but was so thankful that my mother-in-law purchased this one instead after doing some research of her own. No special bags needed so I can use my every day kitchen trash bags when I need to empty and virtually no smell from stinky diapers- you can\\\\\\'t beat that! I am even thinking of purchasing one for my upstairs as well. Definitely the best one on the market.',\n",
       "       \"I got this for my daughter and I just think it\\\\'s great. We have this in her room and I haven\\\\'t smelled any ordors coming from it except for when you open it up to take out the bag. I also love the fact that you can use just regular bags. I know of someone that had a diaper genie and she still had a diaper in it from when her baby was born and she was about 2 months at that time. I\\\\'ve found that when it starts getting alittle full just shake it to level the diapers out and you will be able to get more in there. I have also heard that some people put kitty litter at the bottom of the bag to help eliminate some of the odors, but I haven\\\\'t had to try this yet. I would highly recommend this to anyone.\",\n",
       "       \"I have to say I really like the Diaper Champ, with one exception-it is definitely NOT always odor free.  I have had to put it in the bathroom now instead of the baby room, because smells from &quot;stinky&quot; diapers will seep out.  I think the best advice is to wrap the really smelly ones in a plastic bag before putting them in. Another word of advice-keep a can of Lysol next to it to spray when you throw a diaper away. It can also be hard to open-I\\\\'ve broken several nails on it.  I\\\\'ve only had it a few weeks (I\\\\'ve been using it for my toddler\\\\'s diapers until my new baby comes), and I\\\\'m hoping that the latch on it loosens up a bit with opening and shutting. Otherwise, it\\\\'s great that it holds more diapers, and it\\\\'s SO much easier to put the diapers in it than the Diaper Genie I had.  I don\\\\'t need two hands for it!\",\n",
       "       \"After reading the reviews and comparing with the diaper genie, I went with the diaper champ; mainly because it didn\\\\'t require expensive refills. I love that i can use my own trash bags! I change the bags about 2 times/week and have not noticed any smells. I spray with lysol when changing the bags (hello, diapers are stinky and this still will require cleaning). Overall, highly recommend it!\",\n",
       "       \"I love the Diaper Champ. I fought with the Diaper Geanie throughout my first son. This is so much easier to use, the three year old has mastered it! Uses your own bags. Don\\\\'t waste time with others.\",\n",
       "       'I received the Champ at my baby shower, and continue to thank my sister for it. My son can really drop a load, and you would almost never know it once it is in the pail. We do basic maintenance, like cleaning it every so often and spraying Lysol to keep it fresh. We save SOOO much money buying 150 ct 13 gal garbage bags for about $5. My one suggestion would be to change the bags out more ofen then needed, though. It helps to keep the tunnel from getting stuck, and decreases the chance of unwanted oders leaking out. I highly recommend owning one. Good Luck!',\n",
       "       'This is an excellent idea having the lid to dispose of diapers.There is no odor and extremely easy to use. Having one of these helps from needing to take out the trash daily for the guys!',\n",
       "       'It is so easy to use. You never have to change any cartridges and you can use an ordinary garbage bag. I love it and we have never had any smell escape from it.',\n",
       "       \"I love this diaper pail. Yea, if you let poopy diapers sit in it for too long and don\\\\'t change the bag on a regular basis it will start to stink but  c\\\\'mon its a bucket full of poopy diapers.As you child grows, or if you have older children watch out. The handle system fascinates  little ones and they find it amusing that they can put something in, flip it and it disappears,  which is good when it\\\\'s a diaper, bad when it\\\\'s,,, your keys.\",\n",
       "       'This diaper pail is great. It is the third one that I have tried. I just wish that I had it 4 years ago with my first child. It is very easy to use. You don\\\\\\'t need special liners or refills. A regular garbage bag works fine. I had the Diaper Genie and it didn\\\\\\'t keep odors out. The Diaper Champ doesn\\\\\\'t totally keep odors away, but it works just as well if not better than the others I have tried. The diaper champ is very easy to use. You only need one hand to \"operate\" it. My 2 year old loves \"helping\" out and can independently use it.',\n",
       "       'This is a great diaper disposal system, but from reading many of the negative reviews I think there are many individuals who did not bother to read the instructions. the bag goes through the hole in the blue retaining ring,  then gets folded over the retaing ring and locked in place, at no point should any of the bag be out side the pale and if the bag is put in place like a regular trash can it will not seal properly and you will probaly get a smell. I can not comment on the few reviews who had a seal falure for I have not had mine long enough.',\n",
       "       \"I read many reviews about diaper disposals and decided on the Diaper Champ and am VERY glad I did!  I had only heard about diaper genie but had never used it until I was visiting my brother who had one.  Now that I have used both, I am even more certain that I like the diaper champ!  With the diaper genie, you have to push the dirty diaper low enough so you can then twist the lid (the whole diaper sausage thing).  I didn\\\\'t know that until I used it.  YUCK!  Plus what a pain when you have a baby in your hand.  The diaper champ is much easier...put the diaper in the lid and then flip the lid from one side to the other.  Being able to use regular trash bags is what hooked me in but now that I have used it, I\\\\'m sold!  There\\\\'s no smell except for the brief moments when you change the bag.  Just keep a stick-up in the diaper champ, and you\\\\'ll be fine!\",\n",
       "       \"Let\\\\'s face it.  This is a specially designed garbage can to hold human feces.  One cannot expect that it will be odor free.  Mine certainly isn\\\\'t.  It is my fault, though.  If I emptied the bag more often, there would not be a stench.  But alas, I am lazy.  So when I do change the bag, I also spray some lysol.  Works for me.  I like it that you just have to flip the handle for the diaper to go bye bye.When I first got the product, I really hurt my finger trying to open the thing.  But that was my own fault.  I did not have it on the floor.  When opening the lid, step on the stabilizer ring at the bottom of the unit and it opens with ease.I too love that you do not have to buy special bags for this.  What a pain to have to remember to buy and then spend five bucks a pop on Genie bags.  Thanks, but no.All in all, I really like my Diaper Champ.  It\\\\'s also taller than the genie which is good for me, I don\\\\'t have to bend over so much to flip the lid.\",\n",
       "       'i love this diaper champ..not only does it save money on bags cause you use whatever brand you want it is bigger so it holds more and i havent had a smell come out of it!  My husband liked it so much he wants to buy another one for the den just for regular trash!!!  Another nice thing about it is you can put other items in it besides just diapers, and unlike the diaper genie you dont have to push down and smoush the diaper to get it in.  Wonderful item!!  (as you can tell i have use the diaper genie with my first child)  totally recommend the diaper champ!!!',\n",
       "       'This item is great, you can you any bags you want (unlike the diaper Genie)!!!!! It is great for the price!!!',\n",
       "       'The Diaper Champ is difficult to use and does not contain the smell at all!!  After you turn the handle to bring the diaper down, if there are more than a few diapers in there, it gets stuck and you have to turn it a few times to get it down.  It smells pretty bad after a day or two, and this is after cleaning it with Pine Sol AND letting it air out!!The only advantage is that you can use your own bags, but what good is that if you are constantly cleaning it and spraying Lysol??',\n",
       "       \"If you can love a diaper pail that is...  The Diaper Champ is EASY to use (one hand) and very sturdy.  No parts to break unlike the other leading brand.  It does a great job blocking odors and best of all, is compatible with ANY plastic bag.  Here\\\\'s a tip:  Tie dirty diapers in grocery sacks before depositing into the Diaper Champ.  NO SMELL WHATSOEVER that way!\",\n",
       "       \"For my first born I purchased the Diaper Genie. It worked out well for the first 6 months. As the diaper sizes got larger the harder it was to get the diaper to fit. It would squish out the sides, making a horrible mess! So I purchased the wide mouth size. More $$! The larger diapers fit a little better, but the monthly cost of special Diaper Genie bags started adding up.With the birth of our second child, I refused to use the Diaper Genie. SO in a search for something better than a smelly garbage can in our baby\\\\'s room, we found the Diaper Champ.The Diaper Champ out performed the Diaper Genie, not once was the diaper too large to fit in the top of the unit and it was cost effective because it uses your standard trash bags!On trash day, we would open the top pull out the old bag, tie it up, throw in a new one, and out to the corner for trash pickup.Ten years and 3 more kids later, this diaper pail is still the Champ in our house!\",\n",
       "       \"I received my Diaper Champ at my baby shower for the birth of my first son 11 months ago. I use it faithfully every day and love the ease and convenience of only having to change the bag once a week! I love that you can use regular kitchen-size trash bags and don\\\\'t need to purchase any special expensive bags. One thing you might want to be careful of, however...make sure you do not throw loose baby wipes into the Diaper Champ or else the flip mechanism can become jammed and after time will not seal properly due to having to pull out wipes that are stuck. I love my diaper champ so much, I have asked for a second one for my upcoming baby shower for my second son.\",\n",
       "       \"I am a second time mom who used the rival Diaper Genie the first time around and let me tell you that there is no comparison. The Diaper Champ is easy to use, easy to change and uses everyday garbage bags instead of the expensive refills. Besides myself, my husband and mother found the Diaper Genie very frustrating to use, changing the bags required quite a bit of time and energy, all the while smelling the stinky diaper smell. The Diaper Champ is not perfect, it sometimes feels as if it has filled up too quickly (i.e. maybe it\\\\'s not big enough), and when you change bags you do get a whiff of bad smell, but the smelly time is very short in comparison. So, I would strongly recommend that you buy the Diaper Champ and not waste your time, money and patience with the other product.\",\n",
       "       'GOOD POINTS:Easy to operate and change.Less expensive to use than comperable products.Kept smell in for several months as other products did.We were unable to break it after 10 mos unlike competitors.BAD POINTS:Toddler kept flipping it back and forth and touching where we put the diapers.Did not keep room odor free after several mos of use.',\n",
       "       \"I am really disappointed with the Diaper Champ.  It worked great at first, but then the foam seal broke and it wouldn\\\\'t contain the smell.  Babies \\\\'R Us gratiously exchanged it for another one and it happened again.  I would say it\\\\'s a product default.  We always made sure the tape was tucked in, etc., but the foam liner just kept coming out.  Plus, sometimes when the diaper was really heavy and big, like in the morning when they\\\\'re soaked, it wouldn\\\\'t fit in the chamber and turn properly, so we\\\\'d have to jam it in there, gross!Otherwise, the champ worked well on odors and accepting diapers.  I\\\\'m pregnant with baby #2 and will look into other diaper pails.\",\n",
       "       \"As a first time mother, I wanted to get the best for my daughter. I shopped around a lot, and asked a lot of questions. While at someone\\\\'s house, I saw the Diaper Champ. It was one that I hadn\\\\'t seen very much in the various stores I shopped in. I was immediately impressed by the ease of it, and the convenience of being able to use ANY bag!!!When I bought it, I didn\\\\'t have a chance to show my husband how to use it -- but no worries!!! It is so simple to figure out how to use! My nephew -- a toddler, knows how to use it (without him being able to open it up!)I\\\\'ve even recommended it to strangers in the baby stores!You\\\\'ll love it!\",\n",
       "       'I like the slim shape and that you can use regular tall kitchen bags with the Diaper Champ. BUT, it really isn\\\\\\'t that great in controlling odor. Sometimes diapers get stuck in the \"flipping tube\" and then you have to open it and pull it out... what a mess! It isn\\\\\\'t all that easy to clean either.',\n",
       "       \"We\\\\'ve now had the Diaper Champ for a little over a year! We love it. It\\\\'s better for the environment than other disposable diaper systems and it really doesn\\\\'t smell! I highly recommend it. Drawbacks: it doesn\\\\'t hold that many diapers at a time. We have 2 in dapers and we changes it 3 times a week or so. It needs to be cleaned pretty often or lots of mold and bacteria start to grow (on the parts you can\\\\'t see until you take it apart). Lastly part of the fabric/plastic material has ripped on part of it so it is a bit harder to flip back in forth when you  put new dirty diapers in! Overall, this is a great product!\",\n",
       "       'After Our Diaper Genie broke after 2 years, I was advised to buy the D. Champ. It was highly recommended by a new mom with an infant. Big mistake, her baby as well as most of the people reviewing this positively are using it with their INFANTS, so their diapers do not smell like that of a one or two year old toddler!!!!!!!!  The Genie does a much better job of masking the odors, Yes, it is more cumbersome in terms of changing out the plastic....but that I can live with.  The reason I gave it two stars is the ease of use with the Champ is superior....but I simply CANT LIVE with the stinky smell of diapers!',\n",
       "       \"We put a Diaper Genie on the shower list for the first baby. We used it for 2 years and it was OK but we were fed up with it and I took a chance on the Diaper Champ for #2. After 5 months, we couldn\\\\'t be happier with Diaper Champ. Here\\\\'s a short list of the main reasons I\\\\'d recommend this against diaper genie:5. Diaper Champ doesn\\\\'t use expensive refills like the genie. We were going through 2-3 of those $5 refills a month with the genie. On the conservative side, say that was $120 a year in genie refills. With the Diaper Champ, I bought one big box of Glad Kitchen drawstring bags (150 bags) for $15 at the warehouse club. We change the bag 1-2x weekly. The 150 bags will probably last 1 1/2 -2 years, for $15. (The Champ box says you can use plastic grocery bags. Don\\\\'t. They\\\\'re way too small and don\\\\'t hold enough diapers to make it worth the while.)4. The Champ holds a lot more than the genie. Less frequent emptying.3. The genie was a pain to empty and even more work to change refills. Emptying involves tying off the tiny little sausage tube bag, restarting the cut end of the refill. Pain. Changing the refill was just annoying. When the refill runs out, there\\\\'s not enough bag to tie so you are stuck holding an open end of a dirty diaper bag. I don\\\\'t need that. And at any change or refill, you have to find another bag to drop the sausage string of dirty diapers into. With the champ, I open the lid, tie off the drawstring bag and that bag goes straight into the garbage can. The new bag goes in as simple as a trash-can liner and close the lid.2. The genie broke after about 15 months. There are 4 little plastic prongs inside that hold the diaper in place while you twist the ring to seal the diaper in the bag. The spring on one broke and it never held the diapers well again after that.1. And my top reason why the diaper champ is champ: It\\\\'s perfectly easy to use, impossible to use wrong. Whenever we had a babysitter or family member helping while we used the genie, we always took a couple of minutes to show them how to use it. We\\\\'d come home and every time, they\\\\'d gotten in wrong and used the cutter tool on top and cut the diaper bag like they were changing it when they just needed to put the diaper in. No, it\\\\'s not difficult to use or get right once you do it a few times but if you only use it once a month, that dial on top that turns the cutter is just to obvious to turn to ignore and impossible not to turn. Every single time someone got it wrong. So, the Diaper Champ. you drop the diaper in the open hole and flip the handle and it\\\\'s gone. I can\\\\'t think of a way anyone could do it wrong and most people who\\\\'ve used it so far, don\\\\'t need even the simplest hint from us on how to use it.\",\n",
       "       \"I love this diaper pail. It keeps the diapers from stinking up your room/house. I also love that I can use regualer old kitchen bags and dont\\\\' have to fork over extra bucks for special bags. The reason I gave it 4 stars is that I wish that it held more diapers.\",\n",
       "       \"I chose this product because unlike the Diaper Genie you don\\\\'t have to buy replacement bags, just pop in a tall kitchen garbage bag which we all have in our homes anyway.  I have twin boys and this product works great.  I recommend spraying it with Lysol and letting it air dry in between bag changes.  This works for me.  It also holds a lot of diapers.  I highly recommend it!\",\n",
       "       \"I\\\\'m SO glad that we asked the sales associate at Babies R Us for help when picking out a diaper pail.  We were going to get a Diaper Genie like so many folks do, but the associate showed us the Diaper Champ and how easy it was to use. All I have to do is turn the handle and the diaper goes down.  There\\\\'s no twisting and no special liners to buy.  As far as smell goes, ALL diaper pails will smell if they\\\\'re not changed often enough.  We don\\\\'t have a problem with ours smelling as long as we change it every three to four days (which should be done no matter what product you buy).  When I got pregnant with my second child (they are only 18months apart) we bought a second Diaper Champ.  We also just purchased one for my brother-in-law and his wife for their new baby.  Before buying ANY other diaper pail, compare it to this one first.  You\\\\'ll be amazed at how easy it is to use.\",\n",
       "       \"Love it, love it, love it!  This lives up to the hype.  You cannot smell diapers-unless of course you don\\\\'t change it or clean out.  You can also use any trash bags you already have around the house, which is why we purchased this particular diaper pail.  It can be hard to open if you have long nails, but I have found that if you just use the side of your finger instead of your fingertips then it\\\\'s no problem.  I have recommended this to all new parents!\",\n",
       "       \"I have been very happy with this pail.  The greatest thing... regular trash bags!!  The Next greatest thing... 1 handed operation & it takes only a SECOND! Awesome!I have not had any issues with odor.  I change the bag every 5-6 days or so.  If the plunger is not going down, it\\\\'s because you need to change the bag!!The only reason I rated it 4 stars is because changing the bag takes a few minutes.  It can be difficult to open, ALthough, when my daughter gets older and starts getting into things, this will probably be a blessing! :)\",\n",
       "       \"After using this for 3 years, I still stunned that other people still use the Diaper Genie.  I\\\\'ve even had other Moms tell me that they can\\\\'t smell dirty diapers in my house, even with 2 kids producing them.  If anyone is having trouble, though, try:  a)  wrapping the tabs securely around the diaper; b)  using deodorant trash bags;  and c)  taking dirty diapers straight outside to the trash and using your diaper pail just for wet diapers.\",\n",
       "       'I loved this compared to the genie. It is easier to use and less costly in the long run!!Two thumbs up!!!Now, only if it would spray a freshner on its own. LOL!!!',\n",
       "       \"We got the Diaper Champ because we thought it was smart to use regular garbage bags and not pay for the diaper Genie refills. BIG MISTAKE! This product does not keep odor in, and when you open it up to put in a new bag in, its all over. My daughter\\\\'s room stinks because of this product and we are in the process of trying to find a REAL odorless diaper pail.\",\n",
       "       \"I returned the Diaper G**** that I was given but kept this!  It takes ANY garbage bag (no expensive refills) and is wonderful for controlling odor... that\\\\'s especially important now that our little guy is eating solid food and making more stinky diapers!\",\n",
       "       'My husband saw this after my first shower and said \"What\\\\\\'s that thing for?\"  He now loves it.  I do too.  Best of all, you don\\\\\\'t have to buy specific bags, we use the bags from the grocery and they do quite well.  We\\\\\\'ve bought some air freshener cans and put them in the bottom, because after 8 months of use, it\\\\\\'s going to smell.  But the room does not carry the smell, only when you\\\\\\'re on the floor near the genie.  My only issue is that I\\\\\\'ve broken a nail or two lifting the latch to get the top open.  But it\\\\\\'s infinitely better than having the smell!!',\n",
       "       \"I highly recommend this item.  It is a must!  I registered for the diaper genie and used it for about a week and couldn\\\\'t stand it.  It broke,the refills are expensive and very hard to install.  Then I got the diaper champ.  What a difference.  Easy to use, just one hand, and no odors.  It uses just your basic tall garbage bags.  So you don\\\\'t have to go out and buy special bags for it.\",\n",
       "       \"My husband and I originally registered for the Diaper Genie, but we changed our minds when we considered that we would only be able to use the Diaper Genie refills.  The Diaper Champ allows you to use regular garbage bags.  Plus it\\\\'s simple to use.  We haven\\\\'t had a problem with odor at all.  It\\\\'s a great product!\",\n",
       "       \"I have a 10 year old daughter and an 8 month old son. There was nothing like this when I had my first child and I really looked into the champ v\\\\'s genie before I brought this and I have to say that I truly LOVE it. I change the bag once a week. My kids have to share a room so if it was smelly I would hear about it. I just spray with a little Lysol at the time of bag change and it is as good as new. Aside form that it is so easy to use with one hand, anyone with a wiggly baby will appreciate that. In fact I love it so much I am going to take one all the way to Australia with me for my niece since she can\\\\'t get them over there. I am the owner of a used baby store in NJ, (I have a champ there too) and this is one of my hottest items, I have several diaper genies there that just do not sell.You will not be sorry you brought the Diaper Champ.\",\n",
       "       \"This is easy, but horribly smelly.  I suggest saving your money and buying a regular trash can.  You will get the same effect, because this doesn\\\\'t do anything special.\",\n",
       "       \"...make sure I tell people about this product. I read the reviews, and at the time, this was the only diaper pail that got any decent reveiws, and now I know why. I bought one for upstairs, and liked it so much I bought one for downstairs. I still have on in my registery hoping someone will get me a third one for my mother in law\\\\'s house. I just use a standard pull string kitchen trash bag, and use it according to the instructions (in other words if you follow the procedure of opening and sinching the bag before removal then you won\\\\'t have a problem) and it works great, good design!\",\n",
       "       \"I\\\\'ve given this can as a gift a few times now.  Once to a couple who were on their second child, their response was \\\\'how\\\\'d we survive through the first baby without that can\\\\'.It\\\\'s easy, ordourless, and clean.  What more could new parents on.\",\n",
       "       'I have 2 kids in diapers and the diaper champ has been great for us for 2 1/2 years. Easy to use and change. I love that it uses reg bags. :)',\n",
       "       \"I registered for this after reading all the reviews and I\\\\'ve been nothing but happy with it. I tried my sister\\\\'s diaper genie and the diaper champ is so much easier to use. The fact that I use the same bags for my kitchen as I do the champ makes it that much easier. I just leave some in the bottom of the champ then I don\\\\'t have to go looking for them. I\\\\'ve never noticed a smell, and although I do agree that it is hard to open, you get used to it and it\\\\'s worth it!\",\n",
       "       \"We have ours in our living room and you can\\\\'t smell a thing.  It is a little difficult to open and it doesn\\\\'t hold a lot of diapers, but overall it works well.\",\n",
       "       \"I have had a great experience with this product so far and have been using it for about 2 months.  I get absolutely no odors in the tiny nursery (even when my daughter had very smelly diarrhea), it\\\\'s easy to use and DOES NOT NEED ANY EXPENSIVE REFILL BAGS (just regular garbage bags) and I would recommend it to anyone.\",\n",
       "       \"The boy is now 1 year old and we have had it since the beginning.  I remember reading a good review about the Diaper Champ and deciding to get it.Honestly, it does a great job.  It does contain the odor to inside the Champ.  I have never noticed a smell in the room, even when it is full.  I have to admit, however, that when you open that bad boy up to empty it, it\\\\'s pretty funky, but what do you expect?If you wrap up your diapers good and empty it before it gets so full that you can\\\\'t squeeze another diaper into it, you will really be happy.  It is very nice to be able to used regular kitchen sized trash bags.  We use the scented bags, which we think helps a lot.Overall, we are very pleased with the Diaper Champ and would recommend it highly! (Only reason I rated it 4out of 5 stars is - nothing\\\\'s perfect, I have a hard time giving out 5 to anything!)\",\n",
       "       \"My son is now 5 mo. and overall, I\\\\'m happy with the diaper champ.  I would not recommend wasting money on the types that require special bags. Do not kid yourself that you will have an odor-free diaper pail--I do not think that is possible!  I would rate this as low-odor--I change the bag about once a week.  My complaint, though, is that the plunger-cylinder thing gets stuck because the diapers begin to stack on top of one-another even when the bag is newly-changed.  Also, I do not use the plunger for messy diapers because if the tabs are nor fastened, the tabs get stuck in the plunger thing.  I do not wrap up the messy ones because of the leak factor, so I wind up having to open the lid frequently. The lid is a bit difficult to open, but I like that because when my little guy is more mobile he won\\\\'t be able to open it!\",\n",
       "       'The diaper champ is fantastic. You can use regular trash bags which helps reduce the cost of expensive specialty bags. There is absolutely no dirty diaper smell that comes from the Diaper Champ.Absolutely recommend this product.',\n",
       "       'I love this pail.  You just drop the diaper in the hole, and flip the handle/lid.  Sooooo simple.  It does not smell, and it holds any garbage bags.  With the Diaper Genie, you have to open the lid, shove your arm in the pail, twist 3 times, then wipe off your arm if you know what I mean.  (It also needs special cartridges).  With the Diaper Champ, there is no mess and the diaper is gone in 1 second!  It holds more diapers too.  I definitely recommend it.',\n",
       "       'I was given the Diaper Geni and after a week of twisting, we bought the Diaper Champ.  This was a great choice.  There is no need to spend extra money on special bags.  We use ordinary supermarket bags.  In order to keep the smell under control, we sprinkle baking soda right at the bottom of the chamber.',\n",
       "       'I got this pail because I felt it was good that it doesn\\\\\\'t require you to buy \"their\" garbage bags.  But at the end I still didn\\\\\\'t use it and just use a regular pail.  Now it\\\\\\'s sitting in my basement.  The reason I didn\\\\\\'t use it is because it is hard to open up the can to replace the bag and when you are actually cleaning a baby especially when it\\\\\\'s #2 it is messy at times where you would probably get it in the pail before you flip the handle to dispose of it.  Well then you  now need to clean the pail as well as the baby.  You don\\\\\\'t need more work with a child.',\n",
       "       'Worst diaper pale ever!!  I\\\\\\'ve had mine for 2 years now and I am throwing it away as soon as my second Decor arrives.  No matter how many times I clean the \"Chump\" it still stinks.  The diapers and wipes get caught in the drop hole and stuck wet wipes make it stink even worse.  Forget scented trash bags, they won\\\\\\'t cure the smell of the \"Chump\".  Also, watch out when changing the bag, you may lose a finger if the lid unexpectedly slams shut on you when changing it.  Forget this pale and go for the Decor.',\n",
       "       \"My sister had a Diaper Genie and it always smelled really bad. She constantly complained about it so I opted to try the Diaper Champ. Boy am I glad! It is so easy to use especially since you can use regular trashbags vs. genie refills and the diaper is gone w/ a flip of a handle!! My son is 9 months old and we have NO SMELL PROBLEMS!!! I don\\\\'t know how some people can complain about smells coming from this thing...it\\\\'s sealed up like Ft. Knox. You never see the inside of the pail until you empty it. The canister pushes the diaper into the trashbag, thus never allowing odors to escape through the pail. I would have to say the only way you may have an odor problem is if you never empty it!!!!!!!!!!\",\n",
       "       \"This is my second child. With my first, I went through the Diaper Genie and hated it ---her nursery always smelled, even though my husband regularly changed that annoying (and expensive refill, $5.00 for each refill adds up faster than you think!) diaper system, he even took it outside and hosed it down with Clorox bleach and sprayed it regularly with Lysol -- to no avail.We also tried the Neat Diaper disposal system, and it\\\\'s pretty and works a little better than the Genie, but it still smells up the room.  The Diaper Champ wins hands down, I for one never had an odor problem and I love the fact that it\\\\'s easy to use and easy to empty, it\\\\'s also easy to dispose of the diaper with one hand (especially when you\\\\'re holding and infant and don\\\\'t want to leave a smelly diaper out of the pail), something I couldn\\\\'t do with neither the Genie not the Neat pail.I highly recommend it!\",\n",
       "       \"I like BabyTrend\\\\'s products. We also have a SnapNGo, and we also seriously considered the Trend High Chair. We\\\\'ve been using the Diaper Champ for almost a year now since our baby was born. I think it does what it advertises and that is that it does a good job of keeping in the odors (we live in a 1 bedroom condo). Pros: easy to use one-hand drop-in mechanism, good odor trapping, can use just about any kind of grocery or plastic bag, convenient handle, and easy to clean. Cons: kind of bulky and heavy even when empty, difficult to open lid for changing. Hint: If using spray cleaning, don\\\\'t spray water into the drop-in hole. The mechanism is not completely watertight and you\\\\'ll trap some water in there. Myself, I\\\\'ve actually done a thorough cleaning only twice. Most times I just spray Lysol inside after changing to a new plastic bag.\",\n",
       "       \"I registered for this product after reading the reviews, and I have to say I was very disappointed.  You are better off just getting a garbage pail with a tight lid.  Not only did my daughter\\\\'s room smell horrible, but I broke three finger nails trying to lift the lid.\",\n",
       "       \"The Diaper Champ doesn\\\\'t smell - how wonderful!  Also, there are no expensive bags to buy for it - you can use regular plastic bags!  Although it seems to fill up quickly(diapers tend to pile up in the middle), this is an absolute must!\",\n",
       "       'I can\\\\\\'t say enough good things about the Champ.  For my first son we had the Diaper Genie - but it didn\\\\\\'t do the trick. (too $$ and too difficult to handle).For son #2, I read the reviews and decided to give this one a try.  I still love it!  My son (who is now 3+ years old) is finally getting potty trained, but we still use it to hold the \"nightie night dypes\"...  We\\\\\\'ve been using it for 3+ years and it is still going strong.According to the reviews, I was careful to wrap the diapers before putting them in - which we had to do for the Genie anyway... For the REALLY MESSY ones, I flipped up the lid and placed it right in the bag - which was easy to do.My son still loves to pull the handle and say \"bye-bye\" to what he considers the magic trash can.  For me, the only time I experience an odor is when I change the bags. If the odor inside gets too strong, try using Febreeze -- it even works on the plastic!Strongly MOM Approved!!',\n",
       "       'My husband and I registered for the Diaper Champ without really knowing much about it.  We picked it because it did not require purchasing refills like the Diaper Genie (which my sister-in-law had and did not really like).  We really like our Diaper Champ because it does not require refills (it uses regular kitchen trash bags)and it keeps out odor completely.  I am recommending this to all my pregnant friends.',\n",
       "       \"My son is now 18 months old and I have to say that the diaper champ is one of our favorite purchases! We got it when I was pregnant in hopes it would keep our house smelling ok. Well, it does pretty well at that, you still have to change it out everyday, it is poop however!!! But the thing I love most is that I can just use my kroger bags!! With buying diapers and toys, I didn\\\\'t need something else on my list to buy! What a great invention!!!!\",\n",
       "       \"... than deal with the odor from this pail.  Even changing the whole bag (we tried plastic grocery sacks, tall kitchen bags, even heavy duty garbage bags) every day didn\\\\'t help.  We\\\\'ve moved this product to the garage and purchased a Diaper Genie for the nursery.\",\n",
       "       \"I LOVED my Champ for the first year as it was all I expected in ease, cleanliness, odor free with regular bag changes and the economical use of kitchen bags.  Then the liner began to come loose and get stuck in the tumbler and eventually had to be removed altogether making things a bit less odor resistant, but still manageable with regular bag changes, cleanings, airings and sprinklings of baking soda.  The real problem we have now is that no amount of cleaning and deoderizing the Champ after a bag change (about twice a week for us) has managed to eliminate the strong odor that seems to be clinging to the actual pail now.  We\\\\'ve tried a number of disinfectants, deoderizers and air freshners, but they are no match for the offensive odor of the Champ even when clean and empty.  We are so disappointed in the short-term success of this product.  It has been removed from my son\\\\'s room and we are now taking each diaper out individually and looking for another pail.  I am really interested in finding another &quot;use-any-trashbag&quot; style for sake of our finances.  In light of our experience with the Champ, I\\\\'d have to recommend not purchasing this pail unless you are prepared to replace it when it fails to do it\\\\'s no-odor diaper duty in due time.\",\n",
       "       \"I have a two-year-old son and I love the Diaper Champ. We initially bought a Diaper Genie and used it for the first 9 months or so, but we really disliked it. It was difficult to use, loud, and then broke on us. We switched the Diaper Champ and love it. It contains our toddler\\\\'s odors just fine. We change the bag once a week and when we change a diaper we make sure to roll it up tightly and use the sticky tabs to close it up.\",\n",
       "       'I bought this after being gievn a diaper genie as a gift. This is much easier to use. You can use any type of trash bag with this versus the diaper genie where you have to purchase their expensive bags. I highly recommend the diaper champ for storing stinky diapers.',\n",
       "       'This is a great product and a good value for those on a budjet.  Using lysol after changing the bag works well.  I have used my Diaper champ for 3 years and it still works!! I recommed this product to everyone I know.',\n",
       "       \"It\\\\'s so much better then the diaper genie. No special bags necessary! Occasionally there are some bad odors but it\\\\'s nothing that can\\\\'t be fixed with some febreeze or lysol!\",\n",
       "       \"My baby\\\\'s room has absolutely NO odor because of the Diaper Champ.  The chamber holds many diapers ( a day full at least) with no odor at all.  I also love that it takes regular trash bags so it\\\\'s economical.  I spray the top and handle daily with Lysol or use Clorox wipes in the receptacle to keep it sanitary, but otherwise NO ODORS leak out!  We change the trash bag daily but you could get away with two days.\",\n",
       "       \"I read a review below that can explain exactly what we experienced. We\\\\'ve had it for 16 months and it has worked wonderful for us. No smells, change it out once a week, easy to clean. Then a diaper snagged this foam material in the head part, so I pulled the rest of the foam out. Big mistake!!! Now it can no loner retain the stinkiness and we\\\\'re looking for a replacement. Be careful of overloading and never take out that foam piece that is cushioned between pieces. I have figured out that it is key to keeping the stink out.\",\n",
       "       \"This thing freakin\\\\' stinks. Literally. I changed the bags every 1-2 days and wiped with clorox wipes and sprayed with lysol AND used vanilla scented bagsand we could still smell the smells seeping through!! Now I just throw the diapers in the regular trash since I change the bags everyday anyway and we can\\\\'t smell a thing now. Someone else told me this thing stinks and I should have listened to them.\",\n",
       "       \"Almost bought a diaper genie and then read on-line reviews.  Glad we listened!  Very easy to use.  Easy to open to empty and easy to replace trash bags. Nice that you can use regular trash bags from any store.  So far, keeps odor out except when changing the bag.JUST ONE BAD THING...The only reason why we gave it only 4 stars is because sometimes wipes and even the velcro diaper tabs get caught in the space on the sides when flipping the handle to dump the diaper in the canister.  If you look at the picture you might understand.  After you flip the handle, the diaper on the inside goes into the bag when the cylinder you place it in is vertical, or completely upside down.  On the sides, there are walls that are snug to the round part that flips around. It is between the round diaper flipper thing and the walls that stuff could potentially get caught.  It is hard to get stuff out of this space.We\\\\'ve only noticed something in this space once or twice. We still recommend this product.\",\n",
       "       \"We\\\\'ve had the Diaper Champ for 18 months, and it worked great, no smells, very easy to use, until recently.  Somehow (probably it got overloaded) the adhesive from a diaper snagged the foam that insulates the head of the champ and pulled just the teeniest tiniest corner out.  Once some poop got on that mesh/foam insulation, it soaked through, and now there is NO hope for the Diaper Champ.  We\\\\'re going to get another, but just BEWARE -- these can fail.  Check you Champ carefully to make sure that no mesh or foam are visible.\",\n",
       "       \"If you really want to save money, but still get a quality product, buy the Diaper Champ.I had a friend recommend it to me, and another friend recommend the Diaper Dekor.  When it came down to it, I couldn\\\\'t make myself spend the extra money for something that needed expensive refills. Every time you have to buy refills, it is almost as expensive as buying a new diaper pail.  Let\\\\'s face it, babies are expensive and whenever you can save $ you should!!!I buy a box of bags at Target that I use for the kitchen and the Diaper Champ and they cost less than ten dollars for over 100 bags.My only complaint is that it is hard to get the pail open at first to change the bags, but it gets easier over time as it loosens up and you get the hang of it!If I had it to do over again, I would still buy the Diaper Champ!  I think it is great!\",\n",
       "       'My husband and I wanted this style (vs. the Diaper Genie) because it uses regular kitchen trash bags.  This is a more efficient way to go both because you can buy these bags anywhere and they are less expensive compared to the specialty bags for the Genie.  The unique hopper design allows one-handed use and keeps smells from permeating the nursery.  Overall, we are very pleased with our purchase and recommend it highly.',\n",
       "       \"I just read the great reviews about this product and am very surprised to hear people don\\\\'t have problem with the smell.  I have had the Diaper Champ for 16 months now, and think it is pretty cost effective, compare to the Diaper Genie, but frankly I am considering buying something else, cause it really does not keep the odors in.  We have to change the bag every couple of days, when it is not even full because it is pretty disgusting.So just because of that I would not recommend it.\",\n",
       "       'Bottom line: Using regular bags saves big time $$$.  In just a few months use, the Diaper Champ pays for itself by saving money on costly refills needed for other brands.  I have never had an odor problem, but I have a 5-month-old breastfed baby, so I know her diapers now are not as stinky as they will get once we go to solids.  I also use the Glad \"Odor-Control\" bags (the price of 100 bags is probably about the same as a DG RF and will last over a year).  The Diaper Champ is also very easy to use and easy to change bags.  I highly recommend it.',\n",
       "       'I have never written a review for Amazon but I saw some of the poor reviews on the Diaper Champ and had to add my two cents . . .When my sister got pregnant she could not decide if she should register for the Diaper Champ or the Diaper Genie.  She left it up to me and after reviewing both items I went with the Diaper Champ . . .  The idea of having to continually purchase bags for the Diaper Genie seemed like a waste when the Diaper Champ lets you use any type of bag . . .  My nephew is now over two years old and while he has begun potty training, my sister still uses the Diaper Champ I gave her . . .When it came time for me to choose a diaper disposal system, I put the Diaper Champ on my registry.  Yes, it can be a bit tricky to open (I found using two hands works best) but then again do I want something that is holding wet and otherwise dirty diapers to open easily?  True, the mechanism sometimes won\\\\\\'t \"swing\" the dirty diaper into the pail but HELLO that is a sign that it is probably time to put in a new bag.  Yes, it can eventually start to smell if you don\\\\\\'t change it regularly . . . but then again if you used a metal safe lined with carbon to hold your kids diapers eventually baby poop and pee smell would emanate from it if you didn\\\\\\'t clean it out regularly . . . Realistically the thing holds dirty stinky diapers and yep it is going to smell when you open it but hey . . . my kids tush smells when I wipe it but I still love him :)My personal tip . . . if you belong to a wholesale club like BJ\\\\\\'s, Costco or Sam\\\\\\'s check to see if they have the Glad Kitchen Bags.  The BJ\\\\\\'s we shop in has a box of 200 for $9.99.  As long as you do not attempt to overstuff them (i.e., get lazy and don\\\\\\'t change the bag regularly) they work perfectly.  I also use them in the small garbage pails in our apartment.  I could wait for a sale and use a coupon (the way I shop for most things) but it takes months to go through the box and I like knowing they are always on hand . . . At about $.05 a bag, the super duper box of bags makes my life easy and that as any parent knows is ***PRICELESS***.',\n",
       "       'After reading how great this product was on the convenience of not having to but those expensive bags ( diaper genie) I registered for the diaper champ. What a BIG DISAPPOINTMENT. The smell is HORRIFYING!!!! Needless to say I am now going to buy the diaper genie and those expensive bags. I shoudn\\\\\\'t have the gag reflex every time I enter my daughters nursery. I strongly recommend that you DON\"T buy the diaper CHUMP......',\n",
       "       'This pail is  by far the best!  Great price, no special bags, high capacity, easy to use and most importantly...no odor!',\n",
       "       'Hands down....get this diaper pail... The only reason I ever even need to empty it is when it cant hold anymore! NEVER smells..ever! I change mine about every 2 weeks, like I said, only because thats when it seems to fill. Dont bother w/ the cheapies, this one is IT! Seriously....trust me! The reason why it never smells is because the diaper goes into like a seperate chamber before it gets to the bag, so the air never transfers.Theres nothing else I can say. This is perfection.',\n",
       "       \"I admit when I was an expecting father one of my concerns was diaper changing, mostly because of the odors (anyone with me on this one?) As much as the odors won\\\\'t go away during changing time, they do -as a matter of fact- dissapear once you throw the dirty diaper in the Diaper Champ. Put it in the top hole, roll the top with the handle, in the diaper goes and bye-bye to all odor!As if this were not already great, there\\\\'s a big plus to this product, when you compare it to its biggest competitor, the Diaper Genie by Playtex. Although this one costs $5 the first time around, it won\\\\'t require special bags as the Genie does, which cost $15 per set... this one takes your standard Glad bags you can get in Costco, BJs, Sam\\\\'s or your local supermarket, so rejoice! (for diaper odors are over when the diaper goes in); and don\\\\'t spend too much money to accomplish such a mundane task: make sure you get your Diaper Champ!\",\n",
       "       'I LOOOVE this diaper pail!  Its the easiest to use!  after using the diaper genie for 2 months i decided i had enough with the refils and with how much of a pain it is to use.  I purchases this diaper pail in its place and i loooove it!  No more refills, it uses the same bags as my kitchen garbage!  And it holds alot more! I only have to empty it like once a week as oppsed to every other day with the diaper genie.  This is worth the few extra buck because you arnt spending 5 more bucks every othe rweek for refills!  I have a bunch of poopy diapers in mine and you cant even smell them! and i love the fact that you dont have to open it to put a diaper in so i can do it one handed.  Just toss the diaper in the top and flip over the handle, its sooo easy!  And with the diaper genie i noticed that the smell would leak out a bit when you opened the top.  It is a little bigger than the other pails, but it holds alot more!  I would definatly recommend this product to anyone looking to buy a diaper pail!!!!!',\n",
       "       'My son and daughter-in-law requested this item and they are very pleased with it.  For their last child they used another brand, and  were dissatisfied.  However, they love the Diaper Champ.',\n",
       "       \"Bought this on amazon. Never saw it around. Went through 3 kids. Very well madeNever would smell poopy diapers. Just use a store plastic bag and then when it\\\\'s full, justThrow away. Love it !\",\n",
       "       \"The Diaper Champ is TERRIBLE at keeping the smelly diapers from only smelling in the container.  Our baby\\\\'s room was constantly stinky (due to the Diaper Champ, not the baby!), and we were having to empty the container almost daily.  What\\\\'s the point of having a diaper disposal system if you can\\\\'t dispose of diapers efficiently?  Please don\\\\'t buy this product unless you enjoy smelling those dirty diapers.  The Diaper Champ just doesn\\\\'t work.\",\n",
       "       'We researched all of the different types of diaper pails, including the Diaper Genie which some of our friends have, but this one takes the cake. Not only do you not have to buy special bags, the ease of use is phenomenal. Park this thing right next to the changing table, and just drop the diaper in as you go. When you are done, just pull the handle from one side to the other, and presto, you\\\\\\'re done. It holds around 15-20 diapers (I have changed it probably twice a week), and you just open it, tie the bag and take it out. To make sure there is no smell eminating from it, we put a box of Arm & Hammer in the bottom and use scented garbage bags- and there is NO BAD SMELL AT ALL! I highly recommend that. And you don\\\\\\'t need top of the line bags, just get some scented off-brand bags (I got 30 for $3), and you should be all set. I would highly recommend this if you are looking for a simple solution. You don\\\\\\'t need the Genie. My best friend has one, and not only does it stink (literally), the whole \"special bag\" thing irks me. Give this guy a try. I am so glad we did!',\n",
       "       'Clean, economical, simple. Never experienced any odor \"problems\"; we just empty the receptacle every other day.',\n",
       "       \"I laughed when my husband wanted this product.  I felt it was  a waste of money and that you could just throw the diapers in the garage.  Well thats not a good idea.  We have the diaper champ and never smell anything.  This is a great item that every parent needs.  Its easy to use, and you can use your own bags. We actually use kitchen bags, and they hold quite a few diapers. We only have to change the bag out about once a week. I can\\\\'t say enough great things about the diaper champ.\",\n",
       "       \"You cannot imagine how much money you\\\\'ll save and it doesn\\\\'t smell AT ALL!!! You can use any kitchen size garbage bags without a problem and use it for A WEEK without having to change the bag. IT\\\\'S WONDERFULL!!!\",\n",
       "       'I bought this trying to save a few dollars and when I received it I thought it felt and looked real junky. After using it for over a week I have to admit I was wrong. I have 2 babies in diapers and the Diaper Champ keeps their room smelling GREAT. It is extremely easy to use and it has the added advantage that one can use ANY plastic bag with the Champ.It is an all around great, helpful and inexpensive product.',\n",
       "       \"As a Mother of 9 month old twins, I go through plenty of diapers.  We\\\\'re moving to the U.K. in a couple of weeks, and after not being able to find a \\\\'Champ\\\\' anywhere overseas, I\\\\'m having one shipped to our new home.  We\\\\'ve never had a problem with smell, or operation, and love that we can use the bags we choose and not be tied down to brand-specific refill bags.  I highly recommend this product to anyone!\",\n",
       "       \"I wanted this diaper pail over the Genie b/c I liked the idea of being able to use standard trash bags instead of special refills, plus I have NEVER been able to get a Diaper Genie to easily work!  Now that I have the Champ, I\\\\'m glad I got it, because it\\\\'s very easy to use, however there are a few things I don\\\\'t like about it:1.  It\\\\'s hard to get the lid open...I\\\\'ve broken several nails and hurt my hand trying to pop the latch open.2.  Because of the funky ring on the inside that I haven\\\\'t yet determined the purpose of, the diapers get clogged near the top so that the handle can\\\\'t be turned.  There is generally more than enough room left in the trash bag, so in order to avoid changing a bag that is only a third of the way full, I have to open the lid and adjust the pile of diapers or rock the pail back and forth so the diapers fall and I can continue filling.3.  A diaper got jammed in it once when the sticky tab stuck to the foam seal in the plunger.  The only way I was able to dislodge it was to tear out the seal.  The pail still works fine, but now the plunger is loose so it bangs around when you turn the handle, which makes more noise than before.4.  I have noticed a smell on occasion, but I expected as much...it\\\\'s a plastic can full of poop...it\\\\'s not going to smell like roses!!\",\n",
       "       'We gave away our Diaper Genie and bought 2 of these when our second child was born. You use regular garbage bags and it takes less than a minute to change. No bad smells - no expensive liners. LOVE IT!!!!!!!!!!!!!!!!!!!!!!',\n",
       "       \"We\\\\'ve been using the Diaper Champ for almost 5 months now and love it. It works like advertised and keeps the odors at bay. I would recommend hosing the inside with Lysol after each bag change.\",\n",
       "       'Wow!  This is fabulous.  It was a toss-up between the Diaper Genie and this one, and we decided on the Diaper Champ since you didn\\\\\\'t need refill bags to go with it.  I go through a TON of diapers a day (I have twins) and instead of making a hundred trips to the trash can in the garage to get the poopie stink out of the house, I use this...and it works!  Absolutely no smell escapes from the Diaper Champ and I can use plain kitchen garbage bags in it.  We\\\\\\'re very pleased with ours.  Spend the extra five dollars on this diaper disposer rather than settle for the \"Genie\".',\n",
       "       'I have a friend that had the Diaper Genie and complained of it smelling on occasion.  My husband and I were a little leary of purchasing a diaper pail, but decided to give the Diaper Champ a try!  I am so glad that we did!  We have been using it for almost a month and it is great!  It is so easy to use, never smells (so far) and I love that you can use your own garbage bags and do not have to purchase special bags to use with this diaper pail!  I would definetely recommend!',\n",
       "       \"It\\\\'s true, it does not work as well as the diaper genie. I am going back to that. I have used both and I can assure you, this product does not contain smells - I even put it in the closet, and still we smell it! Save yourself the money.\",\n",
       "       \"I chose this pail because I didn\\\\'t want to spend alot on a daiper pail.  In the end, I spent more because I had to buy a different one.  After only a few months of using it, the seal broke and  the odor came through.  The latch would get stuck making it difficult to change the bag.  This is certainly not worth buying!!\",\n",
       "       'This may look fancy, but does not control soiled diapers odors, only wet diapers odors.  You are better off buying a trash can with a lid.',\n",
       "       'This odor absorbing champ even absorbs the odors from those diaper genies down the street...  My one step diaper champ sure beats the 5 steps it takes to twist a diaper in the that genie.  Who want to do extra when you are doing enough as it is? - The CHAMP is icing on the cake - every mommy gets psyched when their boy (or girl) poops because it means everything is working... and when you toss that diaper into the the mini R2D2 unit, you know you did it right... simplicity... ahh...',\n",
       "       'This was great for first 5 months of my baby girl. But now that she is eating solids the odor is escaping out and we are constantly using airfreshner. First 4 months it was in our bedroom and we did not even smell any odor. Bottom line if you buy this for your newborn, it is fine. But be prepared to buy something else (diaper genie ?) which can trap the odor better.I am now looking at the diaper genie.',\n",
       "       'Very easy to use, no smells at all. No special bags to buy. An easy decision.',\n",
       "       \"I think this should be a staple in every household with a child!  It is so much easier to use than the diaper genie and the other brands.  The fact that you can use regular trash bags is a BIG plus because you don\\\\'t have to stock up on refill\\\\'s or run to the store when you realize you don\\\\'t have anymore.  There is no oder (until you open it up to empty) and it is easy to use..great item!\",\n",
       "       'Excellent product. Holds nearly a week of soiled diapers without release of any unpleasant odor.  Easy to operate to release and discard soiled diapers.  Would recommend that others purchase.',\n",
       "       \"We love the Diaper Champ, just wish it could hold more diapers! Really, I can\\\\'t smell anything once the diaper is in there and it\\\\'s very easy to load and unload. Plus, the price can\\\\'t be beat.\",\n",
       "       'I love this product. You can use any regular trash bag. So far we have noticed NO odors. It is easy to use. It fills up somewhat quickly, but you can make it last longer by wrapping diapers tightly before placing in the champ. The price is very affordable as well.',\n",
       "       'I received the Diaper Champ at my baby shower and have been using it since day one.  I loved it when I got it and now that I have used it for 1 1/2 years, I still love it!(First of all, if you have a poop smearing issue in your Diaper Champ, it\\\\\\'s because you don\\\\\\'t know how to roll a diaper closed and seal it with the tabs.  That\\\\\\'s just gross, sorry I had to go there.)  Now that I have made my previous comment, even after the weight of the plunger pushed the diaper down, I have never had the issue of a \"dirty\" plunger.  The only cleaning I do to mine is wipe it down with a Clorox wipe once a week and spray it out with Lysol disinfectant spray everytime I change the bag.  I also use Glad Odor Shield kitchen bags in mine and I have never had an odor problem.My Diaper Champ is still in great condition, never had a broken part and never had a reason to need to take it a part.I would HIGHLY reccomend this to anyone who needs a WONDERFUL diaper pail.',\n",
       "       'This is one of the best things that we got as a shower present. It requires no additional expense, other than regular trash bags (unlike the diaper genie) and it really works! I was skeptical that it blocked odors as claimed, but I am convinced: I forgot to change a full bag of dirty diapers before we left for a week of vacation (we have no a/c and it was really hot that week) ...We came home a week later and our daughter\\\\\\'s room didn\\\\\\'t smell bad at all.I do use Glad trash bags with the odor guard, wipe it out occasionally with Clorox wipes and I do keep a drier sheet in the bottom of the diaper champ just to ensure that it remains \"nice\" ... but that\\\\\\'s more about keeping it clean than anything else.Bottom line, the diaper champ is something that we absolutely couldn\\\\\\'t and still can\\\\\\'t live without!',\n",
       "       \"I\\\\'ve tried the two other most popular diaper pails and am happiest with this one.  It is easy to change the bag, uses any trash bag, and does a decent job of containing odor.  I really appeciate all of these things after dealing with the other brands.  I would highly suggest using this one from the very beginning.  Let\\\\'s face it....no diaper pail is perfect, but this one is the best that I\\\\'ve used.\",\n",
       "       'Ok, so the idea of the Diaper Champ is awesome--it is very easy to use--that\\\\\\'s why I gave it 1 star. However...the thing REALLY stinks!! Someone gave me the Neat diaper disposal system for my baby shower & I absolutely loved it. However, the handle broke on it just 2 weeks ago. I thought...\"Maybe I could try the Diaper Champ since I won\\\\\\'t have to purchase any liners\"...Well that was a HUGE mistake!! I see why this thing got 4 stars--all of these parents have young children!! My daughter is 14 months old & because she is older, I guess her diapers come with more odor! After literally only a few diapers, her entire room smelled of poop! I couldn\\\\\\'t stand it! In one week, I changed the garbage bag at least 4 times. Is that really saving money?? I don\\\\\\'t think so! Plus her room really smelled bad. I\\\\\\'m taking it back & getting the Neat again! The Diaper Champ must be great for infants, but you may want to consider something else for older babies!',\n",
       "       \"I got the diaper champ at my baby shower and used it from the begining.  It was wonderful, it didn\\\\'t smell and it held LOTS of diapers.  I was glad I got it after finding out from my sister that she had to replace her bag from her diaper genie every other day in the begining and then a least 2 times a week when my neice was older.  At $6 a bag I saved a ton of money with this product.  However now that my daughter is a year and on all regular adult foods the diaper champ isn\\\\'t holding in the smell very well at all.  I\\\\'ve been replacing the bag every day to prevent the smell from getting too bad but it\\\\'s a pain to do so I\\\\'m thinking about getting a different diaper disposal system for now.\",\n",
       "       'This is such an easy and clean way to dispose of dirty diapers! Quick, one hand operation & NO odor problems!!!',\n",
       "       \"Great diaper pail. It is very simple. Uses any bag. I haven\\\\'t had any problems at all with it and it holds odor extremely well (until you open it!) But all in all a great diaper pail....definitely recommend!!\",\n",
       "       \"We bought this one because it can be used with cloth or disposable diapers and uses regular (ie. cheap) garbage bags.  For cloth diapers, you can even use a laundry bag.  Since we are using both cloth and disposables, we have two!  The system works great and there is no noticeable smell (although our son is a breastfed baby, so smell is at a minimum anyway).  We did have a problem with one of them in that the lining that makes it airtight is starting to come loose, but my husband said that the velcro from the diaper got stuck on it.  Make sure the velcro is fastened before turning the handle to dispose of the diaper (and make sure your husband does this as well!).  I have heard that you shouldn\\\\'t dispose of loose wipes without putting them in the diaper first.  Since we are using cloth diapers, we often throw the disposable wipes in the disposable pail loose without a diaper and have had no problems so far!\",\n",
       "       'While the diaper champ is not perfect, it is really good! No special bags to buy! One hand diaper disposal and very easy to clean! I change the bag 2-3 times a week and before I put a new bag back in I use mr.clean and clean it up real good. No odors and really easy!',\n",
       "       \"I\\\\'ve worked with kids more than half my life. First as a babysitter /nanny and now as a mother. I\\\\'ve used diaper genies and they\\\\'ve all been really smelly. I never had to deal with changing cartridges but I can imagine how annoying it could be to open that stench-filled object and take out the poop sausage. I love my diaper champ. It\\\\'s so easy to use. I never had a problem with it squishing my finger because I always remember that the lid is heavy. No smell escapes from it and I keep it in my bathroom. We\\\\'ll see if I still love it once my DD\\\\'s soiled diapers become stinky.\",\n",
       "       \"I have owned a Diaper Dekor and now a Diaper Champ.  I prefer the Diaper Champ because it does not utilize expensive refills and it keeps the odor in better than the Diaper Dekor.  The Diaper Dekor broke, the arm that lifts the lid up broke off.  So I had to go searching for a new product again since they discontinued the model that I was using.  I chose the Diaper Champ because it only takes one hand to use, I can use regular bags, it holds more diapers and it keeps the odor in check.  Let\\\\'s face it, even the best can\\\\'t keep in that smell, especially as your child gets older.  I have two children now, so the Diaper Champ is getting utilized quite a bit and it beats the competition hands down.\",\n",
       "       \"I researched all the available options and decided to try the Diaper Champ instad of diaper genie. It made diaper disposal a snap!! The one handed disposal was soo convenient when i was holding a squirmy baby with one arm. It is smell free if you empty frequently and almost so if you don\\\\'t. This thing lived next to my sidetable for the first few months and often it was only emptied when it was full (its pretty large). I used some simple tricks to prevent smell leakage:-Rolled and taped up the diapers securely before disposing-Always returned the handle to original position so that only one side of the opening stayed in contact with smelly diapers (you\\\\'ll know what i mean when you use it)-Used scented odor lock GLAD bags and aired out the champ between bag changesThe only cons I found were that opening it is a bit tough ( you get more adept at it though and its safer) and there is a small opening below the handle which is where the odor tends to escape when it does.The cons are pretty minor given how well this thing works AND it is cost effective...i hate the idea of being forced to buy brand specific refills. It may seem bulky and not great to look at but I have to admit i have at times emptied the champ only when it could not take a single more diaper. I almost returned this when i opened it and saw how large it was but i am so glad i kept it!!\",\n",
       "       \"My husband and I love the Diaper Champ - it makes diaper changes quick and easy. We make sure to wrap up all the dirty wipes in the dirty diaper before depositing it, so it doesn\\\\'t get stuck in the shoot. Each time the bag is full, we empty the pail, spray Lysol inside and out, and replace the bag. We\\\\'ve had it for almost 3 months now, and can\\\\'t complain.\",\n",
       "       \"This product has been great.  It\\\\'s easy to use, holds plenty of dirty diapers, takes any kind of bag (this is important!), and does not take up too much space.Once in a while the drum gets stuck, but that\\\\'s only when the pail is too full.Great product!\",\n",
       "       \"We bought this over the Genie because you could use regular kitchen bags and with a greater capacity you wouldn\\\\'t have to change the bag as often.  I was wrong on the last point.  Because it doesn\\\\'t keep odor in as well, you really still need to change the bag often.  This from a mom with a breastfed baby, and supposedly breastmilk diapers have less odor.  In addition, it is a little tricky to open and close the bin.  The blue insert that holds the bag in can be difficult to manipulate.  No big deal.  I am still glad we chose this over the Genie, all things considered.\",\n",
       "       \"I cannot believe that anyone has had good luck with this product.  I have emailed Baby Trend for a refund so I can go buy something else.  I am even nursing my daughter and the stench from her &quot;odorless&quot; pail is horrific.  I cannot believe they didn\\\\'t make a space for a deodorizer.  I\\\\'m pretty shocked at how bad it is!\",\n",
       "       \"I had tried a Diaper Genie at a friend\\\\'s house and wasn\\\\'t really impressed with how it worked, not to mention the idea of having to buy refills.  I registered for the Diaper Champ primarily because you could use regular kitchen trash bags instead of special refills, and all the good reviews it seemed to get.  I could not be happier with the Champ!  It is truly the easiet thing in the world to use--one hand is all you need.  We have not noticed an odor problem at all.  Yes, it might briefly smell when you change out the pail but I can\\\\'t imagine other systems aren\\\\'t the same way.  I HIGHLY recommend this to anyone having a baby!  It is by far the best thing I received as a shower gift.  You won\\\\'t be disappointed in the Champ!\",\n",
       "       \"This product was great for the first couple months.  It IS very easy to use, there\\\\'s no twisting or struggling with the special bags, but when your little one starts foods and their mess gets a little more stinky, this pail does nothing to contain the odor.Here\\\\'s the problem...there\\\\'s no seal on the lid.  Where the lid opens to get the bags in and out, it\\\\'s plastic against plastic that\\\\'s not even remotely air tight that constantly leaks the stench of the inside.  Also, the chamber where you place the diaper gives you a waft of diaper pail air each time you flip it.I\\\\'m realistic that it IS a diaper pail and is it going to smell, but this product could do a much better job.  I DO empty mine at least once a week, wipe it with disinfecting wipes, spray it with lysol and let it air out for at least one day before it goes back in her room.  The problem is, you just can\\\\'t get to all the surfaces in the top of the pail.  I spend more time struggling with this thing, cleaning it, and airing it out than is realistic.Save your money on this one.  The cost of not having to buy the diaper genie bags is not worth smell in my little darling\\\\'s nursery.\",\n",
       "       'I nannied for two babies in some one else\\\\\\'s home and they have the Diaper Champ. I think the reason parents don\\\\\\'t smell the diapers when using this product is because they get used to the smell!! I would think that the poopy diapers were fine in this diaper pail until the parents would come home and ask why it smelled so bad in their house! Finally, I had to start using the \"champ\" for wet diapers only and walk the poopy diapers out to the street garbage can. Although I\\\\\\'m sure that this is better than throwing the diapers in your house garbage, there has to be something with some better odor control!',\n",
       "       \"We did alot of research on diaper pails before our first child was born.  We knew a few couples with the Diaper Genie, and one couple with the Diaper Champ.  The couple with the Diaper Champ has a baby that is 3 months older than our child.  This couple liked their Champ just fine, saying they noticed no odors.  We also read tons of reviews, mainly here on Amazon, of both products.  And from the reviews, it seemed there were many happy customers of both products.  So we decided, if they were about equal, we would go with the more convenient and cheaper solution, the Champ.Well, we were pretty happy for about 4 to 6 months.  We very much liked that we could use our regular trash bags.  And changing the Champ\\\\'s bag is very easy.  But after our child was well into eating solids, at about 7 months, the smell became unbearable.  It really is true that babies\\\\' poops really start to stink much, much worse when they eat lots of solids.  So we went out and bought a Diaper Genie, and are now very happy with the Genie.  The Genie has 2 big advantages over the Champ, in regards to smell control.  1) Each diaper is contained in its own litte pouch via the Genie\\\\'s twisting mechanism.  2)  The filler bags progress in thickness, so as your child gets older, and her poops get smellier, you can get thicker, better bags.After using the Genie for about a month now, we are very pleased.  The Champ is essentially a simple waste pail with a fancy hood.  The hood and ordinary trash bags don\\\\'t do much for odor prevention.  The drawbacks to the Genie though, are that you must buy their fillers, and the bag changing mechanism is much more complicated than the Champ\\\\'s.  We thought these were worth dealing with to prevent the odors.\",\n",
       "       \"We registered for the diaper champ after comparing it with the diaper genie and diaper dekor at the store.  We had used the diaper genie while working in the church nursery and found it to be extremely difficult to use with the number of diapers we were changing there.  Now our own baby is four months old, and we have loved having the diaper champ at home.  It is so easy to use and does not stink, or at least it hasn\\\\'t yet.  We use Ruffies scented garbage bags and change the bag when full, about every five days.  I would definitely recommend the diaper champ.\",\n",
       "       \"I love this diaper pail!  It\\\\'s so easy to use and I haven\\\\'t had any problems with diaper odors.  I love that you can use any bag for the inside instead of being forced to buy the more expensive refills.  Save yourself some money and hassle and buy the Diaper Champ!\",\n",
       "       'My husband and I decided to buy this because we did not want to be tied down to any expensive refills. We are very happy with our decision. It is odorless, easy to operate and holds good amount of diapers.',\n",
       "       \"The champ is great because you don\\\\'t have to waste anymore money buying expensive refills like the diaper genie.  This one uses regular bags (I use 32 gallon bags).  I did have some problems with the odor, but I think anything you put poop in and let sit for days will have odor so that\\\\'s inevitable!  Here\\\\'s some tricks for this Champ:1.  Put an Arm & Hammer Baking Soda box at the bottom of the pail to help eliminate orders.  And the obvious, change the bag every couple days to eliminate the smell... don\\\\'t expect to leave it there for a week and have it smell like roses!2.  The side straps of the diaper will get caught in the shoot so make sure you roll the diaper really tight and use the straps to hold it together, otherwise your diaper shoot will get clogged.3.  If you\\\\'re like me, you probably have tons of grocery bags laying around.  Keep a few handy in the nursery and use them to bag the poopy diapers.  Double bagging them helps to eliminate the orders.Hope this helps!\",\n",
       "       'I just wanted to say that I love my Diaper Champ (I use it with my Fuzzi Bunz cloth diapers) and I have never had a problem with smell. I think it also makes a big difference whether or not you breastfeed or artificially feed. I only breastfeed so I never have a problem.',\n",
       "       \"I have to agree with the other moms. At first the Diaper Champ was a champ, until I had to change the bag.  It is difficult to open, not to mention everytime I did change the bag my nails would break (and I don\\\\'t have long ones).  My daughter is 19 months, still breast feeding and eating solids and let me tell you, her pooh stinks.  Once I decided to take the Diaper Champ out of the room and walk each diaper to the outside dumpster, it still took weeks for the smell to get out of the room.  It penetrated into the room.  Not to mention, one day, little tiny flies started growing inside.  I was changing the bag on an every day basis.  This is by far the worst product out there.  Take my word for it when I say, I rather take the walk and dump the diaper outside than have to use the Diaper Champ ever again.\",\n",
       "       'I wanted a diaper pail that didn\\\\\\'t stink. I\\\\\\'d heard from *everyone* I knew that had purchased a Diaper Genie to not bother looking, nothing out there stopped the stink. \"Just take it outside right away\" was the only solution anyone could offer.Stubborn me, I kept looking - and I am SO GLAD I did! I found this Diaper Champ - no refills - a definite plus - you just use your regular kitchen garbage bags. Convenient, and less costly!But the big question is - did it work? Did it keep the stink out of my baby\\\\\\'s room?? I purchased it before my son was born, and now, with my 11 month old baby boy, who went from breast fed to formula to solids, I can happily answer: YES! It works!Now, if you hover right above the opening and inhale deeply, you will catch a whiff of poo. But who does that?? Sceptical friends who had owned the Diaper Genie (the ones who swore nothing would work!) were thrilled and a little jealous that this thing works so well!I\\\\\\'ve never had an issue with \"skid marks\" as another reviewer posted - 11 months, skid free so far. I have had a seal loosen, as another reviewer mentioned, but as he said - it has not affected the odor prevention of this.Word of warning - it works so well that you will not be prepared for the odor you will get when you open this to change the bag. Hold your breath!!',\n",
       "       \"This is the best thing ever. Easy to use and no need to buy expensive refills. I bought cheap trash bags and only have to replace it every 3-4 days. I also bought a stick up and placed inside so when I changed the bag the smell wasn\\\\'t so bad. This is definately a product I would tell everyone to buy.\",\n",
       "       'I am one of those super-critical shoppers who researches everything about a product and then second-guesses purchase decisions...but I love this diaper pail.  I was completely satisfied with my purchase and even bought a second one for our upstairs bedroom.*It really is cost effective.  You don\\\\\\'t have to spend money on refill bags.  I just use the pastic ones from the grocery store.  They work perfectly.*It is so easy to use, so easy to change.  I tried another brand of diaper pail and you had to push a button and flip a lid and push the diaper through...no.  You should spend zero time disposing of diapers and all your time with your new baby.  The Diaper Champ is effortless.*It effectively keeps the room from smelling like dirty diapers.  I live where it is hot and humid and don\\\\\\'t have central air so smell containment is important.  It\\\\\\'s not perfect but if you regularly empty the pail it works well.  Scented bags makes the whole room smell kind of nice if you have a super-sensitive nose.*At first I was turned off by the look of the diaper pail, but I have come to appreciate its design.  I bought and tried out a different one and found that the Diaper Champ is taller (about 27\" high) and narrower.  This means that it takes up less floor space but still holds quite a few diapers (I empty it every 2-3 days).  Also I don\\\\\\'t have to bend down as much to use it, which really makes a difference when you use it 20 times a day.*A small but considerate detail--there is a foot around the bottom of the pail that you can hold down while you change the bag.  This along with the way the weight is centered in the design makes it so the whole thing doesn\\\\\\'t fall over when you open it to change the bag.  The other brand I had tried kept falling over when I tried to change the bag and it was incredibly frustrating.*The only thing against the product I would mention is the noise.  It makes a \"thunk\" when you dispose a diaper into the pail.  I don\\\\\\'t mind it during the day--it\\\\\\'s actually kind of fun to use.  But during night-time changings you have to flip the handle a little slower so it doesn\\\\\\'t make a noise.Anyways, I hope this helps.',\n",
       "       \"I love this thing! I don\\\\'t notice any smell while top shut. It is simple to use, simple to clean. The top does jam when the bag is full, but what else would you expect. I like that because then I know its time to change the bag.I don\\\\'t know what I would do without this thing!\",\n",
       "       \"I have had the Diaper Champ in my son\\\\'s room for 6 months and all of a sudden the room smells like dirty diapers all the time.  The smell is starting to linger down the hall.  I cleaned the diaper champ, let it air out over night and then sprayed it with lysol and it is still stinking up the room!\",\n",
       "       \"We have been using a d. champ for nearly four years now - it has been very convenient, easy to use, and as close to odorless as one could reasonably hope.  We bought it for our son, and when his little sister was born, we bought a different one because the store we were in didn\\\\'t have a champ.  When my son learned to use the toilet, we got rid of the new one and moved the champ into my daughter\\\\'s room.\",\n",
       "       'We heard bad stories about the diaper genie and decided to go on a recommendation for the \"Champ.\"  Boy, are we glad we listened. I go out of my way to bring smelly diapers to the champ instead of walking them outside to the trash bin.  Definitely worth the investment and very easy to use - especially in the middle of the night.',\n",
       "       'I love this product. It is so easy to use and there are no refills. I can use any kind of kitchen bag. There is a smell of course when you change the bag, but it is no big deal, it is just until you tie up the bag.',\n",
       "       \"This thing doesn\\\\'t work very well. It still smells up the room. I\\\\'ve found the only way to not have smelly diapers around is to throw them in a grocery bag, tie it up and put it outside. It\\\\'s cheaper too.\",\n",
       "       \"We have used our diaper champ for the last 7 months and it is great. It doesn\\\\'t stink, it is easy to change bags, and you can use any bags you like.  I use our standard kitchen garbage bags.  I have tried the diaper genie and hated it.\",\n",
       "       'This product is nice in theory but not all that its cracked up to be.  The foam lining comes out after several months of use (this happened to 3 other people I know too), and it does nothing to stop odor.  (If you peek around the latch, you can see that there is open circulation into the diaper bag where odors flow freely).  Save your money and buy something else - this champs a chump.',\n",
       "       'Got this for my baby shower, after reading all the reviews.  I have never had a problem with mine.  I uses odor controlling garbage bags, and you never smell any dirty diapers.This product is great!',\n",
       "       \"My baby is now 8 months and the can has been helpful.  I think it\\\\'s great to make sure the really smelly ones are sealed, especially if I can\\\\'t run to dump the trash outside.  I do usually bag the really bad ones, so I don\\\\'t dirty the the entry.  It\\\\'s also great now that the baby is crawling.  She can easily knock over a trash can, but the Diaper Champ is much heavier and she hasn\\\\'t been able to get into it.  I doubt she will be able to get into it even when she is older.The bags are easily replaceable and affordable, far more than other options.  My friends recommended against the other options, which they claimed they worked for awhile, but soon became cost ineffective and smelled.  My friends liked my choice.You do have to empty the Diaper Champ can and clean it, but since it holds some pretty toxic trash, I would recommend that with any disposal system.  I\\\\'m extremely satisfied.\",\n",
       "       'Have had no problems with this! We use regular scented trash bags & empty out twice a week. No issues with smells, but we keep it in the bathroom and use scented trash bags so that may help. We used the diaper genie with our first baby & this one is considerably much better. Good price too!',\n",
       "       \"Over the past several years, I have babysat for many different families.  In every home where there was a child in diapers, there was a Diaper Genie.  Recently, I had my first child, and I decided to try the Diaper Champ instead.  I am so glad that I did. I find it much simpler to use than the genie, and I have had no problems with odors.(I don\\\\'t think this should be an issue if the bag is replaced every few days.)  It is also nice being able to use any garbage bag instead of having to purchase special bags.  I have no complaints about this product- it works great for me!\",\n",
       "       \"I love the Diaper Champ and I plan to get another one!  I have one in the baby\\\\'s room and I\\\\'d like another one for downstairs next to her pack \\\\'n play (since it has a changing table on it).  I feel like it keeps odors in as long as you do what other people suggested such as every time you take out a bag, spray and air out for a couple minutes and then replace with a new bag.  Also, I always make sure that I roll up each diaper securely before putting it in the diaper champ.  We only have to empty ours about every 2 weeks right now (our baby is 11 weeks old) because I change her downstairs half of the time.I really like the fact that you can use your own trash bags.  What a cost saver.  No special bags, no twisting (like the diaper genie), no tying special knots in the bags, no buying refills... as you can see I don\\\\'t like the genie one bit.  As a babysitter for someone who had the genie - I could never figure the darn thing out.  Think of someone who comes to watch your baby - the diaper champ is so easy and they\\\\'ll almost never have to change the bag for you.  That diaper genie was always full when I was babysitting.  Ugh!The only reason I gave this four instead of five stars, was because you can easily break your nails trying to open it up to replace the bag (the first time I did, despite the warnings!).  And the lid doesn\\\\'t stay open for you to air it out unless you prop it open... but that\\\\'s only for a few mintues anyways.  I do like that a toddler would not be able to open this up or get his/her hands inside of it.  Speaking of hands, you only need one hand to throw away that messy diaper too!I highly recommend the diaper champ - in fact, I\\\\'m buying another one today!\",\n",
       "       \"I love the convenience of not having to worry about special bags, that\\\\'s why I rated this so high. However, when I first started using this diaper pail, the velcro from my daughter\\\\'s diapers was getting stuck on something inside the lid.  Needless to say, getting the diapers unstuck was disgusting.  Once I yanked out the fabric that the diapers were getting stuck on, I really liked the diaper pail.  The dirty diapers still stink, so I put each dirty diaper in its own sack and throw them out in the kitchen garbage so that they go out every night.  Now my house never stinks like a dirty diaper.\",\n",
       "       \"We love this diaper pail.  I purchased 2 different pails (the other being a lousy product from Fisher Price), one for cloth and one for disposable diapers.  The Diaper champ is easy to use single-handed, and is tall enough so you don\\\\'t have to bend over much to use it.  We found it contains even the stinkiest diapers well, and can fit quite a few in there.  By trash day the pail is full, easily indicated by having to push the plunger down manually because the other dirty diapers are close to the top.  The plunger can make a loud \\\\'thud\\\\' if you turn the handle quickly so at night I just leave the diaper sitting on top until baby is awake, or turn it really slowly.  It doesn\\\\'t seem to bother the baby, but I don\\\\'t want to take any chances!  The other pail we use is very inferior.  It takes 2 hands to operate, is very short and doesn\\\\'t contain the smell well.  We would buy the diaper champ for any of our friends having babies.\",\n",
       "       'I got one of these and a diaper genie for gifts. I decided to try them both out and see which I liked better. The diaper champ defintly won! I love not having to buy refills, my regular trash bags work just fine. It completly hides odors and is very easy to clean and use. It also holds more then the genie.',\n",
       "       \"This is one great diaper pail.  I cannot smell any diapers in my son\\\\'s room.  It\\\\'s easy to use.  Cheap to keep in trash bags.  And holds a week\\\\'s worth of diapers.  Trash day we just empty it and out to the trash it goes.  Yeah for the Diaper Champ!!!\",\n",
       "       'This is a great for dirty Diapers. I have had no problem with smells. And it is easy to empty out. I love It!!!',\n",
       "       \"If you wrap up the diaper with the tape, it keeps the smell out just fine.  Also, because you can use any bags with the Champ, we used some cheap eucalyptus smelling bags and it\\\\'s a lot cheaper than using the Diaper Genie bags!\",\n",
       "       \"I was a diaper genie user until my son was about 1 month old.  I thought that it was hard to use.  We had a friend tell us about the Diaper CHAMP and told us to try it out.  The name say\\\\'s it all.  Our son is now almost 2 years old.  We just quit using the diaper champ about 3 months ago just because it was just as easy to carry them out to the trash.  We have had no problems at with the diaper champ at all.  It does a great job on keeping the odor in the pail.  Sure, it smells when you change the bag, but you just seal off the bag, and smell is gone.  NO refills to buy or anything.  ITs great.  ITs a breeze to clean and empty the bag.  This is way better than the diaper genie!!\",\n",
       "       \"I have been using this diaper pail for 41/2 months now and just love it. It is taller than other diaper pails so you don\\\\'t have to bend so far down to dispose of the diaper AND you can use regular kitchen garbage bags.  I didn\\\\'t want to have to buy special bags which are more expensive and just one more thing you can run out of.  My son is still exclusively breastfed, so I don\\\\'t know if the Diaper Champ will continue doing such a great job once he is on solids, but so far, it has been great; even in the VERY hot weather it has contained all diaper odors!  I am very happy with it and would gladly recommend it, especially if you are the least bit tall.\",\n",
       "       \"......all I can say is the smell is horrible.....1 star..... Please don\\\\'t buy this one!\",\n",
       "       \"We like our diaper champ because you don\\\\'t have to buy special bags and it let\\\\'s you know when it\\\\'s full.  We don\\\\'t have any smell in our babies room, and she poops a lot.\",\n",
       "       \"This is a great diaper pail, easy to use and keeps the odor in. It is much more cost effective then the genie b/c you don\\\\'t need to keep buying the expensive bag inserts, just use any old trash bag.There is also no messing with loading a newbag like the genie. It is also very user friendly in that you only need one hand, just drop in the diaper flip the handle over and you\\\\'re done.\",\n",
       "       'I paid $39.99 for this on Amazon and could have bought it in the store for $29.99.  WAY too overpriced!  I wish I had researched a little more.',\n",
       "       'Daiper Champ is a true champion. Earlier i was planning to buy Diaper Genie as i had liked its innovative style. However, all my friends were sick and tired of its refill system. Not only that, it also gives out a stinky smell when the baby grows and starts eating solid food. It also need some assembly while as CHAMP is so easy to use and can take any size diaper, any trash bag and even a kid can handle it with ease.',\n",
       "       \"This is the best diaper pail.  I was a little skeptical because of its simple design, but it really is so easy to use and I haven\\\\'t noticed any odors since we\\\\'ve been using it.  I highly recommend this product to everyone!\",\n",
       "       \"I LOVE this diaper pail!  Just buy regular kitchen trash bags! I haven\\\\'t found a pail yet that\\\\'s completely odorless, but this one is the best!  And my daughter can\\\\'t get into it and pull the diapers out!\",\n",
       "       \"The Diaper Champ is excellent.  I have experienced no issues with odor, in fact I keep this in my baby\\\\'s closet.  No special bags are needed ... what a savings!  Just a spray of Lysol in between bag changes and everything smells rosy!  Great value for an excellent product.\",\n",
       "       \"We like this diaper pail.  I\\\\'ve had two others with our older kids--one a diaper genie (which I personally found to be a pain) and another by fisher price that I don\\\\'t know if they still  make.We used this for all diapers for the first six months, until our baby started having solid food.  As an exclusively breast fed baby, there were no odors escaping at all.  (Formula fed babies have stinkier diapers, so I don\\\\'t personally know if it would be as efficient for them.)  My older two actually enjoyed putting the diaper in.  It\\\\'s easy to change out.  I always opened it up outside (if you try to open it inside there will be some odors escape), pulled out the full bag, sprayed the can with lysol, and kept a dryer sheet in the bottom which I changed every month or so.Now that little one is having solids, I personally don\\\\'t expect any diaper pail to contain the smell, so I put dirty ones directly outside.  We still use it for the wet ones.  It has worked out fine because at this point he only has one messy diaper a day.I had a little trouble with the adhesive on the gasket thingee coming loose, but I emailed them and they very promptly sent me a new one for free, along with a few extras in case it happened again (which it hasn\\\\'t), so I think the customer service is good.The only thing I don\\\\'t like about it is that you have to empty it fairly often, but I also recognize that honestly that\\\\'s ridiculous on my part.  The more it holds, the more room it takes up, the heavier it gets, etc.  And the fact that you can\\\\'t go more than two or three days (as a newborn, anyway) is probably one of the reasons it contains the smell.  The longer they sit, the more rank they get.  Now that he\\\\'s older and doesn\\\\'t go through 15 diapers a day, I only change it about once a week.\",\n",
       "       \"I bought the Diaper Champ because it was recommended to us over the Diaper Genie.  2 weeks after using it we decided it wasn\\\\'t for us.  It didn\\\\'t hold the smells in AT ALL! Tried using scented garbage bags and that didn\\\\'t help! Our room still stunk! I bought the Diaper Genie and while it does\\\\'t keep the smells in 100% (you can still smell it when you open it to put another diaper in) and you have to buy the refill bags, it works a lot better than the Diaper Champ and the room smells a lot better than it did before.\",\n",
       "       'The Diaper Champ was recommended to us in the Babies R Us asile by a nanny who was picking up one for one of the households that she was working with.  She loved her previous experience with the product, and we are glad that she spoke up to recommend it to us.Pluses: It is a LOT easier to use than the Diaper Genie (for example you can throw a diaper away with just one hand!  Woo-hoo!)  Also, you can use regular kitchen trash bags inside it, so you don\\\\\\'t have to buy special bags at an inflated price.  Further, due to it\\\\\\'s extra large containment area you don\\\\\\'t have to take out the trash as often as you would have to with the smaller Diaper Genie and the smell seems to stay inside just fine. :)The one minus that I experienced: According to the directions that came in the box, you can take apart the drum/piston assembly if you should wish to thoroughly clean the inside of it.  When we first bought the Diaper Genie I tried to take it apart.  I *could not* get it to come apart, nor could my husband.  It would not BUDGE-so much so that if the directions didn\\\\\\'t specifically mention that it could be separated I would have assumed that it was not built to come apart.  After trying to get it apart for a ridiculous amount of time, (using practically everything from my nails to a crowbar,) I finally broke down and called the customer service number to see if I was missing some key- a button or lever to push- anything!  The customer service person told me to \"try harder\", then call again if I couldn\\\\\\'t get it open!(Insert long pause with upraised eyebrows here.)Needless to say, I thought that was a bit less than helpful.  So... maybe my Diaper Genie was warped, or maybe they are all impossible to get open- it\\\\\\'s your gamble.  I didn\\\\\\'t take it back to the store because I assume that they are all that way.  On the bright side, I really haven\\\\\\'t felt that it\\\\\\'s gotten dirtier than a lysol wipe could handle- so despite that lack of helpfulness that the customer service folks could offer me, I would still recommend the product itself to a friend.',\n",
       "       'My husband and I went to Babies R Us to buy a diaper genie, but instead were intrigued by the diaper champ... the store was sold out, the worker said we should have them hold one for us because they sell out as soon as they get them on the shelves... I can see why!  I have already referred about 5 of my friends to buying one.  We live in a small house, and if something stinks in one room, it will stink up the entire house, so we are so glad to have something that really works for those dirty diapers!',\n",
       "       \"Well, the first three months were odor free!!  Then after the charcoal chamber absorbed all the odor - watch out.  After the3rd month, it was intolerable!!  I am going out tomorrow to purchase the diaper genie or something better!!!  No matter how much you clean or how often you spray with Lysol the smell keepscoming back.  And they don\\\\'t have a website to complain too!\",\n",
       "       \"I am the mother of 9 children and this is the easiest diaper pail I have ever used.  It captures odors and it uses regular trash can liners so I don\\\\'t have to buy any custom can liners, which saves me money and time.\",\n",
       "       \"My friends think I am strange, but I have to show my Diaper Champ off to anyone that comes in my house:) I recieved a diaper genie as a gift when I had my daughter three years ago and hated it. When I got pregnant this time, I decided to try something different. The Diaper Champ works great and I am saving tons of money not having to buy special bags. My 3 year old loves to turn the handle for me after I change the infant - some of my adult friends can\\\\'t even figure out how to turn the Diaper Genie!!!\",\n",
       "       \"Unlike others, the Diaper Champ uses standard trashbags -- saving you headaches from trying to find the right bag and money because you don\\\\'t have to buy a bag that only works in the Champ.  The Champ uses a wonderfully simple design to keep out odors and won\\\\'t break.  The best part is that it is a full-sized can, which means you have to empty it less often.  The one drawback about not smelling dirty diapers is when you go to empty the Champ -- take it outside before you open it!\",\n",
       "       \"Love the Diaper Champ.  I had planned to get the Diaper Genie, but after I read the reviews, the Diaper Champ won out!  I love the fact that the Diaper Champ accepts any kind of bag, and you don\\\\'t have to purchase specific bags.  That\\\\'s way too much of a headache and expense that I don\\\\'t need.  It\\\\'s also super easy to use one-handed which is important with a squirmy infant either in your arms or on the changing table.  It took me a few minutes to learn how to change the bag, but that, too, is easy once you figure it out.  We haven\\\\'t had a problem at all with the smell, but we do wipe it out with Clorox wipes every so often just to make sure.  This is one of those baby items I wouldn\\\\'t want to do without.\",\n",
       "       \"A great product that works as promised.  I haven\\\\'t had any problems with it accumulating odor, but I have a friend who did. I went to look at his and picked it up, it felt like it weighed 50 pounds! Folks, ya gotta empty it every few days, it can do only so much. The only con against it vs. the genie is that you should wrap the diaper tightly or the delivery chute will get soiled.  Other than that, it blows the genie away.  BUY IT.\",\n",
       "       \"We are using the Diaper Champ with our first baby and we love it!!  We don\\\\'t have a problem with odors because we keep a roll of diaper disposer bags (little roll of blue plastic bags with a yellow duck dispenser) nearby in the changing table to put the smelly diapers in - this keeps everything clean and the blue bags are extremely economical to purchase (maybe $3 for 50 bags).  A small price to pay for an almost odorless diaper pail - we only use them for poopy diapers, not for wet-only diapers so they last for quite a while.  The bag in the Diaper Champ still gets changed 1 - 2 times per week because it\\\\'s full, not because it\\\\'s smelly.  This method also keeps the chamber and plunger free of messes.  Since the Diaper Champ can be used with any garbage bag, it\\\\'s one less thing to have to remember when shopping and changing the bag is so simple and quick, it\\\\'s easier than changing our kitchen garbage bag.  We have relatives who are expecting babies and will be sure to encourage them to register for the Diaper Champ.\",\n",
       "       'The Diaper Champ not only holds bombs, it is the bomb.  We used it for out first child 3 years ago, and are now using it for our new twins.  Holds in the odors so well, that even grandma occasionally makes a deposit herself!',\n",
       "       \"I have been using the Diaper Champ for the past three months. It holds lots of diapers and you can stuff it full. I have not smelled any bad odor coming from the pail in my son\\\\'s room. It is easy to change a new bag, but I would suggest doing it outside. Once you open it up the smell does escape quickly. But, just give a quick wipe with a disenfectant cloth and put in your own garbage bag and you are ready to put it back in the room. I am very happy to have this diaper pail. I recommend it.\",\n",
       "       \"We love our diaper champ, and are so glad that a friend tipped us off to it. We had the diaper genie on our registry, but someone suggested that we get this instead--because we would save on bags. You can put any small size garbage bag in it- our local Target sells a pack of 90 for 1.99. Plus, from my babysitting days, I remember DiaperGenie being a little hard to use/empty. The diaper champ is easy, just throw the diaper in and flip! If you are trying to choose between the two, I\\\\'d go for the Champ.\",\n",
       "       \"THis thing works!  There were 3 baby cousins born 2 weeks apart in our family, I have the Diaper Champ and the other 2 have Diaper Genies -- I am the only one using my diaper pail. They quit using theirs in a few weeks because of the smells.  They both feed formula and only have one poopy diaper a day, so they immediately remove it from the house. My baby is breastfed and has poopy diapers at most diaper changes and this Diaper Champ diaper pail has been up to the task so far, he is 8 weeks old.  Outside is easy to wipe down with clorox disinfectant, since sometimes the cylinder gets a little runny stuff on it if I don\\\\'t wrap them up tight enough. When it  doesn\\\\'t want to turn and drop all the way down, then that\\\\'s when I know it needs changed. It\\\\'s nice not to have to buy special bags too!\",\n",
       "       'I love this product because you can use REGULAR TRASH BAGS and you do not need to order \"refill bags\" to keep this unit operational!  It\\\\\\'s easy to use, blocks all odors, and once you pay for the unit, there are no additional bags to buy...which saves you money in the long run!',\n",
       "       'I love this diaper Champ. I got it as a shower gift and hadent heard of it before but when I started using it I had to tell all my friends. This will definatly be my gift of choice from now on to all my pregnant friends. As other reviews say the smell isnt that great when it gets full but its not that bad (I see it as a hint the bag is full and its time to change). I also spray the inside w/ febreeze or lysol disinfectant during each change and that nips the problem in the bud. Overall, Its one of those things that I cant live without but didnt know it until I got it.',\n",
       "       'This was my 3rd diaper pail with my 3rd baby.  This one was by far the best one and the easiest to use. You can use your own bags, which makes it a plus over the Diaper Genie.',\n",
       "       \"I originally bought the Diaper Genie when my son was born. It broke when he turned 9 months so I bought another Diaper Genie. However, the Diaper Genie became very smelly as my son got older and onto solids. I decided to switch to the Champ and I think it\\\\'s much better at handling odors. It also holds a lot of diapers. Not having to purchase special bags is a plus. Now, I agree with others that there is probably nothing out there that truly gets rid of odors, but I think the Champ does a good job. Just make sure the tape of the diaper is not exposed when you throw your diaper in the Champ and try and empty it as often as possible. My son is now 12 months and after 2 Diaper Genies and a Champ, I highly recommend the Champ.\",\n",
       "       \"I had a cheap safety 1st pail and hated it. It fell apart and did not keep down on the stench AT ALL. I read a ton of reviews and thought...&quot;hmm  the diaper dekor sounds the best&quot;. However, I really did not want to deal with buying special bags and all that (plus the pail itself was more expensive). I know I didn\\\\'t want the genie, so I tried the Champ. Since I have not tried the Dekor, I can not really say which is better. But the Champ is easy to use, inexpensive, and keeps down on the bad odors. I HIGHLY RECOMMEND THIS (especially for people who are not rich and dont want to spend the time and effort finding and buying special bags)\",\n",
       "       'my son is now 3 months old and when he was born i didnt have a diaper pail.  well after reading the reviews i decided to go with the diaper champ. let me tell you, the only time it smells is when its full or you open it to change the bag, after that with a fresh bag, there are no disgusting smells. i love this pail and i dont have to worry about forgetting about needing refils and running out at 3 a.m. because i can use my tall kitchen bags! my 3 year old enjoys helping me change the baby because he likes to flip the handle.  this was my best investment for the baby!',\n",
       "       'It stinks - we lysol ours 2-3 times a week. Diapers get jammed and it hardly holds any. We are better off buying a flip garbage can lid for like $6 bucks. Same idea without the headache and the \"diaper pail\" look.The only good thing with this one is you can use any garbage bag you want.',\n",
       "       \"I recieved this pail as a gift and loved the idea that it didn\\\\'t require specifc refills packages. You can use any plastic garbage bag! It\\\\'s easy to use and convienient. One minor detail is you don\\\\'t know when it\\\\'s full until you can\\\\'t turn the handle any  more, but that\\\\'s a small price to pay for this wonderful product.\",\n",
       "       'I am glad I bought this! It uses regular garbage bags and there is no odor at all. It is so easy to use. Thumbs up on this one. I am glad I didnt get the diaper genie..it wouldve been a waste of money!I recommend this diaper champ to everyone!',\n",
       "       \"Its a good product because its easy to use, and you don\\\\'t need the expensive refillable bags like the Diaper Genie.  However, it doesn\\\\'t do so good of a job hiding the smell.  We\\\\'d spray the inside with Lysol disenfectant, but if we waited for the bag to fill up to capacity our room would be full of the dirty diaper smell.  So that\\\\'s the only reason I give it a 4 stars.Its easy to use, and inexpensive when it comes to the refills.  Just doesn\\\\'t mask the smell of dirty diapers that well.\",\n",
       "       'this works really well.  I found it easier than diaper gienie and you can drop in the diaper and dispose with one hand.  To keep odor down you need to change before it gets too full, couple times a week  or more often if have a couple poopy diapersYou also can use any bags.  I have one on each floor of my home.Also keeps the dogs from getting the diapers.  occasionally a diaper will get stuck but that is usually when it is getting too full.  Only prob I have found is when I push on the lever to open to change the bag it is kind of difficult to unlatch and have broken a nail on it a few times- no biggie, kind of annoying.',\n",
       "       'This truly is the champ of diapers. This product, unlike the genie and others, is standalone of \"refills\" (well, you do need garbage bags, but you should already have those). It also does a very good job of keeping the stink away. Not once has the smell came out in such a way that we notice.It also kind of reminds me of the ghost jail thing in Ghostbusters, you know, where they put the trap in and release the ghosts?It\\\\\\'s a great product. It\\\\\\'s kind of big, it\\\\\\'s well made, and it will not need to be changed out for about a week. I\\\\\\'d advise anyone to buy it.',\n",
       "       \"I\\\\'ve read all of the reviews of those of you who can\\\\'t understand why the rest of us hated our Diaper Champs, and I just have to say-give it a while, you\\\\'ll find out. We bought our Diaper Champ when our first son was born. For pretty much  the first year we LOVED it. Everyone is right, you don\\\\'t have to spend money on seperate bags, it\\\\'s a nice height so you don\\\\'t have to bend over it and it\\\\'s really easy to use. I think it takes about a year though, or maybe even a little longer, and it will start to reek so bad that you\\\\'ll want to sleep at the neighbors house just to escape the smell. For all of you who haven\\\\'t used yours long enough-just wait, it will happen. We scrubbed ours with bleach, we emptied it daily, we aired it out in the backyard for two days, and then we finally started putting every single diaper in ziplock bags before putting them in the diaper champ (so much for no extra bags!). NOTHING helped. I\\\\'m not stupid, I understand that when it comes to diapers, nothing is smell proof. We emptied it all the time and disinfected it constantly. But I\\\\'m not talking normal stinky diaper smell. I\\\\'m talking the combined smell of every stinky diaper in the entire world. It was SO BAD. Unless you plan on potty training your child when he turns one, and good luck with that, you\\\\'ll probably end up replacing yours before the diaper days are over. In the end we bought a Diaper Genie. We\\\\'ve used it for two years now and have had no problems. It kinda stinks a little when you open it, but the smell stays in there when it\\\\'s closed. I\\\\'ll buy seperate bags any day if I never have to smell that foul Diaper Champ again.\",\n",
       "       'I see that there are complaints of stinkiness regarding this unit, but short of hermetic sealing, you\\\\\\'re gonna be dealing with poo smell. I think a bit of odor is a fair trade-off for the ability to use normal trash bags and not be locked into yet another system of expendables. (See Braun shaver cleaning cartridges, etc.) The unit relies on a fairly tight seal between the bag (where it passes through the dark blue plastic holder) and the \"funnel\" bottom on the underside of the top portion. If the bag installation is somewhat off this would probably lead to a poor to non-existent seal.That said, the design of the unit is pretty clever - the piston and gravity work to deposit the diaper into the bag in one fell swoop as the handle is rotated through a 180-degree arc, without any hazardous poking of fingers in the vicinity of fresh poo.  That the lid latch is not immediately easy to pop open can be seen as a feature - keeping the contents safe from rude dogs who knock over trash for the goodies inside.  All told it seems to work very well.'],\n",
       "      dtype=object)"
      ]
     },
     "execution_count": 58,
     "metadata": {},
     "output_type": "execute_result"
    }
   ],
   "source": [
    "diaper_champ_reviews"
   ]
  },
  {
   "cell_type": "code",
   "execution_count": 60,
   "metadata": {},
   "outputs": [
    {
     "data": {
      "text/html": [
       "<div>\n",
       "<style scoped>\n",
       "    .dataframe tbody tr th:only-of-type {\n",
       "        vertical-align: middle;\n",
       "    }\n",
       "\n",
       "    .dataframe tbody tr th {\n",
       "        vertical-align: top;\n",
       "    }\n",
       "\n",
       "    .dataframe thead th {\n",
       "        text-align: right;\n",
       "    }\n",
       "</style>\n",
       "<table border=\"1\" class=\"dataframe\">\n",
       "  <thead>\n",
       "    <tr style=\"text-align: right;\">\n",
       "      <th></th>\n",
       "      <th>name</th>\n",
       "      <th>review</th>\n",
       "      <th>rating</th>\n",
       "      <th>sentiment</th>\n",
       "    </tr>\n",
       "  </thead>\n",
       "  <tbody>\n",
       "    <tr>\n",
       "      <th>312</th>\n",
       "      <td>Baby Trend Diaper Champ</td>\n",
       "      <td>Ok - newsflash.  Diapers are just smelly.  We\\...</td>\n",
       "      <td>4</td>\n",
       "      <td>1.0</td>\n",
       "    </tr>\n",
       "    <tr>\n",
       "      <th>314</th>\n",
       "      <td>Baby Trend Diaper Champ</td>\n",
       "      <td>My husband and I selected the Diaper \"Champ\" m...</td>\n",
       "      <td>1</td>\n",
       "      <td>0.0</td>\n",
       "    </tr>\n",
       "    <tr>\n",
       "      <th>315</th>\n",
       "      <td>Baby Trend Diaper Champ</td>\n",
       "      <td>Excellent diaper disposal unit.  I used it in ...</td>\n",
       "      <td>5</td>\n",
       "      <td>1.0</td>\n",
       "    </tr>\n",
       "    <tr>\n",
       "      <th>316</th>\n",
       "      <td>Baby Trend Diaper Champ</td>\n",
       "      <td>We love our diaper champ.  It is very easy to ...</td>\n",
       "      <td>5</td>\n",
       "      <td>1.0</td>\n",
       "    </tr>\n",
       "  </tbody>\n",
       "</table>\n",
       "</div>"
      ],
      "text/plain": [
       "                        name  \\\n",
       "312  Baby Trend Diaper Champ   \n",
       "314  Baby Trend Diaper Champ   \n",
       "315  Baby Trend Diaper Champ   \n",
       "316  Baby Trend Diaper Champ   \n",
       "\n",
       "                                                review  rating  sentiment  \n",
       "312  Ok - newsflash.  Diapers are just smelly.  We\\...       4        1.0  \n",
       "314  My husband and I selected the Diaper \"Champ\" m...       1        0.0  \n",
       "315  Excellent diaper disposal unit.  I used it in ...       5        1.0  \n",
       "316  We love our diaper champ.  It is very easy to ...       5        1.0  "
      ]
     },
     "execution_count": 60,
     "metadata": {},
     "output_type": "execute_result"
    }
   ],
   "source": [
    "baby_products.head(4)"
   ]
  },
  {
   "cell_type": "markdown",
   "metadata": {},
   "source": [
    "## Predicting the sentiment for the reviews on this data"
   ]
  },
  {
   "cell_type": "code",
   "execution_count": 100,
   "metadata": {},
   "outputs": [],
   "source": [
    "diaper_test_select=assign_vect.transform(diaper_champ_reviews)\n",
    "diaper_test_sent=count_vect.transform(diaper_champ_reviews)"
   ]
  },
  {
   "cell_type": "code",
   "execution_count": 101,
   "metadata": {},
   "outputs": [],
   "source": [
    "y_predict_diaper_sent=sentiment_model.predict(diaper_test_sent)\n",
    "y_predict_diaper_select=selected_model.predict(diaper_test_select)"
   ]
  },
  {
   "cell_type": "code",
   "execution_count": 103,
   "metadata": {},
   "outputs": [],
   "source": [
    "y_predict_diaper_sent=sentiment_model.predict_proba(diaper_test_sent)"
   ]
  },
  {
   "cell_type": "code",
   "execution_count": 106,
   "metadata": {},
   "outputs": [
    {
     "data": {
      "text/plain": [
       "array([[1.19172234e-01, 8.80827766e-01],\n",
       "       [9.25214021e-01, 7.47859786e-02],\n",
       "       [3.02569378e-04, 9.99697431e-01],\n",
       "       [3.51639822e-03, 9.96483602e-01],\n",
       "       [2.54171098e-02, 9.74582890e-01],\n",
       "       [1.09166985e-03, 9.98908330e-01],\n",
       "       [9.14299070e-01, 8.57009299e-02],\n",
       "       [8.20925328e-10, 9.99999999e-01],\n",
       "       [2.31430259e-02, 9.76856974e-01],\n",
       "       [7.72832974e-04, 9.99227167e-01],\n",
       "       [9.59076228e-01, 4.09237721e-02],\n",
       "       [7.32199770e-02, 9.26780023e-01],\n",
       "       [8.34670190e-01, 1.65329810e-01],\n",
       "       [7.74101814e-07, 9.99999226e-01],\n",
       "       [3.88891227e-05, 9.99961111e-01],\n",
       "       [6.14710511e-06, 9.99993853e-01],\n",
       "       [1.06514359e-01, 8.93485641e-01],\n",
       "       [8.20595265e-01, 1.79404735e-01],\n",
       "       [1.83521128e-01, 8.16478872e-01],\n",
       "       [6.89162767e-05, 9.99931084e-01],\n",
       "       [1.69922232e-01, 8.30077768e-01],\n",
       "       [4.88640914e-03, 9.95113591e-01],\n",
       "       [1.52967360e-06, 9.99998470e-01],\n",
       "       [4.74589498e-01, 5.25410502e-01],\n",
       "       [1.53030663e-02, 9.84696934e-01],\n",
       "       [6.77252398e-03, 9.93227476e-01],\n",
       "       [3.83286566e-03, 9.96167134e-01],\n",
       "       [6.21160207e-01, 3.78839793e-01],\n",
       "       [1.44497444e-02, 9.85550256e-01],\n",
       "       [9.15010170e-01, 8.49898298e-02],\n",
       "       [7.80141327e-03, 9.92198587e-01],\n",
       "       [5.00179507e-04, 9.99499820e-01],\n",
       "       [1.01020326e-01, 8.98979674e-01],\n",
       "       [1.10677902e-02, 9.88932210e-01],\n",
       "       [1.15707480e-03, 9.98842925e-01],\n",
       "       [3.97057600e-01, 6.02942400e-01],\n",
       "       [1.53819963e-05, 9.99984618e-01],\n",
       "       [8.99095747e-05, 9.99910090e-01],\n",
       "       [6.78521825e-02, 9.32147818e-01],\n",
       "       [9.46455042e-01, 5.35449581e-02],\n",
       "       [1.45902234e-03, 9.98540978e-01],\n",
       "       [9.99513652e-01, 4.86347594e-04],\n",
       "       [3.20571375e-01, 6.79428625e-01],\n",
       "       [5.64054879e-01, 4.35945121e-01],\n",
       "       [6.87648844e-04, 9.99312351e-01],\n",
       "       [2.43905770e-01, 7.56094230e-01],\n",
       "       [2.62554084e-03, 9.97374459e-01],\n",
       "       [1.42895930e-01, 8.57104070e-01],\n",
       "       [3.26850588e-01, 6.73149412e-01],\n",
       "       [1.49152484e-01, 8.50847516e-01],\n",
       "       [2.71267555e-04, 9.99728732e-01],\n",
       "       [1.74652100e-03, 9.98253479e-01],\n",
       "       [7.12039617e-01, 2.87960383e-01],\n",
       "       [2.44164676e-02, 9.75583532e-01],\n",
       "       [7.23269378e-04, 9.99276731e-01],\n",
       "       [1.70003968e-02, 9.82999603e-01],\n",
       "       [9.95747272e-01, 4.25272815e-03],\n",
       "       [4.94859836e-04, 9.99505140e-01],\n",
       "       [8.43987102e-11, 1.00000000e+00],\n",
       "       [3.27761940e-06, 9.99996722e-01],\n",
       "       [1.55692839e-02, 9.84430716e-01],\n",
       "       [3.99041081e-01, 6.00958919e-01],\n",
       "       [2.16099997e-03, 9.97839000e-01],\n",
       "       [1.21408026e-03, 9.98785920e-01],\n",
       "       [2.08653866e-03, 9.97913461e-01],\n",
       "       [2.56132168e-02, 9.74386783e-01],\n",
       "       [1.66581617e-02, 9.83341838e-01],\n",
       "       [8.25597488e-01, 1.74402512e-01],\n",
       "       [1.67184377e-02, 9.83281562e-01],\n",
       "       [7.10364198e-01, 2.89635802e-01],\n",
       "       [4.00090227e-01, 5.99909773e-01],\n",
       "       [7.19322406e-01, 2.80677594e-01],\n",
       "       [3.05825201e-01, 6.94174799e-01],\n",
       "       [1.67406124e-01, 8.32593876e-01],\n",
       "       [1.78940856e-02, 9.82105914e-01],\n",
       "       [3.34288155e-04, 9.99665712e-01],\n",
       "       [1.08278493e-03, 9.98917215e-01],\n",
       "       [1.44571898e-01, 8.55428102e-01],\n",
       "       [1.12052567e-01, 8.87947433e-01],\n",
       "       [4.36059774e-02, 9.56394023e-01],\n",
       "       [1.70089201e-02, 9.82991080e-01],\n",
       "       [2.78874089e-06, 9.99997211e-01],\n",
       "       [2.21595306e-02, 9.77840469e-01],\n",
       "       [2.64290788e-04, 9.99735709e-01],\n",
       "       [5.03830427e-02, 9.49616957e-01],\n",
       "       [3.31970282e-01, 6.68029718e-01],\n",
       "       [7.89604489e-01, 2.10395511e-01],\n",
       "       [5.89479930e-03, 9.94105201e-01],\n",
       "       [1.02844962e-02, 9.89715504e-01],\n",
       "       [8.77369731e-03, 9.91226303e-01],\n",
       "       [9.03172779e-02, 9.09682722e-01],\n",
       "       [2.99290247e-07, 9.99999701e-01],\n",
       "       [3.21321204e-01, 6.78678796e-01],\n",
       "       [1.10424550e-03, 9.98895755e-01],\n",
       "       [7.28225850e-05, 9.99927177e-01],\n",
       "       [1.65818097e-04, 9.99834182e-01],\n",
       "       [1.47681787e-01, 8.52318213e-01],\n",
       "       [7.28998464e-08, 9.99999927e-01],\n",
       "       [1.04531516e-01, 8.95468484e-01],\n",
       "       [1.77162122e-02, 9.82283788e-01],\n",
       "       [8.60888077e-01, 1.39111923e-01],\n",
       "       [2.18294478e-01, 7.81705522e-01],\n",
       "       [1.01337524e-01, 8.98662476e-01],\n",
       "       [2.64404927e-03, 9.97355951e-01],\n",
       "       [2.19831056e-05, 9.99978017e-01],\n",
       "       [2.62668303e-05, 9.99973733e-01],\n",
       "       [1.02560060e-02, 9.89743994e-01],\n",
       "       [7.50652392e-04, 9.99249348e-01],\n",
       "       [1.82557165e-01, 8.17442835e-01],\n",
       "       [3.43127713e-04, 9.99656872e-01],\n",
       "       [1.47730841e-02, 9.85226916e-01],\n",
       "       [6.16135326e-03, 9.93838647e-01],\n",
       "       [1.48868368e-02, 9.85113163e-01],\n",
       "       [2.14921976e-05, 9.99978508e-01],\n",
       "       [6.06245552e-02, 9.39375445e-01],\n",
       "       [1.10463974e-02, 9.88953603e-01],\n",
       "       [6.97901754e-03, 9.93020982e-01],\n",
       "       [4.56303303e-04, 9.99543697e-01],\n",
       "       [3.10210544e-03, 9.96897895e-01],\n",
       "       [6.60322878e-01, 3.39677122e-01],\n",
       "       [2.57247221e-04, 9.99742753e-01],\n",
       "       [9.14039193e-01, 8.59608066e-02],\n",
       "       [2.17937018e-03, 9.97820630e-01],\n",
       "       [1.97171817e-01, 8.02828183e-01],\n",
       "       [1.91822133e-01, 8.08177867e-01],\n",
       "       [9.42513904e-01, 5.74860957e-02],\n",
       "       [1.39130059e-06, 9.99998609e-01],\n",
       "       [1.39638382e-01, 8.60361618e-01],\n",
       "       [3.86156433e-03, 9.96138436e-01],\n",
       "       [1.28649756e-01, 8.71350244e-01],\n",
       "       [6.72787559e-01, 3.27212441e-01],\n",
       "       [4.94516726e-04, 9.99505483e-01],\n",
       "       [3.53555232e-05, 9.99964644e-01],\n",
       "       [3.89985486e-05, 9.99961001e-01],\n",
       "       [7.48331540e-03, 9.92516685e-01],\n",
       "       [3.55388081e-04, 9.99644612e-01],\n",
       "       [6.84651809e-02, 9.31534819e-01],\n",
       "       [2.33695136e-02, 9.76630486e-01],\n",
       "       [9.70474902e-01, 2.95250983e-02],\n",
       "       [1.08683887e-01, 8.91316113e-01],\n",
       "       [2.70449518e-02, 9.72955048e-01],\n",
       "       [4.72814277e-01, 5.27185723e-01],\n",
       "       [2.85825022e-03, 9.97141750e-01],\n",
       "       [9.19648431e-05, 9.99908035e-01],\n",
       "       [6.84204171e-01, 3.15795829e-01],\n",
       "       [2.59157001e-03, 9.97408430e-01],\n",
       "       [2.40629486e-02, 9.75937051e-01],\n",
       "       [7.62059614e-04, 9.99237940e-01],\n",
       "       [1.14664848e-01, 8.85335152e-01],\n",
       "       [3.01681420e-02, 9.69831858e-01],\n",
       "       [9.44885725e-03, 9.90551143e-01],\n",
       "       [6.28008985e-06, 9.99993720e-01],\n",
       "       [5.30045173e-01, 4.69954827e-01],\n",
       "       [1.91262611e-02, 9.80873739e-01],\n",
       "       [8.86184715e-02, 9.11381529e-01],\n",
       "       [6.33070338e-01, 3.66929662e-01],\n",
       "       [4.78640459e-01, 5.21359541e-01],\n",
       "       [9.97848570e-01, 2.15142978e-03],\n",
       "       [1.55945440e-03, 9.98440546e-01],\n",
       "       [4.42370020e-04, 9.99557630e-01],\n",
       "       [6.51128935e-04, 9.99348871e-01],\n",
       "       [9.99564664e-01, 4.35336188e-04],\n",
       "       [3.94946215e-02, 9.60505378e-01],\n",
       "       [1.86385011e-06, 9.99998136e-01],\n",
       "       [1.44436642e-02, 9.85556336e-01],\n",
       "       [6.61705400e-03, 9.93382946e-01],\n",
       "       [5.84653416e-01, 4.15346584e-01],\n",
       "       [9.88587760e-01, 1.14122402e-02],\n",
       "       [1.10510250e-01, 8.89489750e-01],\n",
       "       [2.58368084e-03, 9.97416319e-01],\n",
       "       [1.01178498e-04, 9.99898822e-01],\n",
       "       [2.39112112e-02, 9.76088789e-01],\n",
       "       [4.56166140e-03, 9.95438339e-01],\n",
       "       [1.40382272e-03, 9.98596177e-01],\n",
       "       [9.81471370e-01, 1.85286300e-02],\n",
       "       [6.33104818e-03, 9.93668952e-01],\n",
       "       [2.62851951e-01, 7.37148049e-01],\n",
       "       [1.46361758e-01, 8.53638242e-01],\n",
       "       [2.71594872e-05, 9.99972841e-01],\n",
       "       [4.78702132e-01, 5.21297868e-01],\n",
       "       [8.22518611e-05, 9.99917748e-01],\n",
       "       [1.83358010e-05, 9.99981664e-01],\n",
       "       [8.70647680e-01, 1.29352320e-01],\n",
       "       [1.80497235e-03, 9.98195028e-01],\n",
       "       [3.96909238e-01, 6.03090762e-01],\n",
       "       [1.47239828e-01, 8.52760172e-01],\n",
       "       [1.33915314e-04, 9.99866085e-01],\n",
       "       [2.63540575e-02, 9.73645943e-01],\n",
       "       [7.81855284e-02, 9.21814472e-01],\n",
       "       [9.71859460e-01, 2.81405404e-02],\n",
       "       [7.35558675e-05, 9.99926444e-01],\n",
       "       [1.92204823e-02, 9.80779518e-01],\n",
       "       [2.84421230e-01, 7.15578770e-01],\n",
       "       [4.42753155e-01, 5.57246845e-01],\n",
       "       [4.82657401e-02, 9.51734260e-01],\n",
       "       [6.90805586e-05, 9.99930919e-01],\n",
       "       [3.21433481e-02, 9.67856652e-01],\n",
       "       [3.14496098e-01, 6.85503902e-01],\n",
       "       [1.36055032e-03, 9.98639450e-01],\n",
       "       [8.60429813e-04, 9.99139570e-01],\n",
       "       [2.86447581e-05, 9.99971355e-01],\n",
       "       [9.86382214e-01, 1.36177865e-02],\n",
       "       [9.86273193e-01, 1.37268075e-02],\n",
       "       [1.50676225e-01, 8.49323775e-01],\n",
       "       [1.63094246e-04, 9.99836906e-01],\n",
       "       [5.12532775e-01, 4.87467225e-01],\n",
       "       [2.89556461e-02, 9.71044354e-01],\n",
       "       [2.39852357e-03, 9.97601476e-01],\n",
       "       [7.45397118e-03, 9.92546029e-01],\n",
       "       [8.17165242e-04, 9.99182835e-01],\n",
       "       [8.15887590e-04, 9.99184112e-01],\n",
       "       [1.75365765e-06, 9.99998246e-01],\n",
       "       [6.63684669e-06, 9.99993363e-01],\n",
       "       [8.88074894e-05, 9.99911193e-01],\n",
       "       [9.97010518e-01, 2.98948218e-03],\n",
       "       [4.50519434e-03, 9.95494806e-01],\n",
       "       [4.42467968e-02, 9.55753203e-01],\n",
       "       [1.04279183e-03, 9.98957208e-01],\n",
       "       [1.07501861e-03, 9.98924981e-01],\n",
       "       [1.22413034e-03, 9.98775870e-01],\n",
       "       [6.42751357e-06, 9.99993572e-01],\n",
       "       [4.32432651e-02, 9.56756735e-01],\n",
       "       [3.47910613e-02, 9.65208939e-01],\n",
       "       [8.28357008e-04, 9.99171643e-01],\n",
       "       [1.17721344e-03, 9.98822787e-01],\n",
       "       [1.33922655e-02, 9.86607734e-01],\n",
       "       [9.80815288e-01, 1.91847123e-02],\n",
       "       [7.88964451e-01, 2.11035549e-01],\n",
       "       [8.77366682e-01, 1.22633318e-01],\n",
       "       [7.19271952e-01, 2.80728048e-01],\n",
       "       [5.44125804e-07, 9.99999456e-01],\n",
       "       [2.33706441e-03, 9.97662936e-01],\n",
       "       [2.06887751e-02, 9.79311225e-01],\n",
       "       [6.74326948e-04, 9.99325673e-01],\n",
       "       [3.84538896e-03, 9.96154611e-01],\n",
       "       [2.36297764e-03, 9.97637022e-01],\n",
       "       [9.93426559e-01, 6.57344077e-03],\n",
       "       [1.68791249e-03, 9.98312088e-01],\n",
       "       [1.10938176e-01, 8.89061824e-01],\n",
       "       [1.88895619e-06, 9.99998111e-01],\n",
       "       [1.85198157e-02, 9.81480184e-01],\n",
       "       [7.01333432e-01, 2.98666568e-01],\n",
       "       [9.66384447e-04, 9.99033616e-01],\n",
       "       [1.38017378e-02, 9.86198262e-01],\n",
       "       [1.56524800e-03, 9.98434752e-01],\n",
       "       [8.79908293e-01, 1.20091707e-01],\n",
       "       [1.20608156e-02, 9.87939184e-01],\n",
       "       [9.99466261e-01, 5.33739117e-04],\n",
       "       [4.45595077e-01, 5.54404923e-01],\n",
       "       [1.68650205e-05, 9.99983135e-01],\n",
       "       [1.09007385e-01, 8.90992615e-01],\n",
       "       [7.93719161e-05, 9.99920628e-01],\n",
       "       [6.47658688e-05, 9.99935234e-01],\n",
       "       [2.91859154e-01, 7.08140846e-01],\n",
       "       [1.02315833e-02, 9.89768417e-01],\n",
       "       [1.81653373e-03, 9.98183466e-01],\n",
       "       [5.55839737e-02, 9.44416026e-01],\n",
       "       [9.76119530e-03, 9.90238805e-01],\n",
       "       [3.41260695e-02, 9.65873930e-01],\n",
       "       [2.86106880e-03, 9.97138931e-01],\n",
       "       [6.69374702e-07, 9.99999331e-01],\n",
       "       [8.48768753e-01, 1.51231247e-01],\n",
       "       [8.65883644e-02, 9.13411636e-01],\n",
       "       [1.52038975e-03, 9.98479610e-01],\n",
       "       [8.11688186e-01, 1.88311814e-01],\n",
       "       [1.58309861e-04, 9.99841690e-01],\n",
       "       [2.58982541e-05, 9.99974102e-01],\n",
       "       [5.33484595e-03, 9.94665154e-01],\n",
       "       [2.20498488e-04, 9.99779502e-01],\n",
       "       [3.09424517e-05, 9.99969058e-01],\n",
       "       [6.77808046e-01, 3.22191954e-01],\n",
       "       [3.58722639e-01, 6.41277361e-01],\n",
       "       [9.51725172e-02, 9.04827483e-01],\n",
       "       [9.18368272e-01, 8.16317276e-02],\n",
       "       [1.24678526e-02, 9.87532147e-01],\n",
       "       [2.52065845e-03, 9.97479342e-01],\n",
       "       [9.52964926e-03, 9.90470351e-01],\n",
       "       [7.97340742e-04, 9.99202659e-01],\n",
       "       [1.11632708e-04, 9.99888367e-01],\n",
       "       [2.76892247e-05, 9.99972311e-01],\n",
       "       [6.27181606e-03, 9.93728184e-01],\n",
       "       [6.49571706e-03, 9.93504283e-01],\n",
       "       [7.38955136e-03, 9.92610449e-01],\n",
       "       [4.64374695e-03, 9.95356253e-01],\n",
       "       [5.47470184e-03, 9.94525298e-01],\n",
       "       [1.67993378e-03, 9.98320066e-01],\n",
       "       [9.06168618e-03, 9.90938314e-01],\n",
       "       [1.01933786e-02, 9.89806621e-01],\n",
       "       [9.04870995e-01, 9.51290047e-02],\n",
       "       [1.17407949e-05, 9.99988259e-01],\n",
       "       [9.90154991e-01, 9.84500907e-03],\n",
       "       [6.69717581e-03, 9.93302824e-01],\n",
       "       [8.57714270e-02, 9.14228573e-01],\n",
       "       [3.15169347e-04, 9.99684831e-01],\n",
       "       [1.42288642e-02, 9.85771136e-01],\n",
       "       [2.47884250e-03, 9.97521157e-01],\n",
       "       [2.13683908e-03, 9.97863161e-01],\n",
       "       [1.80964252e-01, 8.19035748e-01]])"
      ]
     },
     "execution_count": 106,
     "metadata": {},
     "output_type": "execute_result"
    }
   ],
   "source": [
    "y_predict_diaper_sent"
   ]
  },
  {
   "cell_type": "code",
   "execution_count": 107,
   "metadata": {},
   "outputs": [
    {
     "data": {
      "text/plain": [
       "numpy.ndarray"
      ]
     },
     "execution_count": 107,
     "metadata": {},
     "output_type": "execute_result"
    }
   ],
   "source": [
    "type(y_predict_diaper_sent)"
   ]
  },
  {
   "cell_type": "code",
   "execution_count": 108,
   "metadata": {},
   "outputs": [
    {
     "data": {
      "text/plain": [
       "58"
      ]
     },
     "execution_count": 108,
     "metadata": {},
     "output_type": "execute_result"
    }
   ],
   "source": [
    "np.argmax(y_predict_diaper_sent[:,1])"
   ]
  },
  {
   "cell_type": "code",
   "execution_count": 109,
   "metadata": {},
   "outputs": [
    {
     "data": {
      "text/plain": [
       "array([8.43987102e-11, 1.00000000e+00])"
      ]
     },
     "execution_count": 109,
     "metadata": {},
     "output_type": "execute_result"
    }
   ],
   "source": [
    "y_predict_diaper_sent[58]"
   ]
  },
  {
   "cell_type": "code",
   "execution_count": 110,
   "metadata": {},
   "outputs": [
    {
     "data": {
      "text/plain": [
       "\"This is absolutely, by far, the best diaper pail money can buy.  Never do we detect a diaper odor (and my husband has a very sensitive sense of smell and is usually very quick to complain about such things).  For those who say they have a problem with the Diaper Champ getting stuck...the ONLY time this ever happens to us is when the bag is full and needs to be changed.  We love that it uses regular kitchen trash bags, makes it much more economical.  We have not found that we need to worry about frequent emptying or cleaning.  We just leave the Champ to do its job until the mechanism begins to feel like it\\\\'s getting stuck...then we change the bag.  For us this means about once a week.  Not only is the Champ EASY to use, it\\\\'s kind of fun.  Before our daughter was born we really worried about whether the diaper pail we chose would be effective enough for us because my husband is so sensitive to smells.  But she\\\\'s two months old now and we still just can\\\\'t say enough good things about it.UPDATE:  My daughter is now 9 months old and we STILL love our Diaper Champ.  She\\\\'s eating solid foods, diapers are smellier, but the Champ is still doing it\\\\'s job.  We empty once a week and spray with Lysol.  Yes, there is an odor when changing the bag, but we take the bag directly out to the trash, spray Champ with Lysol, insert new bag and close the thing back up.  Everything is just fine after that.  We are so glad we have the Diaper Champ and cannot sing its praises enough.\""
      ]
     },
     "execution_count": 110,
     "metadata": {},
     "output_type": "execute_result"
    }
   ],
   "source": [
    "diaper_champ_reviews[58]"
   ]
  },
  {
   "cell_type": "code",
   "execution_count": 112,
   "metadata": {},
   "outputs": [],
   "source": [
    "y_predict_diaper_select=selected_model.predict_proba(diaper_test_select)"
   ]
  },
  {
   "cell_type": "code",
   "execution_count": 113,
   "metadata": {},
   "outputs": [
    {
     "data": {
      "text/plain": [
       "array([0.02464053, 0.97535947])"
      ]
     },
     "execution_count": 113,
     "metadata": {},
     "output_type": "execute_result"
    }
   ],
   "source": [
    "y_predict_diaper_select[58]"
   ]
  },
  {
   "cell_type": "markdown",
   "metadata": {},
   "source": [
    "## Majority class classifier"
   ]
  },
  {
   "cell_type": "code",
   "execution_count": 115,
   "metadata": {},
   "outputs": [
    {
     "data": {
      "text/plain": [
       "(166752, 4)"
      ]
     },
     "execution_count": 115,
     "metadata": {},
     "output_type": "execute_result"
    }
   ],
   "source": [
    "products.shape"
   ]
  },
  {
   "cell_type": "code",
   "execution_count": 121,
   "metadata": {},
   "outputs": [
    {
     "data": {
      "text/plain": [
       "sentiment\n",
       "0.0     26493\n",
       "1.0    140259\n",
       "dtype: int64"
      ]
     },
     "execution_count": 121,
     "metadata": {},
     "output_type": "execute_result"
    }
   ],
   "source": [
    "products.groupby('sentiment').size()"
   ]
  },
  {
   "cell_type": "code",
   "execution_count": 124,
   "metadata": {},
   "outputs": [
    {
     "data": {
      "text/plain": [
       "0.8411233448474381"
      ]
     },
     "execution_count": 124,
     "metadata": {},
     "output_type": "execute_result"
    }
   ],
   "source": [
    "accuracy_majority=140259/166752\n",
    "accuracy_majority"
   ]
  },
  {
   "cell_type": "code",
   "execution_count": null,
   "metadata": {},
   "outputs": [],
   "source": []
  }
 ],
 "metadata": {
  "kernelspec": {
   "display_name": "Python 3",
   "language": "python",
   "name": "python3"
  },
  "language_info": {
   "codemirror_mode": {
    "name": "ipython",
    "version": 3
   },
   "file_extension": ".py",
   "mimetype": "text/x-python",
   "name": "python",
   "nbconvert_exporter": "python",
   "pygments_lexer": "ipython3",
   "version": "3.6.7"
  }
 },
 "nbformat": 4,
 "nbformat_minor": 2
}
